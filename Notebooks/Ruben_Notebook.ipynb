{
 "cells": [
  {
   "cell_type": "code",
   "execution_count": 2,
   "id": "78b81bd9bf69f92f",
   "metadata": {
    "collapsed": true,
    "ExecuteTime": {
     "end_time": "2023-11-21T16:08:48.649963100Z",
     "start_time": "2023-11-21T16:08:43.132351600Z"
    }
   },
   "outputs": [
    {
     "name": "stderr",
     "output_type": "stream",
     "text": [
      "core           INFO \tLoading data for Spanish Grand Prix - Qualifying [v3.1.3]\n",
      "req            INFO \tUsing cached data for session_info\n",
      "req            INFO \tUsing cached data for driver_info\n",
      "req            INFO \tUsing cached data for session_status_data\n",
      "req            INFO \tUsing cached data for track_status_data\n",
      "req            INFO \tUsing cached data for _extended_timing_data\n",
      "req            INFO \tUsing cached data for timing_app_data\n",
      "core           INFO \tProcessing timing data...\n",
      "req            INFO \tUsing cached data for car_data\n",
      "req            INFO \tUsing cached data for position_data\n",
      "req            INFO \tUsing cached data for weather_data\n",
      "req            INFO \tUsing cached data for race_control_messages\n",
      "core           INFO \tFinished loading data for 20 drivers: ['44', '33', '77', '16', '31', '55', '3', '11', '4', '14', '18', '10', '5', '99', '63', '22', '7', '47', '6', '9']\n"
     ]
    },
    {
     "data": {
      "application/vnd.plotly.v1+json": {
       "data": [
        {
         "alignmentgroup": "True",
         "hovertemplate": "Team=Mercedes<br>LapTimeDeltaSeconds=%{text}<br>Driver=%{y}<extra></extra>",
         "legendgroup": "Mercedes",
         "marker": {
          "color": "#636efa",
          "pattern": {
           "shape": ""
          }
         },
         "name": "Mercedes",
         "offsetgroup": "Mercedes",
         "orientation": "h",
         "showlegend": true,
         "text": [
          0.0,
          0.132
         ],
         "textposition": "outside",
         "x": [
          0.0,
          0.132
         ],
         "xaxis": "x",
         "y": [
          "HAM",
          "BOT"
         ],
         "yaxis": "y",
         "type": "bar",
         "texttemplate": "%{text:.2f}"
        },
        {
         "alignmentgroup": "True",
         "hovertemplate": "Team=Red Bull Racing<br>LapTimeDeltaSeconds=%{text}<br>Driver=%{y}<extra></extra>",
         "legendgroup": "Red Bull Racing",
         "marker": {
          "color": "#EF553B",
          "pattern": {
           "shape": ""
          }
         },
         "name": "Red Bull Racing",
         "offsetgroup": "Red Bull Racing",
         "orientation": "h",
         "showlegend": true,
         "text": [
          0.036,
          0.928
         ],
         "textposition": "outside",
         "x": [
          0.036,
          0.928
         ],
         "xaxis": "x",
         "y": [
          "VER",
          "PER"
         ],
         "yaxis": "y",
         "type": "bar",
         "texttemplate": "%{text:.2f}"
        },
        {
         "alignmentgroup": "True",
         "hovertemplate": "Team=Ferrari<br>LapTimeDeltaSeconds=%{text}<br>Driver=%{y}<extra></extra>",
         "legendgroup": "Ferrari",
         "marker": {
          "color": "#00cc96",
          "pattern": {
           "shape": ""
          }
         },
         "name": "Ferrari",
         "offsetgroup": "Ferrari",
         "orientation": "h",
         "showlegend": true,
         "text": [
          0.769,
          0.879
         ],
         "textposition": "outside",
         "x": [
          0.769,
          0.879
         ],
         "xaxis": "x",
         "y": [
          "LEC",
          "SAI"
         ],
         "yaxis": "y",
         "type": "bar",
         "texttemplate": "%{text:.2f}"
        },
        {
         "alignmentgroup": "True",
         "hovertemplate": "Team=Alpine<br>LapTimeDeltaSeconds=%{text}<br>Driver=%{y}<extra></extra>",
         "legendgroup": "Alpine",
         "marker": {
          "color": "#ab63fa",
          "pattern": {
           "shape": ""
          }
         },
         "name": "Alpine",
         "offsetgroup": "Alpine",
         "orientation": "h",
         "showlegend": true,
         "text": [
          0.839,
          1.225
         ],
         "textposition": "outside",
         "x": [
          0.839,
          1.225
         ],
         "xaxis": "x",
         "y": [
          "OCO",
          "ALO"
         ],
         "yaxis": "y",
         "type": "bar",
         "texttemplate": "%{text:.2f}"
        },
        {
         "alignmentgroup": "True",
         "hovertemplate": "Team=McLaren<br>LapTimeDeltaSeconds=%{text}<br>Driver=%{y}<extra></extra>",
         "legendgroup": "McLaren",
         "marker": {
          "color": "#FFA15A",
          "pattern": {
           "shape": ""
          }
         },
         "name": "McLaren",
         "offsetgroup": "McLaren",
         "orientation": "h",
         "showlegend": true,
         "text": [
          0.881,
          0.955
         ],
         "textposition": "outside",
         "x": [
          0.881,
          0.955
         ],
         "xaxis": "x",
         "y": [
          "RIC",
          "NOR"
         ],
         "yaxis": "y",
         "type": "bar",
         "texttemplate": "%{text:.2f}"
        },
        {
         "alignmentgroup": "True",
         "hovertemplate": "Team=Aston Martin<br>LapTimeDeltaSeconds=%{text}<br>Driver=%{y}<extra></extra>",
         "legendgroup": "Aston Martin",
         "marker": {
          "color": "#19d3f3",
          "pattern": {
           "shape": ""
          }
         },
         "name": "Aston Martin",
         "offsetgroup": "Aston Martin",
         "orientation": "h",
         "showlegend": true,
         "text": [
          1.233,
          1.338
         ],
         "textposition": "outside",
         "x": [
          1.233,
          1.338
         ],
         "xaxis": "x",
         "y": [
          "STR",
          "VET"
         ],
         "yaxis": "y",
         "type": "bar",
         "texttemplate": "%{text:.2f}"
        },
        {
         "alignmentgroup": "True",
         "hovertemplate": "Team=AlphaTauri<br>LapTimeDeltaSeconds=%{text}<br>Driver=%{y}<extra></extra>",
         "legendgroup": "AlphaTauri",
         "marker": {
          "color": "#FF6692",
          "pattern": {
           "shape": ""
          }
         },
         "name": "AlphaTauri",
         "offsetgroup": "AlphaTauri",
         "orientation": "h",
         "showlegend": true,
         "text": [
          1.241,
          1.815
         ],
         "textposition": "outside",
         "x": [
          1.241,
          1.815
         ],
         "xaxis": "x",
         "y": [
          "GAS",
          "TSU"
         ],
         "yaxis": "y",
         "type": "bar",
         "texttemplate": "%{text:.2f}"
        },
        {
         "alignmentgroup": "True",
         "hovertemplate": "Team=Alfa Romeo Racing<br>LapTimeDeltaSeconds=%{text}<br>Driver=%{y}<extra></extra>",
         "legendgroup": "Alfa Romeo Racing",
         "marker": {
          "color": "#B6E880",
          "pattern": {
           "shape": ""
          }
         },
         "name": "Alfa Romeo Racing",
         "offsetgroup": "Alfa Romeo Racing",
         "orientation": "h",
         "showlegend": true,
         "text": [
          1.615,
          2.176
         ],
         "textposition": "outside",
         "x": [
          1.615,
          2.176
         ],
         "xaxis": "x",
         "y": [
          "GIO",
          "RAI"
         ],
         "yaxis": "y",
         "type": "bar",
         "texttemplate": "%{text:.2f}"
        },
        {
         "alignmentgroup": "True",
         "hovertemplate": "Team=Williams<br>LapTimeDeltaSeconds=%{text}<br>Driver=%{y}<extra></extra>",
         "legendgroup": "Williams",
         "marker": {
          "color": "#FF97FF",
          "pattern": {
           "shape": ""
          }
         },
         "name": "Williams",
         "offsetgroup": "Williams",
         "orientation": "h",
         "showlegend": true,
         "text": [
          1.704,
          2.478
         ],
         "textposition": "outside",
         "x": [
          1.704,
          2.478
         ],
         "xaxis": "x",
         "y": [
          "RUS",
          "LAT"
         ],
         "yaxis": "y",
         "type": "bar",
         "texttemplate": "%{text:.2f}"
        },
        {
         "alignmentgroup": "True",
         "hovertemplate": "Team=Haas F1 Team<br>LapTimeDeltaSeconds=%{text}<br>Driver=%{y}<extra></extra>",
         "legendgroup": "Haas F1 Team",
         "marker": {
          "color": "#FECB52",
          "pattern": {
           "shape": ""
          }
         },
         "name": "Haas F1 Team",
         "offsetgroup": "Haas F1 Team",
         "orientation": "h",
         "showlegend": true,
         "text": [
          2.376,
          3.066
         ],
         "textposition": "outside",
         "x": [
          2.376,
          3.066
         ],
         "xaxis": "x",
         "y": [
          "MSC",
          "MAZ"
         ],
         "yaxis": "y",
         "type": "bar",
         "texttemplate": "%{text:.2f}"
        }
       ],
       "layout": {
        "template": {
         "data": {
          "histogram2dcontour": [
           {
            "type": "histogram2dcontour",
            "colorbar": {
             "outlinewidth": 0,
             "ticks": ""
            },
            "colorscale": [
             [
              0.0,
              "#0d0887"
             ],
             [
              0.1111111111111111,
              "#46039f"
             ],
             [
              0.2222222222222222,
              "#7201a8"
             ],
             [
              0.3333333333333333,
              "#9c179e"
             ],
             [
              0.4444444444444444,
              "#bd3786"
             ],
             [
              0.5555555555555556,
              "#d8576b"
             ],
             [
              0.6666666666666666,
              "#ed7953"
             ],
             [
              0.7777777777777778,
              "#fb9f3a"
             ],
             [
              0.8888888888888888,
              "#fdca26"
             ],
             [
              1.0,
              "#f0f921"
             ]
            ]
           }
          ],
          "choropleth": [
           {
            "type": "choropleth",
            "colorbar": {
             "outlinewidth": 0,
             "ticks": ""
            }
           }
          ],
          "histogram2d": [
           {
            "type": "histogram2d",
            "colorbar": {
             "outlinewidth": 0,
             "ticks": ""
            },
            "colorscale": [
             [
              0.0,
              "#0d0887"
             ],
             [
              0.1111111111111111,
              "#46039f"
             ],
             [
              0.2222222222222222,
              "#7201a8"
             ],
             [
              0.3333333333333333,
              "#9c179e"
             ],
             [
              0.4444444444444444,
              "#bd3786"
             ],
             [
              0.5555555555555556,
              "#d8576b"
             ],
             [
              0.6666666666666666,
              "#ed7953"
             ],
             [
              0.7777777777777778,
              "#fb9f3a"
             ],
             [
              0.8888888888888888,
              "#fdca26"
             ],
             [
              1.0,
              "#f0f921"
             ]
            ]
           }
          ],
          "heatmap": [
           {
            "type": "heatmap",
            "colorbar": {
             "outlinewidth": 0,
             "ticks": ""
            },
            "colorscale": [
             [
              0.0,
              "#0d0887"
             ],
             [
              0.1111111111111111,
              "#46039f"
             ],
             [
              0.2222222222222222,
              "#7201a8"
             ],
             [
              0.3333333333333333,
              "#9c179e"
             ],
             [
              0.4444444444444444,
              "#bd3786"
             ],
             [
              0.5555555555555556,
              "#d8576b"
             ],
             [
              0.6666666666666666,
              "#ed7953"
             ],
             [
              0.7777777777777778,
              "#fb9f3a"
             ],
             [
              0.8888888888888888,
              "#fdca26"
             ],
             [
              1.0,
              "#f0f921"
             ]
            ]
           }
          ],
          "heatmapgl": [
           {
            "type": "heatmapgl",
            "colorbar": {
             "outlinewidth": 0,
             "ticks": ""
            },
            "colorscale": [
             [
              0.0,
              "#0d0887"
             ],
             [
              0.1111111111111111,
              "#46039f"
             ],
             [
              0.2222222222222222,
              "#7201a8"
             ],
             [
              0.3333333333333333,
              "#9c179e"
             ],
             [
              0.4444444444444444,
              "#bd3786"
             ],
             [
              0.5555555555555556,
              "#d8576b"
             ],
             [
              0.6666666666666666,
              "#ed7953"
             ],
             [
              0.7777777777777778,
              "#fb9f3a"
             ],
             [
              0.8888888888888888,
              "#fdca26"
             ],
             [
              1.0,
              "#f0f921"
             ]
            ]
           }
          ],
          "contourcarpet": [
           {
            "type": "contourcarpet",
            "colorbar": {
             "outlinewidth": 0,
             "ticks": ""
            }
           }
          ],
          "contour": [
           {
            "type": "contour",
            "colorbar": {
             "outlinewidth": 0,
             "ticks": ""
            },
            "colorscale": [
             [
              0.0,
              "#0d0887"
             ],
             [
              0.1111111111111111,
              "#46039f"
             ],
             [
              0.2222222222222222,
              "#7201a8"
             ],
             [
              0.3333333333333333,
              "#9c179e"
             ],
             [
              0.4444444444444444,
              "#bd3786"
             ],
             [
              0.5555555555555556,
              "#d8576b"
             ],
             [
              0.6666666666666666,
              "#ed7953"
             ],
             [
              0.7777777777777778,
              "#fb9f3a"
             ],
             [
              0.8888888888888888,
              "#fdca26"
             ],
             [
              1.0,
              "#f0f921"
             ]
            ]
           }
          ],
          "surface": [
           {
            "type": "surface",
            "colorbar": {
             "outlinewidth": 0,
             "ticks": ""
            },
            "colorscale": [
             [
              0.0,
              "#0d0887"
             ],
             [
              0.1111111111111111,
              "#46039f"
             ],
             [
              0.2222222222222222,
              "#7201a8"
             ],
             [
              0.3333333333333333,
              "#9c179e"
             ],
             [
              0.4444444444444444,
              "#bd3786"
             ],
             [
              0.5555555555555556,
              "#d8576b"
             ],
             [
              0.6666666666666666,
              "#ed7953"
             ],
             [
              0.7777777777777778,
              "#fb9f3a"
             ],
             [
              0.8888888888888888,
              "#fdca26"
             ],
             [
              1.0,
              "#f0f921"
             ]
            ]
           }
          ],
          "mesh3d": [
           {
            "type": "mesh3d",
            "colorbar": {
             "outlinewidth": 0,
             "ticks": ""
            }
           }
          ],
          "scatter": [
           {
            "fillpattern": {
             "fillmode": "overlay",
             "size": 10,
             "solidity": 0.2
            },
            "type": "scatter"
           }
          ],
          "parcoords": [
           {
            "type": "parcoords",
            "line": {
             "colorbar": {
              "outlinewidth": 0,
              "ticks": ""
             }
            }
           }
          ],
          "scatterpolargl": [
           {
            "type": "scatterpolargl",
            "marker": {
             "colorbar": {
              "outlinewidth": 0,
              "ticks": ""
             }
            }
           }
          ],
          "bar": [
           {
            "error_x": {
             "color": "#2a3f5f"
            },
            "error_y": {
             "color": "#2a3f5f"
            },
            "marker": {
             "line": {
              "color": "#E5ECF6",
              "width": 0.5
             },
             "pattern": {
              "fillmode": "overlay",
              "size": 10,
              "solidity": 0.2
             }
            },
            "type": "bar"
           }
          ],
          "scattergeo": [
           {
            "type": "scattergeo",
            "marker": {
             "colorbar": {
              "outlinewidth": 0,
              "ticks": ""
             }
            }
           }
          ],
          "scatterpolar": [
           {
            "type": "scatterpolar",
            "marker": {
             "colorbar": {
              "outlinewidth": 0,
              "ticks": ""
             }
            }
           }
          ],
          "histogram": [
           {
            "marker": {
             "pattern": {
              "fillmode": "overlay",
              "size": 10,
              "solidity": 0.2
             }
            },
            "type": "histogram"
           }
          ],
          "scattergl": [
           {
            "type": "scattergl",
            "marker": {
             "colorbar": {
              "outlinewidth": 0,
              "ticks": ""
             }
            }
           }
          ],
          "scatter3d": [
           {
            "type": "scatter3d",
            "line": {
             "colorbar": {
              "outlinewidth": 0,
              "ticks": ""
             }
            },
            "marker": {
             "colorbar": {
              "outlinewidth": 0,
              "ticks": ""
             }
            }
           }
          ],
          "scattermapbox": [
           {
            "type": "scattermapbox",
            "marker": {
             "colorbar": {
              "outlinewidth": 0,
              "ticks": ""
             }
            }
           }
          ],
          "scatterternary": [
           {
            "type": "scatterternary",
            "marker": {
             "colorbar": {
              "outlinewidth": 0,
              "ticks": ""
             }
            }
           }
          ],
          "scattercarpet": [
           {
            "type": "scattercarpet",
            "marker": {
             "colorbar": {
              "outlinewidth": 0,
              "ticks": ""
             }
            }
           }
          ],
          "carpet": [
           {
            "aaxis": {
             "endlinecolor": "#2a3f5f",
             "gridcolor": "white",
             "linecolor": "white",
             "minorgridcolor": "white",
             "startlinecolor": "#2a3f5f"
            },
            "baxis": {
             "endlinecolor": "#2a3f5f",
             "gridcolor": "white",
             "linecolor": "white",
             "minorgridcolor": "white",
             "startlinecolor": "#2a3f5f"
            },
            "type": "carpet"
           }
          ],
          "table": [
           {
            "cells": {
             "fill": {
              "color": "#EBF0F8"
             },
             "line": {
              "color": "white"
             }
            },
            "header": {
             "fill": {
              "color": "#C8D4E3"
             },
             "line": {
              "color": "white"
             }
            },
            "type": "table"
           }
          ],
          "barpolar": [
           {
            "marker": {
             "line": {
              "color": "#E5ECF6",
              "width": 0.5
             },
             "pattern": {
              "fillmode": "overlay",
              "size": 10,
              "solidity": 0.2
             }
            },
            "type": "barpolar"
           }
          ],
          "pie": [
           {
            "automargin": true,
            "type": "pie"
           }
          ]
         },
         "layout": {
          "autotypenumbers": "strict",
          "colorway": [
           "#636efa",
           "#EF553B",
           "#00cc96",
           "#ab63fa",
           "#FFA15A",
           "#19d3f3",
           "#FF6692",
           "#B6E880",
           "#FF97FF",
           "#FECB52"
          ],
          "font": {
           "color": "#2a3f5f"
          },
          "hovermode": "closest",
          "hoverlabel": {
           "align": "left"
          },
          "paper_bgcolor": "white",
          "plot_bgcolor": "#E5ECF6",
          "polar": {
           "bgcolor": "#E5ECF6",
           "angularaxis": {
            "gridcolor": "white",
            "linecolor": "white",
            "ticks": ""
           },
           "radialaxis": {
            "gridcolor": "white",
            "linecolor": "white",
            "ticks": ""
           }
          },
          "ternary": {
           "bgcolor": "#E5ECF6",
           "aaxis": {
            "gridcolor": "white",
            "linecolor": "white",
            "ticks": ""
           },
           "baxis": {
            "gridcolor": "white",
            "linecolor": "white",
            "ticks": ""
           },
           "caxis": {
            "gridcolor": "white",
            "linecolor": "white",
            "ticks": ""
           }
          },
          "coloraxis": {
           "colorbar": {
            "outlinewidth": 0,
            "ticks": ""
           }
          },
          "colorscale": {
           "sequential": [
            [
             0.0,
             "#0d0887"
            ],
            [
             0.1111111111111111,
             "#46039f"
            ],
            [
             0.2222222222222222,
             "#7201a8"
            ],
            [
             0.3333333333333333,
             "#9c179e"
            ],
            [
             0.4444444444444444,
             "#bd3786"
            ],
            [
             0.5555555555555556,
             "#d8576b"
            ],
            [
             0.6666666666666666,
             "#ed7953"
            ],
            [
             0.7777777777777778,
             "#fb9f3a"
            ],
            [
             0.8888888888888888,
             "#fdca26"
            ],
            [
             1.0,
             "#f0f921"
            ]
           ],
           "sequentialminus": [
            [
             0.0,
             "#0d0887"
            ],
            [
             0.1111111111111111,
             "#46039f"
            ],
            [
             0.2222222222222222,
             "#7201a8"
            ],
            [
             0.3333333333333333,
             "#9c179e"
            ],
            [
             0.4444444444444444,
             "#bd3786"
            ],
            [
             0.5555555555555556,
             "#d8576b"
            ],
            [
             0.6666666666666666,
             "#ed7953"
            ],
            [
             0.7777777777777778,
             "#fb9f3a"
            ],
            [
             0.8888888888888888,
             "#fdca26"
            ],
            [
             1.0,
             "#f0f921"
            ]
           ],
           "diverging": [
            [
             0,
             "#8e0152"
            ],
            [
             0.1,
             "#c51b7d"
            ],
            [
             0.2,
             "#de77ae"
            ],
            [
             0.3,
             "#f1b6da"
            ],
            [
             0.4,
             "#fde0ef"
            ],
            [
             0.5,
             "#f7f7f7"
            ],
            [
             0.6,
             "#e6f5d0"
            ],
            [
             0.7,
             "#b8e186"
            ],
            [
             0.8,
             "#7fbc41"
            ],
            [
             0.9,
             "#4d9221"
            ],
            [
             1,
             "#276419"
            ]
           ]
          },
          "xaxis": {
           "gridcolor": "white",
           "linecolor": "white",
           "ticks": "",
           "title": {
            "standoff": 15
           },
           "zerolinecolor": "white",
           "automargin": true,
           "zerolinewidth": 2
          },
          "yaxis": {
           "gridcolor": "white",
           "linecolor": "white",
           "ticks": "",
           "title": {
            "standoff": 15
           },
           "zerolinecolor": "white",
           "automargin": true,
           "zerolinewidth": 2
          },
          "scene": {
           "xaxis": {
            "backgroundcolor": "#E5ECF6",
            "gridcolor": "white",
            "linecolor": "white",
            "showbackground": true,
            "ticks": "",
            "zerolinecolor": "white",
            "gridwidth": 2
           },
           "yaxis": {
            "backgroundcolor": "#E5ECF6",
            "gridcolor": "white",
            "linecolor": "white",
            "showbackground": true,
            "ticks": "",
            "zerolinecolor": "white",
            "gridwidth": 2
           },
           "zaxis": {
            "backgroundcolor": "#E5ECF6",
            "gridcolor": "white",
            "linecolor": "white",
            "showbackground": true,
            "ticks": "",
            "zerolinecolor": "white",
            "gridwidth": 2
           }
          },
          "shapedefaults": {
           "line": {
            "color": "#2a3f5f"
           }
          },
          "annotationdefaults": {
           "arrowcolor": "#2a3f5f",
           "arrowhead": 0,
           "arrowwidth": 1
          },
          "geo": {
           "bgcolor": "white",
           "landcolor": "#E5ECF6",
           "subunitcolor": "white",
           "showland": true,
           "showlakes": true,
           "lakecolor": "white"
          },
          "title": {
           "x": 0.05
          },
          "mapbox": {
           "style": "light"
          }
         }
        },
        "xaxis": {
         "anchor": "y",
         "domain": [
          0.0,
          1.0
         ],
         "title": {
          "text": "LapTimeDeltaSeconds"
         }
        },
        "yaxis": {
         "anchor": "x",
         "domain": [
          0.0,
          1.0
         ],
         "title": {
          "text": "Driver"
         },
         "categoryorder": "total descending"
        },
        "legend": {
         "title": {
          "text": "Team"
         },
         "tracegroupgap": 0
        },
        "title": {
         "text": "Spanish Grand Prix 2021 Qualifying\nFastest Lap: 01:16.741 (HAM)"
        },
        "barmode": "relative"
       },
       "config": {
        "plotlyServerURL": "https://plot.ly"
       }
      },
      "text/html": "<div>                            <div id=\"78a087cd-f898-41c5-8e56-4e444993a8ca\" class=\"plotly-graph-div\" style=\"height:525px; width:100%;\"></div>            <script type=\"text/javascript\">                require([\"plotly\"], function(Plotly) {                    window.PLOTLYENV=window.PLOTLYENV || {};                                    if (document.getElementById(\"78a087cd-f898-41c5-8e56-4e444993a8ca\")) {                    Plotly.newPlot(                        \"78a087cd-f898-41c5-8e56-4e444993a8ca\",                        [{\"alignmentgroup\":\"True\",\"hovertemplate\":\"Team=Mercedes\\u003cbr\\u003eLapTimeDeltaSeconds=%{text}\\u003cbr\\u003eDriver=%{y}\\u003cextra\\u003e\\u003c\\u002fextra\\u003e\",\"legendgroup\":\"Mercedes\",\"marker\":{\"color\":\"#636efa\",\"pattern\":{\"shape\":\"\"}},\"name\":\"Mercedes\",\"offsetgroup\":\"Mercedes\",\"orientation\":\"h\",\"showlegend\":true,\"text\":[0.0,0.132],\"textposition\":\"outside\",\"x\":[0.0,0.132],\"xaxis\":\"x\",\"y\":[\"HAM\",\"BOT\"],\"yaxis\":\"y\",\"type\":\"bar\",\"texttemplate\":\"%{text:.2f}\"},{\"alignmentgroup\":\"True\",\"hovertemplate\":\"Team=Red Bull Racing\\u003cbr\\u003eLapTimeDeltaSeconds=%{text}\\u003cbr\\u003eDriver=%{y}\\u003cextra\\u003e\\u003c\\u002fextra\\u003e\",\"legendgroup\":\"Red Bull Racing\",\"marker\":{\"color\":\"#EF553B\",\"pattern\":{\"shape\":\"\"}},\"name\":\"Red Bull Racing\",\"offsetgroup\":\"Red Bull Racing\",\"orientation\":\"h\",\"showlegend\":true,\"text\":[0.036,0.928],\"textposition\":\"outside\",\"x\":[0.036,0.928],\"xaxis\":\"x\",\"y\":[\"VER\",\"PER\"],\"yaxis\":\"y\",\"type\":\"bar\",\"texttemplate\":\"%{text:.2f}\"},{\"alignmentgroup\":\"True\",\"hovertemplate\":\"Team=Ferrari\\u003cbr\\u003eLapTimeDeltaSeconds=%{text}\\u003cbr\\u003eDriver=%{y}\\u003cextra\\u003e\\u003c\\u002fextra\\u003e\",\"legendgroup\":\"Ferrari\",\"marker\":{\"color\":\"#00cc96\",\"pattern\":{\"shape\":\"\"}},\"name\":\"Ferrari\",\"offsetgroup\":\"Ferrari\",\"orientation\":\"h\",\"showlegend\":true,\"text\":[0.769,0.879],\"textposition\":\"outside\",\"x\":[0.769,0.879],\"xaxis\":\"x\",\"y\":[\"LEC\",\"SAI\"],\"yaxis\":\"y\",\"type\":\"bar\",\"texttemplate\":\"%{text:.2f}\"},{\"alignmentgroup\":\"True\",\"hovertemplate\":\"Team=Alpine\\u003cbr\\u003eLapTimeDeltaSeconds=%{text}\\u003cbr\\u003eDriver=%{y}\\u003cextra\\u003e\\u003c\\u002fextra\\u003e\",\"legendgroup\":\"Alpine\",\"marker\":{\"color\":\"#ab63fa\",\"pattern\":{\"shape\":\"\"}},\"name\":\"Alpine\",\"offsetgroup\":\"Alpine\",\"orientation\":\"h\",\"showlegend\":true,\"text\":[0.839,1.225],\"textposition\":\"outside\",\"x\":[0.839,1.225],\"xaxis\":\"x\",\"y\":[\"OCO\",\"ALO\"],\"yaxis\":\"y\",\"type\":\"bar\",\"texttemplate\":\"%{text:.2f}\"},{\"alignmentgroup\":\"True\",\"hovertemplate\":\"Team=McLaren\\u003cbr\\u003eLapTimeDeltaSeconds=%{text}\\u003cbr\\u003eDriver=%{y}\\u003cextra\\u003e\\u003c\\u002fextra\\u003e\",\"legendgroup\":\"McLaren\",\"marker\":{\"color\":\"#FFA15A\",\"pattern\":{\"shape\":\"\"}},\"name\":\"McLaren\",\"offsetgroup\":\"McLaren\",\"orientation\":\"h\",\"showlegend\":true,\"text\":[0.881,0.955],\"textposition\":\"outside\",\"x\":[0.881,0.955],\"xaxis\":\"x\",\"y\":[\"RIC\",\"NOR\"],\"yaxis\":\"y\",\"type\":\"bar\",\"texttemplate\":\"%{text:.2f}\"},{\"alignmentgroup\":\"True\",\"hovertemplate\":\"Team=Aston Martin\\u003cbr\\u003eLapTimeDeltaSeconds=%{text}\\u003cbr\\u003eDriver=%{y}\\u003cextra\\u003e\\u003c\\u002fextra\\u003e\",\"legendgroup\":\"Aston Martin\",\"marker\":{\"color\":\"#19d3f3\",\"pattern\":{\"shape\":\"\"}},\"name\":\"Aston Martin\",\"offsetgroup\":\"Aston Martin\",\"orientation\":\"h\",\"showlegend\":true,\"text\":[1.233,1.338],\"textposition\":\"outside\",\"x\":[1.233,1.338],\"xaxis\":\"x\",\"y\":[\"STR\",\"VET\"],\"yaxis\":\"y\",\"type\":\"bar\",\"texttemplate\":\"%{text:.2f}\"},{\"alignmentgroup\":\"True\",\"hovertemplate\":\"Team=AlphaTauri\\u003cbr\\u003eLapTimeDeltaSeconds=%{text}\\u003cbr\\u003eDriver=%{y}\\u003cextra\\u003e\\u003c\\u002fextra\\u003e\",\"legendgroup\":\"AlphaTauri\",\"marker\":{\"color\":\"#FF6692\",\"pattern\":{\"shape\":\"\"}},\"name\":\"AlphaTauri\",\"offsetgroup\":\"AlphaTauri\",\"orientation\":\"h\",\"showlegend\":true,\"text\":[1.241,1.815],\"textposition\":\"outside\",\"x\":[1.241,1.815],\"xaxis\":\"x\",\"y\":[\"GAS\",\"TSU\"],\"yaxis\":\"y\",\"type\":\"bar\",\"texttemplate\":\"%{text:.2f}\"},{\"alignmentgroup\":\"True\",\"hovertemplate\":\"Team=Alfa Romeo Racing\\u003cbr\\u003eLapTimeDeltaSeconds=%{text}\\u003cbr\\u003eDriver=%{y}\\u003cextra\\u003e\\u003c\\u002fextra\\u003e\",\"legendgroup\":\"Alfa Romeo Racing\",\"marker\":{\"color\":\"#B6E880\",\"pattern\":{\"shape\":\"\"}},\"name\":\"Alfa Romeo Racing\",\"offsetgroup\":\"Alfa Romeo Racing\",\"orientation\":\"h\",\"showlegend\":true,\"text\":[1.615,2.176],\"textposition\":\"outside\",\"x\":[1.615,2.176],\"xaxis\":\"x\",\"y\":[\"GIO\",\"RAI\"],\"yaxis\":\"y\",\"type\":\"bar\",\"texttemplate\":\"%{text:.2f}\"},{\"alignmentgroup\":\"True\",\"hovertemplate\":\"Team=Williams\\u003cbr\\u003eLapTimeDeltaSeconds=%{text}\\u003cbr\\u003eDriver=%{y}\\u003cextra\\u003e\\u003c\\u002fextra\\u003e\",\"legendgroup\":\"Williams\",\"marker\":{\"color\":\"#FF97FF\",\"pattern\":{\"shape\":\"\"}},\"name\":\"Williams\",\"offsetgroup\":\"Williams\",\"orientation\":\"h\",\"showlegend\":true,\"text\":[1.704,2.478],\"textposition\":\"outside\",\"x\":[1.704,2.478],\"xaxis\":\"x\",\"y\":[\"RUS\",\"LAT\"],\"yaxis\":\"y\",\"type\":\"bar\",\"texttemplate\":\"%{text:.2f}\"},{\"alignmentgroup\":\"True\",\"hovertemplate\":\"Team=Haas F1 Team\\u003cbr\\u003eLapTimeDeltaSeconds=%{text}\\u003cbr\\u003eDriver=%{y}\\u003cextra\\u003e\\u003c\\u002fextra\\u003e\",\"legendgroup\":\"Haas F1 Team\",\"marker\":{\"color\":\"#FECB52\",\"pattern\":{\"shape\":\"\"}},\"name\":\"Haas F1 Team\",\"offsetgroup\":\"Haas F1 Team\",\"orientation\":\"h\",\"showlegend\":true,\"text\":[2.376,3.066],\"textposition\":\"outside\",\"x\":[2.376,3.066],\"xaxis\":\"x\",\"y\":[\"MSC\",\"MAZ\"],\"yaxis\":\"y\",\"type\":\"bar\",\"texttemplate\":\"%{text:.2f}\"}],                        {\"template\":{\"data\":{\"histogram2dcontour\":[{\"type\":\"histogram2dcontour\",\"colorbar\":{\"outlinewidth\":0,\"ticks\":\"\"},\"colorscale\":[[0.0,\"#0d0887\"],[0.1111111111111111,\"#46039f\"],[0.2222222222222222,\"#7201a8\"],[0.3333333333333333,\"#9c179e\"],[0.4444444444444444,\"#bd3786\"],[0.5555555555555556,\"#d8576b\"],[0.6666666666666666,\"#ed7953\"],[0.7777777777777778,\"#fb9f3a\"],[0.8888888888888888,\"#fdca26\"],[1.0,\"#f0f921\"]]}],\"choropleth\":[{\"type\":\"choropleth\",\"colorbar\":{\"outlinewidth\":0,\"ticks\":\"\"}}],\"histogram2d\":[{\"type\":\"histogram2d\",\"colorbar\":{\"outlinewidth\":0,\"ticks\":\"\"},\"colorscale\":[[0.0,\"#0d0887\"],[0.1111111111111111,\"#46039f\"],[0.2222222222222222,\"#7201a8\"],[0.3333333333333333,\"#9c179e\"],[0.4444444444444444,\"#bd3786\"],[0.5555555555555556,\"#d8576b\"],[0.6666666666666666,\"#ed7953\"],[0.7777777777777778,\"#fb9f3a\"],[0.8888888888888888,\"#fdca26\"],[1.0,\"#f0f921\"]]}],\"heatmap\":[{\"type\":\"heatmap\",\"colorbar\":{\"outlinewidth\":0,\"ticks\":\"\"},\"colorscale\":[[0.0,\"#0d0887\"],[0.1111111111111111,\"#46039f\"],[0.2222222222222222,\"#7201a8\"],[0.3333333333333333,\"#9c179e\"],[0.4444444444444444,\"#bd3786\"],[0.5555555555555556,\"#d8576b\"],[0.6666666666666666,\"#ed7953\"],[0.7777777777777778,\"#fb9f3a\"],[0.8888888888888888,\"#fdca26\"],[1.0,\"#f0f921\"]]}],\"heatmapgl\":[{\"type\":\"heatmapgl\",\"colorbar\":{\"outlinewidth\":0,\"ticks\":\"\"},\"colorscale\":[[0.0,\"#0d0887\"],[0.1111111111111111,\"#46039f\"],[0.2222222222222222,\"#7201a8\"],[0.3333333333333333,\"#9c179e\"],[0.4444444444444444,\"#bd3786\"],[0.5555555555555556,\"#d8576b\"],[0.6666666666666666,\"#ed7953\"],[0.7777777777777778,\"#fb9f3a\"],[0.8888888888888888,\"#fdca26\"],[1.0,\"#f0f921\"]]}],\"contourcarpet\":[{\"type\":\"contourcarpet\",\"colorbar\":{\"outlinewidth\":0,\"ticks\":\"\"}}],\"contour\":[{\"type\":\"contour\",\"colorbar\":{\"outlinewidth\":0,\"ticks\":\"\"},\"colorscale\":[[0.0,\"#0d0887\"],[0.1111111111111111,\"#46039f\"],[0.2222222222222222,\"#7201a8\"],[0.3333333333333333,\"#9c179e\"],[0.4444444444444444,\"#bd3786\"],[0.5555555555555556,\"#d8576b\"],[0.6666666666666666,\"#ed7953\"],[0.7777777777777778,\"#fb9f3a\"],[0.8888888888888888,\"#fdca26\"],[1.0,\"#f0f921\"]]}],\"surface\":[{\"type\":\"surface\",\"colorbar\":{\"outlinewidth\":0,\"ticks\":\"\"},\"colorscale\":[[0.0,\"#0d0887\"],[0.1111111111111111,\"#46039f\"],[0.2222222222222222,\"#7201a8\"],[0.3333333333333333,\"#9c179e\"],[0.4444444444444444,\"#bd3786\"],[0.5555555555555556,\"#d8576b\"],[0.6666666666666666,\"#ed7953\"],[0.7777777777777778,\"#fb9f3a\"],[0.8888888888888888,\"#fdca26\"],[1.0,\"#f0f921\"]]}],\"mesh3d\":[{\"type\":\"mesh3d\",\"colorbar\":{\"outlinewidth\":0,\"ticks\":\"\"}}],\"scatter\":[{\"fillpattern\":{\"fillmode\":\"overlay\",\"size\":10,\"solidity\":0.2},\"type\":\"scatter\"}],\"parcoords\":[{\"type\":\"parcoords\",\"line\":{\"colorbar\":{\"outlinewidth\":0,\"ticks\":\"\"}}}],\"scatterpolargl\":[{\"type\":\"scatterpolargl\",\"marker\":{\"colorbar\":{\"outlinewidth\":0,\"ticks\":\"\"}}}],\"bar\":[{\"error_x\":{\"color\":\"#2a3f5f\"},\"error_y\":{\"color\":\"#2a3f5f\"},\"marker\":{\"line\":{\"color\":\"#E5ECF6\",\"width\":0.5},\"pattern\":{\"fillmode\":\"overlay\",\"size\":10,\"solidity\":0.2}},\"type\":\"bar\"}],\"scattergeo\":[{\"type\":\"scattergeo\",\"marker\":{\"colorbar\":{\"outlinewidth\":0,\"ticks\":\"\"}}}],\"scatterpolar\":[{\"type\":\"scatterpolar\",\"marker\":{\"colorbar\":{\"outlinewidth\":0,\"ticks\":\"\"}}}],\"histogram\":[{\"marker\":{\"pattern\":{\"fillmode\":\"overlay\",\"size\":10,\"solidity\":0.2}},\"type\":\"histogram\"}],\"scattergl\":[{\"type\":\"scattergl\",\"marker\":{\"colorbar\":{\"outlinewidth\":0,\"ticks\":\"\"}}}],\"scatter3d\":[{\"type\":\"scatter3d\",\"line\":{\"colorbar\":{\"outlinewidth\":0,\"ticks\":\"\"}},\"marker\":{\"colorbar\":{\"outlinewidth\":0,\"ticks\":\"\"}}}],\"scattermapbox\":[{\"type\":\"scattermapbox\",\"marker\":{\"colorbar\":{\"outlinewidth\":0,\"ticks\":\"\"}}}],\"scatterternary\":[{\"type\":\"scatterternary\",\"marker\":{\"colorbar\":{\"outlinewidth\":0,\"ticks\":\"\"}}}],\"scattercarpet\":[{\"type\":\"scattercarpet\",\"marker\":{\"colorbar\":{\"outlinewidth\":0,\"ticks\":\"\"}}}],\"carpet\":[{\"aaxis\":{\"endlinecolor\":\"#2a3f5f\",\"gridcolor\":\"white\",\"linecolor\":\"white\",\"minorgridcolor\":\"white\",\"startlinecolor\":\"#2a3f5f\"},\"baxis\":{\"endlinecolor\":\"#2a3f5f\",\"gridcolor\":\"white\",\"linecolor\":\"white\",\"minorgridcolor\":\"white\",\"startlinecolor\":\"#2a3f5f\"},\"type\":\"carpet\"}],\"table\":[{\"cells\":{\"fill\":{\"color\":\"#EBF0F8\"},\"line\":{\"color\":\"white\"}},\"header\":{\"fill\":{\"color\":\"#C8D4E3\"},\"line\":{\"color\":\"white\"}},\"type\":\"table\"}],\"barpolar\":[{\"marker\":{\"line\":{\"color\":\"#E5ECF6\",\"width\":0.5},\"pattern\":{\"fillmode\":\"overlay\",\"size\":10,\"solidity\":0.2}},\"type\":\"barpolar\"}],\"pie\":[{\"automargin\":true,\"type\":\"pie\"}]},\"layout\":{\"autotypenumbers\":\"strict\",\"colorway\":[\"#636efa\",\"#EF553B\",\"#00cc96\",\"#ab63fa\",\"#FFA15A\",\"#19d3f3\",\"#FF6692\",\"#B6E880\",\"#FF97FF\",\"#FECB52\"],\"font\":{\"color\":\"#2a3f5f\"},\"hovermode\":\"closest\",\"hoverlabel\":{\"align\":\"left\"},\"paper_bgcolor\":\"white\",\"plot_bgcolor\":\"#E5ECF6\",\"polar\":{\"bgcolor\":\"#E5ECF6\",\"angularaxis\":{\"gridcolor\":\"white\",\"linecolor\":\"white\",\"ticks\":\"\"},\"radialaxis\":{\"gridcolor\":\"white\",\"linecolor\":\"white\",\"ticks\":\"\"}},\"ternary\":{\"bgcolor\":\"#E5ECF6\",\"aaxis\":{\"gridcolor\":\"white\",\"linecolor\":\"white\",\"ticks\":\"\"},\"baxis\":{\"gridcolor\":\"white\",\"linecolor\":\"white\",\"ticks\":\"\"},\"caxis\":{\"gridcolor\":\"white\",\"linecolor\":\"white\",\"ticks\":\"\"}},\"coloraxis\":{\"colorbar\":{\"outlinewidth\":0,\"ticks\":\"\"}},\"colorscale\":{\"sequential\":[[0.0,\"#0d0887\"],[0.1111111111111111,\"#46039f\"],[0.2222222222222222,\"#7201a8\"],[0.3333333333333333,\"#9c179e\"],[0.4444444444444444,\"#bd3786\"],[0.5555555555555556,\"#d8576b\"],[0.6666666666666666,\"#ed7953\"],[0.7777777777777778,\"#fb9f3a\"],[0.8888888888888888,\"#fdca26\"],[1.0,\"#f0f921\"]],\"sequentialminus\":[[0.0,\"#0d0887\"],[0.1111111111111111,\"#46039f\"],[0.2222222222222222,\"#7201a8\"],[0.3333333333333333,\"#9c179e\"],[0.4444444444444444,\"#bd3786\"],[0.5555555555555556,\"#d8576b\"],[0.6666666666666666,\"#ed7953\"],[0.7777777777777778,\"#fb9f3a\"],[0.8888888888888888,\"#fdca26\"],[1.0,\"#f0f921\"]],\"diverging\":[[0,\"#8e0152\"],[0.1,\"#c51b7d\"],[0.2,\"#de77ae\"],[0.3,\"#f1b6da\"],[0.4,\"#fde0ef\"],[0.5,\"#f7f7f7\"],[0.6,\"#e6f5d0\"],[0.7,\"#b8e186\"],[0.8,\"#7fbc41\"],[0.9,\"#4d9221\"],[1,\"#276419\"]]},\"xaxis\":{\"gridcolor\":\"white\",\"linecolor\":\"white\",\"ticks\":\"\",\"title\":{\"standoff\":15},\"zerolinecolor\":\"white\",\"automargin\":true,\"zerolinewidth\":2},\"yaxis\":{\"gridcolor\":\"white\",\"linecolor\":\"white\",\"ticks\":\"\",\"title\":{\"standoff\":15},\"zerolinecolor\":\"white\",\"automargin\":true,\"zerolinewidth\":2},\"scene\":{\"xaxis\":{\"backgroundcolor\":\"#E5ECF6\",\"gridcolor\":\"white\",\"linecolor\":\"white\",\"showbackground\":true,\"ticks\":\"\",\"zerolinecolor\":\"white\",\"gridwidth\":2},\"yaxis\":{\"backgroundcolor\":\"#E5ECF6\",\"gridcolor\":\"white\",\"linecolor\":\"white\",\"showbackground\":true,\"ticks\":\"\",\"zerolinecolor\":\"white\",\"gridwidth\":2},\"zaxis\":{\"backgroundcolor\":\"#E5ECF6\",\"gridcolor\":\"white\",\"linecolor\":\"white\",\"showbackground\":true,\"ticks\":\"\",\"zerolinecolor\":\"white\",\"gridwidth\":2}},\"shapedefaults\":{\"line\":{\"color\":\"#2a3f5f\"}},\"annotationdefaults\":{\"arrowcolor\":\"#2a3f5f\",\"arrowhead\":0,\"arrowwidth\":1},\"geo\":{\"bgcolor\":\"white\",\"landcolor\":\"#E5ECF6\",\"subunitcolor\":\"white\",\"showland\":true,\"showlakes\":true,\"lakecolor\":\"white\"},\"title\":{\"x\":0.05},\"mapbox\":{\"style\":\"light\"}}},\"xaxis\":{\"anchor\":\"y\",\"domain\":[0.0,1.0],\"title\":{\"text\":\"LapTimeDeltaSeconds\"}},\"yaxis\":{\"anchor\":\"x\",\"domain\":[0.0,1.0],\"title\":{\"text\":\"Driver\"},\"categoryorder\":\"total descending\"},\"legend\":{\"title\":{\"text\":\"Team\"},\"tracegroupgap\":0},\"title\":{\"text\":\"Spanish Grand Prix 2021 Qualifying\\nFastest Lap: 01:16.741 (HAM)\"},\"barmode\":\"relative\"},                        {\"responsive\": true}                    ).then(function(){\n                            \nvar gd = document.getElementById('78a087cd-f898-41c5-8e56-4e444993a8ca');\nvar x = new MutationObserver(function (mutations, observer) {{\n        var display = window.getComputedStyle(gd).display;\n        if (!display || display === 'none') {{\n            console.log([gd, 'removed!']);\n            Plotly.purge(gd);\n            observer.disconnect();\n        }}\n}});\n\n// Listen for the removal of the full notebook cells\nvar notebookContainer = gd.closest('#notebook-container');\nif (notebookContainer) {{\n    x.observe(notebookContainer, {childList: true});\n}}\n\n// Listen for the clearing of the current output cell\nvar outputEl = gd.closest('.output');\nif (outputEl) {{\n    x.observe(outputEl, {childList: true});\n}}\n\n                        })                };                });            </script>        </div>"
     },
     "metadata": {},
     "output_type": "display_data"
    }
   ],
   "source": [
    "import pandas as pd\n",
    "from timple.timedelta import strftimedelta\n",
    "import plotly.express as px\n",
    "\n",
    "import fastf1\n",
    "import fastf1.plotting\n",
    "from fastf1.core import Laps\n",
    "\n",
    "# Setting up fastf1\n",
    "fastf1.plotting.setup_mpl(mpl_timedelta_support=True)\n",
    "\n",
    "# Loading the session data\n",
    "session = fastf1.get_session(2021, 'Spanish Grand Prix', 'Q')\n",
    "session.load()\n",
    "\n",
    "# Preparing the data\n",
    "drivers = pd.unique(session.laps['Driver'])\n",
    "list_fastest_laps = [session.laps.pick_driver(drv).pick_fastest() for drv in drivers]\n",
    "fastest_laps = Laps(list_fastest_laps).sort_values(by='LapTime').reset_index(drop=True)\n",
    "pole_lap = fastest_laps.pick_fastest()\n",
    "fastest_laps['LapTimeDelta'] = fastest_laps['LapTime'] - pole_lap['LapTime']\n",
    "# Converting LapTimeDelta to a format suitable for plotting\n",
    "fastest_laps['LapTimeDeltaSeconds'] = fastest_laps['LapTimeDelta'].dt.total_seconds()\n",
    "\n",
    "# Plotting using Plotly Express\n",
    "fig = px.bar(fastest_laps, y='Driver', x='LapTimeDeltaSeconds', orientation='h', \n",
    "             color='Team', text='LapTimeDeltaSeconds',\n",
    "             title=f\"{session.event['EventName']} {session.event.year} Qualifying\\n\"\n",
    "                   f\"Fastest Lap: {strftimedelta(pole_lap['LapTime'], '%m:%s.%ms')} ({pole_lap['Driver']})\")\n",
    "\n",
    "fig.update_layout(yaxis={'categoryorder':'total descending'})\n",
    "fig.update_traces(texttemplate='%{text:.2f}', textposition='outside')\n",
    "fig.show()\n"
   ]
  },
  {
   "cell_type": "code",
   "execution_count": 3,
   "outputs": [
    {
     "name": "stderr",
     "output_type": "stream",
     "text": [
      "core           INFO \tLoading data for Spanish Grand Prix - Qualifying [v3.1.3]\n",
      "req            INFO \tUsing cached data for session_info\n",
      "req            INFO \tUsing cached data for driver_info\n",
      "req            INFO \tUsing cached data for session_status_data\n",
      "req            INFO \tUsing cached data for track_status_data\n",
      "req            INFO \tUsing cached data for _extended_timing_data\n",
      "req            INFO \tUsing cached data for timing_app_data\n",
      "core           INFO \tProcessing timing data...\n",
      "req            INFO \tUsing cached data for car_data\n",
      "req            INFO \tUsing cached data for position_data\n",
      "req            INFO \tUsing cached data for weather_data\n",
      "req            INFO \tUsing cached data for race_control_messages\n",
      "core           INFO \tFinished loading data for 20 drivers: ['16', '1', '55', '63', '11', '44', '77', '20', '3', '47', '4', '31', '22', '10', '24', '5', '14', '18', '23', '6']\n"
     ]
    },
    {
     "data": {
      "application/vnd.plotly.v1+json": {
       "data": [
        {
         "alignmentgroup": "True",
         "hovertemplate": "Team=Ferrari<br>LapTimeDeltaSeconds=%{text}<br>Driver=%{y}<extra></extra>",
         "legendgroup": "Ferrari",
         "marker": {
          "color": "#636efa",
          "pattern": {
           "shape": ""
          }
         },
         "name": "Ferrari",
         "offsetgroup": "Ferrari",
         "orientation": "h",
         "showlegend": true,
         "text": [
          0.0,
          0.416
         ],
         "textposition": "outside",
         "x": [
          0.0,
          0.416
         ],
         "xaxis": "x",
         "y": [
          "LEC",
          "SAI"
         ],
         "yaxis": "y",
         "type": "bar",
         "texttemplate": "%{text:.2f}"
        },
        {
         "alignmentgroup": "True",
         "hovertemplate": "Team=Red Bull Racing<br>LapTimeDeltaSeconds=%{text}<br>Driver=%{y}<extra></extra>",
         "legendgroup": "Red Bull Racing",
         "marker": {
          "color": "#EF553B",
          "pattern": {
           "shape": ""
          }
         },
         "name": "Red Bull Racing",
         "offsetgroup": "Red Bull Racing",
         "orientation": "h",
         "showlegend": true,
         "text": [
          0.323,
          0.67
         ],
         "textposition": "outside",
         "x": [
          0.323,
          0.67
         ],
         "xaxis": "x",
         "y": [
          "VER",
          "PER"
         ],
         "yaxis": "y",
         "type": "bar",
         "texttemplate": "%{text:.2f}"
        },
        {
         "alignmentgroup": "True",
         "hovertemplate": "Team=Mercedes<br>LapTimeDeltaSeconds=%{text}<br>Driver=%{y}<extra></extra>",
         "legendgroup": "Mercedes",
         "marker": {
          "color": "#00cc96",
          "pattern": {
           "shape": ""
          }
         },
         "name": "Mercedes",
         "offsetgroup": "Mercedes",
         "orientation": "h",
         "showlegend": true,
         "text": [
          0.643,
          0.762
         ],
         "textposition": "outside",
         "x": [
          0.643,
          0.762
         ],
         "xaxis": "x",
         "y": [
          "RUS",
          "HAM"
         ],
         "yaxis": "y",
         "type": "bar",
         "texttemplate": "%{text:.2f}"
        },
        {
         "alignmentgroup": "True",
         "hovertemplate": "Team=Alfa Romeo<br>LapTimeDeltaSeconds=%{text}<br>Driver=%{y}<extra></extra>",
         "legendgroup": "Alfa Romeo",
         "marker": {
          "color": "#ab63fa",
          "pattern": {
           "shape": ""
          }
         },
         "name": "Alfa Romeo",
         "offsetgroup": "Alfa Romeo",
         "orientation": "h",
         "showlegend": true,
         "text": [
          0.858,
          1.726
         ],
         "textposition": "outside",
         "x": [
          0.858,
          1.726
         ],
         "xaxis": "x",
         "y": [
          "BOT",
          "ZHO"
         ],
         "yaxis": "y",
         "type": "bar",
         "texttemplate": "%{text:.2f}"
        },
        {
         "alignmentgroup": "True",
         "hovertemplate": "Team=Haas F1 Team<br>LapTimeDeltaSeconds=%{text}<br>Driver=%{y}<extra></extra>",
         "legendgroup": "Haas F1 Team",
         "marker": {
          "color": "#FFA15A",
          "pattern": {
           "shape": ""
          }
         },
         "name": "Haas F1 Team",
         "offsetgroup": "Haas F1 Team",
         "orientation": "h",
         "showlegend": true,
         "text": [
          0.932,
          1.618
         ],
         "textposition": "outside",
         "x": [
          0.932,
          1.618
         ],
         "xaxis": "x",
         "y": [
          "MAG",
          "MSC"
         ],
         "yaxis": "y",
         "type": "bar",
         "texttemplate": "%{text:.2f}"
        },
        {
         "alignmentgroup": "True",
         "hovertemplate": "Team=McLaren<br>LapTimeDeltaSeconds=%{text}<br>Driver=%{y}<extra></extra>",
         "legendgroup": "McLaren",
         "marker": {
          "color": "#19d3f3",
          "pattern": {
           "shape": ""
          }
         },
         "name": "McLaren",
         "offsetgroup": "McLaren",
         "orientation": "h",
         "showlegend": true,
         "text": [
          1.537,
          1.721
         ],
         "textposition": "outside",
         "x": [
          1.537,
          1.721
         ],
         "xaxis": "x",
         "y": [
          "RIC",
          "NOR"
         ],
         "yaxis": "y",
         "type": "bar",
         "texttemplate": "%{text:.2f}"
        },
        {
         "alignmentgroup": "True",
         "hovertemplate": "Team=Alpine<br>LapTimeDeltaSeconds=%{text}<br>Driver=%{y}<extra></extra>",
         "legendgroup": "Alpine",
         "marker": {
          "color": "#FF6692",
          "pattern": {
           "shape": ""
          }
         },
         "name": "Alpine",
         "offsetgroup": "Alpine",
         "orientation": "h",
         "showlegend": true,
         "text": [
          1.888,
          2.293
         ],
         "textposition": "outside",
         "x": [
          1.888,
          2.293
         ],
         "xaxis": "x",
         "y": [
          "OCO",
          "ALO"
         ],
         "yaxis": "y",
         "type": "bar",
         "texttemplate": "%{text:.2f}"
        },
        {
         "alignmentgroup": "True",
         "hovertemplate": "Team=AlphaTauri<br>LapTimeDeltaSeconds=%{text}<br>Driver=%{y}<extra></extra>",
         "legendgroup": "AlphaTauri",
         "marker": {
          "color": "#B6E880",
          "pattern": {
           "shape": ""
          }
         },
         "name": "AlphaTauri",
         "offsetgroup": "AlphaTauri",
         "orientation": "h",
         "showlegend": true,
         "text": [
          1.889,
          1.969
         ],
         "textposition": "outside",
         "x": [
          1.889,
          1.969
         ],
         "xaxis": "x",
         "y": [
          "TSU",
          "GAS"
         ],
         "yaxis": "y",
         "type": "bar",
         "texttemplate": "%{text:.2f}"
        },
        {
         "alignmentgroup": "True",
         "hovertemplate": "Team=Aston Martin<br>LapTimeDeltaSeconds=%{text}<br>Driver=%{y}<extra></extra>",
         "legendgroup": "Aston Martin",
         "marker": {
          "color": "#FF97FF",
          "pattern": {
           "shape": ""
          }
         },
         "name": "Aston Martin",
         "offsetgroup": "Aston Martin",
         "orientation": "h",
         "showlegend": true,
         "text": [
          2.204,
          2.668
         ],
         "textposition": "outside",
         "x": [
          2.204,
          2.668
         ],
         "xaxis": "x",
         "y": [
          "VET",
          "STR"
         ],
         "yaxis": "y",
         "type": "bar",
         "texttemplate": "%{text:.2f}"
        },
        {
         "alignmentgroup": "True",
         "hovertemplate": "Team=Williams<br>LapTimeDeltaSeconds=%{text}<br>Driver=%{y}<extra></extra>",
         "legendgroup": "Williams",
         "marker": {
          "color": "#FECB52",
          "pattern": {
           "shape": ""
          }
         },
         "name": "Williams",
         "offsetgroup": "Williams",
         "orientation": "h",
         "showlegend": true,
         "text": [
          2.895,
          3.165
         ],
         "textposition": "outside",
         "x": [
          2.895,
          3.165
         ],
         "xaxis": "x",
         "y": [
          "ALB",
          "LAT"
         ],
         "yaxis": "y",
         "type": "bar",
         "texttemplate": "%{text:.2f}"
        }
       ],
       "layout": {
        "template": {
         "data": {
          "histogram2dcontour": [
           {
            "type": "histogram2dcontour",
            "colorbar": {
             "outlinewidth": 0,
             "ticks": ""
            },
            "colorscale": [
             [
              0.0,
              "#0d0887"
             ],
             [
              0.1111111111111111,
              "#46039f"
             ],
             [
              0.2222222222222222,
              "#7201a8"
             ],
             [
              0.3333333333333333,
              "#9c179e"
             ],
             [
              0.4444444444444444,
              "#bd3786"
             ],
             [
              0.5555555555555556,
              "#d8576b"
             ],
             [
              0.6666666666666666,
              "#ed7953"
             ],
             [
              0.7777777777777778,
              "#fb9f3a"
             ],
             [
              0.8888888888888888,
              "#fdca26"
             ],
             [
              1.0,
              "#f0f921"
             ]
            ]
           }
          ],
          "choropleth": [
           {
            "type": "choropleth",
            "colorbar": {
             "outlinewidth": 0,
             "ticks": ""
            }
           }
          ],
          "histogram2d": [
           {
            "type": "histogram2d",
            "colorbar": {
             "outlinewidth": 0,
             "ticks": ""
            },
            "colorscale": [
             [
              0.0,
              "#0d0887"
             ],
             [
              0.1111111111111111,
              "#46039f"
             ],
             [
              0.2222222222222222,
              "#7201a8"
             ],
             [
              0.3333333333333333,
              "#9c179e"
             ],
             [
              0.4444444444444444,
              "#bd3786"
             ],
             [
              0.5555555555555556,
              "#d8576b"
             ],
             [
              0.6666666666666666,
              "#ed7953"
             ],
             [
              0.7777777777777778,
              "#fb9f3a"
             ],
             [
              0.8888888888888888,
              "#fdca26"
             ],
             [
              1.0,
              "#f0f921"
             ]
            ]
           }
          ],
          "heatmap": [
           {
            "type": "heatmap",
            "colorbar": {
             "outlinewidth": 0,
             "ticks": ""
            },
            "colorscale": [
             [
              0.0,
              "#0d0887"
             ],
             [
              0.1111111111111111,
              "#46039f"
             ],
             [
              0.2222222222222222,
              "#7201a8"
             ],
             [
              0.3333333333333333,
              "#9c179e"
             ],
             [
              0.4444444444444444,
              "#bd3786"
             ],
             [
              0.5555555555555556,
              "#d8576b"
             ],
             [
              0.6666666666666666,
              "#ed7953"
             ],
             [
              0.7777777777777778,
              "#fb9f3a"
             ],
             [
              0.8888888888888888,
              "#fdca26"
             ],
             [
              1.0,
              "#f0f921"
             ]
            ]
           }
          ],
          "heatmapgl": [
           {
            "type": "heatmapgl",
            "colorbar": {
             "outlinewidth": 0,
             "ticks": ""
            },
            "colorscale": [
             [
              0.0,
              "#0d0887"
             ],
             [
              0.1111111111111111,
              "#46039f"
             ],
             [
              0.2222222222222222,
              "#7201a8"
             ],
             [
              0.3333333333333333,
              "#9c179e"
             ],
             [
              0.4444444444444444,
              "#bd3786"
             ],
             [
              0.5555555555555556,
              "#d8576b"
             ],
             [
              0.6666666666666666,
              "#ed7953"
             ],
             [
              0.7777777777777778,
              "#fb9f3a"
             ],
             [
              0.8888888888888888,
              "#fdca26"
             ],
             [
              1.0,
              "#f0f921"
             ]
            ]
           }
          ],
          "contourcarpet": [
           {
            "type": "contourcarpet",
            "colorbar": {
             "outlinewidth": 0,
             "ticks": ""
            }
           }
          ],
          "contour": [
           {
            "type": "contour",
            "colorbar": {
             "outlinewidth": 0,
             "ticks": ""
            },
            "colorscale": [
             [
              0.0,
              "#0d0887"
             ],
             [
              0.1111111111111111,
              "#46039f"
             ],
             [
              0.2222222222222222,
              "#7201a8"
             ],
             [
              0.3333333333333333,
              "#9c179e"
             ],
             [
              0.4444444444444444,
              "#bd3786"
             ],
             [
              0.5555555555555556,
              "#d8576b"
             ],
             [
              0.6666666666666666,
              "#ed7953"
             ],
             [
              0.7777777777777778,
              "#fb9f3a"
             ],
             [
              0.8888888888888888,
              "#fdca26"
             ],
             [
              1.0,
              "#f0f921"
             ]
            ]
           }
          ],
          "surface": [
           {
            "type": "surface",
            "colorbar": {
             "outlinewidth": 0,
             "ticks": ""
            },
            "colorscale": [
             [
              0.0,
              "#0d0887"
             ],
             [
              0.1111111111111111,
              "#46039f"
             ],
             [
              0.2222222222222222,
              "#7201a8"
             ],
             [
              0.3333333333333333,
              "#9c179e"
             ],
             [
              0.4444444444444444,
              "#bd3786"
             ],
             [
              0.5555555555555556,
              "#d8576b"
             ],
             [
              0.6666666666666666,
              "#ed7953"
             ],
             [
              0.7777777777777778,
              "#fb9f3a"
             ],
             [
              0.8888888888888888,
              "#fdca26"
             ],
             [
              1.0,
              "#f0f921"
             ]
            ]
           }
          ],
          "mesh3d": [
           {
            "type": "mesh3d",
            "colorbar": {
             "outlinewidth": 0,
             "ticks": ""
            }
           }
          ],
          "scatter": [
           {
            "fillpattern": {
             "fillmode": "overlay",
             "size": 10,
             "solidity": 0.2
            },
            "type": "scatter"
           }
          ],
          "parcoords": [
           {
            "type": "parcoords",
            "line": {
             "colorbar": {
              "outlinewidth": 0,
              "ticks": ""
             }
            }
           }
          ],
          "scatterpolargl": [
           {
            "type": "scatterpolargl",
            "marker": {
             "colorbar": {
              "outlinewidth": 0,
              "ticks": ""
             }
            }
           }
          ],
          "bar": [
           {
            "error_x": {
             "color": "#2a3f5f"
            },
            "error_y": {
             "color": "#2a3f5f"
            },
            "marker": {
             "line": {
              "color": "#E5ECF6",
              "width": 0.5
             },
             "pattern": {
              "fillmode": "overlay",
              "size": 10,
              "solidity": 0.2
             }
            },
            "type": "bar"
           }
          ],
          "scattergeo": [
           {
            "type": "scattergeo",
            "marker": {
             "colorbar": {
              "outlinewidth": 0,
              "ticks": ""
             }
            }
           }
          ],
          "scatterpolar": [
           {
            "type": "scatterpolar",
            "marker": {
             "colorbar": {
              "outlinewidth": 0,
              "ticks": ""
             }
            }
           }
          ],
          "histogram": [
           {
            "marker": {
             "pattern": {
              "fillmode": "overlay",
              "size": 10,
              "solidity": 0.2
             }
            },
            "type": "histogram"
           }
          ],
          "scattergl": [
           {
            "type": "scattergl",
            "marker": {
             "colorbar": {
              "outlinewidth": 0,
              "ticks": ""
             }
            }
           }
          ],
          "scatter3d": [
           {
            "type": "scatter3d",
            "line": {
             "colorbar": {
              "outlinewidth": 0,
              "ticks": ""
             }
            },
            "marker": {
             "colorbar": {
              "outlinewidth": 0,
              "ticks": ""
             }
            }
           }
          ],
          "scattermapbox": [
           {
            "type": "scattermapbox",
            "marker": {
             "colorbar": {
              "outlinewidth": 0,
              "ticks": ""
             }
            }
           }
          ],
          "scatterternary": [
           {
            "type": "scatterternary",
            "marker": {
             "colorbar": {
              "outlinewidth": 0,
              "ticks": ""
             }
            }
           }
          ],
          "scattercarpet": [
           {
            "type": "scattercarpet",
            "marker": {
             "colorbar": {
              "outlinewidth": 0,
              "ticks": ""
             }
            }
           }
          ],
          "carpet": [
           {
            "aaxis": {
             "endlinecolor": "#2a3f5f",
             "gridcolor": "white",
             "linecolor": "white",
             "minorgridcolor": "white",
             "startlinecolor": "#2a3f5f"
            },
            "baxis": {
             "endlinecolor": "#2a3f5f",
             "gridcolor": "white",
             "linecolor": "white",
             "minorgridcolor": "white",
             "startlinecolor": "#2a3f5f"
            },
            "type": "carpet"
           }
          ],
          "table": [
           {
            "cells": {
             "fill": {
              "color": "#EBF0F8"
             },
             "line": {
              "color": "white"
             }
            },
            "header": {
             "fill": {
              "color": "#C8D4E3"
             },
             "line": {
              "color": "white"
             }
            },
            "type": "table"
           }
          ],
          "barpolar": [
           {
            "marker": {
             "line": {
              "color": "#E5ECF6",
              "width": 0.5
             },
             "pattern": {
              "fillmode": "overlay",
              "size": 10,
              "solidity": 0.2
             }
            },
            "type": "barpolar"
           }
          ],
          "pie": [
           {
            "automargin": true,
            "type": "pie"
           }
          ]
         },
         "layout": {
          "autotypenumbers": "strict",
          "colorway": [
           "#636efa",
           "#EF553B",
           "#00cc96",
           "#ab63fa",
           "#FFA15A",
           "#19d3f3",
           "#FF6692",
           "#B6E880",
           "#FF97FF",
           "#FECB52"
          ],
          "font": {
           "color": "#2a3f5f"
          },
          "hovermode": "closest",
          "hoverlabel": {
           "align": "left"
          },
          "paper_bgcolor": "white",
          "plot_bgcolor": "#E5ECF6",
          "polar": {
           "bgcolor": "#E5ECF6",
           "angularaxis": {
            "gridcolor": "white",
            "linecolor": "white",
            "ticks": ""
           },
           "radialaxis": {
            "gridcolor": "white",
            "linecolor": "white",
            "ticks": ""
           }
          },
          "ternary": {
           "bgcolor": "#E5ECF6",
           "aaxis": {
            "gridcolor": "white",
            "linecolor": "white",
            "ticks": ""
           },
           "baxis": {
            "gridcolor": "white",
            "linecolor": "white",
            "ticks": ""
           },
           "caxis": {
            "gridcolor": "white",
            "linecolor": "white",
            "ticks": ""
           }
          },
          "coloraxis": {
           "colorbar": {
            "outlinewidth": 0,
            "ticks": ""
           }
          },
          "colorscale": {
           "sequential": [
            [
             0.0,
             "#0d0887"
            ],
            [
             0.1111111111111111,
             "#46039f"
            ],
            [
             0.2222222222222222,
             "#7201a8"
            ],
            [
             0.3333333333333333,
             "#9c179e"
            ],
            [
             0.4444444444444444,
             "#bd3786"
            ],
            [
             0.5555555555555556,
             "#d8576b"
            ],
            [
             0.6666666666666666,
             "#ed7953"
            ],
            [
             0.7777777777777778,
             "#fb9f3a"
            ],
            [
             0.8888888888888888,
             "#fdca26"
            ],
            [
             1.0,
             "#f0f921"
            ]
           ],
           "sequentialminus": [
            [
             0.0,
             "#0d0887"
            ],
            [
             0.1111111111111111,
             "#46039f"
            ],
            [
             0.2222222222222222,
             "#7201a8"
            ],
            [
             0.3333333333333333,
             "#9c179e"
            ],
            [
             0.4444444444444444,
             "#bd3786"
            ],
            [
             0.5555555555555556,
             "#d8576b"
            ],
            [
             0.6666666666666666,
             "#ed7953"
            ],
            [
             0.7777777777777778,
             "#fb9f3a"
            ],
            [
             0.8888888888888888,
             "#fdca26"
            ],
            [
             1.0,
             "#f0f921"
            ]
           ],
           "diverging": [
            [
             0,
             "#8e0152"
            ],
            [
             0.1,
             "#c51b7d"
            ],
            [
             0.2,
             "#de77ae"
            ],
            [
             0.3,
             "#f1b6da"
            ],
            [
             0.4,
             "#fde0ef"
            ],
            [
             0.5,
             "#f7f7f7"
            ],
            [
             0.6,
             "#e6f5d0"
            ],
            [
             0.7,
             "#b8e186"
            ],
            [
             0.8,
             "#7fbc41"
            ],
            [
             0.9,
             "#4d9221"
            ],
            [
             1,
             "#276419"
            ]
           ]
          },
          "xaxis": {
           "gridcolor": "white",
           "linecolor": "white",
           "ticks": "",
           "title": {
            "standoff": 15
           },
           "zerolinecolor": "white",
           "automargin": true,
           "zerolinewidth": 2
          },
          "yaxis": {
           "gridcolor": "white",
           "linecolor": "white",
           "ticks": "",
           "title": {
            "standoff": 15
           },
           "zerolinecolor": "white",
           "automargin": true,
           "zerolinewidth": 2
          },
          "scene": {
           "xaxis": {
            "backgroundcolor": "#E5ECF6",
            "gridcolor": "white",
            "linecolor": "white",
            "showbackground": true,
            "ticks": "",
            "zerolinecolor": "white",
            "gridwidth": 2
           },
           "yaxis": {
            "backgroundcolor": "#E5ECF6",
            "gridcolor": "white",
            "linecolor": "white",
            "showbackground": true,
            "ticks": "",
            "zerolinecolor": "white",
            "gridwidth": 2
           },
           "zaxis": {
            "backgroundcolor": "#E5ECF6",
            "gridcolor": "white",
            "linecolor": "white",
            "showbackground": true,
            "ticks": "",
            "zerolinecolor": "white",
            "gridwidth": 2
           }
          },
          "shapedefaults": {
           "line": {
            "color": "#2a3f5f"
           }
          },
          "annotationdefaults": {
           "arrowcolor": "#2a3f5f",
           "arrowhead": 0,
           "arrowwidth": 1
          },
          "geo": {
           "bgcolor": "white",
           "landcolor": "#E5ECF6",
           "subunitcolor": "white",
           "showland": true,
           "showlakes": true,
           "lakecolor": "white"
          },
          "title": {
           "x": 0.05
          },
          "mapbox": {
           "style": "light"
          }
         }
        },
        "xaxis": {
         "anchor": "y",
         "domain": [
          0.0,
          1.0
         ],
         "title": {
          "text": "LapTimeDeltaSeconds"
         }
        },
        "yaxis": {
         "anchor": "x",
         "domain": [
          0.0,
          1.0
         ],
         "title": {
          "text": "Driver"
         },
         "categoryorder": "total descending"
        },
        "legend": {
         "title": {
          "text": "Team"
         },
         "tracegroupgap": 0
        },
        "title": {
         "text": "Spanish Grand Prix 2022 Qualifying\nFastest Lap: 01:18.750 (LEC)"
        },
        "barmode": "relative",
        "annotations": [
         {
          "font": {
           "color": "black"
          },
          "showarrow": false,
          "text": "Pole position : ('LEC', 'Ferrari')",
          "x": 0.6,
          "y": "LEC"
         }
        ]
       },
       "config": {
        "plotlyServerURL": "https://plot.ly"
       }
      },
      "text/html": "<div>                            <div id=\"d50fa774-cc4d-44c9-b53f-423489cc2599\" class=\"plotly-graph-div\" style=\"height:525px; width:100%;\"></div>            <script type=\"text/javascript\">                require([\"plotly\"], function(Plotly) {                    window.PLOTLYENV=window.PLOTLYENV || {};                                    if (document.getElementById(\"d50fa774-cc4d-44c9-b53f-423489cc2599\")) {                    Plotly.newPlot(                        \"d50fa774-cc4d-44c9-b53f-423489cc2599\",                        [{\"alignmentgroup\":\"True\",\"hovertemplate\":\"Team=Ferrari\\u003cbr\\u003eLapTimeDeltaSeconds=%{text}\\u003cbr\\u003eDriver=%{y}\\u003cextra\\u003e\\u003c\\u002fextra\\u003e\",\"legendgroup\":\"Ferrari\",\"marker\":{\"color\":\"#636efa\",\"pattern\":{\"shape\":\"\"}},\"name\":\"Ferrari\",\"offsetgroup\":\"Ferrari\",\"orientation\":\"h\",\"showlegend\":true,\"text\":[0.0,0.416],\"textposition\":\"outside\",\"x\":[0.0,0.416],\"xaxis\":\"x\",\"y\":[\"LEC\",\"SAI\"],\"yaxis\":\"y\",\"type\":\"bar\",\"texttemplate\":\"%{text:.2f}\"},{\"alignmentgroup\":\"True\",\"hovertemplate\":\"Team=Red Bull Racing\\u003cbr\\u003eLapTimeDeltaSeconds=%{text}\\u003cbr\\u003eDriver=%{y}\\u003cextra\\u003e\\u003c\\u002fextra\\u003e\",\"legendgroup\":\"Red Bull Racing\",\"marker\":{\"color\":\"#EF553B\",\"pattern\":{\"shape\":\"\"}},\"name\":\"Red Bull Racing\",\"offsetgroup\":\"Red Bull Racing\",\"orientation\":\"h\",\"showlegend\":true,\"text\":[0.323,0.67],\"textposition\":\"outside\",\"x\":[0.323,0.67],\"xaxis\":\"x\",\"y\":[\"VER\",\"PER\"],\"yaxis\":\"y\",\"type\":\"bar\",\"texttemplate\":\"%{text:.2f}\"},{\"alignmentgroup\":\"True\",\"hovertemplate\":\"Team=Mercedes\\u003cbr\\u003eLapTimeDeltaSeconds=%{text}\\u003cbr\\u003eDriver=%{y}\\u003cextra\\u003e\\u003c\\u002fextra\\u003e\",\"legendgroup\":\"Mercedes\",\"marker\":{\"color\":\"#00cc96\",\"pattern\":{\"shape\":\"\"}},\"name\":\"Mercedes\",\"offsetgroup\":\"Mercedes\",\"orientation\":\"h\",\"showlegend\":true,\"text\":[0.643,0.762],\"textposition\":\"outside\",\"x\":[0.643,0.762],\"xaxis\":\"x\",\"y\":[\"RUS\",\"HAM\"],\"yaxis\":\"y\",\"type\":\"bar\",\"texttemplate\":\"%{text:.2f}\"},{\"alignmentgroup\":\"True\",\"hovertemplate\":\"Team=Alfa Romeo\\u003cbr\\u003eLapTimeDeltaSeconds=%{text}\\u003cbr\\u003eDriver=%{y}\\u003cextra\\u003e\\u003c\\u002fextra\\u003e\",\"legendgroup\":\"Alfa Romeo\",\"marker\":{\"color\":\"#ab63fa\",\"pattern\":{\"shape\":\"\"}},\"name\":\"Alfa Romeo\",\"offsetgroup\":\"Alfa Romeo\",\"orientation\":\"h\",\"showlegend\":true,\"text\":[0.858,1.726],\"textposition\":\"outside\",\"x\":[0.858,1.726],\"xaxis\":\"x\",\"y\":[\"BOT\",\"ZHO\"],\"yaxis\":\"y\",\"type\":\"bar\",\"texttemplate\":\"%{text:.2f}\"},{\"alignmentgroup\":\"True\",\"hovertemplate\":\"Team=Haas F1 Team\\u003cbr\\u003eLapTimeDeltaSeconds=%{text}\\u003cbr\\u003eDriver=%{y}\\u003cextra\\u003e\\u003c\\u002fextra\\u003e\",\"legendgroup\":\"Haas F1 Team\",\"marker\":{\"color\":\"#FFA15A\",\"pattern\":{\"shape\":\"\"}},\"name\":\"Haas F1 Team\",\"offsetgroup\":\"Haas F1 Team\",\"orientation\":\"h\",\"showlegend\":true,\"text\":[0.932,1.618],\"textposition\":\"outside\",\"x\":[0.932,1.618],\"xaxis\":\"x\",\"y\":[\"MAG\",\"MSC\"],\"yaxis\":\"y\",\"type\":\"bar\",\"texttemplate\":\"%{text:.2f}\"},{\"alignmentgroup\":\"True\",\"hovertemplate\":\"Team=McLaren\\u003cbr\\u003eLapTimeDeltaSeconds=%{text}\\u003cbr\\u003eDriver=%{y}\\u003cextra\\u003e\\u003c\\u002fextra\\u003e\",\"legendgroup\":\"McLaren\",\"marker\":{\"color\":\"#19d3f3\",\"pattern\":{\"shape\":\"\"}},\"name\":\"McLaren\",\"offsetgroup\":\"McLaren\",\"orientation\":\"h\",\"showlegend\":true,\"text\":[1.537,1.721],\"textposition\":\"outside\",\"x\":[1.537,1.721],\"xaxis\":\"x\",\"y\":[\"RIC\",\"NOR\"],\"yaxis\":\"y\",\"type\":\"bar\",\"texttemplate\":\"%{text:.2f}\"},{\"alignmentgroup\":\"True\",\"hovertemplate\":\"Team=Alpine\\u003cbr\\u003eLapTimeDeltaSeconds=%{text}\\u003cbr\\u003eDriver=%{y}\\u003cextra\\u003e\\u003c\\u002fextra\\u003e\",\"legendgroup\":\"Alpine\",\"marker\":{\"color\":\"#FF6692\",\"pattern\":{\"shape\":\"\"}},\"name\":\"Alpine\",\"offsetgroup\":\"Alpine\",\"orientation\":\"h\",\"showlegend\":true,\"text\":[1.888,2.293],\"textposition\":\"outside\",\"x\":[1.888,2.293],\"xaxis\":\"x\",\"y\":[\"OCO\",\"ALO\"],\"yaxis\":\"y\",\"type\":\"bar\",\"texttemplate\":\"%{text:.2f}\"},{\"alignmentgroup\":\"True\",\"hovertemplate\":\"Team=AlphaTauri\\u003cbr\\u003eLapTimeDeltaSeconds=%{text}\\u003cbr\\u003eDriver=%{y}\\u003cextra\\u003e\\u003c\\u002fextra\\u003e\",\"legendgroup\":\"AlphaTauri\",\"marker\":{\"color\":\"#B6E880\",\"pattern\":{\"shape\":\"\"}},\"name\":\"AlphaTauri\",\"offsetgroup\":\"AlphaTauri\",\"orientation\":\"h\",\"showlegend\":true,\"text\":[1.889,1.969],\"textposition\":\"outside\",\"x\":[1.889,1.969],\"xaxis\":\"x\",\"y\":[\"TSU\",\"GAS\"],\"yaxis\":\"y\",\"type\":\"bar\",\"texttemplate\":\"%{text:.2f}\"},{\"alignmentgroup\":\"True\",\"hovertemplate\":\"Team=Aston Martin\\u003cbr\\u003eLapTimeDeltaSeconds=%{text}\\u003cbr\\u003eDriver=%{y}\\u003cextra\\u003e\\u003c\\u002fextra\\u003e\",\"legendgroup\":\"Aston Martin\",\"marker\":{\"color\":\"#FF97FF\",\"pattern\":{\"shape\":\"\"}},\"name\":\"Aston Martin\",\"offsetgroup\":\"Aston Martin\",\"orientation\":\"h\",\"showlegend\":true,\"text\":[2.204,2.668],\"textposition\":\"outside\",\"x\":[2.204,2.668],\"xaxis\":\"x\",\"y\":[\"VET\",\"STR\"],\"yaxis\":\"y\",\"type\":\"bar\",\"texttemplate\":\"%{text:.2f}\"},{\"alignmentgroup\":\"True\",\"hovertemplate\":\"Team=Williams\\u003cbr\\u003eLapTimeDeltaSeconds=%{text}\\u003cbr\\u003eDriver=%{y}\\u003cextra\\u003e\\u003c\\u002fextra\\u003e\",\"legendgroup\":\"Williams\",\"marker\":{\"color\":\"#FECB52\",\"pattern\":{\"shape\":\"\"}},\"name\":\"Williams\",\"offsetgroup\":\"Williams\",\"orientation\":\"h\",\"showlegend\":true,\"text\":[2.895,3.165],\"textposition\":\"outside\",\"x\":[2.895,3.165],\"xaxis\":\"x\",\"y\":[\"ALB\",\"LAT\"],\"yaxis\":\"y\",\"type\":\"bar\",\"texttemplate\":\"%{text:.2f}\"}],                        {\"template\":{\"data\":{\"histogram2dcontour\":[{\"type\":\"histogram2dcontour\",\"colorbar\":{\"outlinewidth\":0,\"ticks\":\"\"},\"colorscale\":[[0.0,\"#0d0887\"],[0.1111111111111111,\"#46039f\"],[0.2222222222222222,\"#7201a8\"],[0.3333333333333333,\"#9c179e\"],[0.4444444444444444,\"#bd3786\"],[0.5555555555555556,\"#d8576b\"],[0.6666666666666666,\"#ed7953\"],[0.7777777777777778,\"#fb9f3a\"],[0.8888888888888888,\"#fdca26\"],[1.0,\"#f0f921\"]]}],\"choropleth\":[{\"type\":\"choropleth\",\"colorbar\":{\"outlinewidth\":0,\"ticks\":\"\"}}],\"histogram2d\":[{\"type\":\"histogram2d\",\"colorbar\":{\"outlinewidth\":0,\"ticks\":\"\"},\"colorscale\":[[0.0,\"#0d0887\"],[0.1111111111111111,\"#46039f\"],[0.2222222222222222,\"#7201a8\"],[0.3333333333333333,\"#9c179e\"],[0.4444444444444444,\"#bd3786\"],[0.5555555555555556,\"#d8576b\"],[0.6666666666666666,\"#ed7953\"],[0.7777777777777778,\"#fb9f3a\"],[0.8888888888888888,\"#fdca26\"],[1.0,\"#f0f921\"]]}],\"heatmap\":[{\"type\":\"heatmap\",\"colorbar\":{\"outlinewidth\":0,\"ticks\":\"\"},\"colorscale\":[[0.0,\"#0d0887\"],[0.1111111111111111,\"#46039f\"],[0.2222222222222222,\"#7201a8\"],[0.3333333333333333,\"#9c179e\"],[0.4444444444444444,\"#bd3786\"],[0.5555555555555556,\"#d8576b\"],[0.6666666666666666,\"#ed7953\"],[0.7777777777777778,\"#fb9f3a\"],[0.8888888888888888,\"#fdca26\"],[1.0,\"#f0f921\"]]}],\"heatmapgl\":[{\"type\":\"heatmapgl\",\"colorbar\":{\"outlinewidth\":0,\"ticks\":\"\"},\"colorscale\":[[0.0,\"#0d0887\"],[0.1111111111111111,\"#46039f\"],[0.2222222222222222,\"#7201a8\"],[0.3333333333333333,\"#9c179e\"],[0.4444444444444444,\"#bd3786\"],[0.5555555555555556,\"#d8576b\"],[0.6666666666666666,\"#ed7953\"],[0.7777777777777778,\"#fb9f3a\"],[0.8888888888888888,\"#fdca26\"],[1.0,\"#f0f921\"]]}],\"contourcarpet\":[{\"type\":\"contourcarpet\",\"colorbar\":{\"outlinewidth\":0,\"ticks\":\"\"}}],\"contour\":[{\"type\":\"contour\",\"colorbar\":{\"outlinewidth\":0,\"ticks\":\"\"},\"colorscale\":[[0.0,\"#0d0887\"],[0.1111111111111111,\"#46039f\"],[0.2222222222222222,\"#7201a8\"],[0.3333333333333333,\"#9c179e\"],[0.4444444444444444,\"#bd3786\"],[0.5555555555555556,\"#d8576b\"],[0.6666666666666666,\"#ed7953\"],[0.7777777777777778,\"#fb9f3a\"],[0.8888888888888888,\"#fdca26\"],[1.0,\"#f0f921\"]]}],\"surface\":[{\"type\":\"surface\",\"colorbar\":{\"outlinewidth\":0,\"ticks\":\"\"},\"colorscale\":[[0.0,\"#0d0887\"],[0.1111111111111111,\"#46039f\"],[0.2222222222222222,\"#7201a8\"],[0.3333333333333333,\"#9c179e\"],[0.4444444444444444,\"#bd3786\"],[0.5555555555555556,\"#d8576b\"],[0.6666666666666666,\"#ed7953\"],[0.7777777777777778,\"#fb9f3a\"],[0.8888888888888888,\"#fdca26\"],[1.0,\"#f0f921\"]]}],\"mesh3d\":[{\"type\":\"mesh3d\",\"colorbar\":{\"outlinewidth\":0,\"ticks\":\"\"}}],\"scatter\":[{\"fillpattern\":{\"fillmode\":\"overlay\",\"size\":10,\"solidity\":0.2},\"type\":\"scatter\"}],\"parcoords\":[{\"type\":\"parcoords\",\"line\":{\"colorbar\":{\"outlinewidth\":0,\"ticks\":\"\"}}}],\"scatterpolargl\":[{\"type\":\"scatterpolargl\",\"marker\":{\"colorbar\":{\"outlinewidth\":0,\"ticks\":\"\"}}}],\"bar\":[{\"error_x\":{\"color\":\"#2a3f5f\"},\"error_y\":{\"color\":\"#2a3f5f\"},\"marker\":{\"line\":{\"color\":\"#E5ECF6\",\"width\":0.5},\"pattern\":{\"fillmode\":\"overlay\",\"size\":10,\"solidity\":0.2}},\"type\":\"bar\"}],\"scattergeo\":[{\"type\":\"scattergeo\",\"marker\":{\"colorbar\":{\"outlinewidth\":0,\"ticks\":\"\"}}}],\"scatterpolar\":[{\"type\":\"scatterpolar\",\"marker\":{\"colorbar\":{\"outlinewidth\":0,\"ticks\":\"\"}}}],\"histogram\":[{\"marker\":{\"pattern\":{\"fillmode\":\"overlay\",\"size\":10,\"solidity\":0.2}},\"type\":\"histogram\"}],\"scattergl\":[{\"type\":\"scattergl\",\"marker\":{\"colorbar\":{\"outlinewidth\":0,\"ticks\":\"\"}}}],\"scatter3d\":[{\"type\":\"scatter3d\",\"line\":{\"colorbar\":{\"outlinewidth\":0,\"ticks\":\"\"}},\"marker\":{\"colorbar\":{\"outlinewidth\":0,\"ticks\":\"\"}}}],\"scattermapbox\":[{\"type\":\"scattermapbox\",\"marker\":{\"colorbar\":{\"outlinewidth\":0,\"ticks\":\"\"}}}],\"scatterternary\":[{\"type\":\"scatterternary\",\"marker\":{\"colorbar\":{\"outlinewidth\":0,\"ticks\":\"\"}}}],\"scattercarpet\":[{\"type\":\"scattercarpet\",\"marker\":{\"colorbar\":{\"outlinewidth\":0,\"ticks\":\"\"}}}],\"carpet\":[{\"aaxis\":{\"endlinecolor\":\"#2a3f5f\",\"gridcolor\":\"white\",\"linecolor\":\"white\",\"minorgridcolor\":\"white\",\"startlinecolor\":\"#2a3f5f\"},\"baxis\":{\"endlinecolor\":\"#2a3f5f\",\"gridcolor\":\"white\",\"linecolor\":\"white\",\"minorgridcolor\":\"white\",\"startlinecolor\":\"#2a3f5f\"},\"type\":\"carpet\"}],\"table\":[{\"cells\":{\"fill\":{\"color\":\"#EBF0F8\"},\"line\":{\"color\":\"white\"}},\"header\":{\"fill\":{\"color\":\"#C8D4E3\"},\"line\":{\"color\":\"white\"}},\"type\":\"table\"}],\"barpolar\":[{\"marker\":{\"line\":{\"color\":\"#E5ECF6\",\"width\":0.5},\"pattern\":{\"fillmode\":\"overlay\",\"size\":10,\"solidity\":0.2}},\"type\":\"barpolar\"}],\"pie\":[{\"automargin\":true,\"type\":\"pie\"}]},\"layout\":{\"autotypenumbers\":\"strict\",\"colorway\":[\"#636efa\",\"#EF553B\",\"#00cc96\",\"#ab63fa\",\"#FFA15A\",\"#19d3f3\",\"#FF6692\",\"#B6E880\",\"#FF97FF\",\"#FECB52\"],\"font\":{\"color\":\"#2a3f5f\"},\"hovermode\":\"closest\",\"hoverlabel\":{\"align\":\"left\"},\"paper_bgcolor\":\"white\",\"plot_bgcolor\":\"#E5ECF6\",\"polar\":{\"bgcolor\":\"#E5ECF6\",\"angularaxis\":{\"gridcolor\":\"white\",\"linecolor\":\"white\",\"ticks\":\"\"},\"radialaxis\":{\"gridcolor\":\"white\",\"linecolor\":\"white\",\"ticks\":\"\"}},\"ternary\":{\"bgcolor\":\"#E5ECF6\",\"aaxis\":{\"gridcolor\":\"white\",\"linecolor\":\"white\",\"ticks\":\"\"},\"baxis\":{\"gridcolor\":\"white\",\"linecolor\":\"white\",\"ticks\":\"\"},\"caxis\":{\"gridcolor\":\"white\",\"linecolor\":\"white\",\"ticks\":\"\"}},\"coloraxis\":{\"colorbar\":{\"outlinewidth\":0,\"ticks\":\"\"}},\"colorscale\":{\"sequential\":[[0.0,\"#0d0887\"],[0.1111111111111111,\"#46039f\"],[0.2222222222222222,\"#7201a8\"],[0.3333333333333333,\"#9c179e\"],[0.4444444444444444,\"#bd3786\"],[0.5555555555555556,\"#d8576b\"],[0.6666666666666666,\"#ed7953\"],[0.7777777777777778,\"#fb9f3a\"],[0.8888888888888888,\"#fdca26\"],[1.0,\"#f0f921\"]],\"sequentialminus\":[[0.0,\"#0d0887\"],[0.1111111111111111,\"#46039f\"],[0.2222222222222222,\"#7201a8\"],[0.3333333333333333,\"#9c179e\"],[0.4444444444444444,\"#bd3786\"],[0.5555555555555556,\"#d8576b\"],[0.6666666666666666,\"#ed7953\"],[0.7777777777777778,\"#fb9f3a\"],[0.8888888888888888,\"#fdca26\"],[1.0,\"#f0f921\"]],\"diverging\":[[0,\"#8e0152\"],[0.1,\"#c51b7d\"],[0.2,\"#de77ae\"],[0.3,\"#f1b6da\"],[0.4,\"#fde0ef\"],[0.5,\"#f7f7f7\"],[0.6,\"#e6f5d0\"],[0.7,\"#b8e186\"],[0.8,\"#7fbc41\"],[0.9,\"#4d9221\"],[1,\"#276419\"]]},\"xaxis\":{\"gridcolor\":\"white\",\"linecolor\":\"white\",\"ticks\":\"\",\"title\":{\"standoff\":15},\"zerolinecolor\":\"white\",\"automargin\":true,\"zerolinewidth\":2},\"yaxis\":{\"gridcolor\":\"white\",\"linecolor\":\"white\",\"ticks\":\"\",\"title\":{\"standoff\":15},\"zerolinecolor\":\"white\",\"automargin\":true,\"zerolinewidth\":2},\"scene\":{\"xaxis\":{\"backgroundcolor\":\"#E5ECF6\",\"gridcolor\":\"white\",\"linecolor\":\"white\",\"showbackground\":true,\"ticks\":\"\",\"zerolinecolor\":\"white\",\"gridwidth\":2},\"yaxis\":{\"backgroundcolor\":\"#E5ECF6\",\"gridcolor\":\"white\",\"linecolor\":\"white\",\"showbackground\":true,\"ticks\":\"\",\"zerolinecolor\":\"white\",\"gridwidth\":2},\"zaxis\":{\"backgroundcolor\":\"#E5ECF6\",\"gridcolor\":\"white\",\"linecolor\":\"white\",\"showbackground\":true,\"ticks\":\"\",\"zerolinecolor\":\"white\",\"gridwidth\":2}},\"shapedefaults\":{\"line\":{\"color\":\"#2a3f5f\"}},\"annotationdefaults\":{\"arrowcolor\":\"#2a3f5f\",\"arrowhead\":0,\"arrowwidth\":1},\"geo\":{\"bgcolor\":\"white\",\"landcolor\":\"#E5ECF6\",\"subunitcolor\":\"white\",\"showland\":true,\"showlakes\":true,\"lakecolor\":\"white\"},\"title\":{\"x\":0.05},\"mapbox\":{\"style\":\"light\"}}},\"xaxis\":{\"anchor\":\"y\",\"domain\":[0.0,1.0],\"title\":{\"text\":\"LapTimeDeltaSeconds\"}},\"yaxis\":{\"anchor\":\"x\",\"domain\":[0.0,1.0],\"title\":{\"text\":\"Driver\"},\"categoryorder\":\"total descending\"},\"legend\":{\"title\":{\"text\":\"Team\"},\"tracegroupgap\":0},\"title\":{\"text\":\"Spanish Grand Prix 2022 Qualifying\\nFastest Lap: 01:18.750 (LEC)\"},\"barmode\":\"relative\",\"annotations\":[{\"font\":{\"color\":\"black\"},\"showarrow\":false,\"text\":\"Pole position : ('LEC', 'Ferrari')\",\"x\":0.6,\"y\":\"LEC\"}]},                        {\"responsive\": true}                    ).then(function(){\n                            \nvar gd = document.getElementById('d50fa774-cc4d-44c9-b53f-423489cc2599');\nvar x = new MutationObserver(function (mutations, observer) {{\n        var display = window.getComputedStyle(gd).display;\n        if (!display || display === 'none') {{\n            console.log([gd, 'removed!']);\n            Plotly.purge(gd);\n            observer.disconnect();\n        }}\n}});\n\n// Listen for the removal of the full notebook cells\nvar notebookContainer = gd.closest('#notebook-container');\nif (notebookContainer) {{\n    x.observe(notebookContainer, {childList: true});\n}}\n\n// Listen for the clearing of the current output cell\nvar outputEl = gd.closest('.output');\nif (outputEl) {{\n    x.observe(outputEl, {childList: true});\n}}\n\n                        })                };                });            </script>        </div>"
     },
     "metadata": {},
     "output_type": "display_data"
    }
   ],
   "source": [
    "import pandas as pd\n",
    "from timple.timedelta import strftimedelta\n",
    "import plotly.express as px\n",
    "\n",
    "import fastf1\n",
    "import fastf1.plotting\n",
    "from fastf1.core import Laps\n",
    "\n",
    "# Setting up fastf1\n",
    "fastf1.plotting.setup_mpl(mpl_timedelta_support=True)\n",
    "\n",
    "# Loading the session data\n",
    "session = fastf1.get_session(2022, 'Spanish Grand Prix', 'Q')\n",
    "session.load()\n",
    "\n",
    "# Preparing the data\n",
    "drivers = pd.unique(session.laps['Driver'])\n",
    "list_fastest_laps = [session.laps.pick_driver(drv).pick_fastest() for drv in drivers]\n",
    "fastest_laps = Laps(list_fastest_laps).sort_values(by='LapTime').reset_index(drop=True)\n",
    "pole_lap = fastest_laps.pick_fastest()\n",
    "fastest_laps['LapTimeDelta'] = fastest_laps['LapTime'] - pole_lap['LapTime']\n",
    "# Converting LapTimeDelta to a format suitable for plotting\n",
    "fastest_laps['LapTimeDeltaSeconds'] = fastest_laps['LapTimeDelta'].dt.total_seconds()\n",
    "\n",
    "\n",
    "# Plotting using Plotly Express\n",
    "fig = px.bar(fastest_laps, y='Driver', x='LapTimeDeltaSeconds', orientation='h', \n",
    "             color='Team', text='LapTimeDeltaSeconds',\n",
    "             title=f\"{session.event['EventName']} {session.event.year} Qualifying\\n\"\n",
    "                   f\"Fastest Lap: {strftimedelta(pole_lap['LapTime'], '%m:%s.%ms')} ({pole_lap['Driver']})\")\n",
    "\n",
    "fig.update_layout(yaxis={'categoryorder':'total descending'})\n",
    "fig.update_traces(texttemplate='%{text:.2f}', textposition='outside')\n",
    "\n",
    "\n",
    "\n",
    "# Ajout d'une annotation pour le pilote en pole position\n",
    "fig.add_annotation(x=0.6, y=pole_lap['Driver'],\n",
    "                   text=f\"Pole position : {pole_lap['Driver'],pole_lap['Team']}\",\n",
    "                   showarrow=False, font=dict(color='black'))\n",
    "\n",
    "fig.show()\n"
   ],
   "metadata": {
    "collapsed": false,
    "ExecuteTime": {
     "end_time": "2023-11-21T16:08:52.744111900Z",
     "start_time": "2023-11-21T16:08:48.649963100Z"
    }
   },
   "id": "aa1dfde5754df568"
  },
  {
   "cell_type": "code",
   "execution_count": 4,
   "outputs": [
    {
     "name": "stderr",
     "output_type": "stream",
     "text": [
      "core           INFO \tLoading data for Bahrain Grand Prix - Race [v3.1.3]\n",
      "req            INFO \tUsing cached data for session_info\n",
      "req            INFO \tUsing cached data for driver_info\n",
      "req            INFO \tUsing cached data for session_status_data\n",
      "req            INFO \tUsing cached data for lap_count\n",
      "req            INFO \tUsing cached data for track_status_data\n",
      "req            INFO \tUsing cached data for _extended_timing_data\n",
      "req            INFO \tUsing cached data for timing_app_data\n",
      "core           INFO \tProcessing timing data...\n",
      "req            INFO \tUsing cached data for race_control_messages\n",
      "core           INFO \tFinished loading data for 20 drivers: ['1', '11', '14', '55', '44', '18', '63', '77', '10', '23', '22', '2', '20', '21', '27', '24', '4', '31', '16', '81']\n"
     ]
    },
    {
     "data": {
      "application/vnd.plotly.v1+json": {
       "data": [
        {
         "hovertemplate": "Driver=VER<br>Lap=%{x}<br>Position=%{y}<extra></extra>",
         "legendgroup": "VER",
         "line": {
          "color": "#0600ef",
          "dash": "solid"
         },
         "marker": {
          "symbol": "circle"
         },
         "mode": "lines+markers",
         "name": "VER",
         "showlegend": true,
         "x": [
          1.0,
          2.0,
          3.0,
          4.0,
          5.0,
          6.0,
          7.0,
          8.0,
          9.0,
          10.0,
          11.0,
          12.0,
          13.0,
          14.0,
          15.0,
          16.0,
          17.0,
          18.0,
          19.0,
          20.0,
          21.0,
          22.0,
          23.0,
          24.0,
          25.0,
          26.0,
          27.0,
          28.0,
          29.0,
          30.0,
          31.0,
          32.0,
          33.0,
          34.0,
          35.0,
          36.0,
          37.0,
          38.0,
          39.0,
          40.0,
          41.0,
          42.0,
          43.0,
          44.0,
          45.0,
          46.0,
          47.0,
          48.0,
          49.0,
          50.0,
          51.0,
          52.0,
          53.0,
          54.0,
          55.0,
          56.0,
          57.0
         ],
         "xaxis": "x",
         "y": [
          1.0,
          1.0,
          1.0,
          1.0,
          1.0,
          1.0,
          1.0,
          1.0,
          1.0,
          1.0,
          1.0,
          1.0,
          1.0,
          1.0,
          2.0,
          2.0,
          2.0,
          1.0,
          1.0,
          1.0,
          1.0,
          1.0,
          1.0,
          1.0,
          1.0,
          1.0,
          1.0,
          1.0,
          1.0,
          1.0,
          1.0,
          1.0,
          1.0,
          1.0,
          1.0,
          1.0,
          1.0,
          1.0,
          1.0,
          1.0,
          1.0,
          1.0,
          1.0,
          1.0,
          1.0,
          1.0,
          1.0,
          1.0,
          1.0,
          1.0,
          1.0,
          1.0,
          1.0,
          1.0,
          1.0,
          1.0,
          1.0
         ],
         "yaxis": "y",
         "type": "scattergl"
        },
        {
         "hovertemplate": "Driver=PER<br>Lap=%{x}<br>Position=%{y}<extra></extra>",
         "legendgroup": "PER",
         "line": {
          "color": "#716de2",
          "dash": "solid"
         },
         "marker": {
          "symbol": "circle"
         },
         "mode": "lines+markers",
         "name": "PER",
         "showlegend": true,
         "x": [
          1.0,
          2.0,
          3.0,
          4.0,
          5.0,
          6.0,
          7.0,
          8.0,
          9.0,
          10.0,
          11.0,
          12.0,
          13.0,
          14.0,
          15.0,
          16.0,
          17.0,
          18.0,
          19.0,
          20.0,
          21.0,
          22.0,
          23.0,
          24.0,
          25.0,
          26.0,
          27.0,
          28.0,
          29.0,
          30.0,
          31.0,
          32.0,
          33.0,
          34.0,
          35.0,
          36.0,
          37.0,
          38.0,
          39.0,
          40.0,
          41.0,
          42.0,
          43.0,
          44.0,
          45.0,
          46.0,
          47.0,
          48.0,
          49.0,
          50.0,
          51.0,
          52.0,
          53.0,
          54.0,
          55.0,
          56.0,
          57.0
         ],
         "xaxis": "x",
         "y": [
          3.0,
          3.0,
          3.0,
          3.0,
          3.0,
          3.0,
          3.0,
          3.0,
          3.0,
          3.0,
          3.0,
          3.0,
          2.0,
          2.0,
          1.0,
          1.0,
          1.0,
          3.0,
          3.0,
          3.0,
          3.0,
          3.0,
          3.0,
          3.0,
          3.0,
          2.0,
          2.0,
          2.0,
          2.0,
          2.0,
          2.0,
          2.0,
          2.0,
          2.0,
          2.0,
          2.0,
          2.0,
          2.0,
          2.0,
          2.0,
          2.0,
          2.0,
          2.0,
          2.0,
          2.0,
          2.0,
          2.0,
          2.0,
          2.0,
          2.0,
          2.0,
          2.0,
          2.0,
          2.0,
          2.0,
          2.0,
          2.0
         ],
         "yaxis": "y",
         "type": "scattergl"
        },
        {
         "hovertemplate": "Driver=ALO<br>Lap=%{x}<br>Position=%{y}<extra></extra>",
         "legendgroup": "ALO",
         "line": {
          "color": "#006f62",
          "dash": "solid"
         },
         "marker": {
          "symbol": "circle"
         },
         "mode": "lines+markers",
         "name": "ALO",
         "showlegend": true,
         "x": [
          1.0,
          2.0,
          3.0,
          4.0,
          5.0,
          6.0,
          7.0,
          8.0,
          9.0,
          10.0,
          11.0,
          12.0,
          13.0,
          14.0,
          15.0,
          16.0,
          17.0,
          18.0,
          19.0,
          20.0,
          21.0,
          22.0,
          23.0,
          24.0,
          25.0,
          26.0,
          27.0,
          28.0,
          29.0,
          30.0,
          31.0,
          32.0,
          33.0,
          34.0,
          35.0,
          36.0,
          37.0,
          38.0,
          39.0,
          40.0,
          41.0,
          42.0,
          43.0,
          44.0,
          45.0,
          46.0,
          47.0,
          48.0,
          49.0,
          50.0,
          51.0,
          52.0,
          53.0,
          54.0,
          55.0,
          56.0,
          57.0
         ],
         "xaxis": "x",
         "y": [
          7.0,
          7.0,
          7.0,
          7.0,
          7.0,
          7.0,
          7.0,
          7.0,
          7.0,
          7.0,
          7.0,
          6.0,
          5.0,
          4.0,
          8.0,
          7.0,
          6.0,
          6.0,
          6.0,
          6.0,
          6.0,
          6.0,
          6.0,
          6.0,
          6.0,
          6.0,
          6.0,
          6.0,
          6.0,
          5.0,
          5.0,
          4.0,
          4.0,
          3.0,
          6.0,
          6.0,
          6.0,
          5.0,
          5.0,
          4.0,
          4.0,
          4.0,
          4.0,
          4.0,
          3.0,
          3.0,
          3.0,
          3.0,
          3.0,
          3.0,
          3.0,
          3.0,
          3.0,
          3.0,
          3.0,
          3.0,
          3.0
         ],
         "yaxis": "y",
         "type": "scattergl"
        },
        {
         "hovertemplate": "Driver=SAI<br>Lap=%{x}<br>Position=%{y}<extra></extra>",
         "legendgroup": "SAI",
         "line": {
          "color": "#ff8181",
          "dash": "solid"
         },
         "marker": {
          "symbol": "circle"
         },
         "mode": "lines+markers",
         "name": "SAI",
         "showlegend": true,
         "x": [
          1.0,
          2.0,
          3.0,
          4.0,
          5.0,
          6.0,
          7.0,
          8.0,
          9.0,
          10.0,
          11.0,
          12.0,
          13.0,
          14.0,
          15.0,
          16.0,
          17.0,
          18.0,
          19.0,
          20.0,
          21.0,
          22.0,
          23.0,
          24.0,
          25.0,
          26.0,
          27.0,
          28.0,
          29.0,
          30.0,
          31.0,
          32.0,
          33.0,
          34.0,
          35.0,
          36.0,
          37.0,
          38.0,
          39.0,
          40.0,
          41.0,
          42.0,
          43.0,
          44.0,
          45.0,
          46.0,
          47.0,
          48.0,
          49.0,
          50.0,
          51.0,
          52.0,
          53.0,
          54.0,
          55.0,
          56.0,
          57.0
         ],
         "xaxis": "x",
         "y": [
          4.0,
          4.0,
          4.0,
          4.0,
          4.0,
          4.0,
          4.0,
          4.0,
          4.0,
          4.0,
          4.0,
          4.0,
          4.0,
          6.0,
          5.0,
          4.0,
          4.0,
          4.0,
          4.0,
          4.0,
          4.0,
          4.0,
          4.0,
          4.0,
          4.0,
          4.0,
          4.0,
          4.0,
          4.0,
          4.0,
          4.0,
          5.0,
          5.0,
          5.0,
          4.0,
          4.0,
          4.0,
          4.0,
          4.0,
          3.0,
          3.0,
          3.0,
          3.0,
          3.0,
          4.0,
          4.0,
          4.0,
          4.0,
          4.0,
          4.0,
          4.0,
          4.0,
          4.0,
          4.0,
          4.0,
          4.0,
          4.0
         ],
         "yaxis": "y",
         "type": "scattergl"
        },
        {
         "hovertemplate": "Driver=HAM<br>Lap=%{x}<br>Position=%{y}<extra></extra>",
         "legendgroup": "HAM",
         "line": {
          "color": "#00d2be",
          "dash": "solid"
         },
         "marker": {
          "symbol": "circle"
         },
         "mode": "lines+markers",
         "name": "HAM",
         "showlegend": true,
         "x": [
          1.0,
          2.0,
          3.0,
          4.0,
          5.0,
          6.0,
          7.0,
          8.0,
          9.0,
          10.0,
          11.0,
          12.0,
          13.0,
          14.0,
          15.0,
          16.0,
          17.0,
          18.0,
          19.0,
          20.0,
          21.0,
          22.0,
          23.0,
          24.0,
          25.0,
          26.0,
          27.0,
          28.0,
          29.0,
          30.0,
          31.0,
          32.0,
          33.0,
          34.0,
          35.0,
          36.0,
          37.0,
          38.0,
          39.0,
          40.0,
          41.0,
          42.0,
          43.0,
          44.0,
          45.0,
          46.0,
          47.0,
          48.0,
          49.0,
          50.0,
          51.0,
          52.0,
          53.0,
          54.0,
          55.0,
          56.0,
          57.0
         ],
         "xaxis": "x",
         "y": [
          5.0,
          5.0,
          5.0,
          5.0,
          5.0,
          5.0,
          5.0,
          5.0,
          5.0,
          5.0,
          5.0,
          7.0,
          8.0,
          7.0,
          6.0,
          5.0,
          5.0,
          5.0,
          5.0,
          5.0,
          5.0,
          5.0,
          5.0,
          5.0,
          5.0,
          5.0,
          5.0,
          5.0,
          5.0,
          6.0,
          7.0,
          6.0,
          6.0,
          6.0,
          5.0,
          5.0,
          5.0,
          6.0,
          6.0,
          5.0,
          5.0,
          5.0,
          5.0,
          5.0,
          5.0,
          5.0,
          5.0,
          5.0,
          5.0,
          5.0,
          5.0,
          5.0,
          5.0,
          5.0,
          5.0,
          5.0,
          5.0
         ],
         "yaxis": "y",
         "type": "scattergl"
        },
        {
         "hovertemplate": "Driver=STR<br>Lap=%{x}<br>Position=%{y}<extra></extra>",
         "legendgroup": "STR",
         "line": {
          "color": "#25a617",
          "dash": "solid"
         },
         "marker": {
          "symbol": "circle"
         },
         "mode": "lines+markers",
         "name": "STR",
         "showlegend": true,
         "x": [
          1.0,
          2.0,
          3.0,
          4.0,
          5.0,
          6.0,
          7.0,
          8.0,
          9.0,
          10.0,
          11.0,
          12.0,
          13.0,
          14.0,
          15.0,
          16.0,
          17.0,
          18.0,
          19.0,
          20.0,
          21.0,
          22.0,
          23.0,
          24.0,
          25.0,
          26.0,
          27.0,
          28.0,
          29.0,
          30.0,
          31.0,
          32.0,
          33.0,
          34.0,
          35.0,
          36.0,
          37.0,
          38.0,
          39.0,
          40.0,
          41.0,
          42.0,
          43.0,
          44.0,
          45.0,
          46.0,
          47.0,
          48.0,
          49.0,
          50.0,
          51.0,
          52.0,
          53.0,
          54.0,
          55.0,
          56.0,
          57.0
         ],
         "xaxis": "x",
         "y": [
          9.0,
          9.0,
          9.0,
          9.0,
          8.0,
          8.0,
          8.0,
          8.0,
          8.0,
          8.0,
          8.0,
          8.0,
          6.0,
          3.0,
          4.0,
          9.0,
          9.0,
          9.0,
          9.0,
          8.0,
          8.0,
          8.0,
          8.0,
          8.0,
          8.0,
          8.0,
          8.0,
          8.0,
          8.0,
          8.0,
          8.0,
          7.0,
          7.0,
          7.0,
          7.0,
          7.0,
          7.0,
          7.0,
          7.0,
          6.0,
          6.0,
          6.0,
          6.0,
          6.0,
          6.0,
          6.0,
          6.0,
          6.0,
          6.0,
          6.0,
          6.0,
          6.0,
          6.0,
          6.0,
          6.0,
          6.0,
          6.0
         ],
         "yaxis": "y",
         "type": "scattergl"
        },
        {
         "hovertemplate": "Driver=RUS<br>Lap=%{x}<br>Position=%{y}<extra></extra>",
         "legendgroup": "RUS",
         "line": {
          "color": "#24ffff",
          "dash": "solid"
         },
         "marker": {
          "symbol": "circle"
         },
         "mode": "lines+markers",
         "name": "RUS",
         "showlegend": true,
         "x": [
          1.0,
          2.0,
          3.0,
          4.0,
          5.0,
          6.0,
          7.0,
          8.0,
          9.0,
          10.0,
          11.0,
          12.0,
          13.0,
          14.0,
          15.0,
          16.0,
          17.0,
          18.0,
          19.0,
          20.0,
          21.0,
          22.0,
          23.0,
          24.0,
          25.0,
          26.0,
          27.0,
          28.0,
          29.0,
          30.0,
          31.0,
          32.0,
          33.0,
          34.0,
          35.0,
          36.0,
          37.0,
          38.0,
          39.0,
          40.0,
          41.0,
          42.0,
          43.0,
          44.0,
          45.0,
          46.0,
          47.0,
          48.0,
          49.0,
          50.0,
          51.0,
          52.0,
          53.0,
          54.0,
          55.0,
          56.0,
          57.0
         ],
         "xaxis": "x",
         "y": [
          6.0,
          6.0,
          6.0,
          6.0,
          6.0,
          6.0,
          6.0,
          6.0,
          6.0,
          6.0,
          6.0,
          5.0,
          7.0,
          10.0,
          9.0,
          8.0,
          8.0,
          7.0,
          7.0,
          7.0,
          7.0,
          7.0,
          7.0,
          7.0,
          7.0,
          7.0,
          7.0,
          7.0,
          7.0,
          7.0,
          6.0,
          8.0,
          8.0,
          8.0,
          8.0,
          8.0,
          8.0,
          8.0,
          8.0,
          7.0,
          7.0,
          7.0,
          7.0,
          7.0,
          7.0,
          7.0,
          7.0,
          7.0,
          7.0,
          7.0,
          7.0,
          7.0,
          7.0,
          7.0,
          7.0,
          7.0,
          7.0
         ],
         "yaxis": "y",
         "type": "scattergl"
        },
        {
         "hovertemplate": "Driver=BOT<br>Lap=%{x}<br>Position=%{y}<extra></extra>",
         "legendgroup": "BOT",
         "line": {
          "color": "#900000",
          "dash": "solid"
         },
         "marker": {
          "symbol": "circle"
         },
         "mode": "lines+markers",
         "name": "BOT",
         "showlegend": true,
         "x": [
          1.0,
          2.0,
          3.0,
          4.0,
          5.0,
          6.0,
          7.0,
          8.0,
          9.0,
          10.0,
          11.0,
          12.0,
          13.0,
          14.0,
          15.0,
          16.0,
          17.0,
          18.0,
          19.0,
          20.0,
          21.0,
          22.0,
          23.0,
          24.0,
          25.0,
          26.0,
          27.0,
          28.0,
          29.0,
          30.0,
          31.0,
          32.0,
          33.0,
          34.0,
          35.0,
          36.0,
          37.0,
          38.0,
          39.0,
          40.0,
          41.0,
          42.0,
          43.0,
          44.0,
          45.0,
          46.0,
          47.0,
          48.0,
          49.0,
          50.0,
          51.0,
          52.0,
          53.0,
          54.0,
          55.0,
          56.0,
          57.0
         ],
         "xaxis": "x",
         "y": [
          8.0,
          8.0,
          8.0,
          8.0,
          9.0,
          9.0,
          9.0,
          9.0,
          9.0,
          9.0,
          9.0,
          14.0,
          10.0,
          8.0,
          7.0,
          6.0,
          7.0,
          8.0,
          8.0,
          9.0,
          9.0,
          9.0,
          9.0,
          9.0,
          9.0,
          9.0,
          9.0,
          9.0,
          9.0,
          11.0,
          10.0,
          9.0,
          9.0,
          9.0,
          9.0,
          9.0,
          9.0,
          9.0,
          9.0,
          8.0,
          8.0,
          8.0,
          8.0,
          8.0,
          8.0,
          8.0,
          8.0,
          8.0,
          8.0,
          8.0,
          8.0,
          8.0,
          8.0,
          8.0,
          8.0,
          8.0,
          8.0
         ],
         "yaxis": "y",
         "type": "scattergl"
        },
        {
         "hovertemplate": "Driver=GAS<br>Lap=%{x}<br>Position=%{y}<extra></extra>",
         "legendgroup": "GAS",
         "line": {
          "color": "#0090ff",
          "dash": "solid"
         },
         "marker": {
          "symbol": "circle"
         },
         "mode": "lines+markers",
         "name": "GAS",
         "showlegend": true,
         "x": [
          1.0,
          2.0,
          3.0,
          4.0,
          5.0,
          6.0,
          7.0,
          8.0,
          9.0,
          10.0,
          11.0,
          12.0,
          13.0,
          14.0,
          15.0,
          16.0,
          17.0,
          18.0,
          19.0,
          20.0,
          21.0,
          22.0,
          23.0,
          24.0,
          25.0,
          26.0,
          27.0,
          28.0,
          29.0,
          30.0,
          31.0,
          32.0,
          33.0,
          34.0,
          35.0,
          36.0,
          37.0,
          38.0,
          39.0,
          40.0,
          41.0,
          42.0,
          43.0,
          44.0,
          45.0,
          46.0,
          47.0,
          48.0,
          49.0,
          50.0,
          51.0,
          52.0,
          53.0,
          54.0,
          55.0,
          56.0,
          57.0
         ],
         "xaxis": "x",
         "y": [
          19.0,
          18.0,
          18.0,
          18.0,
          18.0,
          18.0,
          18.0,
          18.0,
          19.0,
          20.0,
          19.0,
          17.0,
          14.0,
          14.0,
          14.0,
          12.0,
          12.0,
          12.0,
          12.0,
          12.0,
          12.0,
          12.0,
          12.0,
          12.0,
          12.0,
          17.0,
          15.0,
          14.0,
          14.0,
          13.0,
          12.0,
          12.0,
          11.0,
          11.0,
          11.0,
          11.0,
          11.0,
          11.0,
          11.0,
          10.0,
          10.0,
          9.0,
          9.0,
          9.0,
          9.0,
          9.0,
          9.0,
          9.0,
          9.0,
          9.0,
          9.0,
          9.0,
          9.0,
          9.0,
          9.0,
          9.0,
          9.0
         ],
         "yaxis": "y",
         "type": "scattergl"
        },
        {
         "hovertemplate": "Driver=ALB<br>Lap=%{x}<br>Position=%{y}<extra></extra>",
         "legendgroup": "ALB",
         "line": {
          "color": "#005aff",
          "dash": "solid"
         },
         "marker": {
          "symbol": "circle"
         },
         "mode": "lines+markers",
         "name": "ALB",
         "showlegend": true,
         "x": [
          1.0,
          2.0,
          3.0,
          4.0,
          5.0,
          6.0,
          7.0,
          8.0,
          9.0,
          10.0,
          11.0,
          12.0,
          13.0,
          14.0,
          15.0,
          16.0,
          17.0,
          18.0,
          19.0,
          20.0,
          21.0,
          22.0,
          23.0,
          24.0,
          25.0,
          26.0,
          27.0,
          28.0,
          29.0,
          30.0,
          31.0,
          32.0,
          33.0,
          34.0,
          35.0,
          36.0,
          37.0,
          38.0,
          39.0,
          40.0,
          41.0,
          42.0,
          43.0,
          44.0,
          45.0,
          46.0,
          47.0,
          48.0,
          49.0,
          50.0,
          51.0,
          52.0,
          53.0,
          54.0,
          55.0,
          56.0,
          57.0
         ],
         "xaxis": "x",
         "y": [
          12.0,
          12.0,
          12.0,
          11.0,
          11.0,
          11.0,
          11.0,
          11.0,
          11.0,
          11.0,
          12.0,
          15.0,
          11.0,
          11.0,
          10.0,
          10.0,
          10.0,
          10.0,
          10.0,
          10.0,
          10.0,
          10.0,
          10.0,
          10.0,
          10.0,
          10.0,
          14.0,
          13.0,
          12.0,
          12.0,
          11.0,
          11.0,
          10.0,
          10.0,
          10.0,
          10.0,
          10.0,
          10.0,
          10.0,
          9.0,
          9.0,
          10.0,
          10.0,
          10.0,
          10.0,
          10.0,
          10.0,
          10.0,
          10.0,
          10.0,
          10.0,
          10.0,
          10.0,
          10.0,
          10.0,
          10.0,
          10.0
         ],
         "yaxis": "y",
         "type": "scattergl"
        },
        {
         "hovertemplate": "Driver=TSU<br>Lap=%{x}<br>Position=%{y}<extra></extra>",
         "legendgroup": "TSU",
         "line": {
          "color": "#356cac",
          "dash": "solid"
         },
         "marker": {
          "symbol": "circle"
         },
         "mode": "lines+markers",
         "name": "TSU",
         "showlegend": true,
         "x": [
          1.0,
          2.0,
          3.0,
          4.0,
          5.0,
          6.0,
          7.0,
          8.0,
          9.0,
          10.0,
          11.0,
          12.0,
          13.0,
          14.0,
          15.0,
          16.0,
          17.0,
          18.0,
          19.0,
          20.0,
          21.0,
          22.0,
          23.0,
          24.0,
          25.0,
          26.0,
          27.0,
          28.0,
          29.0,
          30.0,
          31.0,
          32.0,
          33.0,
          34.0,
          35.0,
          36.0,
          37.0,
          38.0,
          39.0,
          40.0,
          41.0,
          42.0,
          43.0,
          44.0,
          45.0,
          46.0,
          47.0,
          48.0,
          49.0,
          50.0,
          51.0,
          52.0,
          53.0,
          54.0,
          55.0,
          56.0,
          57.0
         ],
         "xaxis": "x",
         "y": [
          15.0,
          15.0,
          15.0,
          14.0,
          14.0,
          14.0,
          14.0,
          14.0,
          14.0,
          14.0,
          18.0,
          16.0,
          13.0,
          13.0,
          12.0,
          11.0,
          11.0,
          11.0,
          11.0,
          11.0,
          11.0,
          11.0,
          11.0,
          11.0,
          11.0,
          11.0,
          16.0,
          15.0,
          15.0,
          14.0,
          13.0,
          13.0,
          12.0,
          12.0,
          12.0,
          12.0,
          12.0,
          12.0,
          12.0,
          11.0,
          13.0,
          11.0,
          11.0,
          11.0,
          11.0,
          11.0,
          11.0,
          11.0,
          11.0,
          11.0,
          11.0,
          11.0,
          11.0,
          11.0,
          11.0,
          11.0,
          11.0
         ],
         "yaxis": "y",
         "type": "scattergl"
        },
        {
         "hovertemplate": "Driver=SAR<br>Lap=%{x}<br>Position=%{y}<extra></extra>",
         "legendgroup": "SAR",
         "line": {
          "color": "#012564",
          "dash": "solid"
         },
         "marker": {
          "symbol": "circle"
         },
         "mode": "lines+markers",
         "name": "SAR",
         "showlegend": true,
         "x": [
          1.0,
          2.0,
          3.0,
          4.0,
          5.0,
          6.0,
          7.0,
          8.0,
          9.0,
          10.0,
          11.0,
          12.0,
          13.0,
          14.0,
          15.0,
          16.0,
          17.0,
          18.0,
          19.0,
          20.0,
          21.0,
          22.0,
          23.0,
          24.0,
          25.0,
          26.0,
          27.0,
          28.0,
          29.0,
          30.0,
          31.0,
          32.0,
          33.0,
          34.0,
          35.0,
          36.0,
          37.0,
          38.0,
          39.0,
          40.0,
          41.0,
          42.0,
          43.0,
          44.0,
          45.0,
          46.0,
          47.0,
          48.0,
          49.0,
          50.0,
          51.0,
          52.0,
          53.0,
          54.0,
          55.0,
          56.0
         ],
         "xaxis": "x",
         "y": [
          13.0,
          13.0,
          13.0,
          13.0,
          13.0,
          13.0,
          13.0,
          13.0,
          13.0,
          12.0,
          11.0,
          10.0,
          15.0,
          15.0,
          15.0,
          13.0,
          13.0,
          13.0,
          13.0,
          13.0,
          13.0,
          13.0,
          13.0,
          13.0,
          13.0,
          12.0,
          10.0,
          10.0,
          10.0,
          10.0,
          14.0,
          14.0,
          13.0,
          13.0,
          13.0,
          13.0,
          13.0,
          13.0,
          13.0,
          12.0,
          14.0,
          14.0,
          14.0,
          13.0,
          13.0,
          13.0,
          12.0,
          12.0,
          12.0,
          12.0,
          12.0,
          12.0,
          12.0,
          12.0,
          12.0,
          12.0
         ],
         "yaxis": "y",
         "type": "scattergl"
        },
        {
         "hovertemplate": "Driver=MAG<br>Lap=%{x}<br>Position=%{y}<extra></extra>",
         "legendgroup": "MAG",
         "line": {
          "color": "#ffffff",
          "dash": "solid"
         },
         "marker": {
          "symbol": "circle"
         },
         "mode": "lines+markers",
         "name": "MAG",
         "showlegend": true,
         "x": [
          1.0,
          2.0,
          3.0,
          4.0,
          5.0,
          6.0,
          7.0,
          8.0,
          9.0,
          10.0,
          11.0,
          12.0,
          13.0,
          14.0,
          15.0,
          16.0,
          17.0,
          18.0,
          19.0,
          20.0,
          21.0,
          22.0,
          23.0,
          24.0,
          25.0,
          26.0,
          27.0,
          28.0,
          29.0,
          30.0,
          31.0,
          32.0,
          33.0,
          34.0,
          35.0,
          36.0,
          37.0,
          38.0,
          39.0,
          40.0,
          41.0,
          42.0,
          43.0,
          44.0,
          45.0,
          46.0,
          47.0,
          48.0,
          49.0,
          50.0,
          51.0,
          52.0,
          53.0,
          54.0,
          55.0,
          56.0
         ],
         "xaxis": "x",
         "y": [
          18.0,
          19.0,
          20.0,
          20.0,
          20.0,
          20.0,
          20.0,
          20.0,
          20.0,
          19.0,
          15.0,
          13.0,
          9.0,
          9.0,
          11.0,
          18.0,
          18.0,
          17.0,
          17.0,
          17.0,
          17.0,
          17.0,
          17.0,
          17.0,
          17.0,
          15.0,
          13.0,
          12.0,
          13.0,
          17.0,
          17.0,
          16.0,
          16.0,
          16.0,
          16.0,
          16.0,
          16.0,
          16.0,
          16.0,
          15.0,
          15.0,
          15.0,
          15.0,
          15.0,
          15.0,
          15.0,
          15.0,
          15.0,
          15.0,
          15.0,
          14.0,
          14.0,
          14.0,
          14.0,
          13.0,
          13.0
         ],
         "yaxis": "y",
         "type": "scattergl"
        },
        {
         "hovertemplate": "Driver=DEV<br>Lap=%{x}<br>Position=%{y}<extra></extra>",
         "legendgroup": "DEV",
         "line": {
          "color": "#1e3d61",
          "dash": "solid"
         },
         "marker": {
          "symbol": "circle"
         },
         "mode": "lines+markers",
         "name": "DEV",
         "showlegend": true,
         "x": [
          1.0,
          2.0,
          3.0,
          4.0,
          5.0,
          6.0,
          7.0,
          8.0,
          9.0,
          10.0,
          11.0,
          12.0,
          13.0,
          14.0,
          15.0,
          16.0,
          17.0,
          18.0,
          19.0,
          20.0,
          21.0,
          22.0,
          23.0,
          24.0,
          25.0,
          26.0,
          27.0,
          28.0,
          29.0,
          30.0,
          31.0,
          32.0,
          33.0,
          34.0,
          35.0,
          36.0,
          37.0,
          38.0,
          39.0,
          40.0,
          41.0,
          42.0,
          43.0,
          44.0,
          45.0,
          46.0,
          47.0,
          48.0,
          49.0,
          50.0,
          51.0,
          52.0,
          53.0,
          54.0,
          55.0,
          56.0
         ],
         "xaxis": "x",
         "y": [
          20.0,
          20.0,
          19.0,
          19.0,
          19.0,
          19.0,
          19.0,
          19.0,
          18.0,
          18.0,
          17.0,
          19.0,
          18.0,
          17.0,
          17.0,
          15.0,
          14.0,
          14.0,
          14.0,
          14.0,
          14.0,
          14.0,
          14.0,
          14.0,
          15.0,
          14.0,
          12.0,
          16.0,
          16.0,
          15.0,
          15.0,
          15.0,
          14.0,
          14.0,
          14.0,
          14.0,
          14.0,
          14.0,
          14.0,
          13.0,
          11.0,
          12.0,
          13.0,
          14.0,
          14.0,
          14.0,
          14.0,
          14.0,
          14.0,
          14.0,
          15.0,
          15.0,
          15.0,
          15.0,
          14.0,
          14.0
         ],
         "yaxis": "y",
         "type": "scattergl"
        },
        {
         "hovertemplate": "Driver=HUL<br>Lap=%{x}<br>Position=%{y}<extra></extra>",
         "legendgroup": "HUL",
         "line": {
          "color": "#cacaca",
          "dash": "solid"
         },
         "marker": {
          "symbol": "circle"
         },
         "mode": "lines+markers",
         "name": "HUL",
         "showlegend": true,
         "x": [
          1.0,
          2.0,
          3.0,
          4.0,
          5.0,
          6.0,
          7.0,
          8.0,
          9.0,
          10.0,
          11.0,
          12.0,
          13.0,
          14.0,
          15.0,
          16.0,
          17.0,
          18.0,
          19.0,
          20.0,
          21.0,
          22.0,
          23.0,
          24.0,
          25.0,
          26.0,
          27.0,
          28.0,
          29.0,
          30.0,
          31.0,
          32.0,
          33.0,
          34.0,
          35.0,
          36.0,
          37.0,
          38.0,
          39.0,
          40.0,
          41.0,
          42.0,
          43.0,
          44.0,
          45.0,
          46.0,
          47.0,
          48.0,
          49.0,
          50.0,
          51.0,
          52.0,
          53.0,
          54.0,
          55.0,
          56.0
         ],
         "xaxis": "x",
         "y": [
          14.0,
          14.0,
          14.0,
          15.0,
          15.0,
          15.0,
          15.0,
          15.0,
          15.0,
          15.0,
          16.0,
          20.0,
          19.0,
          18.0,
          18.0,
          16.0,
          16.0,
          16.0,
          16.0,
          16.0,
          16.0,
          16.0,
          16.0,
          16.0,
          16.0,
          16.0,
          19.0,
          18.0,
          18.0,
          18.0,
          18.0,
          17.0,
          17.0,
          17.0,
          17.0,
          17.0,
          17.0,
          17.0,
          17.0,
          16.0,
          16.0,
          16.0,
          16.0,
          16.0,
          16.0,
          16.0,
          16.0,
          16.0,
          16.0,
          16.0,
          16.0,
          16.0,
          16.0,
          16.0,
          15.0,
          15.0
         ],
         "yaxis": "y",
         "type": "scattergl"
        },
        {
         "hovertemplate": "Driver=ZHO<br>Lap=%{x}<br>Position=%{y}<extra></extra>",
         "legendgroup": "ZHO",
         "line": {
          "color": "#500000",
          "dash": "solid"
         },
         "marker": {
          "symbol": "circle"
         },
         "mode": "lines+markers",
         "name": "ZHO",
         "showlegend": true,
         "x": [
          1.0,
          2.0,
          3.0,
          4.0,
          5.0,
          6.0,
          7.0,
          8.0,
          9.0,
          10.0,
          11.0,
          12.0,
          13.0,
          14.0,
          15.0,
          16.0,
          17.0,
          18.0,
          19.0,
          20.0,
          21.0,
          22.0,
          23.0,
          24.0,
          25.0,
          26.0,
          27.0,
          28.0,
          29.0,
          30.0,
          31.0,
          32.0,
          33.0,
          34.0,
          35.0,
          36.0,
          37.0,
          38.0,
          39.0,
          40.0,
          41.0,
          42.0,
          43.0,
          44.0,
          45.0,
          46.0,
          47.0,
          48.0,
          49.0,
          50.0,
          51.0,
          52.0,
          53.0,
          54.0,
          55.0,
          56.0
         ],
         "xaxis": "x",
         "y": [
          17.0,
          17.0,
          17.0,
          17.0,
          17.0,
          17.0,
          17.0,
          17.0,
          17.0,
          17.0,
          14.0,
          12.0,
          20.0,
          19.0,
          19.0,
          17.0,
          17.0,
          15.0,
          15.0,
          15.0,
          15.0,
          15.0,
          15.0,
          15.0,
          14.0,
          13.0,
          11.0,
          11.0,
          11.0,
          9.0,
          9.0,
          10.0,
          15.0,
          15.0,
          15.0,
          15.0,
          15.0,
          15.0,
          15.0,
          14.0,
          12.0,
          13.0,
          12.0,
          12.0,
          12.0,
          12.0,
          13.0,
          13.0,
          13.0,
          13.0,
          13.0,
          13.0,
          13.0,
          13.0,
          16.0,
          16.0
         ],
         "yaxis": "y",
         "type": "scattergl"
        },
        {
         "hovertemplate": "Driver=NOR<br>Lap=%{x}<br>Position=%{y}<extra></extra>",
         "legendgroup": "NOR",
         "line": {
          "color": "#eeb370",
          "dash": "solid"
         },
         "marker": {
          "symbol": "circle"
         },
         "mode": "lines+markers",
         "name": "NOR",
         "showlegend": true,
         "x": [
          1.0,
          2.0,
          3.0,
          4.0,
          5.0,
          6.0,
          7.0,
          8.0,
          9.0,
          10.0,
          11.0,
          12.0,
          13.0,
          14.0,
          15.0,
          16.0,
          17.0,
          18.0,
          19.0,
          20.0,
          21.0,
          22.0,
          23.0,
          24.0,
          25.0,
          26.0,
          27.0,
          28.0,
          29.0,
          30.0,
          31.0,
          32.0,
          33.0,
          34.0,
          35.0,
          36.0,
          37.0,
          38.0,
          39.0,
          40.0,
          41.0,
          42.0,
          43.0,
          44.0,
          45.0,
          46.0,
          47.0,
          48.0,
          49.0,
          50.0,
          51.0,
          52.0,
          53.0,
          54.0,
          55.0
         ],
         "xaxis": "x",
         "y": [
          10.0,
          10.0,
          10.0,
          12.0,
          12.0,
          12.0,
          12.0,
          12.0,
          12.0,
          13.0,
          20.0,
          18.0,
          17.0,
          16.0,
          16.0,
          14.0,
          15.0,
          19.0,
          19.0,
          19.0,
          19.0,
          19.0,
          18.0,
          18.0,
          18.0,
          18.0,
          17.0,
          19.0,
          19.0,
          19.0,
          19.0,
          19.0,
          18.0,
          18.0,
          18.0,
          18.0,
          18.0,
          19.0,
          19.0,
          18.0,
          18.0,
          17.0,
          17.0,
          17.0,
          17.0,
          17.0,
          17.0,
          17.0,
          17.0,
          17.0,
          17.0,
          17.0,
          17.0,
          17.0,
          17.0
         ],
         "yaxis": "y",
         "type": "scattergl"
        },
        {
         "hovertemplate": "Driver=OCO<br>Lap=%{x}<br>Position=%{y}<extra></extra>",
         "legendgroup": "OCO",
         "line": {
          "color": "#70c2ff",
          "dash": "solid"
         },
         "marker": {
          "symbol": "circle"
         },
         "mode": "lines+markers",
         "name": "OCO",
         "showlegend": true,
         "x": [
          1.0,
          2.0,
          3.0,
          4.0,
          5.0,
          6.0,
          7.0,
          8.0,
          9.0,
          10.0,
          11.0,
          12.0,
          13.0,
          14.0,
          15.0,
          16.0,
          17.0,
          18.0,
          19.0,
          20.0,
          21.0,
          22.0,
          23.0,
          24.0,
          25.0,
          26.0,
          27.0,
          28.0,
          29.0,
          30.0,
          31.0,
          32.0,
          33.0,
          34.0,
          35.0,
          36.0,
          37.0,
          38.0,
          39.0,
          40.0,
          41.0
         ],
         "xaxis": "x",
         "y": [
          11.0,
          11.0,
          11.0,
          10.0,
          10.0,
          10.0,
          10.0,
          10.0,
          10.0,
          10.0,
          10.0,
          9.0,
          12.0,
          12.0,
          13.0,
          19.0,
          19.0,
          18.0,
          18.0,
          18.0,
          18.0,
          18.0,
          19.0,
          19.0,
          19.0,
          19.0,
          18.0,
          17.0,
          17.0,
          16.0,
          16.0,
          18.0,
          19.0,
          19.0,
          19.0,
          19.0,
          19.0,
          18.0,
          18.0,
          17.0,
          17.0
         ],
         "yaxis": "y",
         "type": "scattergl"
        },
        {
         "hovertemplate": "Driver=LEC<br>Lap=%{x}<br>Position=%{y}<extra></extra>",
         "legendgroup": "LEC",
         "line": {
          "color": "#dc0000",
          "dash": "solid"
         },
         "marker": {
          "symbol": "circle"
         },
         "mode": "lines+markers",
         "name": "LEC",
         "showlegend": true,
         "x": [
          1.0,
          2.0,
          3.0,
          4.0,
          5.0,
          6.0,
          7.0,
          8.0,
          9.0,
          10.0,
          11.0,
          12.0,
          13.0,
          14.0,
          15.0,
          16.0,
          17.0,
          18.0,
          19.0,
          20.0,
          21.0,
          22.0,
          23.0,
          24.0,
          25.0,
          26.0,
          27.0,
          28.0,
          29.0,
          30.0,
          31.0,
          32.0,
          33.0,
          34.0,
          35.0,
          36.0,
          37.0,
          38.0,
          39.0,
          40.0
         ],
         "xaxis": "x",
         "y": [
          2.0,
          2.0,
          2.0,
          2.0,
          2.0,
          2.0,
          2.0,
          2.0,
          2.0,
          2.0,
          2.0,
          2.0,
          3.0,
          5.0,
          3.0,
          3.0,
          3.0,
          2.0,
          2.0,
          2.0,
          2.0,
          2.0,
          2.0,
          2.0,
          2.0,
          3.0,
          3.0,
          3.0,
          3.0,
          3.0,
          3.0,
          3.0,
          3.0,
          4.0,
          3.0,
          3.0,
          3.0,
          3.0,
          3.0,
          null
         ],
         "yaxis": "y",
         "type": "scattergl"
        },
        {
         "hovertemplate": "Driver=PIA<br>Lap=%{x}<br>Position=%{y}<extra></extra>",
         "legendgroup": "PIA",
         "line": {
          "color": "#ff8700",
          "dash": "solid"
         },
         "marker": {
          "symbol": "circle"
         },
         "mode": "lines+markers",
         "name": "PIA",
         "showlegend": true,
         "x": [
          1.0,
          2.0,
          3.0,
          4.0,
          5.0,
          6.0,
          7.0,
          8.0,
          9.0,
          10.0,
          11.0,
          12.0,
          13.0
         ],
         "xaxis": "x",
         "y": [
          16.0,
          16.0,
          16.0,
          16.0,
          16.0,
          16.0,
          16.0,
          16.0,
          16.0,
          16.0,
          13.0,
          11.0,
          16.0
         ],
         "yaxis": "y",
         "type": "scattergl"
        }
       ],
       "layout": {
        "template": {
         "data": {
          "histogram2dcontour": [
           {
            "type": "histogram2dcontour",
            "colorbar": {
             "outlinewidth": 0,
             "ticks": ""
            },
            "colorscale": [
             [
              0.0,
              "#0d0887"
             ],
             [
              0.1111111111111111,
              "#46039f"
             ],
             [
              0.2222222222222222,
              "#7201a8"
             ],
             [
              0.3333333333333333,
              "#9c179e"
             ],
             [
              0.4444444444444444,
              "#bd3786"
             ],
             [
              0.5555555555555556,
              "#d8576b"
             ],
             [
              0.6666666666666666,
              "#ed7953"
             ],
             [
              0.7777777777777778,
              "#fb9f3a"
             ],
             [
              0.8888888888888888,
              "#fdca26"
             ],
             [
              1.0,
              "#f0f921"
             ]
            ]
           }
          ],
          "choropleth": [
           {
            "type": "choropleth",
            "colorbar": {
             "outlinewidth": 0,
             "ticks": ""
            }
           }
          ],
          "histogram2d": [
           {
            "type": "histogram2d",
            "colorbar": {
             "outlinewidth": 0,
             "ticks": ""
            },
            "colorscale": [
             [
              0.0,
              "#0d0887"
             ],
             [
              0.1111111111111111,
              "#46039f"
             ],
             [
              0.2222222222222222,
              "#7201a8"
             ],
             [
              0.3333333333333333,
              "#9c179e"
             ],
             [
              0.4444444444444444,
              "#bd3786"
             ],
             [
              0.5555555555555556,
              "#d8576b"
             ],
             [
              0.6666666666666666,
              "#ed7953"
             ],
             [
              0.7777777777777778,
              "#fb9f3a"
             ],
             [
              0.8888888888888888,
              "#fdca26"
             ],
             [
              1.0,
              "#f0f921"
             ]
            ]
           }
          ],
          "heatmap": [
           {
            "type": "heatmap",
            "colorbar": {
             "outlinewidth": 0,
             "ticks": ""
            },
            "colorscale": [
             [
              0.0,
              "#0d0887"
             ],
             [
              0.1111111111111111,
              "#46039f"
             ],
             [
              0.2222222222222222,
              "#7201a8"
             ],
             [
              0.3333333333333333,
              "#9c179e"
             ],
             [
              0.4444444444444444,
              "#bd3786"
             ],
             [
              0.5555555555555556,
              "#d8576b"
             ],
             [
              0.6666666666666666,
              "#ed7953"
             ],
             [
              0.7777777777777778,
              "#fb9f3a"
             ],
             [
              0.8888888888888888,
              "#fdca26"
             ],
             [
              1.0,
              "#f0f921"
             ]
            ]
           }
          ],
          "heatmapgl": [
           {
            "type": "heatmapgl",
            "colorbar": {
             "outlinewidth": 0,
             "ticks": ""
            },
            "colorscale": [
             [
              0.0,
              "#0d0887"
             ],
             [
              0.1111111111111111,
              "#46039f"
             ],
             [
              0.2222222222222222,
              "#7201a8"
             ],
             [
              0.3333333333333333,
              "#9c179e"
             ],
             [
              0.4444444444444444,
              "#bd3786"
             ],
             [
              0.5555555555555556,
              "#d8576b"
             ],
             [
              0.6666666666666666,
              "#ed7953"
             ],
             [
              0.7777777777777778,
              "#fb9f3a"
             ],
             [
              0.8888888888888888,
              "#fdca26"
             ],
             [
              1.0,
              "#f0f921"
             ]
            ]
           }
          ],
          "contourcarpet": [
           {
            "type": "contourcarpet",
            "colorbar": {
             "outlinewidth": 0,
             "ticks": ""
            }
           }
          ],
          "contour": [
           {
            "type": "contour",
            "colorbar": {
             "outlinewidth": 0,
             "ticks": ""
            },
            "colorscale": [
             [
              0.0,
              "#0d0887"
             ],
             [
              0.1111111111111111,
              "#46039f"
             ],
             [
              0.2222222222222222,
              "#7201a8"
             ],
             [
              0.3333333333333333,
              "#9c179e"
             ],
             [
              0.4444444444444444,
              "#bd3786"
             ],
             [
              0.5555555555555556,
              "#d8576b"
             ],
             [
              0.6666666666666666,
              "#ed7953"
             ],
             [
              0.7777777777777778,
              "#fb9f3a"
             ],
             [
              0.8888888888888888,
              "#fdca26"
             ],
             [
              1.0,
              "#f0f921"
             ]
            ]
           }
          ],
          "surface": [
           {
            "type": "surface",
            "colorbar": {
             "outlinewidth": 0,
             "ticks": ""
            },
            "colorscale": [
             [
              0.0,
              "#0d0887"
             ],
             [
              0.1111111111111111,
              "#46039f"
             ],
             [
              0.2222222222222222,
              "#7201a8"
             ],
             [
              0.3333333333333333,
              "#9c179e"
             ],
             [
              0.4444444444444444,
              "#bd3786"
             ],
             [
              0.5555555555555556,
              "#d8576b"
             ],
             [
              0.6666666666666666,
              "#ed7953"
             ],
             [
              0.7777777777777778,
              "#fb9f3a"
             ],
             [
              0.8888888888888888,
              "#fdca26"
             ],
             [
              1.0,
              "#f0f921"
             ]
            ]
           }
          ],
          "mesh3d": [
           {
            "type": "mesh3d",
            "colorbar": {
             "outlinewidth": 0,
             "ticks": ""
            }
           }
          ],
          "scatter": [
           {
            "fillpattern": {
             "fillmode": "overlay",
             "size": 10,
             "solidity": 0.2
            },
            "type": "scatter"
           }
          ],
          "parcoords": [
           {
            "type": "parcoords",
            "line": {
             "colorbar": {
              "outlinewidth": 0,
              "ticks": ""
             }
            }
           }
          ],
          "scatterpolargl": [
           {
            "type": "scatterpolargl",
            "marker": {
             "colorbar": {
              "outlinewidth": 0,
              "ticks": ""
             }
            }
           }
          ],
          "bar": [
           {
            "error_x": {
             "color": "#2a3f5f"
            },
            "error_y": {
             "color": "#2a3f5f"
            },
            "marker": {
             "line": {
              "color": "#E5ECF6",
              "width": 0.5
             },
             "pattern": {
              "fillmode": "overlay",
              "size": 10,
              "solidity": 0.2
             }
            },
            "type": "bar"
           }
          ],
          "scattergeo": [
           {
            "type": "scattergeo",
            "marker": {
             "colorbar": {
              "outlinewidth": 0,
              "ticks": ""
             }
            }
           }
          ],
          "scatterpolar": [
           {
            "type": "scatterpolar",
            "marker": {
             "colorbar": {
              "outlinewidth": 0,
              "ticks": ""
             }
            }
           }
          ],
          "histogram": [
           {
            "marker": {
             "pattern": {
              "fillmode": "overlay",
              "size": 10,
              "solidity": 0.2
             }
            },
            "type": "histogram"
           }
          ],
          "scattergl": [
           {
            "type": "scattergl",
            "marker": {
             "colorbar": {
              "outlinewidth": 0,
              "ticks": ""
             }
            }
           }
          ],
          "scatter3d": [
           {
            "type": "scatter3d",
            "line": {
             "colorbar": {
              "outlinewidth": 0,
              "ticks": ""
             }
            },
            "marker": {
             "colorbar": {
              "outlinewidth": 0,
              "ticks": ""
             }
            }
           }
          ],
          "scattermapbox": [
           {
            "type": "scattermapbox",
            "marker": {
             "colorbar": {
              "outlinewidth": 0,
              "ticks": ""
             }
            }
           }
          ],
          "scatterternary": [
           {
            "type": "scatterternary",
            "marker": {
             "colorbar": {
              "outlinewidth": 0,
              "ticks": ""
             }
            }
           }
          ],
          "scattercarpet": [
           {
            "type": "scattercarpet",
            "marker": {
             "colorbar": {
              "outlinewidth": 0,
              "ticks": ""
             }
            }
           }
          ],
          "carpet": [
           {
            "aaxis": {
             "endlinecolor": "#2a3f5f",
             "gridcolor": "white",
             "linecolor": "white",
             "minorgridcolor": "white",
             "startlinecolor": "#2a3f5f"
            },
            "baxis": {
             "endlinecolor": "#2a3f5f",
             "gridcolor": "white",
             "linecolor": "white",
             "minorgridcolor": "white",
             "startlinecolor": "#2a3f5f"
            },
            "type": "carpet"
           }
          ],
          "table": [
           {
            "cells": {
             "fill": {
              "color": "#EBF0F8"
             },
             "line": {
              "color": "white"
             }
            },
            "header": {
             "fill": {
              "color": "#C8D4E3"
             },
             "line": {
              "color": "white"
             }
            },
            "type": "table"
           }
          ],
          "barpolar": [
           {
            "marker": {
             "line": {
              "color": "#E5ECF6",
              "width": 0.5
             },
             "pattern": {
              "fillmode": "overlay",
              "size": 10,
              "solidity": 0.2
             }
            },
            "type": "barpolar"
           }
          ],
          "pie": [
           {
            "automargin": true,
            "type": "pie"
           }
          ]
         },
         "layout": {
          "autotypenumbers": "strict",
          "colorway": [
           "#636efa",
           "#EF553B",
           "#00cc96",
           "#ab63fa",
           "#FFA15A",
           "#19d3f3",
           "#FF6692",
           "#B6E880",
           "#FF97FF",
           "#FECB52"
          ],
          "font": {
           "color": "#2a3f5f"
          },
          "hovermode": "closest",
          "hoverlabel": {
           "align": "left"
          },
          "paper_bgcolor": "white",
          "plot_bgcolor": "#E5ECF6",
          "polar": {
           "bgcolor": "#E5ECF6",
           "angularaxis": {
            "gridcolor": "white",
            "linecolor": "white",
            "ticks": ""
           },
           "radialaxis": {
            "gridcolor": "white",
            "linecolor": "white",
            "ticks": ""
           }
          },
          "ternary": {
           "bgcolor": "#E5ECF6",
           "aaxis": {
            "gridcolor": "white",
            "linecolor": "white",
            "ticks": ""
           },
           "baxis": {
            "gridcolor": "white",
            "linecolor": "white",
            "ticks": ""
           },
           "caxis": {
            "gridcolor": "white",
            "linecolor": "white",
            "ticks": ""
           }
          },
          "coloraxis": {
           "colorbar": {
            "outlinewidth": 0,
            "ticks": ""
           }
          },
          "colorscale": {
           "sequential": [
            [
             0.0,
             "#0d0887"
            ],
            [
             0.1111111111111111,
             "#46039f"
            ],
            [
             0.2222222222222222,
             "#7201a8"
            ],
            [
             0.3333333333333333,
             "#9c179e"
            ],
            [
             0.4444444444444444,
             "#bd3786"
            ],
            [
             0.5555555555555556,
             "#d8576b"
            ],
            [
             0.6666666666666666,
             "#ed7953"
            ],
            [
             0.7777777777777778,
             "#fb9f3a"
            ],
            [
             0.8888888888888888,
             "#fdca26"
            ],
            [
             1.0,
             "#f0f921"
            ]
           ],
           "sequentialminus": [
            [
             0.0,
             "#0d0887"
            ],
            [
             0.1111111111111111,
             "#46039f"
            ],
            [
             0.2222222222222222,
             "#7201a8"
            ],
            [
             0.3333333333333333,
             "#9c179e"
            ],
            [
             0.4444444444444444,
             "#bd3786"
            ],
            [
             0.5555555555555556,
             "#d8576b"
            ],
            [
             0.6666666666666666,
             "#ed7953"
            ],
            [
             0.7777777777777778,
             "#fb9f3a"
            ],
            [
             0.8888888888888888,
             "#fdca26"
            ],
            [
             1.0,
             "#f0f921"
            ]
           ],
           "diverging": [
            [
             0,
             "#8e0152"
            ],
            [
             0.1,
             "#c51b7d"
            ],
            [
             0.2,
             "#de77ae"
            ],
            [
             0.3,
             "#f1b6da"
            ],
            [
             0.4,
             "#fde0ef"
            ],
            [
             0.5,
             "#f7f7f7"
            ],
            [
             0.6,
             "#e6f5d0"
            ],
            [
             0.7,
             "#b8e186"
            ],
            [
             0.8,
             "#7fbc41"
            ],
            [
             0.9,
             "#4d9221"
            ],
            [
             1,
             "#276419"
            ]
           ]
          },
          "xaxis": {
           "gridcolor": "white",
           "linecolor": "white",
           "ticks": "",
           "title": {
            "standoff": 15
           },
           "zerolinecolor": "white",
           "automargin": true,
           "zerolinewidth": 2
          },
          "yaxis": {
           "gridcolor": "white",
           "linecolor": "white",
           "ticks": "",
           "title": {
            "standoff": 15
           },
           "zerolinecolor": "white",
           "automargin": true,
           "zerolinewidth": 2
          },
          "scene": {
           "xaxis": {
            "backgroundcolor": "#E5ECF6",
            "gridcolor": "white",
            "linecolor": "white",
            "showbackground": true,
            "ticks": "",
            "zerolinecolor": "white",
            "gridwidth": 2
           },
           "yaxis": {
            "backgroundcolor": "#E5ECF6",
            "gridcolor": "white",
            "linecolor": "white",
            "showbackground": true,
            "ticks": "",
            "zerolinecolor": "white",
            "gridwidth": 2
           },
           "zaxis": {
            "backgroundcolor": "#E5ECF6",
            "gridcolor": "white",
            "linecolor": "white",
            "showbackground": true,
            "ticks": "",
            "zerolinecolor": "white",
            "gridwidth": 2
           }
          },
          "shapedefaults": {
           "line": {
            "color": "#2a3f5f"
           }
          },
          "annotationdefaults": {
           "arrowcolor": "#2a3f5f",
           "arrowhead": 0,
           "arrowwidth": 1
          },
          "geo": {
           "bgcolor": "white",
           "landcolor": "#E5ECF6",
           "subunitcolor": "white",
           "showland": true,
           "showlakes": true,
           "lakecolor": "white"
          },
          "title": {
           "x": 0.05
          },
          "mapbox": {
           "style": "light"
          }
         }
        },
        "xaxis": {
         "anchor": "y",
         "domain": [
          0.0,
          1.0
         ],
         "title": {
          "text": "Lap"
         }
        },
        "yaxis": {
         "anchor": "x",
         "domain": [
          0.0,
          1.0
         ],
         "title": {
          "text": "Position"
         },
         "categoryorder": "array",
         "categoryarray": [
          1,
          2,
          3,
          4,
          5,
          6,
          7,
          8,
          9,
          10,
          11,
          12,
          13,
          14,
          15,
          16,
          17,
          18,
          19,
          20
         ],
         "autorange": "reversed"
        },
        "legend": {
         "title": {
          "text": "Driver"
         },
         "tracegroupgap": 0
        },
        "margin": {
         "t": 60
        },
        "title": {
         "text": "Driver Positions by Lap"
        }
       },
       "config": {
        "plotlyServerURL": "https://plot.ly"
       }
      },
      "text/html": "<div>                            <div id=\"c1f958e2-a0fb-43b6-b543-a3065cc32bfd\" class=\"plotly-graph-div\" style=\"height:525px; width:100%;\"></div>            <script type=\"text/javascript\">                require([\"plotly\"], function(Plotly) {                    window.PLOTLYENV=window.PLOTLYENV || {};                                    if (document.getElementById(\"c1f958e2-a0fb-43b6-b543-a3065cc32bfd\")) {                    Plotly.newPlot(                        \"c1f958e2-a0fb-43b6-b543-a3065cc32bfd\",                        [{\"hovertemplate\":\"Driver=VER\\u003cbr\\u003eLap=%{x}\\u003cbr\\u003ePosition=%{y}\\u003cextra\\u003e\\u003c\\u002fextra\\u003e\",\"legendgroup\":\"VER\",\"line\":{\"color\":\"#0600ef\",\"dash\":\"solid\"},\"marker\":{\"symbol\":\"circle\"},\"mode\":\"lines+markers\",\"name\":\"VER\",\"showlegend\":true,\"x\":[1.0,2.0,3.0,4.0,5.0,6.0,7.0,8.0,9.0,10.0,11.0,12.0,13.0,14.0,15.0,16.0,17.0,18.0,19.0,20.0,21.0,22.0,23.0,24.0,25.0,26.0,27.0,28.0,29.0,30.0,31.0,32.0,33.0,34.0,35.0,36.0,37.0,38.0,39.0,40.0,41.0,42.0,43.0,44.0,45.0,46.0,47.0,48.0,49.0,50.0,51.0,52.0,53.0,54.0,55.0,56.0,57.0],\"xaxis\":\"x\",\"y\":[1.0,1.0,1.0,1.0,1.0,1.0,1.0,1.0,1.0,1.0,1.0,1.0,1.0,1.0,2.0,2.0,2.0,1.0,1.0,1.0,1.0,1.0,1.0,1.0,1.0,1.0,1.0,1.0,1.0,1.0,1.0,1.0,1.0,1.0,1.0,1.0,1.0,1.0,1.0,1.0,1.0,1.0,1.0,1.0,1.0,1.0,1.0,1.0,1.0,1.0,1.0,1.0,1.0,1.0,1.0,1.0,1.0],\"yaxis\":\"y\",\"type\":\"scattergl\"},{\"hovertemplate\":\"Driver=PER\\u003cbr\\u003eLap=%{x}\\u003cbr\\u003ePosition=%{y}\\u003cextra\\u003e\\u003c\\u002fextra\\u003e\",\"legendgroup\":\"PER\",\"line\":{\"color\":\"#716de2\",\"dash\":\"solid\"},\"marker\":{\"symbol\":\"circle\"},\"mode\":\"lines+markers\",\"name\":\"PER\",\"showlegend\":true,\"x\":[1.0,2.0,3.0,4.0,5.0,6.0,7.0,8.0,9.0,10.0,11.0,12.0,13.0,14.0,15.0,16.0,17.0,18.0,19.0,20.0,21.0,22.0,23.0,24.0,25.0,26.0,27.0,28.0,29.0,30.0,31.0,32.0,33.0,34.0,35.0,36.0,37.0,38.0,39.0,40.0,41.0,42.0,43.0,44.0,45.0,46.0,47.0,48.0,49.0,50.0,51.0,52.0,53.0,54.0,55.0,56.0,57.0],\"xaxis\":\"x\",\"y\":[3.0,3.0,3.0,3.0,3.0,3.0,3.0,3.0,3.0,3.0,3.0,3.0,2.0,2.0,1.0,1.0,1.0,3.0,3.0,3.0,3.0,3.0,3.0,3.0,3.0,2.0,2.0,2.0,2.0,2.0,2.0,2.0,2.0,2.0,2.0,2.0,2.0,2.0,2.0,2.0,2.0,2.0,2.0,2.0,2.0,2.0,2.0,2.0,2.0,2.0,2.0,2.0,2.0,2.0,2.0,2.0,2.0],\"yaxis\":\"y\",\"type\":\"scattergl\"},{\"hovertemplate\":\"Driver=ALO\\u003cbr\\u003eLap=%{x}\\u003cbr\\u003ePosition=%{y}\\u003cextra\\u003e\\u003c\\u002fextra\\u003e\",\"legendgroup\":\"ALO\",\"line\":{\"color\":\"#006f62\",\"dash\":\"solid\"},\"marker\":{\"symbol\":\"circle\"},\"mode\":\"lines+markers\",\"name\":\"ALO\",\"showlegend\":true,\"x\":[1.0,2.0,3.0,4.0,5.0,6.0,7.0,8.0,9.0,10.0,11.0,12.0,13.0,14.0,15.0,16.0,17.0,18.0,19.0,20.0,21.0,22.0,23.0,24.0,25.0,26.0,27.0,28.0,29.0,30.0,31.0,32.0,33.0,34.0,35.0,36.0,37.0,38.0,39.0,40.0,41.0,42.0,43.0,44.0,45.0,46.0,47.0,48.0,49.0,50.0,51.0,52.0,53.0,54.0,55.0,56.0,57.0],\"xaxis\":\"x\",\"y\":[7.0,7.0,7.0,7.0,7.0,7.0,7.0,7.0,7.0,7.0,7.0,6.0,5.0,4.0,8.0,7.0,6.0,6.0,6.0,6.0,6.0,6.0,6.0,6.0,6.0,6.0,6.0,6.0,6.0,5.0,5.0,4.0,4.0,3.0,6.0,6.0,6.0,5.0,5.0,4.0,4.0,4.0,4.0,4.0,3.0,3.0,3.0,3.0,3.0,3.0,3.0,3.0,3.0,3.0,3.0,3.0,3.0],\"yaxis\":\"y\",\"type\":\"scattergl\"},{\"hovertemplate\":\"Driver=SAI\\u003cbr\\u003eLap=%{x}\\u003cbr\\u003ePosition=%{y}\\u003cextra\\u003e\\u003c\\u002fextra\\u003e\",\"legendgroup\":\"SAI\",\"line\":{\"color\":\"#ff8181\",\"dash\":\"solid\"},\"marker\":{\"symbol\":\"circle\"},\"mode\":\"lines+markers\",\"name\":\"SAI\",\"showlegend\":true,\"x\":[1.0,2.0,3.0,4.0,5.0,6.0,7.0,8.0,9.0,10.0,11.0,12.0,13.0,14.0,15.0,16.0,17.0,18.0,19.0,20.0,21.0,22.0,23.0,24.0,25.0,26.0,27.0,28.0,29.0,30.0,31.0,32.0,33.0,34.0,35.0,36.0,37.0,38.0,39.0,40.0,41.0,42.0,43.0,44.0,45.0,46.0,47.0,48.0,49.0,50.0,51.0,52.0,53.0,54.0,55.0,56.0,57.0],\"xaxis\":\"x\",\"y\":[4.0,4.0,4.0,4.0,4.0,4.0,4.0,4.0,4.0,4.0,4.0,4.0,4.0,6.0,5.0,4.0,4.0,4.0,4.0,4.0,4.0,4.0,4.0,4.0,4.0,4.0,4.0,4.0,4.0,4.0,4.0,5.0,5.0,5.0,4.0,4.0,4.0,4.0,4.0,3.0,3.0,3.0,3.0,3.0,4.0,4.0,4.0,4.0,4.0,4.0,4.0,4.0,4.0,4.0,4.0,4.0,4.0],\"yaxis\":\"y\",\"type\":\"scattergl\"},{\"hovertemplate\":\"Driver=HAM\\u003cbr\\u003eLap=%{x}\\u003cbr\\u003ePosition=%{y}\\u003cextra\\u003e\\u003c\\u002fextra\\u003e\",\"legendgroup\":\"HAM\",\"line\":{\"color\":\"#00d2be\",\"dash\":\"solid\"},\"marker\":{\"symbol\":\"circle\"},\"mode\":\"lines+markers\",\"name\":\"HAM\",\"showlegend\":true,\"x\":[1.0,2.0,3.0,4.0,5.0,6.0,7.0,8.0,9.0,10.0,11.0,12.0,13.0,14.0,15.0,16.0,17.0,18.0,19.0,20.0,21.0,22.0,23.0,24.0,25.0,26.0,27.0,28.0,29.0,30.0,31.0,32.0,33.0,34.0,35.0,36.0,37.0,38.0,39.0,40.0,41.0,42.0,43.0,44.0,45.0,46.0,47.0,48.0,49.0,50.0,51.0,52.0,53.0,54.0,55.0,56.0,57.0],\"xaxis\":\"x\",\"y\":[5.0,5.0,5.0,5.0,5.0,5.0,5.0,5.0,5.0,5.0,5.0,7.0,8.0,7.0,6.0,5.0,5.0,5.0,5.0,5.0,5.0,5.0,5.0,5.0,5.0,5.0,5.0,5.0,5.0,6.0,7.0,6.0,6.0,6.0,5.0,5.0,5.0,6.0,6.0,5.0,5.0,5.0,5.0,5.0,5.0,5.0,5.0,5.0,5.0,5.0,5.0,5.0,5.0,5.0,5.0,5.0,5.0],\"yaxis\":\"y\",\"type\":\"scattergl\"},{\"hovertemplate\":\"Driver=STR\\u003cbr\\u003eLap=%{x}\\u003cbr\\u003ePosition=%{y}\\u003cextra\\u003e\\u003c\\u002fextra\\u003e\",\"legendgroup\":\"STR\",\"line\":{\"color\":\"#25a617\",\"dash\":\"solid\"},\"marker\":{\"symbol\":\"circle\"},\"mode\":\"lines+markers\",\"name\":\"STR\",\"showlegend\":true,\"x\":[1.0,2.0,3.0,4.0,5.0,6.0,7.0,8.0,9.0,10.0,11.0,12.0,13.0,14.0,15.0,16.0,17.0,18.0,19.0,20.0,21.0,22.0,23.0,24.0,25.0,26.0,27.0,28.0,29.0,30.0,31.0,32.0,33.0,34.0,35.0,36.0,37.0,38.0,39.0,40.0,41.0,42.0,43.0,44.0,45.0,46.0,47.0,48.0,49.0,50.0,51.0,52.0,53.0,54.0,55.0,56.0,57.0],\"xaxis\":\"x\",\"y\":[9.0,9.0,9.0,9.0,8.0,8.0,8.0,8.0,8.0,8.0,8.0,8.0,6.0,3.0,4.0,9.0,9.0,9.0,9.0,8.0,8.0,8.0,8.0,8.0,8.0,8.0,8.0,8.0,8.0,8.0,8.0,7.0,7.0,7.0,7.0,7.0,7.0,7.0,7.0,6.0,6.0,6.0,6.0,6.0,6.0,6.0,6.0,6.0,6.0,6.0,6.0,6.0,6.0,6.0,6.0,6.0,6.0],\"yaxis\":\"y\",\"type\":\"scattergl\"},{\"hovertemplate\":\"Driver=RUS\\u003cbr\\u003eLap=%{x}\\u003cbr\\u003ePosition=%{y}\\u003cextra\\u003e\\u003c\\u002fextra\\u003e\",\"legendgroup\":\"RUS\",\"line\":{\"color\":\"#24ffff\",\"dash\":\"solid\"},\"marker\":{\"symbol\":\"circle\"},\"mode\":\"lines+markers\",\"name\":\"RUS\",\"showlegend\":true,\"x\":[1.0,2.0,3.0,4.0,5.0,6.0,7.0,8.0,9.0,10.0,11.0,12.0,13.0,14.0,15.0,16.0,17.0,18.0,19.0,20.0,21.0,22.0,23.0,24.0,25.0,26.0,27.0,28.0,29.0,30.0,31.0,32.0,33.0,34.0,35.0,36.0,37.0,38.0,39.0,40.0,41.0,42.0,43.0,44.0,45.0,46.0,47.0,48.0,49.0,50.0,51.0,52.0,53.0,54.0,55.0,56.0,57.0],\"xaxis\":\"x\",\"y\":[6.0,6.0,6.0,6.0,6.0,6.0,6.0,6.0,6.0,6.0,6.0,5.0,7.0,10.0,9.0,8.0,8.0,7.0,7.0,7.0,7.0,7.0,7.0,7.0,7.0,7.0,7.0,7.0,7.0,7.0,6.0,8.0,8.0,8.0,8.0,8.0,8.0,8.0,8.0,7.0,7.0,7.0,7.0,7.0,7.0,7.0,7.0,7.0,7.0,7.0,7.0,7.0,7.0,7.0,7.0,7.0,7.0],\"yaxis\":\"y\",\"type\":\"scattergl\"},{\"hovertemplate\":\"Driver=BOT\\u003cbr\\u003eLap=%{x}\\u003cbr\\u003ePosition=%{y}\\u003cextra\\u003e\\u003c\\u002fextra\\u003e\",\"legendgroup\":\"BOT\",\"line\":{\"color\":\"#900000\",\"dash\":\"solid\"},\"marker\":{\"symbol\":\"circle\"},\"mode\":\"lines+markers\",\"name\":\"BOT\",\"showlegend\":true,\"x\":[1.0,2.0,3.0,4.0,5.0,6.0,7.0,8.0,9.0,10.0,11.0,12.0,13.0,14.0,15.0,16.0,17.0,18.0,19.0,20.0,21.0,22.0,23.0,24.0,25.0,26.0,27.0,28.0,29.0,30.0,31.0,32.0,33.0,34.0,35.0,36.0,37.0,38.0,39.0,40.0,41.0,42.0,43.0,44.0,45.0,46.0,47.0,48.0,49.0,50.0,51.0,52.0,53.0,54.0,55.0,56.0,57.0],\"xaxis\":\"x\",\"y\":[8.0,8.0,8.0,8.0,9.0,9.0,9.0,9.0,9.0,9.0,9.0,14.0,10.0,8.0,7.0,6.0,7.0,8.0,8.0,9.0,9.0,9.0,9.0,9.0,9.0,9.0,9.0,9.0,9.0,11.0,10.0,9.0,9.0,9.0,9.0,9.0,9.0,9.0,9.0,8.0,8.0,8.0,8.0,8.0,8.0,8.0,8.0,8.0,8.0,8.0,8.0,8.0,8.0,8.0,8.0,8.0,8.0],\"yaxis\":\"y\",\"type\":\"scattergl\"},{\"hovertemplate\":\"Driver=GAS\\u003cbr\\u003eLap=%{x}\\u003cbr\\u003ePosition=%{y}\\u003cextra\\u003e\\u003c\\u002fextra\\u003e\",\"legendgroup\":\"GAS\",\"line\":{\"color\":\"#0090ff\",\"dash\":\"solid\"},\"marker\":{\"symbol\":\"circle\"},\"mode\":\"lines+markers\",\"name\":\"GAS\",\"showlegend\":true,\"x\":[1.0,2.0,3.0,4.0,5.0,6.0,7.0,8.0,9.0,10.0,11.0,12.0,13.0,14.0,15.0,16.0,17.0,18.0,19.0,20.0,21.0,22.0,23.0,24.0,25.0,26.0,27.0,28.0,29.0,30.0,31.0,32.0,33.0,34.0,35.0,36.0,37.0,38.0,39.0,40.0,41.0,42.0,43.0,44.0,45.0,46.0,47.0,48.0,49.0,50.0,51.0,52.0,53.0,54.0,55.0,56.0,57.0],\"xaxis\":\"x\",\"y\":[19.0,18.0,18.0,18.0,18.0,18.0,18.0,18.0,19.0,20.0,19.0,17.0,14.0,14.0,14.0,12.0,12.0,12.0,12.0,12.0,12.0,12.0,12.0,12.0,12.0,17.0,15.0,14.0,14.0,13.0,12.0,12.0,11.0,11.0,11.0,11.0,11.0,11.0,11.0,10.0,10.0,9.0,9.0,9.0,9.0,9.0,9.0,9.0,9.0,9.0,9.0,9.0,9.0,9.0,9.0,9.0,9.0],\"yaxis\":\"y\",\"type\":\"scattergl\"},{\"hovertemplate\":\"Driver=ALB\\u003cbr\\u003eLap=%{x}\\u003cbr\\u003ePosition=%{y}\\u003cextra\\u003e\\u003c\\u002fextra\\u003e\",\"legendgroup\":\"ALB\",\"line\":{\"color\":\"#005aff\",\"dash\":\"solid\"},\"marker\":{\"symbol\":\"circle\"},\"mode\":\"lines+markers\",\"name\":\"ALB\",\"showlegend\":true,\"x\":[1.0,2.0,3.0,4.0,5.0,6.0,7.0,8.0,9.0,10.0,11.0,12.0,13.0,14.0,15.0,16.0,17.0,18.0,19.0,20.0,21.0,22.0,23.0,24.0,25.0,26.0,27.0,28.0,29.0,30.0,31.0,32.0,33.0,34.0,35.0,36.0,37.0,38.0,39.0,40.0,41.0,42.0,43.0,44.0,45.0,46.0,47.0,48.0,49.0,50.0,51.0,52.0,53.0,54.0,55.0,56.0,57.0],\"xaxis\":\"x\",\"y\":[12.0,12.0,12.0,11.0,11.0,11.0,11.0,11.0,11.0,11.0,12.0,15.0,11.0,11.0,10.0,10.0,10.0,10.0,10.0,10.0,10.0,10.0,10.0,10.0,10.0,10.0,14.0,13.0,12.0,12.0,11.0,11.0,10.0,10.0,10.0,10.0,10.0,10.0,10.0,9.0,9.0,10.0,10.0,10.0,10.0,10.0,10.0,10.0,10.0,10.0,10.0,10.0,10.0,10.0,10.0,10.0,10.0],\"yaxis\":\"y\",\"type\":\"scattergl\"},{\"hovertemplate\":\"Driver=TSU\\u003cbr\\u003eLap=%{x}\\u003cbr\\u003ePosition=%{y}\\u003cextra\\u003e\\u003c\\u002fextra\\u003e\",\"legendgroup\":\"TSU\",\"line\":{\"color\":\"#356cac\",\"dash\":\"solid\"},\"marker\":{\"symbol\":\"circle\"},\"mode\":\"lines+markers\",\"name\":\"TSU\",\"showlegend\":true,\"x\":[1.0,2.0,3.0,4.0,5.0,6.0,7.0,8.0,9.0,10.0,11.0,12.0,13.0,14.0,15.0,16.0,17.0,18.0,19.0,20.0,21.0,22.0,23.0,24.0,25.0,26.0,27.0,28.0,29.0,30.0,31.0,32.0,33.0,34.0,35.0,36.0,37.0,38.0,39.0,40.0,41.0,42.0,43.0,44.0,45.0,46.0,47.0,48.0,49.0,50.0,51.0,52.0,53.0,54.0,55.0,56.0,57.0],\"xaxis\":\"x\",\"y\":[15.0,15.0,15.0,14.0,14.0,14.0,14.0,14.0,14.0,14.0,18.0,16.0,13.0,13.0,12.0,11.0,11.0,11.0,11.0,11.0,11.0,11.0,11.0,11.0,11.0,11.0,16.0,15.0,15.0,14.0,13.0,13.0,12.0,12.0,12.0,12.0,12.0,12.0,12.0,11.0,13.0,11.0,11.0,11.0,11.0,11.0,11.0,11.0,11.0,11.0,11.0,11.0,11.0,11.0,11.0,11.0,11.0],\"yaxis\":\"y\",\"type\":\"scattergl\"},{\"hovertemplate\":\"Driver=SAR\\u003cbr\\u003eLap=%{x}\\u003cbr\\u003ePosition=%{y}\\u003cextra\\u003e\\u003c\\u002fextra\\u003e\",\"legendgroup\":\"SAR\",\"line\":{\"color\":\"#012564\",\"dash\":\"solid\"},\"marker\":{\"symbol\":\"circle\"},\"mode\":\"lines+markers\",\"name\":\"SAR\",\"showlegend\":true,\"x\":[1.0,2.0,3.0,4.0,5.0,6.0,7.0,8.0,9.0,10.0,11.0,12.0,13.0,14.0,15.0,16.0,17.0,18.0,19.0,20.0,21.0,22.0,23.0,24.0,25.0,26.0,27.0,28.0,29.0,30.0,31.0,32.0,33.0,34.0,35.0,36.0,37.0,38.0,39.0,40.0,41.0,42.0,43.0,44.0,45.0,46.0,47.0,48.0,49.0,50.0,51.0,52.0,53.0,54.0,55.0,56.0],\"xaxis\":\"x\",\"y\":[13.0,13.0,13.0,13.0,13.0,13.0,13.0,13.0,13.0,12.0,11.0,10.0,15.0,15.0,15.0,13.0,13.0,13.0,13.0,13.0,13.0,13.0,13.0,13.0,13.0,12.0,10.0,10.0,10.0,10.0,14.0,14.0,13.0,13.0,13.0,13.0,13.0,13.0,13.0,12.0,14.0,14.0,14.0,13.0,13.0,13.0,12.0,12.0,12.0,12.0,12.0,12.0,12.0,12.0,12.0,12.0],\"yaxis\":\"y\",\"type\":\"scattergl\"},{\"hovertemplate\":\"Driver=MAG\\u003cbr\\u003eLap=%{x}\\u003cbr\\u003ePosition=%{y}\\u003cextra\\u003e\\u003c\\u002fextra\\u003e\",\"legendgroup\":\"MAG\",\"line\":{\"color\":\"#ffffff\",\"dash\":\"solid\"},\"marker\":{\"symbol\":\"circle\"},\"mode\":\"lines+markers\",\"name\":\"MAG\",\"showlegend\":true,\"x\":[1.0,2.0,3.0,4.0,5.0,6.0,7.0,8.0,9.0,10.0,11.0,12.0,13.0,14.0,15.0,16.0,17.0,18.0,19.0,20.0,21.0,22.0,23.0,24.0,25.0,26.0,27.0,28.0,29.0,30.0,31.0,32.0,33.0,34.0,35.0,36.0,37.0,38.0,39.0,40.0,41.0,42.0,43.0,44.0,45.0,46.0,47.0,48.0,49.0,50.0,51.0,52.0,53.0,54.0,55.0,56.0],\"xaxis\":\"x\",\"y\":[18.0,19.0,20.0,20.0,20.0,20.0,20.0,20.0,20.0,19.0,15.0,13.0,9.0,9.0,11.0,18.0,18.0,17.0,17.0,17.0,17.0,17.0,17.0,17.0,17.0,15.0,13.0,12.0,13.0,17.0,17.0,16.0,16.0,16.0,16.0,16.0,16.0,16.0,16.0,15.0,15.0,15.0,15.0,15.0,15.0,15.0,15.0,15.0,15.0,15.0,14.0,14.0,14.0,14.0,13.0,13.0],\"yaxis\":\"y\",\"type\":\"scattergl\"},{\"hovertemplate\":\"Driver=DEV\\u003cbr\\u003eLap=%{x}\\u003cbr\\u003ePosition=%{y}\\u003cextra\\u003e\\u003c\\u002fextra\\u003e\",\"legendgroup\":\"DEV\",\"line\":{\"color\":\"#1e3d61\",\"dash\":\"solid\"},\"marker\":{\"symbol\":\"circle\"},\"mode\":\"lines+markers\",\"name\":\"DEV\",\"showlegend\":true,\"x\":[1.0,2.0,3.0,4.0,5.0,6.0,7.0,8.0,9.0,10.0,11.0,12.0,13.0,14.0,15.0,16.0,17.0,18.0,19.0,20.0,21.0,22.0,23.0,24.0,25.0,26.0,27.0,28.0,29.0,30.0,31.0,32.0,33.0,34.0,35.0,36.0,37.0,38.0,39.0,40.0,41.0,42.0,43.0,44.0,45.0,46.0,47.0,48.0,49.0,50.0,51.0,52.0,53.0,54.0,55.0,56.0],\"xaxis\":\"x\",\"y\":[20.0,20.0,19.0,19.0,19.0,19.0,19.0,19.0,18.0,18.0,17.0,19.0,18.0,17.0,17.0,15.0,14.0,14.0,14.0,14.0,14.0,14.0,14.0,14.0,15.0,14.0,12.0,16.0,16.0,15.0,15.0,15.0,14.0,14.0,14.0,14.0,14.0,14.0,14.0,13.0,11.0,12.0,13.0,14.0,14.0,14.0,14.0,14.0,14.0,14.0,15.0,15.0,15.0,15.0,14.0,14.0],\"yaxis\":\"y\",\"type\":\"scattergl\"},{\"hovertemplate\":\"Driver=HUL\\u003cbr\\u003eLap=%{x}\\u003cbr\\u003ePosition=%{y}\\u003cextra\\u003e\\u003c\\u002fextra\\u003e\",\"legendgroup\":\"HUL\",\"line\":{\"color\":\"#cacaca\",\"dash\":\"solid\"},\"marker\":{\"symbol\":\"circle\"},\"mode\":\"lines+markers\",\"name\":\"HUL\",\"showlegend\":true,\"x\":[1.0,2.0,3.0,4.0,5.0,6.0,7.0,8.0,9.0,10.0,11.0,12.0,13.0,14.0,15.0,16.0,17.0,18.0,19.0,20.0,21.0,22.0,23.0,24.0,25.0,26.0,27.0,28.0,29.0,30.0,31.0,32.0,33.0,34.0,35.0,36.0,37.0,38.0,39.0,40.0,41.0,42.0,43.0,44.0,45.0,46.0,47.0,48.0,49.0,50.0,51.0,52.0,53.0,54.0,55.0,56.0],\"xaxis\":\"x\",\"y\":[14.0,14.0,14.0,15.0,15.0,15.0,15.0,15.0,15.0,15.0,16.0,20.0,19.0,18.0,18.0,16.0,16.0,16.0,16.0,16.0,16.0,16.0,16.0,16.0,16.0,16.0,19.0,18.0,18.0,18.0,18.0,17.0,17.0,17.0,17.0,17.0,17.0,17.0,17.0,16.0,16.0,16.0,16.0,16.0,16.0,16.0,16.0,16.0,16.0,16.0,16.0,16.0,16.0,16.0,15.0,15.0],\"yaxis\":\"y\",\"type\":\"scattergl\"},{\"hovertemplate\":\"Driver=ZHO\\u003cbr\\u003eLap=%{x}\\u003cbr\\u003ePosition=%{y}\\u003cextra\\u003e\\u003c\\u002fextra\\u003e\",\"legendgroup\":\"ZHO\",\"line\":{\"color\":\"#500000\",\"dash\":\"solid\"},\"marker\":{\"symbol\":\"circle\"},\"mode\":\"lines+markers\",\"name\":\"ZHO\",\"showlegend\":true,\"x\":[1.0,2.0,3.0,4.0,5.0,6.0,7.0,8.0,9.0,10.0,11.0,12.0,13.0,14.0,15.0,16.0,17.0,18.0,19.0,20.0,21.0,22.0,23.0,24.0,25.0,26.0,27.0,28.0,29.0,30.0,31.0,32.0,33.0,34.0,35.0,36.0,37.0,38.0,39.0,40.0,41.0,42.0,43.0,44.0,45.0,46.0,47.0,48.0,49.0,50.0,51.0,52.0,53.0,54.0,55.0,56.0],\"xaxis\":\"x\",\"y\":[17.0,17.0,17.0,17.0,17.0,17.0,17.0,17.0,17.0,17.0,14.0,12.0,20.0,19.0,19.0,17.0,17.0,15.0,15.0,15.0,15.0,15.0,15.0,15.0,14.0,13.0,11.0,11.0,11.0,9.0,9.0,10.0,15.0,15.0,15.0,15.0,15.0,15.0,15.0,14.0,12.0,13.0,12.0,12.0,12.0,12.0,13.0,13.0,13.0,13.0,13.0,13.0,13.0,13.0,16.0,16.0],\"yaxis\":\"y\",\"type\":\"scattergl\"},{\"hovertemplate\":\"Driver=NOR\\u003cbr\\u003eLap=%{x}\\u003cbr\\u003ePosition=%{y}\\u003cextra\\u003e\\u003c\\u002fextra\\u003e\",\"legendgroup\":\"NOR\",\"line\":{\"color\":\"#eeb370\",\"dash\":\"solid\"},\"marker\":{\"symbol\":\"circle\"},\"mode\":\"lines+markers\",\"name\":\"NOR\",\"showlegend\":true,\"x\":[1.0,2.0,3.0,4.0,5.0,6.0,7.0,8.0,9.0,10.0,11.0,12.0,13.0,14.0,15.0,16.0,17.0,18.0,19.0,20.0,21.0,22.0,23.0,24.0,25.0,26.0,27.0,28.0,29.0,30.0,31.0,32.0,33.0,34.0,35.0,36.0,37.0,38.0,39.0,40.0,41.0,42.0,43.0,44.0,45.0,46.0,47.0,48.0,49.0,50.0,51.0,52.0,53.0,54.0,55.0],\"xaxis\":\"x\",\"y\":[10.0,10.0,10.0,12.0,12.0,12.0,12.0,12.0,12.0,13.0,20.0,18.0,17.0,16.0,16.0,14.0,15.0,19.0,19.0,19.0,19.0,19.0,18.0,18.0,18.0,18.0,17.0,19.0,19.0,19.0,19.0,19.0,18.0,18.0,18.0,18.0,18.0,19.0,19.0,18.0,18.0,17.0,17.0,17.0,17.0,17.0,17.0,17.0,17.0,17.0,17.0,17.0,17.0,17.0,17.0],\"yaxis\":\"y\",\"type\":\"scattergl\"},{\"hovertemplate\":\"Driver=OCO\\u003cbr\\u003eLap=%{x}\\u003cbr\\u003ePosition=%{y}\\u003cextra\\u003e\\u003c\\u002fextra\\u003e\",\"legendgroup\":\"OCO\",\"line\":{\"color\":\"#70c2ff\",\"dash\":\"solid\"},\"marker\":{\"symbol\":\"circle\"},\"mode\":\"lines+markers\",\"name\":\"OCO\",\"showlegend\":true,\"x\":[1.0,2.0,3.0,4.0,5.0,6.0,7.0,8.0,9.0,10.0,11.0,12.0,13.0,14.0,15.0,16.0,17.0,18.0,19.0,20.0,21.0,22.0,23.0,24.0,25.0,26.0,27.0,28.0,29.0,30.0,31.0,32.0,33.0,34.0,35.0,36.0,37.0,38.0,39.0,40.0,41.0],\"xaxis\":\"x\",\"y\":[11.0,11.0,11.0,10.0,10.0,10.0,10.0,10.0,10.0,10.0,10.0,9.0,12.0,12.0,13.0,19.0,19.0,18.0,18.0,18.0,18.0,18.0,19.0,19.0,19.0,19.0,18.0,17.0,17.0,16.0,16.0,18.0,19.0,19.0,19.0,19.0,19.0,18.0,18.0,17.0,17.0],\"yaxis\":\"y\",\"type\":\"scattergl\"},{\"hovertemplate\":\"Driver=LEC\\u003cbr\\u003eLap=%{x}\\u003cbr\\u003ePosition=%{y}\\u003cextra\\u003e\\u003c\\u002fextra\\u003e\",\"legendgroup\":\"LEC\",\"line\":{\"color\":\"#dc0000\",\"dash\":\"solid\"},\"marker\":{\"symbol\":\"circle\"},\"mode\":\"lines+markers\",\"name\":\"LEC\",\"showlegend\":true,\"x\":[1.0,2.0,3.0,4.0,5.0,6.0,7.0,8.0,9.0,10.0,11.0,12.0,13.0,14.0,15.0,16.0,17.0,18.0,19.0,20.0,21.0,22.0,23.0,24.0,25.0,26.0,27.0,28.0,29.0,30.0,31.0,32.0,33.0,34.0,35.0,36.0,37.0,38.0,39.0,40.0],\"xaxis\":\"x\",\"y\":[2.0,2.0,2.0,2.0,2.0,2.0,2.0,2.0,2.0,2.0,2.0,2.0,3.0,5.0,3.0,3.0,3.0,2.0,2.0,2.0,2.0,2.0,2.0,2.0,2.0,3.0,3.0,3.0,3.0,3.0,3.0,3.0,3.0,4.0,3.0,3.0,3.0,3.0,3.0,null],\"yaxis\":\"y\",\"type\":\"scattergl\"},{\"hovertemplate\":\"Driver=PIA\\u003cbr\\u003eLap=%{x}\\u003cbr\\u003ePosition=%{y}\\u003cextra\\u003e\\u003c\\u002fextra\\u003e\",\"legendgroup\":\"PIA\",\"line\":{\"color\":\"#ff8700\",\"dash\":\"solid\"},\"marker\":{\"symbol\":\"circle\"},\"mode\":\"lines+markers\",\"name\":\"PIA\",\"showlegend\":true,\"x\":[1.0,2.0,3.0,4.0,5.0,6.0,7.0,8.0,9.0,10.0,11.0,12.0,13.0],\"xaxis\":\"x\",\"y\":[16.0,16.0,16.0,16.0,16.0,16.0,16.0,16.0,16.0,16.0,13.0,11.0,16.0],\"yaxis\":\"y\",\"type\":\"scattergl\"}],                        {\"template\":{\"data\":{\"histogram2dcontour\":[{\"type\":\"histogram2dcontour\",\"colorbar\":{\"outlinewidth\":0,\"ticks\":\"\"},\"colorscale\":[[0.0,\"#0d0887\"],[0.1111111111111111,\"#46039f\"],[0.2222222222222222,\"#7201a8\"],[0.3333333333333333,\"#9c179e\"],[0.4444444444444444,\"#bd3786\"],[0.5555555555555556,\"#d8576b\"],[0.6666666666666666,\"#ed7953\"],[0.7777777777777778,\"#fb9f3a\"],[0.8888888888888888,\"#fdca26\"],[1.0,\"#f0f921\"]]}],\"choropleth\":[{\"type\":\"choropleth\",\"colorbar\":{\"outlinewidth\":0,\"ticks\":\"\"}}],\"histogram2d\":[{\"type\":\"histogram2d\",\"colorbar\":{\"outlinewidth\":0,\"ticks\":\"\"},\"colorscale\":[[0.0,\"#0d0887\"],[0.1111111111111111,\"#46039f\"],[0.2222222222222222,\"#7201a8\"],[0.3333333333333333,\"#9c179e\"],[0.4444444444444444,\"#bd3786\"],[0.5555555555555556,\"#d8576b\"],[0.6666666666666666,\"#ed7953\"],[0.7777777777777778,\"#fb9f3a\"],[0.8888888888888888,\"#fdca26\"],[1.0,\"#f0f921\"]]}],\"heatmap\":[{\"type\":\"heatmap\",\"colorbar\":{\"outlinewidth\":0,\"ticks\":\"\"},\"colorscale\":[[0.0,\"#0d0887\"],[0.1111111111111111,\"#46039f\"],[0.2222222222222222,\"#7201a8\"],[0.3333333333333333,\"#9c179e\"],[0.4444444444444444,\"#bd3786\"],[0.5555555555555556,\"#d8576b\"],[0.6666666666666666,\"#ed7953\"],[0.7777777777777778,\"#fb9f3a\"],[0.8888888888888888,\"#fdca26\"],[1.0,\"#f0f921\"]]}],\"heatmapgl\":[{\"type\":\"heatmapgl\",\"colorbar\":{\"outlinewidth\":0,\"ticks\":\"\"},\"colorscale\":[[0.0,\"#0d0887\"],[0.1111111111111111,\"#46039f\"],[0.2222222222222222,\"#7201a8\"],[0.3333333333333333,\"#9c179e\"],[0.4444444444444444,\"#bd3786\"],[0.5555555555555556,\"#d8576b\"],[0.6666666666666666,\"#ed7953\"],[0.7777777777777778,\"#fb9f3a\"],[0.8888888888888888,\"#fdca26\"],[1.0,\"#f0f921\"]]}],\"contourcarpet\":[{\"type\":\"contourcarpet\",\"colorbar\":{\"outlinewidth\":0,\"ticks\":\"\"}}],\"contour\":[{\"type\":\"contour\",\"colorbar\":{\"outlinewidth\":0,\"ticks\":\"\"},\"colorscale\":[[0.0,\"#0d0887\"],[0.1111111111111111,\"#46039f\"],[0.2222222222222222,\"#7201a8\"],[0.3333333333333333,\"#9c179e\"],[0.4444444444444444,\"#bd3786\"],[0.5555555555555556,\"#d8576b\"],[0.6666666666666666,\"#ed7953\"],[0.7777777777777778,\"#fb9f3a\"],[0.8888888888888888,\"#fdca26\"],[1.0,\"#f0f921\"]]}],\"surface\":[{\"type\":\"surface\",\"colorbar\":{\"outlinewidth\":0,\"ticks\":\"\"},\"colorscale\":[[0.0,\"#0d0887\"],[0.1111111111111111,\"#46039f\"],[0.2222222222222222,\"#7201a8\"],[0.3333333333333333,\"#9c179e\"],[0.4444444444444444,\"#bd3786\"],[0.5555555555555556,\"#d8576b\"],[0.6666666666666666,\"#ed7953\"],[0.7777777777777778,\"#fb9f3a\"],[0.8888888888888888,\"#fdca26\"],[1.0,\"#f0f921\"]]}],\"mesh3d\":[{\"type\":\"mesh3d\",\"colorbar\":{\"outlinewidth\":0,\"ticks\":\"\"}}],\"scatter\":[{\"fillpattern\":{\"fillmode\":\"overlay\",\"size\":10,\"solidity\":0.2},\"type\":\"scatter\"}],\"parcoords\":[{\"type\":\"parcoords\",\"line\":{\"colorbar\":{\"outlinewidth\":0,\"ticks\":\"\"}}}],\"scatterpolargl\":[{\"type\":\"scatterpolargl\",\"marker\":{\"colorbar\":{\"outlinewidth\":0,\"ticks\":\"\"}}}],\"bar\":[{\"error_x\":{\"color\":\"#2a3f5f\"},\"error_y\":{\"color\":\"#2a3f5f\"},\"marker\":{\"line\":{\"color\":\"#E5ECF6\",\"width\":0.5},\"pattern\":{\"fillmode\":\"overlay\",\"size\":10,\"solidity\":0.2}},\"type\":\"bar\"}],\"scattergeo\":[{\"type\":\"scattergeo\",\"marker\":{\"colorbar\":{\"outlinewidth\":0,\"ticks\":\"\"}}}],\"scatterpolar\":[{\"type\":\"scatterpolar\",\"marker\":{\"colorbar\":{\"outlinewidth\":0,\"ticks\":\"\"}}}],\"histogram\":[{\"marker\":{\"pattern\":{\"fillmode\":\"overlay\",\"size\":10,\"solidity\":0.2}},\"type\":\"histogram\"}],\"scattergl\":[{\"type\":\"scattergl\",\"marker\":{\"colorbar\":{\"outlinewidth\":0,\"ticks\":\"\"}}}],\"scatter3d\":[{\"type\":\"scatter3d\",\"line\":{\"colorbar\":{\"outlinewidth\":0,\"ticks\":\"\"}},\"marker\":{\"colorbar\":{\"outlinewidth\":0,\"ticks\":\"\"}}}],\"scattermapbox\":[{\"type\":\"scattermapbox\",\"marker\":{\"colorbar\":{\"outlinewidth\":0,\"ticks\":\"\"}}}],\"scatterternary\":[{\"type\":\"scatterternary\",\"marker\":{\"colorbar\":{\"outlinewidth\":0,\"ticks\":\"\"}}}],\"scattercarpet\":[{\"type\":\"scattercarpet\",\"marker\":{\"colorbar\":{\"outlinewidth\":0,\"ticks\":\"\"}}}],\"carpet\":[{\"aaxis\":{\"endlinecolor\":\"#2a3f5f\",\"gridcolor\":\"white\",\"linecolor\":\"white\",\"minorgridcolor\":\"white\",\"startlinecolor\":\"#2a3f5f\"},\"baxis\":{\"endlinecolor\":\"#2a3f5f\",\"gridcolor\":\"white\",\"linecolor\":\"white\",\"minorgridcolor\":\"white\",\"startlinecolor\":\"#2a3f5f\"},\"type\":\"carpet\"}],\"table\":[{\"cells\":{\"fill\":{\"color\":\"#EBF0F8\"},\"line\":{\"color\":\"white\"}},\"header\":{\"fill\":{\"color\":\"#C8D4E3\"},\"line\":{\"color\":\"white\"}},\"type\":\"table\"}],\"barpolar\":[{\"marker\":{\"line\":{\"color\":\"#E5ECF6\",\"width\":0.5},\"pattern\":{\"fillmode\":\"overlay\",\"size\":10,\"solidity\":0.2}},\"type\":\"barpolar\"}],\"pie\":[{\"automargin\":true,\"type\":\"pie\"}]},\"layout\":{\"autotypenumbers\":\"strict\",\"colorway\":[\"#636efa\",\"#EF553B\",\"#00cc96\",\"#ab63fa\",\"#FFA15A\",\"#19d3f3\",\"#FF6692\",\"#B6E880\",\"#FF97FF\",\"#FECB52\"],\"font\":{\"color\":\"#2a3f5f\"},\"hovermode\":\"closest\",\"hoverlabel\":{\"align\":\"left\"},\"paper_bgcolor\":\"white\",\"plot_bgcolor\":\"#E5ECF6\",\"polar\":{\"bgcolor\":\"#E5ECF6\",\"angularaxis\":{\"gridcolor\":\"white\",\"linecolor\":\"white\",\"ticks\":\"\"},\"radialaxis\":{\"gridcolor\":\"white\",\"linecolor\":\"white\",\"ticks\":\"\"}},\"ternary\":{\"bgcolor\":\"#E5ECF6\",\"aaxis\":{\"gridcolor\":\"white\",\"linecolor\":\"white\",\"ticks\":\"\"},\"baxis\":{\"gridcolor\":\"white\",\"linecolor\":\"white\",\"ticks\":\"\"},\"caxis\":{\"gridcolor\":\"white\",\"linecolor\":\"white\",\"ticks\":\"\"}},\"coloraxis\":{\"colorbar\":{\"outlinewidth\":0,\"ticks\":\"\"}},\"colorscale\":{\"sequential\":[[0.0,\"#0d0887\"],[0.1111111111111111,\"#46039f\"],[0.2222222222222222,\"#7201a8\"],[0.3333333333333333,\"#9c179e\"],[0.4444444444444444,\"#bd3786\"],[0.5555555555555556,\"#d8576b\"],[0.6666666666666666,\"#ed7953\"],[0.7777777777777778,\"#fb9f3a\"],[0.8888888888888888,\"#fdca26\"],[1.0,\"#f0f921\"]],\"sequentialminus\":[[0.0,\"#0d0887\"],[0.1111111111111111,\"#46039f\"],[0.2222222222222222,\"#7201a8\"],[0.3333333333333333,\"#9c179e\"],[0.4444444444444444,\"#bd3786\"],[0.5555555555555556,\"#d8576b\"],[0.6666666666666666,\"#ed7953\"],[0.7777777777777778,\"#fb9f3a\"],[0.8888888888888888,\"#fdca26\"],[1.0,\"#f0f921\"]],\"diverging\":[[0,\"#8e0152\"],[0.1,\"#c51b7d\"],[0.2,\"#de77ae\"],[0.3,\"#f1b6da\"],[0.4,\"#fde0ef\"],[0.5,\"#f7f7f7\"],[0.6,\"#e6f5d0\"],[0.7,\"#b8e186\"],[0.8,\"#7fbc41\"],[0.9,\"#4d9221\"],[1,\"#276419\"]]},\"xaxis\":{\"gridcolor\":\"white\",\"linecolor\":\"white\",\"ticks\":\"\",\"title\":{\"standoff\":15},\"zerolinecolor\":\"white\",\"automargin\":true,\"zerolinewidth\":2},\"yaxis\":{\"gridcolor\":\"white\",\"linecolor\":\"white\",\"ticks\":\"\",\"title\":{\"standoff\":15},\"zerolinecolor\":\"white\",\"automargin\":true,\"zerolinewidth\":2},\"scene\":{\"xaxis\":{\"backgroundcolor\":\"#E5ECF6\",\"gridcolor\":\"white\",\"linecolor\":\"white\",\"showbackground\":true,\"ticks\":\"\",\"zerolinecolor\":\"white\",\"gridwidth\":2},\"yaxis\":{\"backgroundcolor\":\"#E5ECF6\",\"gridcolor\":\"white\",\"linecolor\":\"white\",\"showbackground\":true,\"ticks\":\"\",\"zerolinecolor\":\"white\",\"gridwidth\":2},\"zaxis\":{\"backgroundcolor\":\"#E5ECF6\",\"gridcolor\":\"white\",\"linecolor\":\"white\",\"showbackground\":true,\"ticks\":\"\",\"zerolinecolor\":\"white\",\"gridwidth\":2}},\"shapedefaults\":{\"line\":{\"color\":\"#2a3f5f\"}},\"annotationdefaults\":{\"arrowcolor\":\"#2a3f5f\",\"arrowhead\":0,\"arrowwidth\":1},\"geo\":{\"bgcolor\":\"white\",\"landcolor\":\"#E5ECF6\",\"subunitcolor\":\"white\",\"showland\":true,\"showlakes\":true,\"lakecolor\":\"white\"},\"title\":{\"x\":0.05},\"mapbox\":{\"style\":\"light\"}}},\"xaxis\":{\"anchor\":\"y\",\"domain\":[0.0,1.0],\"title\":{\"text\":\"Lap\"}},\"yaxis\":{\"anchor\":\"x\",\"domain\":[0.0,1.0],\"title\":{\"text\":\"Position\"},\"categoryorder\":\"array\",\"categoryarray\":[1,2,3,4,5,6,7,8,9,10,11,12,13,14,15,16,17,18,19,20],\"autorange\":\"reversed\"},\"legend\":{\"title\":{\"text\":\"Driver\"},\"tracegroupgap\":0},\"margin\":{\"t\":60},\"title\":{\"text\":\"Driver Positions by Lap\"}},                        {\"responsive\": true}                    ).then(function(){\n                            \nvar gd = document.getElementById('c1f958e2-a0fb-43b6-b543-a3065cc32bfd');\nvar x = new MutationObserver(function (mutations, observer) {{\n        var display = window.getComputedStyle(gd).display;\n        if (!display || display === 'none') {{\n            console.log([gd, 'removed!']);\n            Plotly.purge(gd);\n            observer.disconnect();\n        }}\n}});\n\n// Listen for the removal of the full notebook cells\nvar notebookContainer = gd.closest('#notebook-container');\nif (notebookContainer) {{\n    x.observe(notebookContainer, {childList: true});\n}}\n\n// Listen for the clearing of the current output cell\nvar outputEl = gd.closest('.output');\nif (outputEl) {{\n    x.observe(outputEl, {childList: true});\n}}\n\n                        })                };                });            </script>        </div>"
     },
     "metadata": {},
     "output_type": "display_data"
    }
   ],
   "source": [
    "import fastf1\n",
    "import fastf1.plotting\n",
    "import pandas as pd\n",
    "import plotly.express as px\n",
    "\n",
    "# Setup\n",
    "fastf1.plotting.setup_mpl(misc_mpl_mods=False)\n",
    "session = fastf1.get_session(2023, 1, 'R')\n",
    "session.load(telemetry=False, weather=False)\n",
    "\n",
    "# Preparing Data\n",
    "all_laps = pd.DataFrame()\n",
    "for drv in session.drivers:\n",
    "    drv_laps = session.laps.pick_driver(drv).copy()\n",
    "    drv_laps['Color'] = fastf1.plotting.driver_color(drv_laps['Driver'].iloc[0])\n",
    "    all_laps = pd.concat([all_laps, drv_laps])\n",
    "\n",
    "# Plotting\n",
    "fig = px.line(all_laps, x='LapNumber', y='Position', color='Driver', \n",
    "              line_group='Driver', color_discrete_sequence=all_laps['Color'].unique(),\n",
    "              labels={'Position': 'Position', 'LapNumber': 'Lap'},\n",
    "              category_orders={\"Position\": list(range(20, 0, -1))})\n",
    "\n",
    "# Customization\n",
    "fig.update_layout(yaxis=dict(autorange=\"reversed\"), title=\"Driver Positions by Lap\")\n",
    "fig.update_traces(mode='lines+markers')\n",
    "\n",
    "# Displaying the Plot\n",
    "fig.show()\n"
   ],
   "metadata": {
    "collapsed": false,
    "ExecuteTime": {
     "end_time": "2023-11-21T16:08:55.396493500Z",
     "start_time": "2023-11-21T16:08:52.752124300Z"
    }
   },
   "id": "ce17890f2858f945"
  },
  {
   "cell_type": "code",
   "execution_count": 5,
   "outputs": [
    {
     "name": "stderr",
     "output_type": "stream",
     "text": [
      "core           INFO \tLoading data for British Grand Prix - Race [v3.1.3]\n",
      "req            INFO \tUsing cached data for session_info\n",
      "req            INFO \tUsing cached data for driver_info\n",
      "req            INFO \tUsing cached data for session_status_data\n",
      "req            INFO \tUsing cached data for lap_count\n",
      "req            INFO \tUsing cached data for track_status_data\n",
      "req            INFO \tUsing cached data for _extended_timing_data\n",
      "req            INFO \tUsing cached data for timing_app_data\n",
      "core           INFO \tProcessing timing data...\n",
      "req            INFO \tUsing cached data for car_data\n",
      "req            INFO \tUsing cached data for position_data\n",
      "req            INFO \tUsing cached data for weather_data\n",
      "req            INFO \tUsing cached data for race_control_messages\n",
      "core           INFO \tFinished loading data for 20 drivers: ['1', '4', '44', '81', '63', '11', '14', '23', '16', '55', '2', '77', '27', '18', '24', '22', '21', '10', '20', '31']\n"
     ]
    },
    {
     "data": {
      "application/vnd.plotly.v1+json": {
       "data": [
        {
         "alignmentgroup": "True",
         "hovertemplate": "Team=%{x}<br>LapTime (s)=%{y}<extra></extra>",
         "legendgroup": "Red Bull Racing",
         "marker": {
          "color": "black",
          "size": 5
         },
         "name": "Red Bull Racing",
         "notched": false,
         "offsetgroup": "Red Bull Racing",
         "orientation": "v",
         "showlegend": true,
         "x": [
          "Red Bull Racing",
          "Red Bull Racing",
          "Red Bull Racing",
          "Red Bull Racing",
          "Red Bull Racing",
          "Red Bull Racing",
          "Red Bull Racing",
          "Red Bull Racing",
          "Red Bull Racing",
          "Red Bull Racing",
          "Red Bull Racing",
          "Red Bull Racing",
          "Red Bull Racing",
          "Red Bull Racing",
          "Red Bull Racing",
          "Red Bull Racing",
          "Red Bull Racing",
          "Red Bull Racing",
          "Red Bull Racing",
          "Red Bull Racing",
          "Red Bull Racing",
          "Red Bull Racing",
          "Red Bull Racing",
          "Red Bull Racing",
          "Red Bull Racing",
          "Red Bull Racing",
          "Red Bull Racing",
          "Red Bull Racing",
          "Red Bull Racing",
          "Red Bull Racing",
          "Red Bull Racing",
          "Red Bull Racing",
          "Red Bull Racing",
          "Red Bull Racing",
          "Red Bull Racing",
          "Red Bull Racing",
          "Red Bull Racing",
          "Red Bull Racing",
          "Red Bull Racing",
          "Red Bull Racing",
          "Red Bull Racing",
          "Red Bull Racing",
          "Red Bull Racing",
          "Red Bull Racing",
          "Red Bull Racing",
          "Red Bull Racing",
          "Red Bull Racing",
          "Red Bull Racing",
          "Red Bull Racing",
          "Red Bull Racing",
          "Red Bull Racing",
          "Red Bull Racing",
          "Red Bull Racing",
          "Red Bull Racing",
          "Red Bull Racing",
          "Red Bull Racing",
          "Red Bull Racing",
          "Red Bull Racing",
          "Red Bull Racing",
          "Red Bull Racing",
          "Red Bull Racing",
          "Red Bull Racing",
          "Red Bull Racing",
          "Red Bull Racing",
          "Red Bull Racing",
          "Red Bull Racing",
          "Red Bull Racing",
          "Red Bull Racing",
          "Red Bull Racing",
          "Red Bull Racing",
          "Red Bull Racing",
          "Red Bull Racing",
          "Red Bull Racing",
          "Red Bull Racing",
          "Red Bull Racing",
          "Red Bull Racing",
          "Red Bull Racing",
          "Red Bull Racing",
          "Red Bull Racing",
          "Red Bull Racing",
          "Red Bull Racing",
          "Red Bull Racing",
          "Red Bull Racing",
          "Red Bull Racing",
          "Red Bull Racing",
          "Red Bull Racing",
          "Red Bull Racing",
          "Red Bull Racing"
         ],
         "x0": " ",
         "xaxis": "x",
         "y": [
          93.433,
          92.73,
          92.78,
          92.582,
          93.027,
          93.1,
          92.884,
          92.822,
          92.594,
          92.597,
          92.687,
          92.678,
          93.046,
          92.99,
          92.808,
          92.603,
          92.507,
          92.338,
          92.295,
          92.494,
          92.184,
          92.272,
          92.35,
          92.295,
          92.276,
          92.138,
          92.215,
          92.251,
          92.363,
          92.388,
          92.21,
          90.348,
          90.547,
          90.688,
          90.275,
          90.535,
          90.648,
          91.342,
          91.114,
          91.148,
          91.4,
          91.218,
          91.292,
          91.397,
          90.975,
          95.482,
          94.38,
          94.339,
          94.073,
          93.671,
          93.919,
          93.568,
          93.271,
          93.364,
          93.547,
          93.429,
          93.452,
          93.751,
          93.48,
          93.055,
          93.28,
          93.099,
          93.276,
          93.202,
          93.233,
          93.026,
          93.262,
          92.726,
          92.907,
          92.962,
          92.742,
          92.235,
          91.408,
          91.532,
          92.503,
          91.909,
          91.391,
          91.716,
          92.005,
          91.712,
          91.571,
          91.675,
          91.505,
          91.209,
          91.36,
          91.139,
          90.914,
          91.188
         ],
         "y0": " ",
         "yaxis": "y",
         "type": "box",
         "line": {
          "color": "#0600ef"
         }
        },
        {
         "alignmentgroup": "True",
         "hovertemplate": "Team=%{x}<br>LapTime (s)=%{y}<extra></extra>",
         "legendgroup": "McLaren",
         "marker": {
          "color": "black",
          "size": 5
         },
         "name": "McLaren",
         "notched": false,
         "offsetgroup": "McLaren",
         "orientation": "v",
         "showlegend": true,
         "x": [
          "McLaren",
          "McLaren",
          "McLaren",
          "McLaren",
          "McLaren",
          "McLaren",
          "McLaren",
          "McLaren",
          "McLaren",
          "McLaren",
          "McLaren",
          "McLaren",
          "McLaren",
          "McLaren",
          "McLaren",
          "McLaren",
          "McLaren",
          "McLaren",
          "McLaren",
          "McLaren",
          "McLaren",
          "McLaren",
          "McLaren",
          "McLaren",
          "McLaren",
          "McLaren",
          "McLaren",
          "McLaren",
          "McLaren",
          "McLaren",
          "McLaren",
          "McLaren",
          "McLaren",
          "McLaren",
          "McLaren",
          "McLaren",
          "McLaren",
          "McLaren",
          "McLaren",
          "McLaren",
          "McLaren",
          "McLaren",
          "McLaren",
          "McLaren",
          "McLaren",
          "McLaren",
          "McLaren",
          "McLaren",
          "McLaren",
          "McLaren",
          "McLaren",
          "McLaren",
          "McLaren",
          "McLaren",
          "McLaren",
          "McLaren",
          "McLaren",
          "McLaren",
          "McLaren",
          "McLaren",
          "McLaren",
          "McLaren",
          "McLaren",
          "McLaren",
          "McLaren",
          "McLaren",
          "McLaren",
          "McLaren",
          "McLaren",
          "McLaren",
          "McLaren",
          "McLaren",
          "McLaren",
          "McLaren",
          "McLaren",
          "McLaren",
          "McLaren",
          "McLaren",
          "McLaren",
          "McLaren",
          "McLaren",
          "McLaren",
          "McLaren",
          "McLaren",
          "McLaren",
          "McLaren",
          "McLaren",
          "McLaren",
          "McLaren"
         ],
         "x0": " ",
         "xaxis": "x",
         "y": [
          96.551,
          93.046,
          93.18,
          92.772,
          93.914,
          93.112,
          93.19,
          93.101,
          92.612,
          92.977,
          92.978,
          93.116,
          92.986,
          93.67,
          93.221,
          92.903,
          92.985,
          92.731,
          92.5,
          92.77,
          92.604,
          92.637,
          92.619,
          92.721,
          92.949,
          92.758,
          92.734,
          92.714,
          92.806,
          92.609,
          92.808,
          92.571,
          91.243,
          90.997,
          90.76,
          90.922,
          90.543,
          90.786,
          91.301,
          91.094,
          91.593,
          91.36,
          91.02,
          91.56,
          91.077,
          91.251,
          93.845,
          92.499,
          92.581,
          93.461,
          93.008,
          93.29,
          93.233,
          92.79,
          93.379,
          92.976,
          93.464,
          93.144,
          93.603,
          93.267,
          93.005,
          92.775,
          93.019,
          92.88,
          92.66,
          92.749,
          92.537,
          92.732,
          92.676,
          92.809,
          93.052,
          92.844,
          93.19,
          92.563,
          91.68,
          91.646,
          91.475,
          90.85,
          91.178,
          91.011,
          91.465,
          91.406,
          91.496,
          91.427,
          91.159,
          91.422,
          91.752,
          91.305,
          90.941
         ],
         "y0": " ",
         "yaxis": "y",
         "type": "box",
         "line": {
          "color": "#ff8700"
         }
        },
        {
         "alignmentgroup": "True",
         "hovertemplate": "Team=%{x}<br>LapTime (s)=%{y}<extra></extra>",
         "legendgroup": "Mercedes",
         "marker": {
          "color": "black",
          "size": 5
         },
         "name": "Mercedes",
         "notched": false,
         "offsetgroup": "Mercedes",
         "orientation": "v",
         "showlegend": true,
         "x": [
          "Mercedes",
          "Mercedes",
          "Mercedes",
          "Mercedes",
          "Mercedes",
          "Mercedes",
          "Mercedes",
          "Mercedes",
          "Mercedes",
          "Mercedes",
          "Mercedes",
          "Mercedes",
          "Mercedes",
          "Mercedes",
          "Mercedes",
          "Mercedes",
          "Mercedes",
          "Mercedes",
          "Mercedes",
          "Mercedes",
          "Mercedes",
          "Mercedes",
          "Mercedes",
          "Mercedes",
          "Mercedes",
          "Mercedes",
          "Mercedes",
          "Mercedes",
          "Mercedes",
          "Mercedes",
          "Mercedes",
          "Mercedes",
          "Mercedes",
          "Mercedes",
          "Mercedes",
          "Mercedes",
          "Mercedes",
          "Mercedes",
          "Mercedes",
          "Mercedes",
          "Mercedes",
          "Mercedes",
          "Mercedes",
          "Mercedes",
          "Mercedes",
          "Mercedes",
          "Mercedes",
          "Mercedes",
          "Mercedes",
          "Mercedes",
          "Mercedes",
          "Mercedes",
          "Mercedes",
          "Mercedes",
          "Mercedes",
          "Mercedes",
          "Mercedes",
          "Mercedes",
          "Mercedes",
          "Mercedes",
          "Mercedes",
          "Mercedes",
          "Mercedes",
          "Mercedes",
          "Mercedes",
          "Mercedes",
          "Mercedes",
          "Mercedes",
          "Mercedes",
          "Mercedes",
          "Mercedes",
          "Mercedes",
          "Mercedes",
          "Mercedes",
          "Mercedes",
          "Mercedes",
          "Mercedes",
          "Mercedes",
          "Mercedes",
          "Mercedes",
          "Mercedes",
          "Mercedes",
          "Mercedes",
          "Mercedes",
          "Mercedes",
          "Mercedes",
          "Mercedes",
          "Mercedes"
         ],
         "x0": " ",
         "xaxis": "x",
         "y": [
          94.361,
          93.662,
          93.086,
          93.718,
          94.556,
          93.328,
          93.483,
          93.331,
          93.624,
          93.519,
          93.908,
          93.28,
          93.324,
          93.156,
          92.931,
          93.12,
          93.313,
          93.201,
          92.956,
          92.779,
          92.821,
          92.974,
          92.703,
          93.087,
          92.769,
          92.714,
          92.32,
          92.155,
          92.246,
          92.744,
          95.161,
          91.427,
          91.279,
          90.673,
          91.042,
          90.545,
          91.589,
          91.359,
          91.559,
          91.248,
          91.152,
          91.286,
          91.526,
          91.703,
          91.823,
          94.115,
          93.096,
          93.084,
          94.211,
          93.839,
          93.432,
          93.136,
          93.154,
          93.424,
          93.089,
          93.354,
          93.159,
          93.729,
          93.27,
          93.309,
          93.174,
          93.072,
          92.807,
          92.803,
          92.85,
          92.568,
          92.683,
          92.852,
          92.863,
          92.958,
          93.062,
          92.504,
          91.51,
          91.8,
          91.848,
          91.606,
          91.124,
          91.188,
          91.231,
          91.568,
          91.718,
          91.984,
          91.644,
          91.569,
          91.612,
          91.421,
          91.563,
          91.433
         ],
         "y0": " ",
         "yaxis": "y",
         "type": "box",
         "line": {
          "color": "#00d2be"
         }
        },
        {
         "alignmentgroup": "True",
         "hovertemplate": "Team=%{x}<br>LapTime (s)=%{y}<extra></extra>",
         "legendgroup": "Ferrari",
         "marker": {
          "color": "black",
          "size": 5
         },
         "name": "Ferrari",
         "notched": false,
         "offsetgroup": "Ferrari",
         "orientation": "v",
         "showlegend": true,
         "x": [
          "Ferrari",
          "Ferrari",
          "Ferrari",
          "Ferrari",
          "Ferrari",
          "Ferrari",
          "Ferrari",
          "Ferrari",
          "Ferrari",
          "Ferrari",
          "Ferrari",
          "Ferrari",
          "Ferrari",
          "Ferrari",
          "Ferrari",
          "Ferrari",
          "Ferrari",
          "Ferrari",
          "Ferrari",
          "Ferrari",
          "Ferrari",
          "Ferrari",
          "Ferrari",
          "Ferrari",
          "Ferrari",
          "Ferrari",
          "Ferrari",
          "Ferrari",
          "Ferrari",
          "Ferrari",
          "Ferrari",
          "Ferrari",
          "Ferrari",
          "Ferrari",
          "Ferrari",
          "Ferrari",
          "Ferrari",
          "Ferrari",
          "Ferrari",
          "Ferrari",
          "Ferrari",
          "Ferrari",
          "Ferrari",
          "Ferrari",
          "Ferrari",
          "Ferrari",
          "Ferrari",
          "Ferrari",
          "Ferrari",
          "Ferrari",
          "Ferrari",
          "Ferrari",
          "Ferrari",
          "Ferrari",
          "Ferrari",
          "Ferrari",
          "Ferrari",
          "Ferrari",
          "Ferrari",
          "Ferrari",
          "Ferrari",
          "Ferrari",
          "Ferrari",
          "Ferrari",
          "Ferrari",
          "Ferrari",
          "Ferrari",
          "Ferrari",
          "Ferrari",
          "Ferrari",
          "Ferrari",
          "Ferrari",
          "Ferrari",
          "Ferrari",
          "Ferrari",
          "Ferrari",
          "Ferrari",
          "Ferrari",
          "Ferrari",
          "Ferrari",
          "Ferrari",
          "Ferrari",
          "Ferrari",
          "Ferrari",
          "Ferrari",
          "Ferrari",
          "Ferrari"
         ],
         "x0": " ",
         "xaxis": "x",
         "y": [
          93.994,
          92.934,
          92.961,
          94.409,
          93.761,
          93.403,
          93.244,
          93.087,
          93.167,
          93.048,
          93.621,
          93.214,
          93.523,
          93.542,
          93.248,
          93.151,
          92.475,
          92.87,
          92.848,
          93.035,
          92.554,
          92.731,
          92.798,
          92.794,
          92.942,
          92.814,
          92.658,
          92.464,
          93.233,
          96.215,
          92.5,
          92.234,
          91.286,
          91.926,
          92.052,
          92.815,
          91.9,
          91.85,
          91.36,
          91.255,
          91.781,
          91.716,
          91.763,
          92.257,
          94.177,
          93.456,
          92.975,
          93.666,
          94.215,
          93.427,
          93.442,
          93.417,
          93.405,
          93.279,
          93.323,
          93.105,
          93.941,
          93.623,
          93.498,
          93.076,
          93.302,
          93.242,
          93.007,
          93.261,
          92.871,
          92.755,
          92.77,
          93.133,
          93.181,
          92.22,
          91.945,
          92.129,
          92.494,
          92.459,
          91.783,
          91.427,
          91.643,
          92.89,
          94.622,
          92.606,
          91.906,
          91.592,
          91.438,
          91.723,
          91.408,
          91.366,
          91.88
         ],
         "y0": " ",
         "yaxis": "y",
         "type": "box",
         "line": {
          "color": "#dc0000"
         }
        },
        {
         "alignmentgroup": "True",
         "hovertemplate": "Team=%{x}<br>LapTime (s)=%{y}<extra></extra>",
         "legendgroup": "Aston Martin",
         "marker": {
          "color": "black",
          "size": 5
         },
         "name": "Aston Martin",
         "notched": false,
         "offsetgroup": "Aston Martin",
         "orientation": "v",
         "showlegend": true,
         "x": [
          "Aston Martin",
          "Aston Martin",
          "Aston Martin",
          "Aston Martin",
          "Aston Martin",
          "Aston Martin",
          "Aston Martin",
          "Aston Martin",
          "Aston Martin",
          "Aston Martin",
          "Aston Martin",
          "Aston Martin",
          "Aston Martin",
          "Aston Martin",
          "Aston Martin",
          "Aston Martin",
          "Aston Martin",
          "Aston Martin",
          "Aston Martin",
          "Aston Martin",
          "Aston Martin",
          "Aston Martin",
          "Aston Martin",
          "Aston Martin",
          "Aston Martin",
          "Aston Martin",
          "Aston Martin",
          "Aston Martin",
          "Aston Martin",
          "Aston Martin",
          "Aston Martin",
          "Aston Martin",
          "Aston Martin",
          "Aston Martin",
          "Aston Martin",
          "Aston Martin",
          "Aston Martin",
          "Aston Martin",
          "Aston Martin",
          "Aston Martin",
          "Aston Martin",
          "Aston Martin",
          "Aston Martin",
          "Aston Martin",
          "Aston Martin",
          "Aston Martin",
          "Aston Martin",
          "Aston Martin",
          "Aston Martin",
          "Aston Martin",
          "Aston Martin",
          "Aston Martin",
          "Aston Martin",
          "Aston Martin",
          "Aston Martin",
          "Aston Martin",
          "Aston Martin",
          "Aston Martin",
          "Aston Martin",
          "Aston Martin",
          "Aston Martin",
          "Aston Martin",
          "Aston Martin",
          "Aston Martin",
          "Aston Martin",
          "Aston Martin",
          "Aston Martin",
          "Aston Martin",
          "Aston Martin",
          "Aston Martin",
          "Aston Martin",
          "Aston Martin",
          "Aston Martin",
          "Aston Martin",
          "Aston Martin",
          "Aston Martin",
          "Aston Martin",
          "Aston Martin",
          "Aston Martin",
          "Aston Martin",
          "Aston Martin",
          "Aston Martin",
          "Aston Martin",
          "Aston Martin",
          "Aston Martin",
          "Aston Martin",
          "Aston Martin",
          "Aston Martin"
         ],
         "x0": " ",
         "xaxis": "x",
         "y": [
          94.419,
          93.424,
          93.156,
          94.157,
          94.636,
          94.645,
          94.019,
          93.657,
          93.711,
          93.737,
          93.951,
          93.565,
          93.88,
          93.736,
          93.437,
          93.188,
          93.317,
          93.185,
          93.016,
          93.19,
          93.092,
          93.026,
          93.017,
          93.078,
          93.152,
          92.914,
          92.744,
          92.727,
          92.686,
          92.916,
          92.32,
          91.691,
          91.652,
          91.829,
          91.747,
          92.131,
          92.036,
          92.891,
          91.828,
          91.338,
          92.075,
          91.999,
          91.93,
          91.711,
          95.093,
          94.021,
          93.799,
          93.856,
          94.189,
          94.115,
          93.872,
          93.871,
          94.007,
          94.198,
          94.766,
          94.308,
          94.213,
          93.931,
          93.798,
          93.651,
          93.294,
          93.338,
          93.489,
          93.498,
          93.431,
          93.114,
          93.391,
          94.28,
          93.557,
          93.237,
          93.26,
          93.702,
          94.014,
          92.933,
          92.306,
          92.32,
          91.707,
          91.508,
          91.803,
          94.01,
          93.008,
          91.998,
          91.768,
          91.745,
          91.86,
          91.794,
          91.691,
          92.138
         ],
         "y0": " ",
         "yaxis": "y",
         "type": "box",
         "line": {
          "color": "#006f62"
         }
        },
        {
         "alignmentgroup": "True",
         "hovertemplate": "Team=%{x}<br>LapTime (s)=%{y}<extra></extra>",
         "legendgroup": "AlphaTauri",
         "marker": {
          "color": "black",
          "size": 5
         },
         "name": "AlphaTauri",
         "notched": false,
         "offsetgroup": "AlphaTauri",
         "orientation": "v",
         "showlegend": true,
         "x": [
          "AlphaTauri",
          "AlphaTauri",
          "AlphaTauri",
          "AlphaTauri",
          "AlphaTauri",
          "AlphaTauri",
          "AlphaTauri",
          "AlphaTauri",
          "AlphaTauri",
          "AlphaTauri",
          "AlphaTauri",
          "AlphaTauri",
          "AlphaTauri",
          "AlphaTauri",
          "AlphaTauri",
          "AlphaTauri",
          "AlphaTauri",
          "AlphaTauri",
          "AlphaTauri",
          "AlphaTauri",
          "AlphaTauri",
          "AlphaTauri",
          "AlphaTauri",
          "AlphaTauri",
          "AlphaTauri",
          "AlphaTauri",
          "AlphaTauri",
          "AlphaTauri",
          "AlphaTauri",
          "AlphaTauri",
          "AlphaTauri",
          "AlphaTauri",
          "AlphaTauri",
          "AlphaTauri",
          "AlphaTauri",
          "AlphaTauri",
          "AlphaTauri",
          "AlphaTauri",
          "AlphaTauri",
          "AlphaTauri",
          "AlphaTauri",
          "AlphaTauri",
          "AlphaTauri",
          "AlphaTauri",
          "AlphaTauri",
          "AlphaTauri",
          "AlphaTauri",
          "AlphaTauri",
          "AlphaTauri",
          "AlphaTauri",
          "AlphaTauri",
          "AlphaTauri",
          "AlphaTauri",
          "AlphaTauri",
          "AlphaTauri",
          "AlphaTauri",
          "AlphaTauri",
          "AlphaTauri",
          "AlphaTauri",
          "AlphaTauri",
          "AlphaTauri",
          "AlphaTauri",
          "AlphaTauri",
          "AlphaTauri",
          "AlphaTauri",
          "AlphaTauri",
          "AlphaTauri",
          "AlphaTauri",
          "AlphaTauri",
          "AlphaTauri",
          "AlphaTauri",
          "AlphaTauri",
          "AlphaTauri",
          "AlphaTauri",
          "AlphaTauri",
          "AlphaTauri",
          "AlphaTauri",
          "AlphaTauri",
          "AlphaTauri",
          "AlphaTauri",
          "AlphaTauri",
          "AlphaTauri",
          "AlphaTauri",
          "AlphaTauri",
          "AlphaTauri",
          "AlphaTauri"
         ],
         "x0": " ",
         "xaxis": "x",
         "y": [
          96.208,
          94.746,
          94.199,
          94.761,
          94.907,
          95.054,
          93.896,
          93.774,
          93.985,
          93.758,
          94.165,
          94.232,
          94.879,
          94.17,
          94.148,
          93.637,
          93.453,
          93.835,
          93.48,
          93.652,
          93.647,
          93.622,
          93.663,
          93.553,
          93.754,
          93.299,
          92.499,
          92.564,
          92.829,
          93.647,
          93.18,
          92.65,
          92.369,
          92.516,
          94.017,
          92.829,
          92.716,
          92.456,
          92.353,
          92.54,
          92.632,
          92.445,
          92.42,
          95.252,
          94.229,
          94.362,
          94.457,
          95.373,
          94.571,
          94.486,
          94.235,
          94.173,
          94.085,
          94.237,
          94.433,
          94.769,
          93.058,
          92.952,
          93.094,
          93.424,
          93.281,
          93.189,
          93.004,
          93.098,
          93.205,
          93.224,
          93.319,
          93.418,
          93.275,
          93.118,
          93.211,
          93.279,
          92.882,
          92.932,
          93.321,
          92.306,
          92.572,
          92.534,
          92.494,
          92.535,
          92.291,
          92.084,
          92.504,
          92.79,
          93.212,
          92.78
         ],
         "y0": " ",
         "yaxis": "y",
         "type": "box",
         "line": {
          "color": "#2b4562"
         }
        },
        {
         "alignmentgroup": "True",
         "hovertemplate": "Team=%{x}<br>LapTime (s)=%{y}<extra></extra>",
         "legendgroup": "Williams",
         "marker": {
          "color": "black",
          "size": 5
         },
         "name": "Williams",
         "notched": false,
         "offsetgroup": "Williams",
         "orientation": "v",
         "showlegend": true,
         "x": [
          "Williams",
          "Williams",
          "Williams",
          "Williams",
          "Williams",
          "Williams",
          "Williams",
          "Williams",
          "Williams",
          "Williams",
          "Williams",
          "Williams",
          "Williams",
          "Williams",
          "Williams",
          "Williams",
          "Williams",
          "Williams",
          "Williams",
          "Williams",
          "Williams",
          "Williams",
          "Williams",
          "Williams",
          "Williams",
          "Williams",
          "Williams",
          "Williams",
          "Williams",
          "Williams",
          "Williams",
          "Williams",
          "Williams",
          "Williams",
          "Williams",
          "Williams",
          "Williams",
          "Williams",
          "Williams",
          "Williams",
          "Williams",
          "Williams",
          "Williams",
          "Williams",
          "Williams",
          "Williams",
          "Williams",
          "Williams",
          "Williams",
          "Williams",
          "Williams",
          "Williams",
          "Williams",
          "Williams",
          "Williams",
          "Williams",
          "Williams",
          "Williams",
          "Williams",
          "Williams",
          "Williams",
          "Williams",
          "Williams",
          "Williams",
          "Williams",
          "Williams",
          "Williams",
          "Williams",
          "Williams",
          "Williams",
          "Williams",
          "Williams",
          "Williams",
          "Williams",
          "Williams",
          "Williams",
          "Williams",
          "Williams",
          "Williams",
          "Williams",
          "Williams",
          "Williams",
          "Williams",
          "Williams",
          "Williams",
          "Williams",
          "Williams"
         ],
         "x0": " ",
         "xaxis": "x",
         "y": [
          96.266,
          94.577,
          94.332,
          94.842,
          94.356,
          94.581,
          94.108,
          93.94,
          94.31,
          93.925,
          94.239,
          94.329,
          93.683,
          94.123,
          93.771,
          93.728,
          93.465,
          93.573,
          93.387,
          93.458,
          93.479,
          93.212,
          93.502,
          93.508,
          93.553,
          93.731,
          93.49,
          92.723,
          91.994,
          92.794,
          92.949,
          91.84,
          91.699,
          91.743,
          92.849,
          92.724,
          92.421,
          91.868,
          91.71,
          91.873,
          92.085,
          91.956,
          91.984,
          95.004,
          93.809,
          93.866,
          93.86,
          94.21,
          94.099,
          93.922,
          93.731,
          94.045,
          93.842,
          93.857,
          93.751,
          93.951,
          93.786,
          94.343,
          93.707,
          93.615,
          93.654,
          93.44,
          93.195,
          93.021,
          93.117,
          93.163,
          93.374,
          93.175,
          93.126,
          93.084,
          92.869,
          92.882,
          92.816,
          92.63,
          92.176,
          91.273,
          91.879,
          91.752,
          92.057,
          92.146,
          92.116,
          91.537,
          91.466,
          91.912,
          91.86,
          91.93,
          91.809
         ],
         "y0": " ",
         "yaxis": "y",
         "type": "box",
         "line": {
          "color": "#005aff"
         }
        },
        {
         "alignmentgroup": "True",
         "hovertemplate": "Team=%{x}<br>LapTime (s)=%{y}<extra></extra>",
         "legendgroup": "Alpine",
         "marker": {
          "color": "black",
          "size": 5
         },
         "name": "Alpine",
         "notched": false,
         "offsetgroup": "Alpine",
         "orientation": "v",
         "showlegend": true,
         "x": [
          "Alpine",
          "Alpine",
          "Alpine",
          "Alpine",
          "Alpine",
          "Alpine",
          "Alpine",
          "Alpine",
          "Alpine",
          "Alpine",
          "Alpine",
          "Alpine",
          "Alpine",
          "Alpine",
          "Alpine",
          "Alpine",
          "Alpine",
          "Alpine",
          "Alpine",
          "Alpine",
          "Alpine",
          "Alpine",
          "Alpine",
          "Alpine",
          "Alpine",
          "Alpine",
          "Alpine",
          "Alpine",
          "Alpine",
          "Alpine",
          "Alpine",
          "Alpine",
          "Alpine",
          "Alpine",
          "Alpine",
          "Alpine",
          "Alpine",
          "Alpine",
          "Alpine",
          "Alpine",
          "Alpine",
          "Alpine",
          "Alpine",
          "Alpine"
         ],
         "x0": " ",
         "xaxis": "x",
         "y": [
          94.706,
          93.605,
          93.349,
          93.863,
          94.143,
          94.399,
          93.905,
          93.592,
          93.855,
          93.836,
          93.705,
          93.683,
          93.843,
          93.769,
          93.535,
          93.138,
          93.291,
          93.199,
          93.248,
          93.098,
          93.168,
          92.846,
          93.164,
          93.098,
          93.243,
          92.988,
          93.255,
          93.283,
          93.299,
          93.391,
          92.98,
          92.823,
          91.827,
          91.539,
          91.648,
          92.862,
          95.23,
          94.113,
          93.941,
          93.946,
          94.381,
          94.346,
          94.032,
          93.846
         ],
         "y0": " ",
         "yaxis": "y",
         "type": "box",
         "line": {
          "color": "#0090ff"
         }
        },
        {
         "alignmentgroup": "True",
         "hovertemplate": "Team=%{x}<br>LapTime (s)=%{y}<extra></extra>",
         "legendgroup": "Alfa Romeo",
         "marker": {
          "color": "black",
          "size": 5
         },
         "name": "Alfa Romeo",
         "notched": false,
         "offsetgroup": "Alfa Romeo",
         "orientation": "v",
         "showlegend": true,
         "x": [
          "Alfa Romeo",
          "Alfa Romeo",
          "Alfa Romeo",
          "Alfa Romeo",
          "Alfa Romeo",
          "Alfa Romeo",
          "Alfa Romeo",
          "Alfa Romeo",
          "Alfa Romeo",
          "Alfa Romeo",
          "Alfa Romeo",
          "Alfa Romeo",
          "Alfa Romeo",
          "Alfa Romeo",
          "Alfa Romeo",
          "Alfa Romeo",
          "Alfa Romeo",
          "Alfa Romeo",
          "Alfa Romeo",
          "Alfa Romeo",
          "Alfa Romeo",
          "Alfa Romeo",
          "Alfa Romeo",
          "Alfa Romeo",
          "Alfa Romeo",
          "Alfa Romeo",
          "Alfa Romeo",
          "Alfa Romeo",
          "Alfa Romeo",
          "Alfa Romeo",
          "Alfa Romeo",
          "Alfa Romeo",
          "Alfa Romeo",
          "Alfa Romeo",
          "Alfa Romeo",
          "Alfa Romeo",
          "Alfa Romeo",
          "Alfa Romeo",
          "Alfa Romeo",
          "Alfa Romeo",
          "Alfa Romeo",
          "Alfa Romeo",
          "Alfa Romeo",
          "Alfa Romeo",
          "Alfa Romeo",
          "Alfa Romeo",
          "Alfa Romeo",
          "Alfa Romeo",
          "Alfa Romeo",
          "Alfa Romeo",
          "Alfa Romeo",
          "Alfa Romeo",
          "Alfa Romeo",
          "Alfa Romeo",
          "Alfa Romeo",
          "Alfa Romeo",
          "Alfa Romeo",
          "Alfa Romeo",
          "Alfa Romeo",
          "Alfa Romeo",
          "Alfa Romeo",
          "Alfa Romeo",
          "Alfa Romeo",
          "Alfa Romeo",
          "Alfa Romeo",
          "Alfa Romeo",
          "Alfa Romeo",
          "Alfa Romeo",
          "Alfa Romeo",
          "Alfa Romeo",
          "Alfa Romeo",
          "Alfa Romeo",
          "Alfa Romeo",
          "Alfa Romeo",
          "Alfa Romeo",
          "Alfa Romeo",
          "Alfa Romeo",
          "Alfa Romeo",
          "Alfa Romeo",
          "Alfa Romeo",
          "Alfa Romeo",
          "Alfa Romeo",
          "Alfa Romeo",
          "Alfa Romeo",
          "Alfa Romeo",
          "Alfa Romeo"
         ],
         "x0": " ",
         "xaxis": "x",
         "y": [
          95.912,
          94.679,
          94.408,
          94.736,
          94.807,
          94.995,
          94.267,
          94.044,
          94.392,
          94.221,
          94.235,
          94.13,
          94.418,
          94.677,
          94.263,
          94.027,
          93.861,
          93.907,
          93.726,
          93.56,
          93.679,
          93.642,
          93.17,
          92.524,
          92.912,
          92.999,
          92.812,
          93.006,
          93.073,
          93.188,
          93.31,
          92.655,
          92.243,
          92.645,
          92.789,
          92.502,
          92.329,
          91.957,
          91.769,
          92.599,
          92.459,
          92.09,
          92.114,
          94.865,
          94.611,
          94.804,
          94.791,
          94.879,
          94.476,
          94.386,
          94.306,
          94.354,
          94.541,
          94.618,
          94.604,
          94.627,
          94.367,
          93.867,
          93.749,
          93.73,
          93.671,
          93.607,
          93.468,
          93.787,
          93.464,
          93.292,
          93.47,
          93.588,
          93.5,
          93.351,
          93.367,
          93.44,
          92.618,
          93.056,
          92.229,
          91.902,
          92.047,
          92.563,
          93.177,
          92.284,
          92.079,
          91.974,
          92.167,
          92.163,
          92.133,
          91.852
         ],
         "y0": " ",
         "yaxis": "y",
         "type": "box",
         "line": {
          "color": "#900000"
         }
        },
        {
         "alignmentgroup": "True",
         "hovertemplate": "Team=%{x}<br>LapTime (s)=%{y}<extra></extra>",
         "legendgroup": "Haas F1 Team",
         "marker": {
          "color": "black",
          "size": 5
         },
         "name": "Haas F1 Team",
         "notched": false,
         "offsetgroup": "Haas F1 Team",
         "orientation": "v",
         "showlegend": true,
         "x": [
          "Haas F1 Team",
          "Haas F1 Team",
          "Haas F1 Team",
          "Haas F1 Team",
          "Haas F1 Team",
          "Haas F1 Team",
          "Haas F1 Team",
          "Haas F1 Team",
          "Haas F1 Team",
          "Haas F1 Team",
          "Haas F1 Team",
          "Haas F1 Team",
          "Haas F1 Team",
          "Haas F1 Team",
          "Haas F1 Team",
          "Haas F1 Team",
          "Haas F1 Team",
          "Haas F1 Team",
          "Haas F1 Team",
          "Haas F1 Team",
          "Haas F1 Team",
          "Haas F1 Team",
          "Haas F1 Team",
          "Haas F1 Team",
          "Haas F1 Team",
          "Haas F1 Team",
          "Haas F1 Team",
          "Haas F1 Team",
          "Haas F1 Team",
          "Haas F1 Team",
          "Haas F1 Team",
          "Haas F1 Team",
          "Haas F1 Team",
          "Haas F1 Team",
          "Haas F1 Team",
          "Haas F1 Team",
          "Haas F1 Team",
          "Haas F1 Team",
          "Haas F1 Team",
          "Haas F1 Team",
          "Haas F1 Team",
          "Haas F1 Team",
          "Haas F1 Team",
          "Haas F1 Team",
          "Haas F1 Team",
          "Haas F1 Team",
          "Haas F1 Team",
          "Haas F1 Team",
          "Haas F1 Team",
          "Haas F1 Team",
          "Haas F1 Team",
          "Haas F1 Team",
          "Haas F1 Team",
          "Haas F1 Team",
          "Haas F1 Team",
          "Haas F1 Team",
          "Haas F1 Team",
          "Haas F1 Team",
          "Haas F1 Team",
          "Haas F1 Team",
          "Haas F1 Team",
          "Haas F1 Team",
          "Haas F1 Team",
          "Haas F1 Team",
          "Haas F1 Team",
          "Haas F1 Team",
          "Haas F1 Team",
          "Haas F1 Team",
          "Haas F1 Team",
          "Haas F1 Team",
          "Haas F1 Team",
          "Haas F1 Team",
          "Haas F1 Team"
         ],
         "x0": " ",
         "xaxis": "x",
         "y": [
          96.337,
          95.169,
          94.731,
          94.598,
          94.933,
          94.95,
          94.427,
          94.577,
          94.715,
          94.31,
          94.544,
          94.339,
          95.024,
          94.606,
          94.559,
          94.216,
          93.795,
          94.281,
          93.935,
          94.083,
          93.997,
          93.98,
          93.891,
          94.037,
          94.119,
          93.935,
          93.76,
          93.356,
          93.466,
          93.464,
          95.277,
          94.53,
          94.354,
          95.588,
          95.631,
          94.412,
          93.669,
          93.525,
          93.966,
          94.022,
          94.3,
          94.186,
          93.925,
          93.64,
          93.616,
          93.591,
          93.763,
          93.555,
          93.35,
          93.143,
          93.294,
          93.461,
          93.351,
          93.644,
          93.122,
          93.28,
          93.107,
          93.332,
          93.133,
          92.527,
          92.932,
          92.104,
          92.097,
          92.325,
          92.441,
          92.534,
          92.584,
          92.101,
          92.06,
          92.08,
          92.158,
          92.166,
          91.776
         ],
         "y0": " ",
         "yaxis": "y",
         "type": "box",
         "line": {
          "color": "#ffffff"
         }
        }
       ],
       "layout": {
        "template": {
         "data": {
          "histogram2dcontour": [
           {
            "type": "histogram2dcontour",
            "colorbar": {
             "outlinewidth": 0,
             "ticks": ""
            },
            "colorscale": [
             [
              0.0,
              "#0d0887"
             ],
             [
              0.1111111111111111,
              "#46039f"
             ],
             [
              0.2222222222222222,
              "#7201a8"
             ],
             [
              0.3333333333333333,
              "#9c179e"
             ],
             [
              0.4444444444444444,
              "#bd3786"
             ],
             [
              0.5555555555555556,
              "#d8576b"
             ],
             [
              0.6666666666666666,
              "#ed7953"
             ],
             [
              0.7777777777777778,
              "#fb9f3a"
             ],
             [
              0.8888888888888888,
              "#fdca26"
             ],
             [
              1.0,
              "#f0f921"
             ]
            ]
           }
          ],
          "choropleth": [
           {
            "type": "choropleth",
            "colorbar": {
             "outlinewidth": 0,
             "ticks": ""
            }
           }
          ],
          "histogram2d": [
           {
            "type": "histogram2d",
            "colorbar": {
             "outlinewidth": 0,
             "ticks": ""
            },
            "colorscale": [
             [
              0.0,
              "#0d0887"
             ],
             [
              0.1111111111111111,
              "#46039f"
             ],
             [
              0.2222222222222222,
              "#7201a8"
             ],
             [
              0.3333333333333333,
              "#9c179e"
             ],
             [
              0.4444444444444444,
              "#bd3786"
             ],
             [
              0.5555555555555556,
              "#d8576b"
             ],
             [
              0.6666666666666666,
              "#ed7953"
             ],
             [
              0.7777777777777778,
              "#fb9f3a"
             ],
             [
              0.8888888888888888,
              "#fdca26"
             ],
             [
              1.0,
              "#f0f921"
             ]
            ]
           }
          ],
          "heatmap": [
           {
            "type": "heatmap",
            "colorbar": {
             "outlinewidth": 0,
             "ticks": ""
            },
            "colorscale": [
             [
              0.0,
              "#0d0887"
             ],
             [
              0.1111111111111111,
              "#46039f"
             ],
             [
              0.2222222222222222,
              "#7201a8"
             ],
             [
              0.3333333333333333,
              "#9c179e"
             ],
             [
              0.4444444444444444,
              "#bd3786"
             ],
             [
              0.5555555555555556,
              "#d8576b"
             ],
             [
              0.6666666666666666,
              "#ed7953"
             ],
             [
              0.7777777777777778,
              "#fb9f3a"
             ],
             [
              0.8888888888888888,
              "#fdca26"
             ],
             [
              1.0,
              "#f0f921"
             ]
            ]
           }
          ],
          "heatmapgl": [
           {
            "type": "heatmapgl",
            "colorbar": {
             "outlinewidth": 0,
             "ticks": ""
            },
            "colorscale": [
             [
              0.0,
              "#0d0887"
             ],
             [
              0.1111111111111111,
              "#46039f"
             ],
             [
              0.2222222222222222,
              "#7201a8"
             ],
             [
              0.3333333333333333,
              "#9c179e"
             ],
             [
              0.4444444444444444,
              "#bd3786"
             ],
             [
              0.5555555555555556,
              "#d8576b"
             ],
             [
              0.6666666666666666,
              "#ed7953"
             ],
             [
              0.7777777777777778,
              "#fb9f3a"
             ],
             [
              0.8888888888888888,
              "#fdca26"
             ],
             [
              1.0,
              "#f0f921"
             ]
            ]
           }
          ],
          "contourcarpet": [
           {
            "type": "contourcarpet",
            "colorbar": {
             "outlinewidth": 0,
             "ticks": ""
            }
           }
          ],
          "contour": [
           {
            "type": "contour",
            "colorbar": {
             "outlinewidth": 0,
             "ticks": ""
            },
            "colorscale": [
             [
              0.0,
              "#0d0887"
             ],
             [
              0.1111111111111111,
              "#46039f"
             ],
             [
              0.2222222222222222,
              "#7201a8"
             ],
             [
              0.3333333333333333,
              "#9c179e"
             ],
             [
              0.4444444444444444,
              "#bd3786"
             ],
             [
              0.5555555555555556,
              "#d8576b"
             ],
             [
              0.6666666666666666,
              "#ed7953"
             ],
             [
              0.7777777777777778,
              "#fb9f3a"
             ],
             [
              0.8888888888888888,
              "#fdca26"
             ],
             [
              1.0,
              "#f0f921"
             ]
            ]
           }
          ],
          "surface": [
           {
            "type": "surface",
            "colorbar": {
             "outlinewidth": 0,
             "ticks": ""
            },
            "colorscale": [
             [
              0.0,
              "#0d0887"
             ],
             [
              0.1111111111111111,
              "#46039f"
             ],
             [
              0.2222222222222222,
              "#7201a8"
             ],
             [
              0.3333333333333333,
              "#9c179e"
             ],
             [
              0.4444444444444444,
              "#bd3786"
             ],
             [
              0.5555555555555556,
              "#d8576b"
             ],
             [
              0.6666666666666666,
              "#ed7953"
             ],
             [
              0.7777777777777778,
              "#fb9f3a"
             ],
             [
              0.8888888888888888,
              "#fdca26"
             ],
             [
              1.0,
              "#f0f921"
             ]
            ]
           }
          ],
          "mesh3d": [
           {
            "type": "mesh3d",
            "colorbar": {
             "outlinewidth": 0,
             "ticks": ""
            }
           }
          ],
          "scatter": [
           {
            "fillpattern": {
             "fillmode": "overlay",
             "size": 10,
             "solidity": 0.2
            },
            "type": "scatter"
           }
          ],
          "parcoords": [
           {
            "type": "parcoords",
            "line": {
             "colorbar": {
              "outlinewidth": 0,
              "ticks": ""
             }
            }
           }
          ],
          "scatterpolargl": [
           {
            "type": "scatterpolargl",
            "marker": {
             "colorbar": {
              "outlinewidth": 0,
              "ticks": ""
             }
            }
           }
          ],
          "bar": [
           {
            "error_x": {
             "color": "#2a3f5f"
            },
            "error_y": {
             "color": "#2a3f5f"
            },
            "marker": {
             "line": {
              "color": "#E5ECF6",
              "width": 0.5
             },
             "pattern": {
              "fillmode": "overlay",
              "size": 10,
              "solidity": 0.2
             }
            },
            "type": "bar"
           }
          ],
          "scattergeo": [
           {
            "type": "scattergeo",
            "marker": {
             "colorbar": {
              "outlinewidth": 0,
              "ticks": ""
             }
            }
           }
          ],
          "scatterpolar": [
           {
            "type": "scatterpolar",
            "marker": {
             "colorbar": {
              "outlinewidth": 0,
              "ticks": ""
             }
            }
           }
          ],
          "histogram": [
           {
            "marker": {
             "pattern": {
              "fillmode": "overlay",
              "size": 10,
              "solidity": 0.2
             }
            },
            "type": "histogram"
           }
          ],
          "scattergl": [
           {
            "type": "scattergl",
            "marker": {
             "colorbar": {
              "outlinewidth": 0,
              "ticks": ""
             }
            }
           }
          ],
          "scatter3d": [
           {
            "type": "scatter3d",
            "line": {
             "colorbar": {
              "outlinewidth": 0,
              "ticks": ""
             }
            },
            "marker": {
             "colorbar": {
              "outlinewidth": 0,
              "ticks": ""
             }
            }
           }
          ],
          "scattermapbox": [
           {
            "type": "scattermapbox",
            "marker": {
             "colorbar": {
              "outlinewidth": 0,
              "ticks": ""
             }
            }
           }
          ],
          "scatterternary": [
           {
            "type": "scatterternary",
            "marker": {
             "colorbar": {
              "outlinewidth": 0,
              "ticks": ""
             }
            }
           }
          ],
          "scattercarpet": [
           {
            "type": "scattercarpet",
            "marker": {
             "colorbar": {
              "outlinewidth": 0,
              "ticks": ""
             }
            }
           }
          ],
          "carpet": [
           {
            "aaxis": {
             "endlinecolor": "#2a3f5f",
             "gridcolor": "white",
             "linecolor": "white",
             "minorgridcolor": "white",
             "startlinecolor": "#2a3f5f"
            },
            "baxis": {
             "endlinecolor": "#2a3f5f",
             "gridcolor": "white",
             "linecolor": "white",
             "minorgridcolor": "white",
             "startlinecolor": "#2a3f5f"
            },
            "type": "carpet"
           }
          ],
          "table": [
           {
            "cells": {
             "fill": {
              "color": "#EBF0F8"
             },
             "line": {
              "color": "white"
             }
            },
            "header": {
             "fill": {
              "color": "#C8D4E3"
             },
             "line": {
              "color": "white"
             }
            },
            "type": "table"
           }
          ],
          "barpolar": [
           {
            "marker": {
             "line": {
              "color": "#E5ECF6",
              "width": 0.5
             },
             "pattern": {
              "fillmode": "overlay",
              "size": 10,
              "solidity": 0.2
             }
            },
            "type": "barpolar"
           }
          ],
          "pie": [
           {
            "automargin": true,
            "type": "pie"
           }
          ]
         },
         "layout": {
          "autotypenumbers": "strict",
          "colorway": [
           "#636efa",
           "#EF553B",
           "#00cc96",
           "#ab63fa",
           "#FFA15A",
           "#19d3f3",
           "#FF6692",
           "#B6E880",
           "#FF97FF",
           "#FECB52"
          ],
          "font": {
           "color": "#2a3f5f"
          },
          "hovermode": "closest",
          "hoverlabel": {
           "align": "left"
          },
          "paper_bgcolor": "white",
          "plot_bgcolor": "#E5ECF6",
          "polar": {
           "bgcolor": "#E5ECF6",
           "angularaxis": {
            "gridcolor": "white",
            "linecolor": "white",
            "ticks": ""
           },
           "radialaxis": {
            "gridcolor": "white",
            "linecolor": "white",
            "ticks": ""
           }
          },
          "ternary": {
           "bgcolor": "#E5ECF6",
           "aaxis": {
            "gridcolor": "white",
            "linecolor": "white",
            "ticks": ""
           },
           "baxis": {
            "gridcolor": "white",
            "linecolor": "white",
            "ticks": ""
           },
           "caxis": {
            "gridcolor": "white",
            "linecolor": "white",
            "ticks": ""
           }
          },
          "coloraxis": {
           "colorbar": {
            "outlinewidth": 0,
            "ticks": ""
           }
          },
          "colorscale": {
           "sequential": [
            [
             0.0,
             "#0d0887"
            ],
            [
             0.1111111111111111,
             "#46039f"
            ],
            [
             0.2222222222222222,
             "#7201a8"
            ],
            [
             0.3333333333333333,
             "#9c179e"
            ],
            [
             0.4444444444444444,
             "#bd3786"
            ],
            [
             0.5555555555555556,
             "#d8576b"
            ],
            [
             0.6666666666666666,
             "#ed7953"
            ],
            [
             0.7777777777777778,
             "#fb9f3a"
            ],
            [
             0.8888888888888888,
             "#fdca26"
            ],
            [
             1.0,
             "#f0f921"
            ]
           ],
           "sequentialminus": [
            [
             0.0,
             "#0d0887"
            ],
            [
             0.1111111111111111,
             "#46039f"
            ],
            [
             0.2222222222222222,
             "#7201a8"
            ],
            [
             0.3333333333333333,
             "#9c179e"
            ],
            [
             0.4444444444444444,
             "#bd3786"
            ],
            [
             0.5555555555555556,
             "#d8576b"
            ],
            [
             0.6666666666666666,
             "#ed7953"
            ],
            [
             0.7777777777777778,
             "#fb9f3a"
            ],
            [
             0.8888888888888888,
             "#fdca26"
            ],
            [
             1.0,
             "#f0f921"
            ]
           ],
           "diverging": [
            [
             0,
             "#8e0152"
            ],
            [
             0.1,
             "#c51b7d"
            ],
            [
             0.2,
             "#de77ae"
            ],
            [
             0.3,
             "#f1b6da"
            ],
            [
             0.4,
             "#fde0ef"
            ],
            [
             0.5,
             "#f7f7f7"
            ],
            [
             0.6,
             "#e6f5d0"
            ],
            [
             0.7,
             "#b8e186"
            ],
            [
             0.8,
             "#7fbc41"
            ],
            [
             0.9,
             "#4d9221"
            ],
            [
             1,
             "#276419"
            ]
           ]
          },
          "xaxis": {
           "gridcolor": "white",
           "linecolor": "white",
           "ticks": "",
           "title": {
            "standoff": 15
           },
           "zerolinecolor": "white",
           "automargin": true,
           "zerolinewidth": 2
          },
          "yaxis": {
           "gridcolor": "white",
           "linecolor": "white",
           "ticks": "",
           "title": {
            "standoff": 15
           },
           "zerolinecolor": "white",
           "automargin": true,
           "zerolinewidth": 2
          },
          "scene": {
           "xaxis": {
            "backgroundcolor": "#E5ECF6",
            "gridcolor": "white",
            "linecolor": "white",
            "showbackground": true,
            "ticks": "",
            "zerolinecolor": "white",
            "gridwidth": 2
           },
           "yaxis": {
            "backgroundcolor": "#E5ECF6",
            "gridcolor": "white",
            "linecolor": "white",
            "showbackground": true,
            "ticks": "",
            "zerolinecolor": "white",
            "gridwidth": 2
           },
           "zaxis": {
            "backgroundcolor": "#E5ECF6",
            "gridcolor": "white",
            "linecolor": "white",
            "showbackground": true,
            "ticks": "",
            "zerolinecolor": "white",
            "gridwidth": 2
           }
          },
          "shapedefaults": {
           "line": {
            "color": "#2a3f5f"
           }
          },
          "annotationdefaults": {
           "arrowcolor": "#2a3f5f",
           "arrowhead": 0,
           "arrowwidth": 1
          },
          "geo": {
           "bgcolor": "white",
           "landcolor": "#E5ECF6",
           "subunitcolor": "white",
           "showland": true,
           "showlakes": true,
           "lakecolor": "white"
          },
          "title": {
           "x": 0.05
          },
          "mapbox": {
           "style": "light"
          }
         }
        },
        "xaxis": {
         "anchor": "y",
         "domain": [
          0.0,
          1.0
         ],
         "title": {},
         "categoryorder": "array",
         "categoryarray": [
          "Red Bull Racing",
          "McLaren",
          "Mercedes",
          "Ferrari",
          "Aston Martin",
          "AlphaTauri",
          "Williams",
          "Alpine",
          "Alfa Romeo",
          "Haas F1 Team"
         ]
        },
        "yaxis": {
         "anchor": "x",
         "domain": [
          0.0,
          1.0
         ],
         "title": {
          "text": "Lap Time (s)"
         }
        },
        "legend": {
         "title": {
          "text": "Team"
         },
         "tracegroupgap": 0
        },
        "margin": {
         "t": 60
        },
        "boxmode": "overlay",
        "title": {
         "text": "Team speed comparaison by lap : 2023 British Grand Prix"
        }
       },
       "config": {
        "plotlyServerURL": "https://plot.ly"
       }
      },
      "text/html": "<div>                            <div id=\"47ccd9a3-044f-4b42-ba45-55fba1b3b5d0\" class=\"plotly-graph-div\" style=\"height:525px; width:100%;\"></div>            <script type=\"text/javascript\">                require([\"plotly\"], function(Plotly) {                    window.PLOTLYENV=window.PLOTLYENV || {};                                    if (document.getElementById(\"47ccd9a3-044f-4b42-ba45-55fba1b3b5d0\")) {                    Plotly.newPlot(                        \"47ccd9a3-044f-4b42-ba45-55fba1b3b5d0\",                        [{\"alignmentgroup\":\"True\",\"hovertemplate\":\"Team=%{x}\\u003cbr\\u003eLapTime (s)=%{y}\\u003cextra\\u003e\\u003c\\u002fextra\\u003e\",\"legendgroup\":\"Red Bull Racing\",\"marker\":{\"color\":\"black\",\"size\":5},\"name\":\"Red Bull Racing\",\"notched\":false,\"offsetgroup\":\"Red Bull Racing\",\"orientation\":\"v\",\"showlegend\":true,\"x\":[\"Red Bull Racing\",\"Red Bull Racing\",\"Red Bull Racing\",\"Red Bull Racing\",\"Red Bull Racing\",\"Red Bull Racing\",\"Red Bull Racing\",\"Red Bull Racing\",\"Red Bull Racing\",\"Red Bull Racing\",\"Red Bull Racing\",\"Red Bull Racing\",\"Red Bull Racing\",\"Red Bull Racing\",\"Red Bull Racing\",\"Red Bull Racing\",\"Red Bull Racing\",\"Red Bull Racing\",\"Red Bull Racing\",\"Red Bull Racing\",\"Red Bull Racing\",\"Red Bull Racing\",\"Red Bull Racing\",\"Red Bull Racing\",\"Red Bull Racing\",\"Red Bull Racing\",\"Red Bull Racing\",\"Red Bull Racing\",\"Red Bull Racing\",\"Red Bull Racing\",\"Red Bull Racing\",\"Red Bull Racing\",\"Red Bull Racing\",\"Red Bull Racing\",\"Red Bull Racing\",\"Red Bull Racing\",\"Red Bull Racing\",\"Red Bull Racing\",\"Red Bull Racing\",\"Red Bull Racing\",\"Red Bull Racing\",\"Red Bull Racing\",\"Red Bull Racing\",\"Red Bull Racing\",\"Red Bull Racing\",\"Red Bull Racing\",\"Red Bull Racing\",\"Red Bull Racing\",\"Red Bull Racing\",\"Red Bull Racing\",\"Red Bull Racing\",\"Red Bull Racing\",\"Red Bull Racing\",\"Red Bull Racing\",\"Red Bull Racing\",\"Red Bull Racing\",\"Red Bull Racing\",\"Red Bull Racing\",\"Red Bull Racing\",\"Red Bull Racing\",\"Red Bull Racing\",\"Red Bull Racing\",\"Red Bull Racing\",\"Red Bull Racing\",\"Red Bull Racing\",\"Red Bull Racing\",\"Red Bull Racing\",\"Red Bull Racing\",\"Red Bull Racing\",\"Red Bull Racing\",\"Red Bull Racing\",\"Red Bull Racing\",\"Red Bull Racing\",\"Red Bull Racing\",\"Red Bull Racing\",\"Red Bull Racing\",\"Red Bull Racing\",\"Red Bull Racing\",\"Red Bull Racing\",\"Red Bull Racing\",\"Red Bull Racing\",\"Red Bull Racing\",\"Red Bull Racing\",\"Red Bull Racing\",\"Red Bull Racing\",\"Red Bull Racing\",\"Red Bull Racing\",\"Red Bull Racing\"],\"x0\":\" \",\"xaxis\":\"x\",\"y\":[93.433,92.73,92.78,92.582,93.027,93.1,92.884,92.822,92.594,92.597,92.687,92.678,93.046,92.99,92.808,92.603,92.507,92.338,92.295,92.494,92.184,92.272,92.35,92.295,92.276,92.138,92.215,92.251,92.363,92.388,92.21,90.348,90.547,90.688,90.275,90.535,90.648,91.342,91.114,91.148,91.4,91.218,91.292,91.397,90.975,95.482,94.38,94.339,94.073,93.671,93.919,93.568,93.271,93.364,93.547,93.429,93.452,93.751,93.48,93.055,93.28,93.099,93.276,93.202,93.233,93.026,93.262,92.726,92.907,92.962,92.742,92.235,91.408,91.532,92.503,91.909,91.391,91.716,92.005,91.712,91.571,91.675,91.505,91.209,91.36,91.139,90.914,91.188],\"y0\":\" \",\"yaxis\":\"y\",\"type\":\"box\",\"line\":{\"color\":\"#0600ef\"}},{\"alignmentgroup\":\"True\",\"hovertemplate\":\"Team=%{x}\\u003cbr\\u003eLapTime (s)=%{y}\\u003cextra\\u003e\\u003c\\u002fextra\\u003e\",\"legendgroup\":\"McLaren\",\"marker\":{\"color\":\"black\",\"size\":5},\"name\":\"McLaren\",\"notched\":false,\"offsetgroup\":\"McLaren\",\"orientation\":\"v\",\"showlegend\":true,\"x\":[\"McLaren\",\"McLaren\",\"McLaren\",\"McLaren\",\"McLaren\",\"McLaren\",\"McLaren\",\"McLaren\",\"McLaren\",\"McLaren\",\"McLaren\",\"McLaren\",\"McLaren\",\"McLaren\",\"McLaren\",\"McLaren\",\"McLaren\",\"McLaren\",\"McLaren\",\"McLaren\",\"McLaren\",\"McLaren\",\"McLaren\",\"McLaren\",\"McLaren\",\"McLaren\",\"McLaren\",\"McLaren\",\"McLaren\",\"McLaren\",\"McLaren\",\"McLaren\",\"McLaren\",\"McLaren\",\"McLaren\",\"McLaren\",\"McLaren\",\"McLaren\",\"McLaren\",\"McLaren\",\"McLaren\",\"McLaren\",\"McLaren\",\"McLaren\",\"McLaren\",\"McLaren\",\"McLaren\",\"McLaren\",\"McLaren\",\"McLaren\",\"McLaren\",\"McLaren\",\"McLaren\",\"McLaren\",\"McLaren\",\"McLaren\",\"McLaren\",\"McLaren\",\"McLaren\",\"McLaren\",\"McLaren\",\"McLaren\",\"McLaren\",\"McLaren\",\"McLaren\",\"McLaren\",\"McLaren\",\"McLaren\",\"McLaren\",\"McLaren\",\"McLaren\",\"McLaren\",\"McLaren\",\"McLaren\",\"McLaren\",\"McLaren\",\"McLaren\",\"McLaren\",\"McLaren\",\"McLaren\",\"McLaren\",\"McLaren\",\"McLaren\",\"McLaren\",\"McLaren\",\"McLaren\",\"McLaren\",\"McLaren\",\"McLaren\"],\"x0\":\" \",\"xaxis\":\"x\",\"y\":[96.551,93.046,93.18,92.772,93.914,93.112,93.19,93.101,92.612,92.977,92.978,93.116,92.986,93.67,93.221,92.903,92.985,92.731,92.5,92.77,92.604,92.637,92.619,92.721,92.949,92.758,92.734,92.714,92.806,92.609,92.808,92.571,91.243,90.997,90.76,90.922,90.543,90.786,91.301,91.094,91.593,91.36,91.02,91.56,91.077,91.251,93.845,92.499,92.581,93.461,93.008,93.29,93.233,92.79,93.379,92.976,93.464,93.144,93.603,93.267,93.005,92.775,93.019,92.88,92.66,92.749,92.537,92.732,92.676,92.809,93.052,92.844,93.19,92.563,91.68,91.646,91.475,90.85,91.178,91.011,91.465,91.406,91.496,91.427,91.159,91.422,91.752,91.305,90.941],\"y0\":\" \",\"yaxis\":\"y\",\"type\":\"box\",\"line\":{\"color\":\"#ff8700\"}},{\"alignmentgroup\":\"True\",\"hovertemplate\":\"Team=%{x}\\u003cbr\\u003eLapTime (s)=%{y}\\u003cextra\\u003e\\u003c\\u002fextra\\u003e\",\"legendgroup\":\"Mercedes\",\"marker\":{\"color\":\"black\",\"size\":5},\"name\":\"Mercedes\",\"notched\":false,\"offsetgroup\":\"Mercedes\",\"orientation\":\"v\",\"showlegend\":true,\"x\":[\"Mercedes\",\"Mercedes\",\"Mercedes\",\"Mercedes\",\"Mercedes\",\"Mercedes\",\"Mercedes\",\"Mercedes\",\"Mercedes\",\"Mercedes\",\"Mercedes\",\"Mercedes\",\"Mercedes\",\"Mercedes\",\"Mercedes\",\"Mercedes\",\"Mercedes\",\"Mercedes\",\"Mercedes\",\"Mercedes\",\"Mercedes\",\"Mercedes\",\"Mercedes\",\"Mercedes\",\"Mercedes\",\"Mercedes\",\"Mercedes\",\"Mercedes\",\"Mercedes\",\"Mercedes\",\"Mercedes\",\"Mercedes\",\"Mercedes\",\"Mercedes\",\"Mercedes\",\"Mercedes\",\"Mercedes\",\"Mercedes\",\"Mercedes\",\"Mercedes\",\"Mercedes\",\"Mercedes\",\"Mercedes\",\"Mercedes\",\"Mercedes\",\"Mercedes\",\"Mercedes\",\"Mercedes\",\"Mercedes\",\"Mercedes\",\"Mercedes\",\"Mercedes\",\"Mercedes\",\"Mercedes\",\"Mercedes\",\"Mercedes\",\"Mercedes\",\"Mercedes\",\"Mercedes\",\"Mercedes\",\"Mercedes\",\"Mercedes\",\"Mercedes\",\"Mercedes\",\"Mercedes\",\"Mercedes\",\"Mercedes\",\"Mercedes\",\"Mercedes\",\"Mercedes\",\"Mercedes\",\"Mercedes\",\"Mercedes\",\"Mercedes\",\"Mercedes\",\"Mercedes\",\"Mercedes\",\"Mercedes\",\"Mercedes\",\"Mercedes\",\"Mercedes\",\"Mercedes\",\"Mercedes\",\"Mercedes\",\"Mercedes\",\"Mercedes\",\"Mercedes\",\"Mercedes\"],\"x0\":\" \",\"xaxis\":\"x\",\"y\":[94.361,93.662,93.086,93.718,94.556,93.328,93.483,93.331,93.624,93.519,93.908,93.28,93.324,93.156,92.931,93.12,93.313,93.201,92.956,92.779,92.821,92.974,92.703,93.087,92.769,92.714,92.32,92.155,92.246,92.744,95.161,91.427,91.279,90.673,91.042,90.545,91.589,91.359,91.559,91.248,91.152,91.286,91.526,91.703,91.823,94.115,93.096,93.084,94.211,93.839,93.432,93.136,93.154,93.424,93.089,93.354,93.159,93.729,93.27,93.309,93.174,93.072,92.807,92.803,92.85,92.568,92.683,92.852,92.863,92.958,93.062,92.504,91.51,91.8,91.848,91.606,91.124,91.188,91.231,91.568,91.718,91.984,91.644,91.569,91.612,91.421,91.563,91.433],\"y0\":\" \",\"yaxis\":\"y\",\"type\":\"box\",\"line\":{\"color\":\"#00d2be\"}},{\"alignmentgroup\":\"True\",\"hovertemplate\":\"Team=%{x}\\u003cbr\\u003eLapTime (s)=%{y}\\u003cextra\\u003e\\u003c\\u002fextra\\u003e\",\"legendgroup\":\"Ferrari\",\"marker\":{\"color\":\"black\",\"size\":5},\"name\":\"Ferrari\",\"notched\":false,\"offsetgroup\":\"Ferrari\",\"orientation\":\"v\",\"showlegend\":true,\"x\":[\"Ferrari\",\"Ferrari\",\"Ferrari\",\"Ferrari\",\"Ferrari\",\"Ferrari\",\"Ferrari\",\"Ferrari\",\"Ferrari\",\"Ferrari\",\"Ferrari\",\"Ferrari\",\"Ferrari\",\"Ferrari\",\"Ferrari\",\"Ferrari\",\"Ferrari\",\"Ferrari\",\"Ferrari\",\"Ferrari\",\"Ferrari\",\"Ferrari\",\"Ferrari\",\"Ferrari\",\"Ferrari\",\"Ferrari\",\"Ferrari\",\"Ferrari\",\"Ferrari\",\"Ferrari\",\"Ferrari\",\"Ferrari\",\"Ferrari\",\"Ferrari\",\"Ferrari\",\"Ferrari\",\"Ferrari\",\"Ferrari\",\"Ferrari\",\"Ferrari\",\"Ferrari\",\"Ferrari\",\"Ferrari\",\"Ferrari\",\"Ferrari\",\"Ferrari\",\"Ferrari\",\"Ferrari\",\"Ferrari\",\"Ferrari\",\"Ferrari\",\"Ferrari\",\"Ferrari\",\"Ferrari\",\"Ferrari\",\"Ferrari\",\"Ferrari\",\"Ferrari\",\"Ferrari\",\"Ferrari\",\"Ferrari\",\"Ferrari\",\"Ferrari\",\"Ferrari\",\"Ferrari\",\"Ferrari\",\"Ferrari\",\"Ferrari\",\"Ferrari\",\"Ferrari\",\"Ferrari\",\"Ferrari\",\"Ferrari\",\"Ferrari\",\"Ferrari\",\"Ferrari\",\"Ferrari\",\"Ferrari\",\"Ferrari\",\"Ferrari\",\"Ferrari\",\"Ferrari\",\"Ferrari\",\"Ferrari\",\"Ferrari\",\"Ferrari\",\"Ferrari\"],\"x0\":\" \",\"xaxis\":\"x\",\"y\":[93.994,92.934,92.961,94.409,93.761,93.403,93.244,93.087,93.167,93.048,93.621,93.214,93.523,93.542,93.248,93.151,92.475,92.87,92.848,93.035,92.554,92.731,92.798,92.794,92.942,92.814,92.658,92.464,93.233,96.215,92.5,92.234,91.286,91.926,92.052,92.815,91.9,91.85,91.36,91.255,91.781,91.716,91.763,92.257,94.177,93.456,92.975,93.666,94.215,93.427,93.442,93.417,93.405,93.279,93.323,93.105,93.941,93.623,93.498,93.076,93.302,93.242,93.007,93.261,92.871,92.755,92.77,93.133,93.181,92.22,91.945,92.129,92.494,92.459,91.783,91.427,91.643,92.89,94.622,92.606,91.906,91.592,91.438,91.723,91.408,91.366,91.88],\"y0\":\" \",\"yaxis\":\"y\",\"type\":\"box\",\"line\":{\"color\":\"#dc0000\"}},{\"alignmentgroup\":\"True\",\"hovertemplate\":\"Team=%{x}\\u003cbr\\u003eLapTime (s)=%{y}\\u003cextra\\u003e\\u003c\\u002fextra\\u003e\",\"legendgroup\":\"Aston Martin\",\"marker\":{\"color\":\"black\",\"size\":5},\"name\":\"Aston Martin\",\"notched\":false,\"offsetgroup\":\"Aston Martin\",\"orientation\":\"v\",\"showlegend\":true,\"x\":[\"Aston Martin\",\"Aston Martin\",\"Aston Martin\",\"Aston Martin\",\"Aston Martin\",\"Aston Martin\",\"Aston Martin\",\"Aston Martin\",\"Aston Martin\",\"Aston Martin\",\"Aston Martin\",\"Aston Martin\",\"Aston Martin\",\"Aston Martin\",\"Aston Martin\",\"Aston Martin\",\"Aston Martin\",\"Aston Martin\",\"Aston Martin\",\"Aston Martin\",\"Aston Martin\",\"Aston Martin\",\"Aston Martin\",\"Aston Martin\",\"Aston Martin\",\"Aston Martin\",\"Aston Martin\",\"Aston Martin\",\"Aston Martin\",\"Aston Martin\",\"Aston Martin\",\"Aston Martin\",\"Aston Martin\",\"Aston Martin\",\"Aston Martin\",\"Aston Martin\",\"Aston Martin\",\"Aston Martin\",\"Aston Martin\",\"Aston Martin\",\"Aston Martin\",\"Aston Martin\",\"Aston Martin\",\"Aston Martin\",\"Aston Martin\",\"Aston Martin\",\"Aston Martin\",\"Aston Martin\",\"Aston Martin\",\"Aston Martin\",\"Aston Martin\",\"Aston Martin\",\"Aston Martin\",\"Aston Martin\",\"Aston Martin\",\"Aston Martin\",\"Aston Martin\",\"Aston Martin\",\"Aston Martin\",\"Aston Martin\",\"Aston Martin\",\"Aston Martin\",\"Aston Martin\",\"Aston Martin\",\"Aston Martin\",\"Aston Martin\",\"Aston Martin\",\"Aston Martin\",\"Aston Martin\",\"Aston Martin\",\"Aston Martin\",\"Aston Martin\",\"Aston Martin\",\"Aston Martin\",\"Aston Martin\",\"Aston Martin\",\"Aston Martin\",\"Aston Martin\",\"Aston Martin\",\"Aston Martin\",\"Aston Martin\",\"Aston Martin\",\"Aston Martin\",\"Aston Martin\",\"Aston Martin\",\"Aston Martin\",\"Aston Martin\",\"Aston Martin\"],\"x0\":\" \",\"xaxis\":\"x\",\"y\":[94.419,93.424,93.156,94.157,94.636,94.645,94.019,93.657,93.711,93.737,93.951,93.565,93.88,93.736,93.437,93.188,93.317,93.185,93.016,93.19,93.092,93.026,93.017,93.078,93.152,92.914,92.744,92.727,92.686,92.916,92.32,91.691,91.652,91.829,91.747,92.131,92.036,92.891,91.828,91.338,92.075,91.999,91.93,91.711,95.093,94.021,93.799,93.856,94.189,94.115,93.872,93.871,94.007,94.198,94.766,94.308,94.213,93.931,93.798,93.651,93.294,93.338,93.489,93.498,93.431,93.114,93.391,94.28,93.557,93.237,93.26,93.702,94.014,92.933,92.306,92.32,91.707,91.508,91.803,94.01,93.008,91.998,91.768,91.745,91.86,91.794,91.691,92.138],\"y0\":\" \",\"yaxis\":\"y\",\"type\":\"box\",\"line\":{\"color\":\"#006f62\"}},{\"alignmentgroup\":\"True\",\"hovertemplate\":\"Team=%{x}\\u003cbr\\u003eLapTime (s)=%{y}\\u003cextra\\u003e\\u003c\\u002fextra\\u003e\",\"legendgroup\":\"AlphaTauri\",\"marker\":{\"color\":\"black\",\"size\":5},\"name\":\"AlphaTauri\",\"notched\":false,\"offsetgroup\":\"AlphaTauri\",\"orientation\":\"v\",\"showlegend\":true,\"x\":[\"AlphaTauri\",\"AlphaTauri\",\"AlphaTauri\",\"AlphaTauri\",\"AlphaTauri\",\"AlphaTauri\",\"AlphaTauri\",\"AlphaTauri\",\"AlphaTauri\",\"AlphaTauri\",\"AlphaTauri\",\"AlphaTauri\",\"AlphaTauri\",\"AlphaTauri\",\"AlphaTauri\",\"AlphaTauri\",\"AlphaTauri\",\"AlphaTauri\",\"AlphaTauri\",\"AlphaTauri\",\"AlphaTauri\",\"AlphaTauri\",\"AlphaTauri\",\"AlphaTauri\",\"AlphaTauri\",\"AlphaTauri\",\"AlphaTauri\",\"AlphaTauri\",\"AlphaTauri\",\"AlphaTauri\",\"AlphaTauri\",\"AlphaTauri\",\"AlphaTauri\",\"AlphaTauri\",\"AlphaTauri\",\"AlphaTauri\",\"AlphaTauri\",\"AlphaTauri\",\"AlphaTauri\",\"AlphaTauri\",\"AlphaTauri\",\"AlphaTauri\",\"AlphaTauri\",\"AlphaTauri\",\"AlphaTauri\",\"AlphaTauri\",\"AlphaTauri\",\"AlphaTauri\",\"AlphaTauri\",\"AlphaTauri\",\"AlphaTauri\",\"AlphaTauri\",\"AlphaTauri\",\"AlphaTauri\",\"AlphaTauri\",\"AlphaTauri\",\"AlphaTauri\",\"AlphaTauri\",\"AlphaTauri\",\"AlphaTauri\",\"AlphaTauri\",\"AlphaTauri\",\"AlphaTauri\",\"AlphaTauri\",\"AlphaTauri\",\"AlphaTauri\",\"AlphaTauri\",\"AlphaTauri\",\"AlphaTauri\",\"AlphaTauri\",\"AlphaTauri\",\"AlphaTauri\",\"AlphaTauri\",\"AlphaTauri\",\"AlphaTauri\",\"AlphaTauri\",\"AlphaTauri\",\"AlphaTauri\",\"AlphaTauri\",\"AlphaTauri\",\"AlphaTauri\",\"AlphaTauri\",\"AlphaTauri\",\"AlphaTauri\",\"AlphaTauri\",\"AlphaTauri\"],\"x0\":\" \",\"xaxis\":\"x\",\"y\":[96.208,94.746,94.199,94.761,94.907,95.054,93.896,93.774,93.985,93.758,94.165,94.232,94.879,94.17,94.148,93.637,93.453,93.835,93.48,93.652,93.647,93.622,93.663,93.553,93.754,93.299,92.499,92.564,92.829,93.647,93.18,92.65,92.369,92.516,94.017,92.829,92.716,92.456,92.353,92.54,92.632,92.445,92.42,95.252,94.229,94.362,94.457,95.373,94.571,94.486,94.235,94.173,94.085,94.237,94.433,94.769,93.058,92.952,93.094,93.424,93.281,93.189,93.004,93.098,93.205,93.224,93.319,93.418,93.275,93.118,93.211,93.279,92.882,92.932,93.321,92.306,92.572,92.534,92.494,92.535,92.291,92.084,92.504,92.79,93.212,92.78],\"y0\":\" \",\"yaxis\":\"y\",\"type\":\"box\",\"line\":{\"color\":\"#2b4562\"}},{\"alignmentgroup\":\"True\",\"hovertemplate\":\"Team=%{x}\\u003cbr\\u003eLapTime (s)=%{y}\\u003cextra\\u003e\\u003c\\u002fextra\\u003e\",\"legendgroup\":\"Williams\",\"marker\":{\"color\":\"black\",\"size\":5},\"name\":\"Williams\",\"notched\":false,\"offsetgroup\":\"Williams\",\"orientation\":\"v\",\"showlegend\":true,\"x\":[\"Williams\",\"Williams\",\"Williams\",\"Williams\",\"Williams\",\"Williams\",\"Williams\",\"Williams\",\"Williams\",\"Williams\",\"Williams\",\"Williams\",\"Williams\",\"Williams\",\"Williams\",\"Williams\",\"Williams\",\"Williams\",\"Williams\",\"Williams\",\"Williams\",\"Williams\",\"Williams\",\"Williams\",\"Williams\",\"Williams\",\"Williams\",\"Williams\",\"Williams\",\"Williams\",\"Williams\",\"Williams\",\"Williams\",\"Williams\",\"Williams\",\"Williams\",\"Williams\",\"Williams\",\"Williams\",\"Williams\",\"Williams\",\"Williams\",\"Williams\",\"Williams\",\"Williams\",\"Williams\",\"Williams\",\"Williams\",\"Williams\",\"Williams\",\"Williams\",\"Williams\",\"Williams\",\"Williams\",\"Williams\",\"Williams\",\"Williams\",\"Williams\",\"Williams\",\"Williams\",\"Williams\",\"Williams\",\"Williams\",\"Williams\",\"Williams\",\"Williams\",\"Williams\",\"Williams\",\"Williams\",\"Williams\",\"Williams\",\"Williams\",\"Williams\",\"Williams\",\"Williams\",\"Williams\",\"Williams\",\"Williams\",\"Williams\",\"Williams\",\"Williams\",\"Williams\",\"Williams\",\"Williams\",\"Williams\",\"Williams\",\"Williams\"],\"x0\":\" \",\"xaxis\":\"x\",\"y\":[96.266,94.577,94.332,94.842,94.356,94.581,94.108,93.94,94.31,93.925,94.239,94.329,93.683,94.123,93.771,93.728,93.465,93.573,93.387,93.458,93.479,93.212,93.502,93.508,93.553,93.731,93.49,92.723,91.994,92.794,92.949,91.84,91.699,91.743,92.849,92.724,92.421,91.868,91.71,91.873,92.085,91.956,91.984,95.004,93.809,93.866,93.86,94.21,94.099,93.922,93.731,94.045,93.842,93.857,93.751,93.951,93.786,94.343,93.707,93.615,93.654,93.44,93.195,93.021,93.117,93.163,93.374,93.175,93.126,93.084,92.869,92.882,92.816,92.63,92.176,91.273,91.879,91.752,92.057,92.146,92.116,91.537,91.466,91.912,91.86,91.93,91.809],\"y0\":\" \",\"yaxis\":\"y\",\"type\":\"box\",\"line\":{\"color\":\"#005aff\"}},{\"alignmentgroup\":\"True\",\"hovertemplate\":\"Team=%{x}\\u003cbr\\u003eLapTime (s)=%{y}\\u003cextra\\u003e\\u003c\\u002fextra\\u003e\",\"legendgroup\":\"Alpine\",\"marker\":{\"color\":\"black\",\"size\":5},\"name\":\"Alpine\",\"notched\":false,\"offsetgroup\":\"Alpine\",\"orientation\":\"v\",\"showlegend\":true,\"x\":[\"Alpine\",\"Alpine\",\"Alpine\",\"Alpine\",\"Alpine\",\"Alpine\",\"Alpine\",\"Alpine\",\"Alpine\",\"Alpine\",\"Alpine\",\"Alpine\",\"Alpine\",\"Alpine\",\"Alpine\",\"Alpine\",\"Alpine\",\"Alpine\",\"Alpine\",\"Alpine\",\"Alpine\",\"Alpine\",\"Alpine\",\"Alpine\",\"Alpine\",\"Alpine\",\"Alpine\",\"Alpine\",\"Alpine\",\"Alpine\",\"Alpine\",\"Alpine\",\"Alpine\",\"Alpine\",\"Alpine\",\"Alpine\",\"Alpine\",\"Alpine\",\"Alpine\",\"Alpine\",\"Alpine\",\"Alpine\",\"Alpine\",\"Alpine\"],\"x0\":\" \",\"xaxis\":\"x\",\"y\":[94.706,93.605,93.349,93.863,94.143,94.399,93.905,93.592,93.855,93.836,93.705,93.683,93.843,93.769,93.535,93.138,93.291,93.199,93.248,93.098,93.168,92.846,93.164,93.098,93.243,92.988,93.255,93.283,93.299,93.391,92.98,92.823,91.827,91.539,91.648,92.862,95.23,94.113,93.941,93.946,94.381,94.346,94.032,93.846],\"y0\":\" \",\"yaxis\":\"y\",\"type\":\"box\",\"line\":{\"color\":\"#0090ff\"}},{\"alignmentgroup\":\"True\",\"hovertemplate\":\"Team=%{x}\\u003cbr\\u003eLapTime (s)=%{y}\\u003cextra\\u003e\\u003c\\u002fextra\\u003e\",\"legendgroup\":\"Alfa Romeo\",\"marker\":{\"color\":\"black\",\"size\":5},\"name\":\"Alfa Romeo\",\"notched\":false,\"offsetgroup\":\"Alfa Romeo\",\"orientation\":\"v\",\"showlegend\":true,\"x\":[\"Alfa Romeo\",\"Alfa Romeo\",\"Alfa Romeo\",\"Alfa Romeo\",\"Alfa Romeo\",\"Alfa Romeo\",\"Alfa Romeo\",\"Alfa Romeo\",\"Alfa Romeo\",\"Alfa Romeo\",\"Alfa Romeo\",\"Alfa Romeo\",\"Alfa Romeo\",\"Alfa Romeo\",\"Alfa Romeo\",\"Alfa Romeo\",\"Alfa Romeo\",\"Alfa Romeo\",\"Alfa Romeo\",\"Alfa Romeo\",\"Alfa Romeo\",\"Alfa Romeo\",\"Alfa Romeo\",\"Alfa Romeo\",\"Alfa Romeo\",\"Alfa Romeo\",\"Alfa Romeo\",\"Alfa Romeo\",\"Alfa Romeo\",\"Alfa Romeo\",\"Alfa Romeo\",\"Alfa Romeo\",\"Alfa Romeo\",\"Alfa Romeo\",\"Alfa Romeo\",\"Alfa Romeo\",\"Alfa Romeo\",\"Alfa Romeo\",\"Alfa Romeo\",\"Alfa Romeo\",\"Alfa Romeo\",\"Alfa Romeo\",\"Alfa Romeo\",\"Alfa Romeo\",\"Alfa Romeo\",\"Alfa Romeo\",\"Alfa Romeo\",\"Alfa Romeo\",\"Alfa Romeo\",\"Alfa Romeo\",\"Alfa Romeo\",\"Alfa Romeo\",\"Alfa Romeo\",\"Alfa Romeo\",\"Alfa Romeo\",\"Alfa Romeo\",\"Alfa Romeo\",\"Alfa Romeo\",\"Alfa Romeo\",\"Alfa Romeo\",\"Alfa Romeo\",\"Alfa Romeo\",\"Alfa Romeo\",\"Alfa Romeo\",\"Alfa Romeo\",\"Alfa Romeo\",\"Alfa Romeo\",\"Alfa Romeo\",\"Alfa Romeo\",\"Alfa Romeo\",\"Alfa Romeo\",\"Alfa Romeo\",\"Alfa Romeo\",\"Alfa Romeo\",\"Alfa Romeo\",\"Alfa Romeo\",\"Alfa Romeo\",\"Alfa Romeo\",\"Alfa Romeo\",\"Alfa Romeo\",\"Alfa Romeo\",\"Alfa Romeo\",\"Alfa Romeo\",\"Alfa Romeo\",\"Alfa Romeo\",\"Alfa Romeo\"],\"x0\":\" \",\"xaxis\":\"x\",\"y\":[95.912,94.679,94.408,94.736,94.807,94.995,94.267,94.044,94.392,94.221,94.235,94.13,94.418,94.677,94.263,94.027,93.861,93.907,93.726,93.56,93.679,93.642,93.17,92.524,92.912,92.999,92.812,93.006,93.073,93.188,93.31,92.655,92.243,92.645,92.789,92.502,92.329,91.957,91.769,92.599,92.459,92.09,92.114,94.865,94.611,94.804,94.791,94.879,94.476,94.386,94.306,94.354,94.541,94.618,94.604,94.627,94.367,93.867,93.749,93.73,93.671,93.607,93.468,93.787,93.464,93.292,93.47,93.588,93.5,93.351,93.367,93.44,92.618,93.056,92.229,91.902,92.047,92.563,93.177,92.284,92.079,91.974,92.167,92.163,92.133,91.852],\"y0\":\" \",\"yaxis\":\"y\",\"type\":\"box\",\"line\":{\"color\":\"#900000\"}},{\"alignmentgroup\":\"True\",\"hovertemplate\":\"Team=%{x}\\u003cbr\\u003eLapTime (s)=%{y}\\u003cextra\\u003e\\u003c\\u002fextra\\u003e\",\"legendgroup\":\"Haas F1 Team\",\"marker\":{\"color\":\"black\",\"size\":5},\"name\":\"Haas F1 Team\",\"notched\":false,\"offsetgroup\":\"Haas F1 Team\",\"orientation\":\"v\",\"showlegend\":true,\"x\":[\"Haas F1 Team\",\"Haas F1 Team\",\"Haas F1 Team\",\"Haas F1 Team\",\"Haas F1 Team\",\"Haas F1 Team\",\"Haas F1 Team\",\"Haas F1 Team\",\"Haas F1 Team\",\"Haas F1 Team\",\"Haas F1 Team\",\"Haas F1 Team\",\"Haas F1 Team\",\"Haas F1 Team\",\"Haas F1 Team\",\"Haas F1 Team\",\"Haas F1 Team\",\"Haas F1 Team\",\"Haas F1 Team\",\"Haas F1 Team\",\"Haas F1 Team\",\"Haas F1 Team\",\"Haas F1 Team\",\"Haas F1 Team\",\"Haas F1 Team\",\"Haas F1 Team\",\"Haas F1 Team\",\"Haas F1 Team\",\"Haas F1 Team\",\"Haas F1 Team\",\"Haas F1 Team\",\"Haas F1 Team\",\"Haas F1 Team\",\"Haas F1 Team\",\"Haas F1 Team\",\"Haas F1 Team\",\"Haas F1 Team\",\"Haas F1 Team\",\"Haas F1 Team\",\"Haas F1 Team\",\"Haas F1 Team\",\"Haas F1 Team\",\"Haas F1 Team\",\"Haas F1 Team\",\"Haas F1 Team\",\"Haas F1 Team\",\"Haas F1 Team\",\"Haas F1 Team\",\"Haas F1 Team\",\"Haas F1 Team\",\"Haas F1 Team\",\"Haas F1 Team\",\"Haas F1 Team\",\"Haas F1 Team\",\"Haas F1 Team\",\"Haas F1 Team\",\"Haas F1 Team\",\"Haas F1 Team\",\"Haas F1 Team\",\"Haas F1 Team\",\"Haas F1 Team\",\"Haas F1 Team\",\"Haas F1 Team\",\"Haas F1 Team\",\"Haas F1 Team\",\"Haas F1 Team\",\"Haas F1 Team\",\"Haas F1 Team\",\"Haas F1 Team\",\"Haas F1 Team\",\"Haas F1 Team\",\"Haas F1 Team\",\"Haas F1 Team\"],\"x0\":\" \",\"xaxis\":\"x\",\"y\":[96.337,95.169,94.731,94.598,94.933,94.95,94.427,94.577,94.715,94.31,94.544,94.339,95.024,94.606,94.559,94.216,93.795,94.281,93.935,94.083,93.997,93.98,93.891,94.037,94.119,93.935,93.76,93.356,93.466,93.464,95.277,94.53,94.354,95.588,95.631,94.412,93.669,93.525,93.966,94.022,94.3,94.186,93.925,93.64,93.616,93.591,93.763,93.555,93.35,93.143,93.294,93.461,93.351,93.644,93.122,93.28,93.107,93.332,93.133,92.527,92.932,92.104,92.097,92.325,92.441,92.534,92.584,92.101,92.06,92.08,92.158,92.166,91.776],\"y0\":\" \",\"yaxis\":\"y\",\"type\":\"box\",\"line\":{\"color\":\"#ffffff\"}}],                        {\"template\":{\"data\":{\"histogram2dcontour\":[{\"type\":\"histogram2dcontour\",\"colorbar\":{\"outlinewidth\":0,\"ticks\":\"\"},\"colorscale\":[[0.0,\"#0d0887\"],[0.1111111111111111,\"#46039f\"],[0.2222222222222222,\"#7201a8\"],[0.3333333333333333,\"#9c179e\"],[0.4444444444444444,\"#bd3786\"],[0.5555555555555556,\"#d8576b\"],[0.6666666666666666,\"#ed7953\"],[0.7777777777777778,\"#fb9f3a\"],[0.8888888888888888,\"#fdca26\"],[1.0,\"#f0f921\"]]}],\"choropleth\":[{\"type\":\"choropleth\",\"colorbar\":{\"outlinewidth\":0,\"ticks\":\"\"}}],\"histogram2d\":[{\"type\":\"histogram2d\",\"colorbar\":{\"outlinewidth\":0,\"ticks\":\"\"},\"colorscale\":[[0.0,\"#0d0887\"],[0.1111111111111111,\"#46039f\"],[0.2222222222222222,\"#7201a8\"],[0.3333333333333333,\"#9c179e\"],[0.4444444444444444,\"#bd3786\"],[0.5555555555555556,\"#d8576b\"],[0.6666666666666666,\"#ed7953\"],[0.7777777777777778,\"#fb9f3a\"],[0.8888888888888888,\"#fdca26\"],[1.0,\"#f0f921\"]]}],\"heatmap\":[{\"type\":\"heatmap\",\"colorbar\":{\"outlinewidth\":0,\"ticks\":\"\"},\"colorscale\":[[0.0,\"#0d0887\"],[0.1111111111111111,\"#46039f\"],[0.2222222222222222,\"#7201a8\"],[0.3333333333333333,\"#9c179e\"],[0.4444444444444444,\"#bd3786\"],[0.5555555555555556,\"#d8576b\"],[0.6666666666666666,\"#ed7953\"],[0.7777777777777778,\"#fb9f3a\"],[0.8888888888888888,\"#fdca26\"],[1.0,\"#f0f921\"]]}],\"heatmapgl\":[{\"type\":\"heatmapgl\",\"colorbar\":{\"outlinewidth\":0,\"ticks\":\"\"},\"colorscale\":[[0.0,\"#0d0887\"],[0.1111111111111111,\"#46039f\"],[0.2222222222222222,\"#7201a8\"],[0.3333333333333333,\"#9c179e\"],[0.4444444444444444,\"#bd3786\"],[0.5555555555555556,\"#d8576b\"],[0.6666666666666666,\"#ed7953\"],[0.7777777777777778,\"#fb9f3a\"],[0.8888888888888888,\"#fdca26\"],[1.0,\"#f0f921\"]]}],\"contourcarpet\":[{\"type\":\"contourcarpet\",\"colorbar\":{\"outlinewidth\":0,\"ticks\":\"\"}}],\"contour\":[{\"type\":\"contour\",\"colorbar\":{\"outlinewidth\":0,\"ticks\":\"\"},\"colorscale\":[[0.0,\"#0d0887\"],[0.1111111111111111,\"#46039f\"],[0.2222222222222222,\"#7201a8\"],[0.3333333333333333,\"#9c179e\"],[0.4444444444444444,\"#bd3786\"],[0.5555555555555556,\"#d8576b\"],[0.6666666666666666,\"#ed7953\"],[0.7777777777777778,\"#fb9f3a\"],[0.8888888888888888,\"#fdca26\"],[1.0,\"#f0f921\"]]}],\"surface\":[{\"type\":\"surface\",\"colorbar\":{\"outlinewidth\":0,\"ticks\":\"\"},\"colorscale\":[[0.0,\"#0d0887\"],[0.1111111111111111,\"#46039f\"],[0.2222222222222222,\"#7201a8\"],[0.3333333333333333,\"#9c179e\"],[0.4444444444444444,\"#bd3786\"],[0.5555555555555556,\"#d8576b\"],[0.6666666666666666,\"#ed7953\"],[0.7777777777777778,\"#fb9f3a\"],[0.8888888888888888,\"#fdca26\"],[1.0,\"#f0f921\"]]}],\"mesh3d\":[{\"type\":\"mesh3d\",\"colorbar\":{\"outlinewidth\":0,\"ticks\":\"\"}}],\"scatter\":[{\"fillpattern\":{\"fillmode\":\"overlay\",\"size\":10,\"solidity\":0.2},\"type\":\"scatter\"}],\"parcoords\":[{\"type\":\"parcoords\",\"line\":{\"colorbar\":{\"outlinewidth\":0,\"ticks\":\"\"}}}],\"scatterpolargl\":[{\"type\":\"scatterpolargl\",\"marker\":{\"colorbar\":{\"outlinewidth\":0,\"ticks\":\"\"}}}],\"bar\":[{\"error_x\":{\"color\":\"#2a3f5f\"},\"error_y\":{\"color\":\"#2a3f5f\"},\"marker\":{\"line\":{\"color\":\"#E5ECF6\",\"width\":0.5},\"pattern\":{\"fillmode\":\"overlay\",\"size\":10,\"solidity\":0.2}},\"type\":\"bar\"}],\"scattergeo\":[{\"type\":\"scattergeo\",\"marker\":{\"colorbar\":{\"outlinewidth\":0,\"ticks\":\"\"}}}],\"scatterpolar\":[{\"type\":\"scatterpolar\",\"marker\":{\"colorbar\":{\"outlinewidth\":0,\"ticks\":\"\"}}}],\"histogram\":[{\"marker\":{\"pattern\":{\"fillmode\":\"overlay\",\"size\":10,\"solidity\":0.2}},\"type\":\"histogram\"}],\"scattergl\":[{\"type\":\"scattergl\",\"marker\":{\"colorbar\":{\"outlinewidth\":0,\"ticks\":\"\"}}}],\"scatter3d\":[{\"type\":\"scatter3d\",\"line\":{\"colorbar\":{\"outlinewidth\":0,\"ticks\":\"\"}},\"marker\":{\"colorbar\":{\"outlinewidth\":0,\"ticks\":\"\"}}}],\"scattermapbox\":[{\"type\":\"scattermapbox\",\"marker\":{\"colorbar\":{\"outlinewidth\":0,\"ticks\":\"\"}}}],\"scatterternary\":[{\"type\":\"scatterternary\",\"marker\":{\"colorbar\":{\"outlinewidth\":0,\"ticks\":\"\"}}}],\"scattercarpet\":[{\"type\":\"scattercarpet\",\"marker\":{\"colorbar\":{\"outlinewidth\":0,\"ticks\":\"\"}}}],\"carpet\":[{\"aaxis\":{\"endlinecolor\":\"#2a3f5f\",\"gridcolor\":\"white\",\"linecolor\":\"white\",\"minorgridcolor\":\"white\",\"startlinecolor\":\"#2a3f5f\"},\"baxis\":{\"endlinecolor\":\"#2a3f5f\",\"gridcolor\":\"white\",\"linecolor\":\"white\",\"minorgridcolor\":\"white\",\"startlinecolor\":\"#2a3f5f\"},\"type\":\"carpet\"}],\"table\":[{\"cells\":{\"fill\":{\"color\":\"#EBF0F8\"},\"line\":{\"color\":\"white\"}},\"header\":{\"fill\":{\"color\":\"#C8D4E3\"},\"line\":{\"color\":\"white\"}},\"type\":\"table\"}],\"barpolar\":[{\"marker\":{\"line\":{\"color\":\"#E5ECF6\",\"width\":0.5},\"pattern\":{\"fillmode\":\"overlay\",\"size\":10,\"solidity\":0.2}},\"type\":\"barpolar\"}],\"pie\":[{\"automargin\":true,\"type\":\"pie\"}]},\"layout\":{\"autotypenumbers\":\"strict\",\"colorway\":[\"#636efa\",\"#EF553B\",\"#00cc96\",\"#ab63fa\",\"#FFA15A\",\"#19d3f3\",\"#FF6692\",\"#B6E880\",\"#FF97FF\",\"#FECB52\"],\"font\":{\"color\":\"#2a3f5f\"},\"hovermode\":\"closest\",\"hoverlabel\":{\"align\":\"left\"},\"paper_bgcolor\":\"white\",\"plot_bgcolor\":\"#E5ECF6\",\"polar\":{\"bgcolor\":\"#E5ECF6\",\"angularaxis\":{\"gridcolor\":\"white\",\"linecolor\":\"white\",\"ticks\":\"\"},\"radialaxis\":{\"gridcolor\":\"white\",\"linecolor\":\"white\",\"ticks\":\"\"}},\"ternary\":{\"bgcolor\":\"#E5ECF6\",\"aaxis\":{\"gridcolor\":\"white\",\"linecolor\":\"white\",\"ticks\":\"\"},\"baxis\":{\"gridcolor\":\"white\",\"linecolor\":\"white\",\"ticks\":\"\"},\"caxis\":{\"gridcolor\":\"white\",\"linecolor\":\"white\",\"ticks\":\"\"}},\"coloraxis\":{\"colorbar\":{\"outlinewidth\":0,\"ticks\":\"\"}},\"colorscale\":{\"sequential\":[[0.0,\"#0d0887\"],[0.1111111111111111,\"#46039f\"],[0.2222222222222222,\"#7201a8\"],[0.3333333333333333,\"#9c179e\"],[0.4444444444444444,\"#bd3786\"],[0.5555555555555556,\"#d8576b\"],[0.6666666666666666,\"#ed7953\"],[0.7777777777777778,\"#fb9f3a\"],[0.8888888888888888,\"#fdca26\"],[1.0,\"#f0f921\"]],\"sequentialminus\":[[0.0,\"#0d0887\"],[0.1111111111111111,\"#46039f\"],[0.2222222222222222,\"#7201a8\"],[0.3333333333333333,\"#9c179e\"],[0.4444444444444444,\"#bd3786\"],[0.5555555555555556,\"#d8576b\"],[0.6666666666666666,\"#ed7953\"],[0.7777777777777778,\"#fb9f3a\"],[0.8888888888888888,\"#fdca26\"],[1.0,\"#f0f921\"]],\"diverging\":[[0,\"#8e0152\"],[0.1,\"#c51b7d\"],[0.2,\"#de77ae\"],[0.3,\"#f1b6da\"],[0.4,\"#fde0ef\"],[0.5,\"#f7f7f7\"],[0.6,\"#e6f5d0\"],[0.7,\"#b8e186\"],[0.8,\"#7fbc41\"],[0.9,\"#4d9221\"],[1,\"#276419\"]]},\"xaxis\":{\"gridcolor\":\"white\",\"linecolor\":\"white\",\"ticks\":\"\",\"title\":{\"standoff\":15},\"zerolinecolor\":\"white\",\"automargin\":true,\"zerolinewidth\":2},\"yaxis\":{\"gridcolor\":\"white\",\"linecolor\":\"white\",\"ticks\":\"\",\"title\":{\"standoff\":15},\"zerolinecolor\":\"white\",\"automargin\":true,\"zerolinewidth\":2},\"scene\":{\"xaxis\":{\"backgroundcolor\":\"#E5ECF6\",\"gridcolor\":\"white\",\"linecolor\":\"white\",\"showbackground\":true,\"ticks\":\"\",\"zerolinecolor\":\"white\",\"gridwidth\":2},\"yaxis\":{\"backgroundcolor\":\"#E5ECF6\",\"gridcolor\":\"white\",\"linecolor\":\"white\",\"showbackground\":true,\"ticks\":\"\",\"zerolinecolor\":\"white\",\"gridwidth\":2},\"zaxis\":{\"backgroundcolor\":\"#E5ECF6\",\"gridcolor\":\"white\",\"linecolor\":\"white\",\"showbackground\":true,\"ticks\":\"\",\"zerolinecolor\":\"white\",\"gridwidth\":2}},\"shapedefaults\":{\"line\":{\"color\":\"#2a3f5f\"}},\"annotationdefaults\":{\"arrowcolor\":\"#2a3f5f\",\"arrowhead\":0,\"arrowwidth\":1},\"geo\":{\"bgcolor\":\"white\",\"landcolor\":\"#E5ECF6\",\"subunitcolor\":\"white\",\"showland\":true,\"showlakes\":true,\"lakecolor\":\"white\"},\"title\":{\"x\":0.05},\"mapbox\":{\"style\":\"light\"}}},\"xaxis\":{\"anchor\":\"y\",\"domain\":[0.0,1.0],\"title\":{},\"categoryorder\":\"array\",\"categoryarray\":[\"Red Bull Racing\",\"McLaren\",\"Mercedes\",\"Ferrari\",\"Aston Martin\",\"AlphaTauri\",\"Williams\",\"Alpine\",\"Alfa Romeo\",\"Haas F1 Team\"]},\"yaxis\":{\"anchor\":\"x\",\"domain\":[0.0,1.0],\"title\":{\"text\":\"Lap Time (s)\"}},\"legend\":{\"title\":{\"text\":\"Team\"},\"tracegroupgap\":0},\"margin\":{\"t\":60},\"boxmode\":\"overlay\",\"title\":{\"text\":\"Team speed comparaison by lap : 2023 British Grand Prix\"}},                        {\"responsive\": true}                    ).then(function(){\n                            \nvar gd = document.getElementById('47ccd9a3-044f-4b42-ba45-55fba1b3b5d0');\nvar x = new MutationObserver(function (mutations, observer) {{\n        var display = window.getComputedStyle(gd).display;\n        if (!display || display === 'none') {{\n            console.log([gd, 'removed!']);\n            Plotly.purge(gd);\n            observer.disconnect();\n        }}\n}});\n\n// Listen for the removal of the full notebook cells\nvar notebookContainer = gd.closest('#notebook-container');\nif (notebookContainer) {{\n    x.observe(notebookContainer, {childList: true});\n}}\n\n// Listen for the clearing of the current output cell\nvar outputEl = gd.closest('.output');\nif (outputEl) {{\n    x.observe(outputEl, {childList: true});\n}}\n\n                        })                };                });            </script>        </div>"
     },
     "metadata": {},
     "output_type": "display_data"
    }
   ],
   "source": [
    "import fastf1\n",
    "import fastf1.plotting\n",
    "import pandas as pd\n",
    "import plotly.express as px\n",
    "\n",
    "# Setup\n",
    "fastf1.plotting.setup_mpl(mpl_timedelta_support=False, misc_mpl_mods=False)\n",
    "race = fastf1.get_session(2023, \"British Grand Prix\", 'R')\n",
    "race.load()\n",
    "laps = race.laps.pick_quicklaps()\n",
    "\n",
    "# Preparing Data\n",
    "transformed_laps = laps.copy()\n",
    "transformed_laps.loc[:, \"LapTime (s)\"] = laps[\"LapTime\"].dt.total_seconds()\n",
    "\n",
    "# Team Order and Color Palette\n",
    "team_order = (\n",
    "    transformed_laps[[\"Team\", \"LapTime (s)\"]]\n",
    "    .groupby(\"Team\")\n",
    "    .median()[\"LapTime (s)\"]\n",
    "    .sort_values()\n",
    "    .index\n",
    ")\n",
    "team_palette = {team: fastf1.plotting.team_color(team) for team in team_order}\n",
    "\n",
    "# Plotting\n",
    "fig = px.box(transformed_laps, x=\"Team\", y=\"LapTime (s)\", category_orders={\"Team\": team_order}, \n",
    "             color=\"Team\", color_discrete_map=team_palette)\n",
    "\n",
    "# Customization with More Colors\n",
    "# Customize outliers\n",
    "fig.update_traces(marker=dict(color='black', size=5), line=dict(color='white'))\n",
    "# Customize box and whisker colors\n",
    "for team, color in team_palette.items():\n",
    "    fig.update_traces(selector=dict(name=team), line=dict(color=color))\n",
    "\n",
    "# Update layout and titles\n",
    "fig.update_layout(title=\"Team speed comparaison by lap : 2023 British Grand Prix\", xaxis_title=None, yaxis_title=\"Lap Time (s)\")\n",
    "\n",
    "# Displaying the Plot\n",
    "fig.show()\n"
   ],
   "metadata": {
    "collapsed": false,
    "ExecuteTime": {
     "end_time": "2023-11-21T16:09:01.278876800Z",
     "start_time": "2023-11-21T16:08:55.392493200Z"
    }
   },
   "id": "80dc3ef6794de29c"
  },
  {
   "cell_type": "code",
   "execution_count": 6,
   "outputs": [
    {
     "name": "stderr",
     "output_type": "stream",
     "text": [
      "core           INFO \tLoading data for British Grand Prix - Race [v3.1.3]\n",
      "req            INFO \tUsing cached data for session_info\n",
      "req            INFO \tUsing cached data for driver_info\n",
      "req            INFO \tUsing cached data for session_status_data\n",
      "req            INFO \tUsing cached data for lap_count\n",
      "req            INFO \tUsing cached data for track_status_data\n",
      "req            INFO \tUsing cached data for _extended_timing_data\n",
      "req            INFO \tUsing cached data for timing_app_data\n",
      "core           INFO \tProcessing timing data...\n",
      "req            INFO \tUsing cached data for car_data\n",
      "req            INFO \tUsing cached data for position_data\n",
      "req            INFO \tUsing cached data for weather_data\n",
      "req            INFO \tUsing cached data for race_control_messages\n",
      "core           INFO \tFinished loading data for 20 drivers: ['1', '4', '44', '81', '63', '11', '14', '23', '16', '55', '2', '77', '27', '18', '24', '22', '21', '10', '20', '31']\n"
     ]
    },
    {
     "data": {
      "application/vnd.plotly.v1+json": {
       "data": [
        {
         "alignmentgroup": "True",
         "hovertemplate": "Team=%{x}<br>LapTime (s)=%{y}<extra></extra>",
         "legendgroup": "Red Bull Racing",
         "marker": {
          "color": "black",
          "size": 5
         },
         "name": "Red Bull Racing",
         "notched": false,
         "offsetgroup": "Red Bull Racing",
         "orientation": "v",
         "showlegend": true,
         "x": [
          "Red Bull Racing",
          "Red Bull Racing",
          "Red Bull Racing",
          "Red Bull Racing",
          "Red Bull Racing",
          "Red Bull Racing",
          "Red Bull Racing",
          "Red Bull Racing",
          "Red Bull Racing",
          "Red Bull Racing",
          "Red Bull Racing",
          "Red Bull Racing",
          "Red Bull Racing",
          "Red Bull Racing",
          "Red Bull Racing",
          "Red Bull Racing",
          "Red Bull Racing",
          "Red Bull Racing",
          "Red Bull Racing",
          "Red Bull Racing",
          "Red Bull Racing",
          "Red Bull Racing",
          "Red Bull Racing",
          "Red Bull Racing",
          "Red Bull Racing",
          "Red Bull Racing",
          "Red Bull Racing",
          "Red Bull Racing",
          "Red Bull Racing",
          "Red Bull Racing",
          "Red Bull Racing",
          "Red Bull Racing",
          "Red Bull Racing",
          "Red Bull Racing",
          "Red Bull Racing",
          "Red Bull Racing",
          "Red Bull Racing",
          "Red Bull Racing",
          "Red Bull Racing",
          "Red Bull Racing",
          "Red Bull Racing",
          "Red Bull Racing",
          "Red Bull Racing",
          "Red Bull Racing",
          "Red Bull Racing",
          "Red Bull Racing",
          "Red Bull Racing",
          "Red Bull Racing",
          "Red Bull Racing",
          "Red Bull Racing",
          "Red Bull Racing",
          "Red Bull Racing",
          "Red Bull Racing",
          "Red Bull Racing",
          "Red Bull Racing",
          "Red Bull Racing",
          "Red Bull Racing",
          "Red Bull Racing",
          "Red Bull Racing",
          "Red Bull Racing",
          "Red Bull Racing",
          "Red Bull Racing",
          "Red Bull Racing",
          "Red Bull Racing",
          "Red Bull Racing",
          "Red Bull Racing",
          "Red Bull Racing",
          "Red Bull Racing",
          "Red Bull Racing",
          "Red Bull Racing",
          "Red Bull Racing",
          "Red Bull Racing",
          "Red Bull Racing",
          "Red Bull Racing",
          "Red Bull Racing",
          "Red Bull Racing",
          "Red Bull Racing",
          "Red Bull Racing",
          "Red Bull Racing",
          "Red Bull Racing",
          "Red Bull Racing",
          "Red Bull Racing",
          "Red Bull Racing",
          "Red Bull Racing",
          "Red Bull Racing",
          "Red Bull Racing",
          "Red Bull Racing",
          "Red Bull Racing"
         ],
         "x0": " ",
         "xaxis": "x",
         "y": [
          93.433,
          92.73,
          92.78,
          92.582,
          93.027,
          93.1,
          92.884,
          92.822,
          92.594,
          92.597,
          92.687,
          92.678,
          93.046,
          92.99,
          92.808,
          92.603,
          92.507,
          92.338,
          92.295,
          92.494,
          92.184,
          92.272,
          92.35,
          92.295,
          92.276,
          92.138,
          92.215,
          92.251,
          92.363,
          92.388,
          92.21,
          90.348,
          90.547,
          90.688,
          90.275,
          90.535,
          90.648,
          91.342,
          91.114,
          91.148,
          91.4,
          91.218,
          91.292,
          91.397,
          90.975,
          95.482,
          94.38,
          94.339,
          94.073,
          93.671,
          93.919,
          93.568,
          93.271,
          93.364,
          93.547,
          93.429,
          93.452,
          93.751,
          93.48,
          93.055,
          93.28,
          93.099,
          93.276,
          93.202,
          93.233,
          93.026,
          93.262,
          92.726,
          92.907,
          92.962,
          92.742,
          92.235,
          91.408,
          91.532,
          92.503,
          91.909,
          91.391,
          91.716,
          92.005,
          91.712,
          91.571,
          91.675,
          91.505,
          91.209,
          91.36,
          91.139,
          90.914,
          91.188
         ],
         "y0": " ",
         "yaxis": "y",
         "type": "box",
         "line": {
          "color": "#0600ef"
         }
        },
        {
         "alignmentgroup": "True",
         "hovertemplate": "Team=%{x}<br>LapTime (s)=%{y}<extra></extra>",
         "legendgroup": "McLaren",
         "marker": {
          "color": "black",
          "size": 5
         },
         "name": "McLaren",
         "notched": false,
         "offsetgroup": "McLaren",
         "orientation": "v",
         "showlegend": true,
         "x": [
          "McLaren",
          "McLaren",
          "McLaren",
          "McLaren",
          "McLaren",
          "McLaren",
          "McLaren",
          "McLaren",
          "McLaren",
          "McLaren",
          "McLaren",
          "McLaren",
          "McLaren",
          "McLaren",
          "McLaren",
          "McLaren",
          "McLaren",
          "McLaren",
          "McLaren",
          "McLaren",
          "McLaren",
          "McLaren",
          "McLaren",
          "McLaren",
          "McLaren",
          "McLaren",
          "McLaren",
          "McLaren",
          "McLaren",
          "McLaren",
          "McLaren",
          "McLaren",
          "McLaren",
          "McLaren",
          "McLaren",
          "McLaren",
          "McLaren",
          "McLaren",
          "McLaren",
          "McLaren",
          "McLaren",
          "McLaren",
          "McLaren",
          "McLaren",
          "McLaren",
          "McLaren",
          "McLaren",
          "McLaren",
          "McLaren",
          "McLaren",
          "McLaren",
          "McLaren",
          "McLaren",
          "McLaren",
          "McLaren",
          "McLaren",
          "McLaren",
          "McLaren",
          "McLaren",
          "McLaren",
          "McLaren",
          "McLaren",
          "McLaren",
          "McLaren",
          "McLaren",
          "McLaren",
          "McLaren",
          "McLaren",
          "McLaren",
          "McLaren",
          "McLaren",
          "McLaren",
          "McLaren",
          "McLaren",
          "McLaren",
          "McLaren",
          "McLaren",
          "McLaren",
          "McLaren",
          "McLaren",
          "McLaren",
          "McLaren",
          "McLaren",
          "McLaren",
          "McLaren",
          "McLaren",
          "McLaren",
          "McLaren",
          "McLaren"
         ],
         "x0": " ",
         "xaxis": "x",
         "y": [
          96.551,
          93.046,
          93.18,
          92.772,
          93.914,
          93.112,
          93.19,
          93.101,
          92.612,
          92.977,
          92.978,
          93.116,
          92.986,
          93.67,
          93.221,
          92.903,
          92.985,
          92.731,
          92.5,
          92.77,
          92.604,
          92.637,
          92.619,
          92.721,
          92.949,
          92.758,
          92.734,
          92.714,
          92.806,
          92.609,
          92.808,
          92.571,
          91.243,
          90.997,
          90.76,
          90.922,
          90.543,
          90.786,
          91.301,
          91.094,
          91.593,
          91.36,
          91.02,
          91.56,
          91.077,
          91.251,
          93.845,
          92.499,
          92.581,
          93.461,
          93.008,
          93.29,
          93.233,
          92.79,
          93.379,
          92.976,
          93.464,
          93.144,
          93.603,
          93.267,
          93.005,
          92.775,
          93.019,
          92.88,
          92.66,
          92.749,
          92.537,
          92.732,
          92.676,
          92.809,
          93.052,
          92.844,
          93.19,
          92.563,
          91.68,
          91.646,
          91.475,
          90.85,
          91.178,
          91.011,
          91.465,
          91.406,
          91.496,
          91.427,
          91.159,
          91.422,
          91.752,
          91.305,
          90.941
         ],
         "y0": " ",
         "yaxis": "y",
         "type": "box",
         "line": {
          "color": "#ff8700"
         }
        },
        {
         "alignmentgroup": "True",
         "hovertemplate": "Team=%{x}<br>LapTime (s)=%{y}<extra></extra>",
         "legendgroup": "Mercedes",
         "marker": {
          "color": "black",
          "size": 5
         },
         "name": "Mercedes",
         "notched": false,
         "offsetgroup": "Mercedes",
         "orientation": "v",
         "showlegend": true,
         "x": [
          "Mercedes",
          "Mercedes",
          "Mercedes",
          "Mercedes",
          "Mercedes",
          "Mercedes",
          "Mercedes",
          "Mercedes",
          "Mercedes",
          "Mercedes",
          "Mercedes",
          "Mercedes",
          "Mercedes",
          "Mercedes",
          "Mercedes",
          "Mercedes",
          "Mercedes",
          "Mercedes",
          "Mercedes",
          "Mercedes",
          "Mercedes",
          "Mercedes",
          "Mercedes",
          "Mercedes",
          "Mercedes",
          "Mercedes",
          "Mercedes",
          "Mercedes",
          "Mercedes",
          "Mercedes",
          "Mercedes",
          "Mercedes",
          "Mercedes",
          "Mercedes",
          "Mercedes",
          "Mercedes",
          "Mercedes",
          "Mercedes",
          "Mercedes",
          "Mercedes",
          "Mercedes",
          "Mercedes",
          "Mercedes",
          "Mercedes",
          "Mercedes",
          "Mercedes",
          "Mercedes",
          "Mercedes",
          "Mercedes",
          "Mercedes",
          "Mercedes",
          "Mercedes",
          "Mercedes",
          "Mercedes",
          "Mercedes",
          "Mercedes",
          "Mercedes",
          "Mercedes",
          "Mercedes",
          "Mercedes",
          "Mercedes",
          "Mercedes",
          "Mercedes",
          "Mercedes",
          "Mercedes",
          "Mercedes",
          "Mercedes",
          "Mercedes",
          "Mercedes",
          "Mercedes",
          "Mercedes",
          "Mercedes",
          "Mercedes",
          "Mercedes",
          "Mercedes",
          "Mercedes",
          "Mercedes",
          "Mercedes",
          "Mercedes",
          "Mercedes",
          "Mercedes",
          "Mercedes",
          "Mercedes",
          "Mercedes",
          "Mercedes",
          "Mercedes",
          "Mercedes",
          "Mercedes"
         ],
         "x0": " ",
         "xaxis": "x",
         "y": [
          94.361,
          93.662,
          93.086,
          93.718,
          94.556,
          93.328,
          93.483,
          93.331,
          93.624,
          93.519,
          93.908,
          93.28,
          93.324,
          93.156,
          92.931,
          93.12,
          93.313,
          93.201,
          92.956,
          92.779,
          92.821,
          92.974,
          92.703,
          93.087,
          92.769,
          92.714,
          92.32,
          92.155,
          92.246,
          92.744,
          95.161,
          91.427,
          91.279,
          90.673,
          91.042,
          90.545,
          91.589,
          91.359,
          91.559,
          91.248,
          91.152,
          91.286,
          91.526,
          91.703,
          91.823,
          94.115,
          93.096,
          93.084,
          94.211,
          93.839,
          93.432,
          93.136,
          93.154,
          93.424,
          93.089,
          93.354,
          93.159,
          93.729,
          93.27,
          93.309,
          93.174,
          93.072,
          92.807,
          92.803,
          92.85,
          92.568,
          92.683,
          92.852,
          92.863,
          92.958,
          93.062,
          92.504,
          91.51,
          91.8,
          91.848,
          91.606,
          91.124,
          91.188,
          91.231,
          91.568,
          91.718,
          91.984,
          91.644,
          91.569,
          91.612,
          91.421,
          91.563,
          91.433
         ],
         "y0": " ",
         "yaxis": "y",
         "type": "box",
         "line": {
          "color": "#00d2be"
         }
        },
        {
         "alignmentgroup": "True",
         "hovertemplate": "Team=%{x}<br>LapTime (s)=%{y}<extra></extra>",
         "legendgroup": "Ferrari",
         "marker": {
          "color": "black",
          "size": 5
         },
         "name": "Ferrari",
         "notched": false,
         "offsetgroup": "Ferrari",
         "orientation": "v",
         "showlegend": true,
         "x": [
          "Ferrari",
          "Ferrari",
          "Ferrari",
          "Ferrari",
          "Ferrari",
          "Ferrari",
          "Ferrari",
          "Ferrari",
          "Ferrari",
          "Ferrari",
          "Ferrari",
          "Ferrari",
          "Ferrari",
          "Ferrari",
          "Ferrari",
          "Ferrari",
          "Ferrari",
          "Ferrari",
          "Ferrari",
          "Ferrari",
          "Ferrari",
          "Ferrari",
          "Ferrari",
          "Ferrari",
          "Ferrari",
          "Ferrari",
          "Ferrari",
          "Ferrari",
          "Ferrari",
          "Ferrari",
          "Ferrari",
          "Ferrari",
          "Ferrari",
          "Ferrari",
          "Ferrari",
          "Ferrari",
          "Ferrari",
          "Ferrari",
          "Ferrari",
          "Ferrari",
          "Ferrari",
          "Ferrari",
          "Ferrari",
          "Ferrari",
          "Ferrari",
          "Ferrari",
          "Ferrari",
          "Ferrari",
          "Ferrari",
          "Ferrari",
          "Ferrari",
          "Ferrari",
          "Ferrari",
          "Ferrari",
          "Ferrari",
          "Ferrari",
          "Ferrari",
          "Ferrari",
          "Ferrari",
          "Ferrari",
          "Ferrari",
          "Ferrari",
          "Ferrari",
          "Ferrari",
          "Ferrari",
          "Ferrari",
          "Ferrari",
          "Ferrari",
          "Ferrari",
          "Ferrari",
          "Ferrari",
          "Ferrari",
          "Ferrari",
          "Ferrari",
          "Ferrari",
          "Ferrari",
          "Ferrari",
          "Ferrari",
          "Ferrari",
          "Ferrari",
          "Ferrari",
          "Ferrari",
          "Ferrari",
          "Ferrari",
          "Ferrari",
          "Ferrari",
          "Ferrari"
         ],
         "x0": " ",
         "xaxis": "x",
         "y": [
          93.994,
          92.934,
          92.961,
          94.409,
          93.761,
          93.403,
          93.244,
          93.087,
          93.167,
          93.048,
          93.621,
          93.214,
          93.523,
          93.542,
          93.248,
          93.151,
          92.475,
          92.87,
          92.848,
          93.035,
          92.554,
          92.731,
          92.798,
          92.794,
          92.942,
          92.814,
          92.658,
          92.464,
          93.233,
          96.215,
          92.5,
          92.234,
          91.286,
          91.926,
          92.052,
          92.815,
          91.9,
          91.85,
          91.36,
          91.255,
          91.781,
          91.716,
          91.763,
          92.257,
          94.177,
          93.456,
          92.975,
          93.666,
          94.215,
          93.427,
          93.442,
          93.417,
          93.405,
          93.279,
          93.323,
          93.105,
          93.941,
          93.623,
          93.498,
          93.076,
          93.302,
          93.242,
          93.007,
          93.261,
          92.871,
          92.755,
          92.77,
          93.133,
          93.181,
          92.22,
          91.945,
          92.129,
          92.494,
          92.459,
          91.783,
          91.427,
          91.643,
          92.89,
          94.622,
          92.606,
          91.906,
          91.592,
          91.438,
          91.723,
          91.408,
          91.366,
          91.88
         ],
         "y0": " ",
         "yaxis": "y",
         "type": "box",
         "line": {
          "color": "#dc0000"
         }
        },
        {
         "alignmentgroup": "True",
         "hovertemplate": "Team=%{x}<br>LapTime (s)=%{y}<extra></extra>",
         "legendgroup": "Aston Martin",
         "marker": {
          "color": "black",
          "size": 5
         },
         "name": "Aston Martin",
         "notched": false,
         "offsetgroup": "Aston Martin",
         "orientation": "v",
         "showlegend": true,
         "x": [
          "Aston Martin",
          "Aston Martin",
          "Aston Martin",
          "Aston Martin",
          "Aston Martin",
          "Aston Martin",
          "Aston Martin",
          "Aston Martin",
          "Aston Martin",
          "Aston Martin",
          "Aston Martin",
          "Aston Martin",
          "Aston Martin",
          "Aston Martin",
          "Aston Martin",
          "Aston Martin",
          "Aston Martin",
          "Aston Martin",
          "Aston Martin",
          "Aston Martin",
          "Aston Martin",
          "Aston Martin",
          "Aston Martin",
          "Aston Martin",
          "Aston Martin",
          "Aston Martin",
          "Aston Martin",
          "Aston Martin",
          "Aston Martin",
          "Aston Martin",
          "Aston Martin",
          "Aston Martin",
          "Aston Martin",
          "Aston Martin",
          "Aston Martin",
          "Aston Martin",
          "Aston Martin",
          "Aston Martin",
          "Aston Martin",
          "Aston Martin",
          "Aston Martin",
          "Aston Martin",
          "Aston Martin",
          "Aston Martin",
          "Aston Martin",
          "Aston Martin",
          "Aston Martin",
          "Aston Martin",
          "Aston Martin",
          "Aston Martin",
          "Aston Martin",
          "Aston Martin",
          "Aston Martin",
          "Aston Martin",
          "Aston Martin",
          "Aston Martin",
          "Aston Martin",
          "Aston Martin",
          "Aston Martin",
          "Aston Martin",
          "Aston Martin",
          "Aston Martin",
          "Aston Martin",
          "Aston Martin",
          "Aston Martin",
          "Aston Martin",
          "Aston Martin",
          "Aston Martin",
          "Aston Martin",
          "Aston Martin",
          "Aston Martin",
          "Aston Martin",
          "Aston Martin",
          "Aston Martin",
          "Aston Martin",
          "Aston Martin",
          "Aston Martin",
          "Aston Martin",
          "Aston Martin",
          "Aston Martin",
          "Aston Martin",
          "Aston Martin",
          "Aston Martin",
          "Aston Martin",
          "Aston Martin",
          "Aston Martin",
          "Aston Martin",
          "Aston Martin"
         ],
         "x0": " ",
         "xaxis": "x",
         "y": [
          94.419,
          93.424,
          93.156,
          94.157,
          94.636,
          94.645,
          94.019,
          93.657,
          93.711,
          93.737,
          93.951,
          93.565,
          93.88,
          93.736,
          93.437,
          93.188,
          93.317,
          93.185,
          93.016,
          93.19,
          93.092,
          93.026,
          93.017,
          93.078,
          93.152,
          92.914,
          92.744,
          92.727,
          92.686,
          92.916,
          92.32,
          91.691,
          91.652,
          91.829,
          91.747,
          92.131,
          92.036,
          92.891,
          91.828,
          91.338,
          92.075,
          91.999,
          91.93,
          91.711,
          95.093,
          94.021,
          93.799,
          93.856,
          94.189,
          94.115,
          93.872,
          93.871,
          94.007,
          94.198,
          94.766,
          94.308,
          94.213,
          93.931,
          93.798,
          93.651,
          93.294,
          93.338,
          93.489,
          93.498,
          93.431,
          93.114,
          93.391,
          94.28,
          93.557,
          93.237,
          93.26,
          93.702,
          94.014,
          92.933,
          92.306,
          92.32,
          91.707,
          91.508,
          91.803,
          94.01,
          93.008,
          91.998,
          91.768,
          91.745,
          91.86,
          91.794,
          91.691,
          92.138
         ],
         "y0": " ",
         "yaxis": "y",
         "type": "box",
         "line": {
          "color": "#006f62"
         }
        },
        {
         "alignmentgroup": "True",
         "hovertemplate": "Team=%{x}<br>LapTime (s)=%{y}<extra></extra>",
         "legendgroup": "AlphaTauri",
         "marker": {
          "color": "black",
          "size": 5
         },
         "name": "AlphaTauri",
         "notched": false,
         "offsetgroup": "AlphaTauri",
         "orientation": "v",
         "showlegend": true,
         "x": [
          "AlphaTauri",
          "AlphaTauri",
          "AlphaTauri",
          "AlphaTauri",
          "AlphaTauri",
          "AlphaTauri",
          "AlphaTauri",
          "AlphaTauri",
          "AlphaTauri",
          "AlphaTauri",
          "AlphaTauri",
          "AlphaTauri",
          "AlphaTauri",
          "AlphaTauri",
          "AlphaTauri",
          "AlphaTauri",
          "AlphaTauri",
          "AlphaTauri",
          "AlphaTauri",
          "AlphaTauri",
          "AlphaTauri",
          "AlphaTauri",
          "AlphaTauri",
          "AlphaTauri",
          "AlphaTauri",
          "AlphaTauri",
          "AlphaTauri",
          "AlphaTauri",
          "AlphaTauri",
          "AlphaTauri",
          "AlphaTauri",
          "AlphaTauri",
          "AlphaTauri",
          "AlphaTauri",
          "AlphaTauri",
          "AlphaTauri",
          "AlphaTauri",
          "AlphaTauri",
          "AlphaTauri",
          "AlphaTauri",
          "AlphaTauri",
          "AlphaTauri",
          "AlphaTauri",
          "AlphaTauri",
          "AlphaTauri",
          "AlphaTauri",
          "AlphaTauri",
          "AlphaTauri",
          "AlphaTauri",
          "AlphaTauri",
          "AlphaTauri",
          "AlphaTauri",
          "AlphaTauri",
          "AlphaTauri",
          "AlphaTauri",
          "AlphaTauri",
          "AlphaTauri",
          "AlphaTauri",
          "AlphaTauri",
          "AlphaTauri",
          "AlphaTauri",
          "AlphaTauri",
          "AlphaTauri",
          "AlphaTauri",
          "AlphaTauri",
          "AlphaTauri",
          "AlphaTauri",
          "AlphaTauri",
          "AlphaTauri",
          "AlphaTauri",
          "AlphaTauri",
          "AlphaTauri",
          "AlphaTauri",
          "AlphaTauri",
          "AlphaTauri",
          "AlphaTauri",
          "AlphaTauri",
          "AlphaTauri",
          "AlphaTauri",
          "AlphaTauri",
          "AlphaTauri",
          "AlphaTauri",
          "AlphaTauri",
          "AlphaTauri",
          "AlphaTauri",
          "AlphaTauri"
         ],
         "x0": " ",
         "xaxis": "x",
         "y": [
          96.208,
          94.746,
          94.199,
          94.761,
          94.907,
          95.054,
          93.896,
          93.774,
          93.985,
          93.758,
          94.165,
          94.232,
          94.879,
          94.17,
          94.148,
          93.637,
          93.453,
          93.835,
          93.48,
          93.652,
          93.647,
          93.622,
          93.663,
          93.553,
          93.754,
          93.299,
          92.499,
          92.564,
          92.829,
          93.647,
          93.18,
          92.65,
          92.369,
          92.516,
          94.017,
          92.829,
          92.716,
          92.456,
          92.353,
          92.54,
          92.632,
          92.445,
          92.42,
          95.252,
          94.229,
          94.362,
          94.457,
          95.373,
          94.571,
          94.486,
          94.235,
          94.173,
          94.085,
          94.237,
          94.433,
          94.769,
          93.058,
          92.952,
          93.094,
          93.424,
          93.281,
          93.189,
          93.004,
          93.098,
          93.205,
          93.224,
          93.319,
          93.418,
          93.275,
          93.118,
          93.211,
          93.279,
          92.882,
          92.932,
          93.321,
          92.306,
          92.572,
          92.534,
          92.494,
          92.535,
          92.291,
          92.084,
          92.504,
          92.79,
          93.212,
          92.78
         ],
         "y0": " ",
         "yaxis": "y",
         "type": "box",
         "line": {
          "color": "#2b4562"
         }
        },
        {
         "alignmentgroup": "True",
         "hovertemplate": "Team=%{x}<br>LapTime (s)=%{y}<extra></extra>",
         "legendgroup": "Williams",
         "marker": {
          "color": "black",
          "size": 5
         },
         "name": "Williams",
         "notched": false,
         "offsetgroup": "Williams",
         "orientation": "v",
         "showlegend": true,
         "x": [
          "Williams",
          "Williams",
          "Williams",
          "Williams",
          "Williams",
          "Williams",
          "Williams",
          "Williams",
          "Williams",
          "Williams",
          "Williams",
          "Williams",
          "Williams",
          "Williams",
          "Williams",
          "Williams",
          "Williams",
          "Williams",
          "Williams",
          "Williams",
          "Williams",
          "Williams",
          "Williams",
          "Williams",
          "Williams",
          "Williams",
          "Williams",
          "Williams",
          "Williams",
          "Williams",
          "Williams",
          "Williams",
          "Williams",
          "Williams",
          "Williams",
          "Williams",
          "Williams",
          "Williams",
          "Williams",
          "Williams",
          "Williams",
          "Williams",
          "Williams",
          "Williams",
          "Williams",
          "Williams",
          "Williams",
          "Williams",
          "Williams",
          "Williams",
          "Williams",
          "Williams",
          "Williams",
          "Williams",
          "Williams",
          "Williams",
          "Williams",
          "Williams",
          "Williams",
          "Williams",
          "Williams",
          "Williams",
          "Williams",
          "Williams",
          "Williams",
          "Williams",
          "Williams",
          "Williams",
          "Williams",
          "Williams",
          "Williams",
          "Williams",
          "Williams",
          "Williams",
          "Williams",
          "Williams",
          "Williams",
          "Williams",
          "Williams",
          "Williams",
          "Williams",
          "Williams",
          "Williams",
          "Williams",
          "Williams",
          "Williams",
          "Williams"
         ],
         "x0": " ",
         "xaxis": "x",
         "y": [
          96.266,
          94.577,
          94.332,
          94.842,
          94.356,
          94.581,
          94.108,
          93.94,
          94.31,
          93.925,
          94.239,
          94.329,
          93.683,
          94.123,
          93.771,
          93.728,
          93.465,
          93.573,
          93.387,
          93.458,
          93.479,
          93.212,
          93.502,
          93.508,
          93.553,
          93.731,
          93.49,
          92.723,
          91.994,
          92.794,
          92.949,
          91.84,
          91.699,
          91.743,
          92.849,
          92.724,
          92.421,
          91.868,
          91.71,
          91.873,
          92.085,
          91.956,
          91.984,
          95.004,
          93.809,
          93.866,
          93.86,
          94.21,
          94.099,
          93.922,
          93.731,
          94.045,
          93.842,
          93.857,
          93.751,
          93.951,
          93.786,
          94.343,
          93.707,
          93.615,
          93.654,
          93.44,
          93.195,
          93.021,
          93.117,
          93.163,
          93.374,
          93.175,
          93.126,
          93.084,
          92.869,
          92.882,
          92.816,
          92.63,
          92.176,
          91.273,
          91.879,
          91.752,
          92.057,
          92.146,
          92.116,
          91.537,
          91.466,
          91.912,
          91.86,
          91.93,
          91.809
         ],
         "y0": " ",
         "yaxis": "y",
         "type": "box",
         "line": {
          "color": "#005aff"
         }
        },
        {
         "alignmentgroup": "True",
         "hovertemplate": "Team=%{x}<br>LapTime (s)=%{y}<extra></extra>",
         "legendgroup": "Alpine",
         "marker": {
          "color": "black",
          "size": 5
         },
         "name": "Alpine",
         "notched": false,
         "offsetgroup": "Alpine",
         "orientation": "v",
         "showlegend": true,
         "x": [
          "Alpine",
          "Alpine",
          "Alpine",
          "Alpine",
          "Alpine",
          "Alpine",
          "Alpine",
          "Alpine",
          "Alpine",
          "Alpine",
          "Alpine",
          "Alpine",
          "Alpine",
          "Alpine",
          "Alpine",
          "Alpine",
          "Alpine",
          "Alpine",
          "Alpine",
          "Alpine",
          "Alpine",
          "Alpine",
          "Alpine",
          "Alpine",
          "Alpine",
          "Alpine",
          "Alpine",
          "Alpine",
          "Alpine",
          "Alpine",
          "Alpine",
          "Alpine",
          "Alpine",
          "Alpine",
          "Alpine",
          "Alpine",
          "Alpine",
          "Alpine",
          "Alpine",
          "Alpine",
          "Alpine",
          "Alpine",
          "Alpine",
          "Alpine"
         ],
         "x0": " ",
         "xaxis": "x",
         "y": [
          94.706,
          93.605,
          93.349,
          93.863,
          94.143,
          94.399,
          93.905,
          93.592,
          93.855,
          93.836,
          93.705,
          93.683,
          93.843,
          93.769,
          93.535,
          93.138,
          93.291,
          93.199,
          93.248,
          93.098,
          93.168,
          92.846,
          93.164,
          93.098,
          93.243,
          92.988,
          93.255,
          93.283,
          93.299,
          93.391,
          92.98,
          92.823,
          91.827,
          91.539,
          91.648,
          92.862,
          95.23,
          94.113,
          93.941,
          93.946,
          94.381,
          94.346,
          94.032,
          93.846
         ],
         "y0": " ",
         "yaxis": "y",
         "type": "box",
         "line": {
          "color": "#0090ff"
         }
        },
        {
         "alignmentgroup": "True",
         "hovertemplate": "Team=%{x}<br>LapTime (s)=%{y}<extra></extra>",
         "legendgroup": "Alfa Romeo",
         "marker": {
          "color": "black",
          "size": 5
         },
         "name": "Alfa Romeo",
         "notched": false,
         "offsetgroup": "Alfa Romeo",
         "orientation": "v",
         "showlegend": true,
         "x": [
          "Alfa Romeo",
          "Alfa Romeo",
          "Alfa Romeo",
          "Alfa Romeo",
          "Alfa Romeo",
          "Alfa Romeo",
          "Alfa Romeo",
          "Alfa Romeo",
          "Alfa Romeo",
          "Alfa Romeo",
          "Alfa Romeo",
          "Alfa Romeo",
          "Alfa Romeo",
          "Alfa Romeo",
          "Alfa Romeo",
          "Alfa Romeo",
          "Alfa Romeo",
          "Alfa Romeo",
          "Alfa Romeo",
          "Alfa Romeo",
          "Alfa Romeo",
          "Alfa Romeo",
          "Alfa Romeo",
          "Alfa Romeo",
          "Alfa Romeo",
          "Alfa Romeo",
          "Alfa Romeo",
          "Alfa Romeo",
          "Alfa Romeo",
          "Alfa Romeo",
          "Alfa Romeo",
          "Alfa Romeo",
          "Alfa Romeo",
          "Alfa Romeo",
          "Alfa Romeo",
          "Alfa Romeo",
          "Alfa Romeo",
          "Alfa Romeo",
          "Alfa Romeo",
          "Alfa Romeo",
          "Alfa Romeo",
          "Alfa Romeo",
          "Alfa Romeo",
          "Alfa Romeo",
          "Alfa Romeo",
          "Alfa Romeo",
          "Alfa Romeo",
          "Alfa Romeo",
          "Alfa Romeo",
          "Alfa Romeo",
          "Alfa Romeo",
          "Alfa Romeo",
          "Alfa Romeo",
          "Alfa Romeo",
          "Alfa Romeo",
          "Alfa Romeo",
          "Alfa Romeo",
          "Alfa Romeo",
          "Alfa Romeo",
          "Alfa Romeo",
          "Alfa Romeo",
          "Alfa Romeo",
          "Alfa Romeo",
          "Alfa Romeo",
          "Alfa Romeo",
          "Alfa Romeo",
          "Alfa Romeo",
          "Alfa Romeo",
          "Alfa Romeo",
          "Alfa Romeo",
          "Alfa Romeo",
          "Alfa Romeo",
          "Alfa Romeo",
          "Alfa Romeo",
          "Alfa Romeo",
          "Alfa Romeo",
          "Alfa Romeo",
          "Alfa Romeo",
          "Alfa Romeo",
          "Alfa Romeo",
          "Alfa Romeo",
          "Alfa Romeo",
          "Alfa Romeo",
          "Alfa Romeo",
          "Alfa Romeo",
          "Alfa Romeo"
         ],
         "x0": " ",
         "xaxis": "x",
         "y": [
          95.912,
          94.679,
          94.408,
          94.736,
          94.807,
          94.995,
          94.267,
          94.044,
          94.392,
          94.221,
          94.235,
          94.13,
          94.418,
          94.677,
          94.263,
          94.027,
          93.861,
          93.907,
          93.726,
          93.56,
          93.679,
          93.642,
          93.17,
          92.524,
          92.912,
          92.999,
          92.812,
          93.006,
          93.073,
          93.188,
          93.31,
          92.655,
          92.243,
          92.645,
          92.789,
          92.502,
          92.329,
          91.957,
          91.769,
          92.599,
          92.459,
          92.09,
          92.114,
          94.865,
          94.611,
          94.804,
          94.791,
          94.879,
          94.476,
          94.386,
          94.306,
          94.354,
          94.541,
          94.618,
          94.604,
          94.627,
          94.367,
          93.867,
          93.749,
          93.73,
          93.671,
          93.607,
          93.468,
          93.787,
          93.464,
          93.292,
          93.47,
          93.588,
          93.5,
          93.351,
          93.367,
          93.44,
          92.618,
          93.056,
          92.229,
          91.902,
          92.047,
          92.563,
          93.177,
          92.284,
          92.079,
          91.974,
          92.167,
          92.163,
          92.133,
          91.852
         ],
         "y0": " ",
         "yaxis": "y",
         "type": "box",
         "line": {
          "color": "#900000"
         }
        },
        {
         "alignmentgroup": "True",
         "hovertemplate": "Team=%{x}<br>LapTime (s)=%{y}<extra></extra>",
         "legendgroup": "Haas F1 Team",
         "marker": {
          "color": "black",
          "size": 5
         },
         "name": "Haas F1 Team",
         "notched": false,
         "offsetgroup": "Haas F1 Team",
         "orientation": "v",
         "showlegend": true,
         "x": [
          "Haas F1 Team",
          "Haas F1 Team",
          "Haas F1 Team",
          "Haas F1 Team",
          "Haas F1 Team",
          "Haas F1 Team",
          "Haas F1 Team",
          "Haas F1 Team",
          "Haas F1 Team",
          "Haas F1 Team",
          "Haas F1 Team",
          "Haas F1 Team",
          "Haas F1 Team",
          "Haas F1 Team",
          "Haas F1 Team",
          "Haas F1 Team",
          "Haas F1 Team",
          "Haas F1 Team",
          "Haas F1 Team",
          "Haas F1 Team",
          "Haas F1 Team",
          "Haas F1 Team",
          "Haas F1 Team",
          "Haas F1 Team",
          "Haas F1 Team",
          "Haas F1 Team",
          "Haas F1 Team",
          "Haas F1 Team",
          "Haas F1 Team",
          "Haas F1 Team",
          "Haas F1 Team",
          "Haas F1 Team",
          "Haas F1 Team",
          "Haas F1 Team",
          "Haas F1 Team",
          "Haas F1 Team",
          "Haas F1 Team",
          "Haas F1 Team",
          "Haas F1 Team",
          "Haas F1 Team",
          "Haas F1 Team",
          "Haas F1 Team",
          "Haas F1 Team",
          "Haas F1 Team",
          "Haas F1 Team",
          "Haas F1 Team",
          "Haas F1 Team",
          "Haas F1 Team",
          "Haas F1 Team",
          "Haas F1 Team",
          "Haas F1 Team",
          "Haas F1 Team",
          "Haas F1 Team",
          "Haas F1 Team",
          "Haas F1 Team",
          "Haas F1 Team",
          "Haas F1 Team",
          "Haas F1 Team",
          "Haas F1 Team",
          "Haas F1 Team",
          "Haas F1 Team",
          "Haas F1 Team",
          "Haas F1 Team",
          "Haas F1 Team",
          "Haas F1 Team",
          "Haas F1 Team",
          "Haas F1 Team",
          "Haas F1 Team",
          "Haas F1 Team",
          "Haas F1 Team",
          "Haas F1 Team",
          "Haas F1 Team",
          "Haas F1 Team"
         ],
         "x0": " ",
         "xaxis": "x",
         "y": [
          96.337,
          95.169,
          94.731,
          94.598,
          94.933,
          94.95,
          94.427,
          94.577,
          94.715,
          94.31,
          94.544,
          94.339,
          95.024,
          94.606,
          94.559,
          94.216,
          93.795,
          94.281,
          93.935,
          94.083,
          93.997,
          93.98,
          93.891,
          94.037,
          94.119,
          93.935,
          93.76,
          93.356,
          93.466,
          93.464,
          95.277,
          94.53,
          94.354,
          95.588,
          95.631,
          94.412,
          93.669,
          93.525,
          93.966,
          94.022,
          94.3,
          94.186,
          93.925,
          93.64,
          93.616,
          93.591,
          93.763,
          93.555,
          93.35,
          93.143,
          93.294,
          93.461,
          93.351,
          93.644,
          93.122,
          93.28,
          93.107,
          93.332,
          93.133,
          92.527,
          92.932,
          92.104,
          92.097,
          92.325,
          92.441,
          92.534,
          92.584,
          92.101,
          92.06,
          92.08,
          92.158,
          92.166,
          91.776
         ],
         "y0": " ",
         "yaxis": "y",
         "type": "box",
         "line": {
          "color": "#ffffff"
         }
        }
       ],
       "layout": {
        "template": {
         "data": {
          "histogram2dcontour": [
           {
            "type": "histogram2dcontour",
            "colorbar": {
             "outlinewidth": 0,
             "ticks": ""
            },
            "colorscale": [
             [
              0.0,
              "#0d0887"
             ],
             [
              0.1111111111111111,
              "#46039f"
             ],
             [
              0.2222222222222222,
              "#7201a8"
             ],
             [
              0.3333333333333333,
              "#9c179e"
             ],
             [
              0.4444444444444444,
              "#bd3786"
             ],
             [
              0.5555555555555556,
              "#d8576b"
             ],
             [
              0.6666666666666666,
              "#ed7953"
             ],
             [
              0.7777777777777778,
              "#fb9f3a"
             ],
             [
              0.8888888888888888,
              "#fdca26"
             ],
             [
              1.0,
              "#f0f921"
             ]
            ]
           }
          ],
          "choropleth": [
           {
            "type": "choropleth",
            "colorbar": {
             "outlinewidth": 0,
             "ticks": ""
            }
           }
          ],
          "histogram2d": [
           {
            "type": "histogram2d",
            "colorbar": {
             "outlinewidth": 0,
             "ticks": ""
            },
            "colorscale": [
             [
              0.0,
              "#0d0887"
             ],
             [
              0.1111111111111111,
              "#46039f"
             ],
             [
              0.2222222222222222,
              "#7201a8"
             ],
             [
              0.3333333333333333,
              "#9c179e"
             ],
             [
              0.4444444444444444,
              "#bd3786"
             ],
             [
              0.5555555555555556,
              "#d8576b"
             ],
             [
              0.6666666666666666,
              "#ed7953"
             ],
             [
              0.7777777777777778,
              "#fb9f3a"
             ],
             [
              0.8888888888888888,
              "#fdca26"
             ],
             [
              1.0,
              "#f0f921"
             ]
            ]
           }
          ],
          "heatmap": [
           {
            "type": "heatmap",
            "colorbar": {
             "outlinewidth": 0,
             "ticks": ""
            },
            "colorscale": [
             [
              0.0,
              "#0d0887"
             ],
             [
              0.1111111111111111,
              "#46039f"
             ],
             [
              0.2222222222222222,
              "#7201a8"
             ],
             [
              0.3333333333333333,
              "#9c179e"
             ],
             [
              0.4444444444444444,
              "#bd3786"
             ],
             [
              0.5555555555555556,
              "#d8576b"
             ],
             [
              0.6666666666666666,
              "#ed7953"
             ],
             [
              0.7777777777777778,
              "#fb9f3a"
             ],
             [
              0.8888888888888888,
              "#fdca26"
             ],
             [
              1.0,
              "#f0f921"
             ]
            ]
           }
          ],
          "heatmapgl": [
           {
            "type": "heatmapgl",
            "colorbar": {
             "outlinewidth": 0,
             "ticks": ""
            },
            "colorscale": [
             [
              0.0,
              "#0d0887"
             ],
             [
              0.1111111111111111,
              "#46039f"
             ],
             [
              0.2222222222222222,
              "#7201a8"
             ],
             [
              0.3333333333333333,
              "#9c179e"
             ],
             [
              0.4444444444444444,
              "#bd3786"
             ],
             [
              0.5555555555555556,
              "#d8576b"
             ],
             [
              0.6666666666666666,
              "#ed7953"
             ],
             [
              0.7777777777777778,
              "#fb9f3a"
             ],
             [
              0.8888888888888888,
              "#fdca26"
             ],
             [
              1.0,
              "#f0f921"
             ]
            ]
           }
          ],
          "contourcarpet": [
           {
            "type": "contourcarpet",
            "colorbar": {
             "outlinewidth": 0,
             "ticks": ""
            }
           }
          ],
          "contour": [
           {
            "type": "contour",
            "colorbar": {
             "outlinewidth": 0,
             "ticks": ""
            },
            "colorscale": [
             [
              0.0,
              "#0d0887"
             ],
             [
              0.1111111111111111,
              "#46039f"
             ],
             [
              0.2222222222222222,
              "#7201a8"
             ],
             [
              0.3333333333333333,
              "#9c179e"
             ],
             [
              0.4444444444444444,
              "#bd3786"
             ],
             [
              0.5555555555555556,
              "#d8576b"
             ],
             [
              0.6666666666666666,
              "#ed7953"
             ],
             [
              0.7777777777777778,
              "#fb9f3a"
             ],
             [
              0.8888888888888888,
              "#fdca26"
             ],
             [
              1.0,
              "#f0f921"
             ]
            ]
           }
          ],
          "surface": [
           {
            "type": "surface",
            "colorbar": {
             "outlinewidth": 0,
             "ticks": ""
            },
            "colorscale": [
             [
              0.0,
              "#0d0887"
             ],
             [
              0.1111111111111111,
              "#46039f"
             ],
             [
              0.2222222222222222,
              "#7201a8"
             ],
             [
              0.3333333333333333,
              "#9c179e"
             ],
             [
              0.4444444444444444,
              "#bd3786"
             ],
             [
              0.5555555555555556,
              "#d8576b"
             ],
             [
              0.6666666666666666,
              "#ed7953"
             ],
             [
              0.7777777777777778,
              "#fb9f3a"
             ],
             [
              0.8888888888888888,
              "#fdca26"
             ],
             [
              1.0,
              "#f0f921"
             ]
            ]
           }
          ],
          "mesh3d": [
           {
            "type": "mesh3d",
            "colorbar": {
             "outlinewidth": 0,
             "ticks": ""
            }
           }
          ],
          "scatter": [
           {
            "fillpattern": {
             "fillmode": "overlay",
             "size": 10,
             "solidity": 0.2
            },
            "type": "scatter"
           }
          ],
          "parcoords": [
           {
            "type": "parcoords",
            "line": {
             "colorbar": {
              "outlinewidth": 0,
              "ticks": ""
             }
            }
           }
          ],
          "scatterpolargl": [
           {
            "type": "scatterpolargl",
            "marker": {
             "colorbar": {
              "outlinewidth": 0,
              "ticks": ""
             }
            }
           }
          ],
          "bar": [
           {
            "error_x": {
             "color": "#2a3f5f"
            },
            "error_y": {
             "color": "#2a3f5f"
            },
            "marker": {
             "line": {
              "color": "#E5ECF6",
              "width": 0.5
             },
             "pattern": {
              "fillmode": "overlay",
              "size": 10,
              "solidity": 0.2
             }
            },
            "type": "bar"
           }
          ],
          "scattergeo": [
           {
            "type": "scattergeo",
            "marker": {
             "colorbar": {
              "outlinewidth": 0,
              "ticks": ""
             }
            }
           }
          ],
          "scatterpolar": [
           {
            "type": "scatterpolar",
            "marker": {
             "colorbar": {
              "outlinewidth": 0,
              "ticks": ""
             }
            }
           }
          ],
          "histogram": [
           {
            "marker": {
             "pattern": {
              "fillmode": "overlay",
              "size": 10,
              "solidity": 0.2
             }
            },
            "type": "histogram"
           }
          ],
          "scattergl": [
           {
            "type": "scattergl",
            "marker": {
             "colorbar": {
              "outlinewidth": 0,
              "ticks": ""
             }
            }
           }
          ],
          "scatter3d": [
           {
            "type": "scatter3d",
            "line": {
             "colorbar": {
              "outlinewidth": 0,
              "ticks": ""
             }
            },
            "marker": {
             "colorbar": {
              "outlinewidth": 0,
              "ticks": ""
             }
            }
           }
          ],
          "scattermapbox": [
           {
            "type": "scattermapbox",
            "marker": {
             "colorbar": {
              "outlinewidth": 0,
              "ticks": ""
             }
            }
           }
          ],
          "scatterternary": [
           {
            "type": "scatterternary",
            "marker": {
             "colorbar": {
              "outlinewidth": 0,
              "ticks": ""
             }
            }
           }
          ],
          "scattercarpet": [
           {
            "type": "scattercarpet",
            "marker": {
             "colorbar": {
              "outlinewidth": 0,
              "ticks": ""
             }
            }
           }
          ],
          "carpet": [
           {
            "aaxis": {
             "endlinecolor": "#2a3f5f",
             "gridcolor": "white",
             "linecolor": "white",
             "minorgridcolor": "white",
             "startlinecolor": "#2a3f5f"
            },
            "baxis": {
             "endlinecolor": "#2a3f5f",
             "gridcolor": "white",
             "linecolor": "white",
             "minorgridcolor": "white",
             "startlinecolor": "#2a3f5f"
            },
            "type": "carpet"
           }
          ],
          "table": [
           {
            "cells": {
             "fill": {
              "color": "#EBF0F8"
             },
             "line": {
              "color": "white"
             }
            },
            "header": {
             "fill": {
              "color": "#C8D4E3"
             },
             "line": {
              "color": "white"
             }
            },
            "type": "table"
           }
          ],
          "barpolar": [
           {
            "marker": {
             "line": {
              "color": "#E5ECF6",
              "width": 0.5
             },
             "pattern": {
              "fillmode": "overlay",
              "size": 10,
              "solidity": 0.2
             }
            },
            "type": "barpolar"
           }
          ],
          "pie": [
           {
            "automargin": true,
            "type": "pie"
           }
          ]
         },
         "layout": {
          "autotypenumbers": "strict",
          "colorway": [
           "#636efa",
           "#EF553B",
           "#00cc96",
           "#ab63fa",
           "#FFA15A",
           "#19d3f3",
           "#FF6692",
           "#B6E880",
           "#FF97FF",
           "#FECB52"
          ],
          "font": {
           "color": "#2a3f5f"
          },
          "hovermode": "closest",
          "hoverlabel": {
           "align": "left"
          },
          "paper_bgcolor": "white",
          "plot_bgcolor": "#E5ECF6",
          "polar": {
           "bgcolor": "#E5ECF6",
           "angularaxis": {
            "gridcolor": "white",
            "linecolor": "white",
            "ticks": ""
           },
           "radialaxis": {
            "gridcolor": "white",
            "linecolor": "white",
            "ticks": ""
           }
          },
          "ternary": {
           "bgcolor": "#E5ECF6",
           "aaxis": {
            "gridcolor": "white",
            "linecolor": "white",
            "ticks": ""
           },
           "baxis": {
            "gridcolor": "white",
            "linecolor": "white",
            "ticks": ""
           },
           "caxis": {
            "gridcolor": "white",
            "linecolor": "white",
            "ticks": ""
           }
          },
          "coloraxis": {
           "colorbar": {
            "outlinewidth": 0,
            "ticks": ""
           }
          },
          "colorscale": {
           "sequential": [
            [
             0.0,
             "#0d0887"
            ],
            [
             0.1111111111111111,
             "#46039f"
            ],
            [
             0.2222222222222222,
             "#7201a8"
            ],
            [
             0.3333333333333333,
             "#9c179e"
            ],
            [
             0.4444444444444444,
             "#bd3786"
            ],
            [
             0.5555555555555556,
             "#d8576b"
            ],
            [
             0.6666666666666666,
             "#ed7953"
            ],
            [
             0.7777777777777778,
             "#fb9f3a"
            ],
            [
             0.8888888888888888,
             "#fdca26"
            ],
            [
             1.0,
             "#f0f921"
            ]
           ],
           "sequentialminus": [
            [
             0.0,
             "#0d0887"
            ],
            [
             0.1111111111111111,
             "#46039f"
            ],
            [
             0.2222222222222222,
             "#7201a8"
            ],
            [
             0.3333333333333333,
             "#9c179e"
            ],
            [
             0.4444444444444444,
             "#bd3786"
            ],
            [
             0.5555555555555556,
             "#d8576b"
            ],
            [
             0.6666666666666666,
             "#ed7953"
            ],
            [
             0.7777777777777778,
             "#fb9f3a"
            ],
            [
             0.8888888888888888,
             "#fdca26"
            ],
            [
             1.0,
             "#f0f921"
            ]
           ],
           "diverging": [
            [
             0,
             "#8e0152"
            ],
            [
             0.1,
             "#c51b7d"
            ],
            [
             0.2,
             "#de77ae"
            ],
            [
             0.3,
             "#f1b6da"
            ],
            [
             0.4,
             "#fde0ef"
            ],
            [
             0.5,
             "#f7f7f7"
            ],
            [
             0.6,
             "#e6f5d0"
            ],
            [
             0.7,
             "#b8e186"
            ],
            [
             0.8,
             "#7fbc41"
            ],
            [
             0.9,
             "#4d9221"
            ],
            [
             1,
             "#276419"
            ]
           ]
          },
          "xaxis": {
           "gridcolor": "white",
           "linecolor": "white",
           "ticks": "",
           "title": {
            "standoff": 15
           },
           "zerolinecolor": "white",
           "automargin": true,
           "zerolinewidth": 2
          },
          "yaxis": {
           "gridcolor": "white",
           "linecolor": "white",
           "ticks": "",
           "title": {
            "standoff": 15
           },
           "zerolinecolor": "white",
           "automargin": true,
           "zerolinewidth": 2
          },
          "scene": {
           "xaxis": {
            "backgroundcolor": "#E5ECF6",
            "gridcolor": "white",
            "linecolor": "white",
            "showbackground": true,
            "ticks": "",
            "zerolinecolor": "white",
            "gridwidth": 2
           },
           "yaxis": {
            "backgroundcolor": "#E5ECF6",
            "gridcolor": "white",
            "linecolor": "white",
            "showbackground": true,
            "ticks": "",
            "zerolinecolor": "white",
            "gridwidth": 2
           },
           "zaxis": {
            "backgroundcolor": "#E5ECF6",
            "gridcolor": "white",
            "linecolor": "white",
            "showbackground": true,
            "ticks": "",
            "zerolinecolor": "white",
            "gridwidth": 2
           }
          },
          "shapedefaults": {
           "line": {
            "color": "#2a3f5f"
           }
          },
          "annotationdefaults": {
           "arrowcolor": "#2a3f5f",
           "arrowhead": 0,
           "arrowwidth": 1
          },
          "geo": {
           "bgcolor": "white",
           "landcolor": "#E5ECF6",
           "subunitcolor": "white",
           "showland": true,
           "showlakes": true,
           "lakecolor": "white"
          },
          "title": {
           "x": 0.05
          },
          "mapbox": {
           "style": "light"
          }
         }
        },
        "xaxis": {
         "anchor": "y",
         "domain": [
          0.0,
          1.0
         ],
         "title": {},
         "categoryorder": "array",
         "categoryarray": [
          "Red Bull Racing",
          "McLaren",
          "Mercedes",
          "Ferrari",
          "Aston Martin",
          "AlphaTauri",
          "Williams",
          "Alpine",
          "Alfa Romeo",
          "Haas F1 Team"
         ]
        },
        "yaxis": {
         "anchor": "x",
         "domain": [
          0.0,
          1.0
         ],
         "title": {
          "text": "Lap Time (s)"
         }
        },
        "legend": {
         "title": {
          "text": "Team"
         },
         "tracegroupgap": 0
        },
        "margin": {
         "t": 60
        },
        "boxmode": "overlay",
        "title": {
         "text": "2023 British Grand Prix"
        }
       },
       "config": {
        "plotlyServerURL": "https://plot.ly"
       }
      },
      "text/html": "<div>                            <div id=\"0d45106d-deda-4a13-b09d-8bd82aecce72\" class=\"plotly-graph-div\" style=\"height:525px; width:100%;\"></div>            <script type=\"text/javascript\">                require([\"plotly\"], function(Plotly) {                    window.PLOTLYENV=window.PLOTLYENV || {};                                    if (document.getElementById(\"0d45106d-deda-4a13-b09d-8bd82aecce72\")) {                    Plotly.newPlot(                        \"0d45106d-deda-4a13-b09d-8bd82aecce72\",                        [{\"alignmentgroup\":\"True\",\"hovertemplate\":\"Team=%{x}\\u003cbr\\u003eLapTime (s)=%{y}\\u003cextra\\u003e\\u003c\\u002fextra\\u003e\",\"legendgroup\":\"Red Bull Racing\",\"marker\":{\"color\":\"black\",\"size\":5},\"name\":\"Red Bull Racing\",\"notched\":false,\"offsetgroup\":\"Red Bull Racing\",\"orientation\":\"v\",\"showlegend\":true,\"x\":[\"Red Bull Racing\",\"Red Bull Racing\",\"Red Bull Racing\",\"Red Bull Racing\",\"Red Bull Racing\",\"Red Bull Racing\",\"Red Bull Racing\",\"Red Bull Racing\",\"Red Bull Racing\",\"Red Bull Racing\",\"Red Bull Racing\",\"Red Bull Racing\",\"Red Bull Racing\",\"Red Bull Racing\",\"Red Bull Racing\",\"Red Bull Racing\",\"Red Bull Racing\",\"Red Bull Racing\",\"Red Bull Racing\",\"Red Bull Racing\",\"Red Bull Racing\",\"Red Bull Racing\",\"Red Bull Racing\",\"Red Bull Racing\",\"Red Bull Racing\",\"Red Bull Racing\",\"Red Bull Racing\",\"Red Bull Racing\",\"Red Bull Racing\",\"Red Bull Racing\",\"Red Bull Racing\",\"Red Bull Racing\",\"Red Bull Racing\",\"Red Bull Racing\",\"Red Bull Racing\",\"Red Bull Racing\",\"Red Bull Racing\",\"Red Bull Racing\",\"Red Bull Racing\",\"Red Bull Racing\",\"Red Bull Racing\",\"Red Bull Racing\",\"Red Bull Racing\",\"Red Bull Racing\",\"Red Bull Racing\",\"Red Bull Racing\",\"Red Bull Racing\",\"Red Bull Racing\",\"Red Bull Racing\",\"Red Bull Racing\",\"Red Bull Racing\",\"Red Bull Racing\",\"Red Bull Racing\",\"Red Bull Racing\",\"Red Bull Racing\",\"Red Bull Racing\",\"Red Bull Racing\",\"Red Bull Racing\",\"Red Bull Racing\",\"Red Bull Racing\",\"Red Bull Racing\",\"Red Bull Racing\",\"Red Bull Racing\",\"Red Bull Racing\",\"Red Bull Racing\",\"Red Bull Racing\",\"Red Bull Racing\",\"Red Bull Racing\",\"Red Bull Racing\",\"Red Bull Racing\",\"Red Bull Racing\",\"Red Bull Racing\",\"Red Bull Racing\",\"Red Bull Racing\",\"Red Bull Racing\",\"Red Bull Racing\",\"Red Bull Racing\",\"Red Bull Racing\",\"Red Bull Racing\",\"Red Bull Racing\",\"Red Bull Racing\",\"Red Bull Racing\",\"Red Bull Racing\",\"Red Bull Racing\",\"Red Bull Racing\",\"Red Bull Racing\",\"Red Bull Racing\",\"Red Bull Racing\"],\"x0\":\" \",\"xaxis\":\"x\",\"y\":[93.433,92.73,92.78,92.582,93.027,93.1,92.884,92.822,92.594,92.597,92.687,92.678,93.046,92.99,92.808,92.603,92.507,92.338,92.295,92.494,92.184,92.272,92.35,92.295,92.276,92.138,92.215,92.251,92.363,92.388,92.21,90.348,90.547,90.688,90.275,90.535,90.648,91.342,91.114,91.148,91.4,91.218,91.292,91.397,90.975,95.482,94.38,94.339,94.073,93.671,93.919,93.568,93.271,93.364,93.547,93.429,93.452,93.751,93.48,93.055,93.28,93.099,93.276,93.202,93.233,93.026,93.262,92.726,92.907,92.962,92.742,92.235,91.408,91.532,92.503,91.909,91.391,91.716,92.005,91.712,91.571,91.675,91.505,91.209,91.36,91.139,90.914,91.188],\"y0\":\" \",\"yaxis\":\"y\",\"type\":\"box\",\"line\":{\"color\":\"#0600ef\"}},{\"alignmentgroup\":\"True\",\"hovertemplate\":\"Team=%{x}\\u003cbr\\u003eLapTime (s)=%{y}\\u003cextra\\u003e\\u003c\\u002fextra\\u003e\",\"legendgroup\":\"McLaren\",\"marker\":{\"color\":\"black\",\"size\":5},\"name\":\"McLaren\",\"notched\":false,\"offsetgroup\":\"McLaren\",\"orientation\":\"v\",\"showlegend\":true,\"x\":[\"McLaren\",\"McLaren\",\"McLaren\",\"McLaren\",\"McLaren\",\"McLaren\",\"McLaren\",\"McLaren\",\"McLaren\",\"McLaren\",\"McLaren\",\"McLaren\",\"McLaren\",\"McLaren\",\"McLaren\",\"McLaren\",\"McLaren\",\"McLaren\",\"McLaren\",\"McLaren\",\"McLaren\",\"McLaren\",\"McLaren\",\"McLaren\",\"McLaren\",\"McLaren\",\"McLaren\",\"McLaren\",\"McLaren\",\"McLaren\",\"McLaren\",\"McLaren\",\"McLaren\",\"McLaren\",\"McLaren\",\"McLaren\",\"McLaren\",\"McLaren\",\"McLaren\",\"McLaren\",\"McLaren\",\"McLaren\",\"McLaren\",\"McLaren\",\"McLaren\",\"McLaren\",\"McLaren\",\"McLaren\",\"McLaren\",\"McLaren\",\"McLaren\",\"McLaren\",\"McLaren\",\"McLaren\",\"McLaren\",\"McLaren\",\"McLaren\",\"McLaren\",\"McLaren\",\"McLaren\",\"McLaren\",\"McLaren\",\"McLaren\",\"McLaren\",\"McLaren\",\"McLaren\",\"McLaren\",\"McLaren\",\"McLaren\",\"McLaren\",\"McLaren\",\"McLaren\",\"McLaren\",\"McLaren\",\"McLaren\",\"McLaren\",\"McLaren\",\"McLaren\",\"McLaren\",\"McLaren\",\"McLaren\",\"McLaren\",\"McLaren\",\"McLaren\",\"McLaren\",\"McLaren\",\"McLaren\",\"McLaren\",\"McLaren\"],\"x0\":\" \",\"xaxis\":\"x\",\"y\":[96.551,93.046,93.18,92.772,93.914,93.112,93.19,93.101,92.612,92.977,92.978,93.116,92.986,93.67,93.221,92.903,92.985,92.731,92.5,92.77,92.604,92.637,92.619,92.721,92.949,92.758,92.734,92.714,92.806,92.609,92.808,92.571,91.243,90.997,90.76,90.922,90.543,90.786,91.301,91.094,91.593,91.36,91.02,91.56,91.077,91.251,93.845,92.499,92.581,93.461,93.008,93.29,93.233,92.79,93.379,92.976,93.464,93.144,93.603,93.267,93.005,92.775,93.019,92.88,92.66,92.749,92.537,92.732,92.676,92.809,93.052,92.844,93.19,92.563,91.68,91.646,91.475,90.85,91.178,91.011,91.465,91.406,91.496,91.427,91.159,91.422,91.752,91.305,90.941],\"y0\":\" \",\"yaxis\":\"y\",\"type\":\"box\",\"line\":{\"color\":\"#ff8700\"}},{\"alignmentgroup\":\"True\",\"hovertemplate\":\"Team=%{x}\\u003cbr\\u003eLapTime (s)=%{y}\\u003cextra\\u003e\\u003c\\u002fextra\\u003e\",\"legendgroup\":\"Mercedes\",\"marker\":{\"color\":\"black\",\"size\":5},\"name\":\"Mercedes\",\"notched\":false,\"offsetgroup\":\"Mercedes\",\"orientation\":\"v\",\"showlegend\":true,\"x\":[\"Mercedes\",\"Mercedes\",\"Mercedes\",\"Mercedes\",\"Mercedes\",\"Mercedes\",\"Mercedes\",\"Mercedes\",\"Mercedes\",\"Mercedes\",\"Mercedes\",\"Mercedes\",\"Mercedes\",\"Mercedes\",\"Mercedes\",\"Mercedes\",\"Mercedes\",\"Mercedes\",\"Mercedes\",\"Mercedes\",\"Mercedes\",\"Mercedes\",\"Mercedes\",\"Mercedes\",\"Mercedes\",\"Mercedes\",\"Mercedes\",\"Mercedes\",\"Mercedes\",\"Mercedes\",\"Mercedes\",\"Mercedes\",\"Mercedes\",\"Mercedes\",\"Mercedes\",\"Mercedes\",\"Mercedes\",\"Mercedes\",\"Mercedes\",\"Mercedes\",\"Mercedes\",\"Mercedes\",\"Mercedes\",\"Mercedes\",\"Mercedes\",\"Mercedes\",\"Mercedes\",\"Mercedes\",\"Mercedes\",\"Mercedes\",\"Mercedes\",\"Mercedes\",\"Mercedes\",\"Mercedes\",\"Mercedes\",\"Mercedes\",\"Mercedes\",\"Mercedes\",\"Mercedes\",\"Mercedes\",\"Mercedes\",\"Mercedes\",\"Mercedes\",\"Mercedes\",\"Mercedes\",\"Mercedes\",\"Mercedes\",\"Mercedes\",\"Mercedes\",\"Mercedes\",\"Mercedes\",\"Mercedes\",\"Mercedes\",\"Mercedes\",\"Mercedes\",\"Mercedes\",\"Mercedes\",\"Mercedes\",\"Mercedes\",\"Mercedes\",\"Mercedes\",\"Mercedes\",\"Mercedes\",\"Mercedes\",\"Mercedes\",\"Mercedes\",\"Mercedes\",\"Mercedes\"],\"x0\":\" \",\"xaxis\":\"x\",\"y\":[94.361,93.662,93.086,93.718,94.556,93.328,93.483,93.331,93.624,93.519,93.908,93.28,93.324,93.156,92.931,93.12,93.313,93.201,92.956,92.779,92.821,92.974,92.703,93.087,92.769,92.714,92.32,92.155,92.246,92.744,95.161,91.427,91.279,90.673,91.042,90.545,91.589,91.359,91.559,91.248,91.152,91.286,91.526,91.703,91.823,94.115,93.096,93.084,94.211,93.839,93.432,93.136,93.154,93.424,93.089,93.354,93.159,93.729,93.27,93.309,93.174,93.072,92.807,92.803,92.85,92.568,92.683,92.852,92.863,92.958,93.062,92.504,91.51,91.8,91.848,91.606,91.124,91.188,91.231,91.568,91.718,91.984,91.644,91.569,91.612,91.421,91.563,91.433],\"y0\":\" \",\"yaxis\":\"y\",\"type\":\"box\",\"line\":{\"color\":\"#00d2be\"}},{\"alignmentgroup\":\"True\",\"hovertemplate\":\"Team=%{x}\\u003cbr\\u003eLapTime (s)=%{y}\\u003cextra\\u003e\\u003c\\u002fextra\\u003e\",\"legendgroup\":\"Ferrari\",\"marker\":{\"color\":\"black\",\"size\":5},\"name\":\"Ferrari\",\"notched\":false,\"offsetgroup\":\"Ferrari\",\"orientation\":\"v\",\"showlegend\":true,\"x\":[\"Ferrari\",\"Ferrari\",\"Ferrari\",\"Ferrari\",\"Ferrari\",\"Ferrari\",\"Ferrari\",\"Ferrari\",\"Ferrari\",\"Ferrari\",\"Ferrari\",\"Ferrari\",\"Ferrari\",\"Ferrari\",\"Ferrari\",\"Ferrari\",\"Ferrari\",\"Ferrari\",\"Ferrari\",\"Ferrari\",\"Ferrari\",\"Ferrari\",\"Ferrari\",\"Ferrari\",\"Ferrari\",\"Ferrari\",\"Ferrari\",\"Ferrari\",\"Ferrari\",\"Ferrari\",\"Ferrari\",\"Ferrari\",\"Ferrari\",\"Ferrari\",\"Ferrari\",\"Ferrari\",\"Ferrari\",\"Ferrari\",\"Ferrari\",\"Ferrari\",\"Ferrari\",\"Ferrari\",\"Ferrari\",\"Ferrari\",\"Ferrari\",\"Ferrari\",\"Ferrari\",\"Ferrari\",\"Ferrari\",\"Ferrari\",\"Ferrari\",\"Ferrari\",\"Ferrari\",\"Ferrari\",\"Ferrari\",\"Ferrari\",\"Ferrari\",\"Ferrari\",\"Ferrari\",\"Ferrari\",\"Ferrari\",\"Ferrari\",\"Ferrari\",\"Ferrari\",\"Ferrari\",\"Ferrari\",\"Ferrari\",\"Ferrari\",\"Ferrari\",\"Ferrari\",\"Ferrari\",\"Ferrari\",\"Ferrari\",\"Ferrari\",\"Ferrari\",\"Ferrari\",\"Ferrari\",\"Ferrari\",\"Ferrari\",\"Ferrari\",\"Ferrari\",\"Ferrari\",\"Ferrari\",\"Ferrari\",\"Ferrari\",\"Ferrari\",\"Ferrari\"],\"x0\":\" \",\"xaxis\":\"x\",\"y\":[93.994,92.934,92.961,94.409,93.761,93.403,93.244,93.087,93.167,93.048,93.621,93.214,93.523,93.542,93.248,93.151,92.475,92.87,92.848,93.035,92.554,92.731,92.798,92.794,92.942,92.814,92.658,92.464,93.233,96.215,92.5,92.234,91.286,91.926,92.052,92.815,91.9,91.85,91.36,91.255,91.781,91.716,91.763,92.257,94.177,93.456,92.975,93.666,94.215,93.427,93.442,93.417,93.405,93.279,93.323,93.105,93.941,93.623,93.498,93.076,93.302,93.242,93.007,93.261,92.871,92.755,92.77,93.133,93.181,92.22,91.945,92.129,92.494,92.459,91.783,91.427,91.643,92.89,94.622,92.606,91.906,91.592,91.438,91.723,91.408,91.366,91.88],\"y0\":\" \",\"yaxis\":\"y\",\"type\":\"box\",\"line\":{\"color\":\"#dc0000\"}},{\"alignmentgroup\":\"True\",\"hovertemplate\":\"Team=%{x}\\u003cbr\\u003eLapTime (s)=%{y}\\u003cextra\\u003e\\u003c\\u002fextra\\u003e\",\"legendgroup\":\"Aston Martin\",\"marker\":{\"color\":\"black\",\"size\":5},\"name\":\"Aston Martin\",\"notched\":false,\"offsetgroup\":\"Aston Martin\",\"orientation\":\"v\",\"showlegend\":true,\"x\":[\"Aston Martin\",\"Aston Martin\",\"Aston Martin\",\"Aston Martin\",\"Aston Martin\",\"Aston Martin\",\"Aston Martin\",\"Aston Martin\",\"Aston Martin\",\"Aston Martin\",\"Aston Martin\",\"Aston Martin\",\"Aston Martin\",\"Aston Martin\",\"Aston Martin\",\"Aston Martin\",\"Aston Martin\",\"Aston Martin\",\"Aston Martin\",\"Aston Martin\",\"Aston Martin\",\"Aston Martin\",\"Aston Martin\",\"Aston Martin\",\"Aston Martin\",\"Aston Martin\",\"Aston Martin\",\"Aston Martin\",\"Aston Martin\",\"Aston Martin\",\"Aston Martin\",\"Aston Martin\",\"Aston Martin\",\"Aston Martin\",\"Aston Martin\",\"Aston Martin\",\"Aston Martin\",\"Aston Martin\",\"Aston Martin\",\"Aston Martin\",\"Aston Martin\",\"Aston Martin\",\"Aston Martin\",\"Aston Martin\",\"Aston Martin\",\"Aston Martin\",\"Aston Martin\",\"Aston Martin\",\"Aston Martin\",\"Aston Martin\",\"Aston Martin\",\"Aston Martin\",\"Aston Martin\",\"Aston Martin\",\"Aston Martin\",\"Aston Martin\",\"Aston Martin\",\"Aston Martin\",\"Aston Martin\",\"Aston Martin\",\"Aston Martin\",\"Aston Martin\",\"Aston Martin\",\"Aston Martin\",\"Aston Martin\",\"Aston Martin\",\"Aston Martin\",\"Aston Martin\",\"Aston Martin\",\"Aston Martin\",\"Aston Martin\",\"Aston Martin\",\"Aston Martin\",\"Aston Martin\",\"Aston Martin\",\"Aston Martin\",\"Aston Martin\",\"Aston Martin\",\"Aston Martin\",\"Aston Martin\",\"Aston Martin\",\"Aston Martin\",\"Aston Martin\",\"Aston Martin\",\"Aston Martin\",\"Aston Martin\",\"Aston Martin\",\"Aston Martin\"],\"x0\":\" \",\"xaxis\":\"x\",\"y\":[94.419,93.424,93.156,94.157,94.636,94.645,94.019,93.657,93.711,93.737,93.951,93.565,93.88,93.736,93.437,93.188,93.317,93.185,93.016,93.19,93.092,93.026,93.017,93.078,93.152,92.914,92.744,92.727,92.686,92.916,92.32,91.691,91.652,91.829,91.747,92.131,92.036,92.891,91.828,91.338,92.075,91.999,91.93,91.711,95.093,94.021,93.799,93.856,94.189,94.115,93.872,93.871,94.007,94.198,94.766,94.308,94.213,93.931,93.798,93.651,93.294,93.338,93.489,93.498,93.431,93.114,93.391,94.28,93.557,93.237,93.26,93.702,94.014,92.933,92.306,92.32,91.707,91.508,91.803,94.01,93.008,91.998,91.768,91.745,91.86,91.794,91.691,92.138],\"y0\":\" \",\"yaxis\":\"y\",\"type\":\"box\",\"line\":{\"color\":\"#006f62\"}},{\"alignmentgroup\":\"True\",\"hovertemplate\":\"Team=%{x}\\u003cbr\\u003eLapTime (s)=%{y}\\u003cextra\\u003e\\u003c\\u002fextra\\u003e\",\"legendgroup\":\"AlphaTauri\",\"marker\":{\"color\":\"black\",\"size\":5},\"name\":\"AlphaTauri\",\"notched\":false,\"offsetgroup\":\"AlphaTauri\",\"orientation\":\"v\",\"showlegend\":true,\"x\":[\"AlphaTauri\",\"AlphaTauri\",\"AlphaTauri\",\"AlphaTauri\",\"AlphaTauri\",\"AlphaTauri\",\"AlphaTauri\",\"AlphaTauri\",\"AlphaTauri\",\"AlphaTauri\",\"AlphaTauri\",\"AlphaTauri\",\"AlphaTauri\",\"AlphaTauri\",\"AlphaTauri\",\"AlphaTauri\",\"AlphaTauri\",\"AlphaTauri\",\"AlphaTauri\",\"AlphaTauri\",\"AlphaTauri\",\"AlphaTauri\",\"AlphaTauri\",\"AlphaTauri\",\"AlphaTauri\",\"AlphaTauri\",\"AlphaTauri\",\"AlphaTauri\",\"AlphaTauri\",\"AlphaTauri\",\"AlphaTauri\",\"AlphaTauri\",\"AlphaTauri\",\"AlphaTauri\",\"AlphaTauri\",\"AlphaTauri\",\"AlphaTauri\",\"AlphaTauri\",\"AlphaTauri\",\"AlphaTauri\",\"AlphaTauri\",\"AlphaTauri\",\"AlphaTauri\",\"AlphaTauri\",\"AlphaTauri\",\"AlphaTauri\",\"AlphaTauri\",\"AlphaTauri\",\"AlphaTauri\",\"AlphaTauri\",\"AlphaTauri\",\"AlphaTauri\",\"AlphaTauri\",\"AlphaTauri\",\"AlphaTauri\",\"AlphaTauri\",\"AlphaTauri\",\"AlphaTauri\",\"AlphaTauri\",\"AlphaTauri\",\"AlphaTauri\",\"AlphaTauri\",\"AlphaTauri\",\"AlphaTauri\",\"AlphaTauri\",\"AlphaTauri\",\"AlphaTauri\",\"AlphaTauri\",\"AlphaTauri\",\"AlphaTauri\",\"AlphaTauri\",\"AlphaTauri\",\"AlphaTauri\",\"AlphaTauri\",\"AlphaTauri\",\"AlphaTauri\",\"AlphaTauri\",\"AlphaTauri\",\"AlphaTauri\",\"AlphaTauri\",\"AlphaTauri\",\"AlphaTauri\",\"AlphaTauri\",\"AlphaTauri\",\"AlphaTauri\",\"AlphaTauri\"],\"x0\":\" \",\"xaxis\":\"x\",\"y\":[96.208,94.746,94.199,94.761,94.907,95.054,93.896,93.774,93.985,93.758,94.165,94.232,94.879,94.17,94.148,93.637,93.453,93.835,93.48,93.652,93.647,93.622,93.663,93.553,93.754,93.299,92.499,92.564,92.829,93.647,93.18,92.65,92.369,92.516,94.017,92.829,92.716,92.456,92.353,92.54,92.632,92.445,92.42,95.252,94.229,94.362,94.457,95.373,94.571,94.486,94.235,94.173,94.085,94.237,94.433,94.769,93.058,92.952,93.094,93.424,93.281,93.189,93.004,93.098,93.205,93.224,93.319,93.418,93.275,93.118,93.211,93.279,92.882,92.932,93.321,92.306,92.572,92.534,92.494,92.535,92.291,92.084,92.504,92.79,93.212,92.78],\"y0\":\" \",\"yaxis\":\"y\",\"type\":\"box\",\"line\":{\"color\":\"#2b4562\"}},{\"alignmentgroup\":\"True\",\"hovertemplate\":\"Team=%{x}\\u003cbr\\u003eLapTime (s)=%{y}\\u003cextra\\u003e\\u003c\\u002fextra\\u003e\",\"legendgroup\":\"Williams\",\"marker\":{\"color\":\"black\",\"size\":5},\"name\":\"Williams\",\"notched\":false,\"offsetgroup\":\"Williams\",\"orientation\":\"v\",\"showlegend\":true,\"x\":[\"Williams\",\"Williams\",\"Williams\",\"Williams\",\"Williams\",\"Williams\",\"Williams\",\"Williams\",\"Williams\",\"Williams\",\"Williams\",\"Williams\",\"Williams\",\"Williams\",\"Williams\",\"Williams\",\"Williams\",\"Williams\",\"Williams\",\"Williams\",\"Williams\",\"Williams\",\"Williams\",\"Williams\",\"Williams\",\"Williams\",\"Williams\",\"Williams\",\"Williams\",\"Williams\",\"Williams\",\"Williams\",\"Williams\",\"Williams\",\"Williams\",\"Williams\",\"Williams\",\"Williams\",\"Williams\",\"Williams\",\"Williams\",\"Williams\",\"Williams\",\"Williams\",\"Williams\",\"Williams\",\"Williams\",\"Williams\",\"Williams\",\"Williams\",\"Williams\",\"Williams\",\"Williams\",\"Williams\",\"Williams\",\"Williams\",\"Williams\",\"Williams\",\"Williams\",\"Williams\",\"Williams\",\"Williams\",\"Williams\",\"Williams\",\"Williams\",\"Williams\",\"Williams\",\"Williams\",\"Williams\",\"Williams\",\"Williams\",\"Williams\",\"Williams\",\"Williams\",\"Williams\",\"Williams\",\"Williams\",\"Williams\",\"Williams\",\"Williams\",\"Williams\",\"Williams\",\"Williams\",\"Williams\",\"Williams\",\"Williams\",\"Williams\"],\"x0\":\" \",\"xaxis\":\"x\",\"y\":[96.266,94.577,94.332,94.842,94.356,94.581,94.108,93.94,94.31,93.925,94.239,94.329,93.683,94.123,93.771,93.728,93.465,93.573,93.387,93.458,93.479,93.212,93.502,93.508,93.553,93.731,93.49,92.723,91.994,92.794,92.949,91.84,91.699,91.743,92.849,92.724,92.421,91.868,91.71,91.873,92.085,91.956,91.984,95.004,93.809,93.866,93.86,94.21,94.099,93.922,93.731,94.045,93.842,93.857,93.751,93.951,93.786,94.343,93.707,93.615,93.654,93.44,93.195,93.021,93.117,93.163,93.374,93.175,93.126,93.084,92.869,92.882,92.816,92.63,92.176,91.273,91.879,91.752,92.057,92.146,92.116,91.537,91.466,91.912,91.86,91.93,91.809],\"y0\":\" \",\"yaxis\":\"y\",\"type\":\"box\",\"line\":{\"color\":\"#005aff\"}},{\"alignmentgroup\":\"True\",\"hovertemplate\":\"Team=%{x}\\u003cbr\\u003eLapTime (s)=%{y}\\u003cextra\\u003e\\u003c\\u002fextra\\u003e\",\"legendgroup\":\"Alpine\",\"marker\":{\"color\":\"black\",\"size\":5},\"name\":\"Alpine\",\"notched\":false,\"offsetgroup\":\"Alpine\",\"orientation\":\"v\",\"showlegend\":true,\"x\":[\"Alpine\",\"Alpine\",\"Alpine\",\"Alpine\",\"Alpine\",\"Alpine\",\"Alpine\",\"Alpine\",\"Alpine\",\"Alpine\",\"Alpine\",\"Alpine\",\"Alpine\",\"Alpine\",\"Alpine\",\"Alpine\",\"Alpine\",\"Alpine\",\"Alpine\",\"Alpine\",\"Alpine\",\"Alpine\",\"Alpine\",\"Alpine\",\"Alpine\",\"Alpine\",\"Alpine\",\"Alpine\",\"Alpine\",\"Alpine\",\"Alpine\",\"Alpine\",\"Alpine\",\"Alpine\",\"Alpine\",\"Alpine\",\"Alpine\",\"Alpine\",\"Alpine\",\"Alpine\",\"Alpine\",\"Alpine\",\"Alpine\",\"Alpine\"],\"x0\":\" \",\"xaxis\":\"x\",\"y\":[94.706,93.605,93.349,93.863,94.143,94.399,93.905,93.592,93.855,93.836,93.705,93.683,93.843,93.769,93.535,93.138,93.291,93.199,93.248,93.098,93.168,92.846,93.164,93.098,93.243,92.988,93.255,93.283,93.299,93.391,92.98,92.823,91.827,91.539,91.648,92.862,95.23,94.113,93.941,93.946,94.381,94.346,94.032,93.846],\"y0\":\" \",\"yaxis\":\"y\",\"type\":\"box\",\"line\":{\"color\":\"#0090ff\"}},{\"alignmentgroup\":\"True\",\"hovertemplate\":\"Team=%{x}\\u003cbr\\u003eLapTime (s)=%{y}\\u003cextra\\u003e\\u003c\\u002fextra\\u003e\",\"legendgroup\":\"Alfa Romeo\",\"marker\":{\"color\":\"black\",\"size\":5},\"name\":\"Alfa Romeo\",\"notched\":false,\"offsetgroup\":\"Alfa Romeo\",\"orientation\":\"v\",\"showlegend\":true,\"x\":[\"Alfa Romeo\",\"Alfa Romeo\",\"Alfa Romeo\",\"Alfa Romeo\",\"Alfa Romeo\",\"Alfa Romeo\",\"Alfa Romeo\",\"Alfa Romeo\",\"Alfa Romeo\",\"Alfa Romeo\",\"Alfa Romeo\",\"Alfa Romeo\",\"Alfa Romeo\",\"Alfa Romeo\",\"Alfa Romeo\",\"Alfa Romeo\",\"Alfa Romeo\",\"Alfa Romeo\",\"Alfa Romeo\",\"Alfa Romeo\",\"Alfa Romeo\",\"Alfa Romeo\",\"Alfa Romeo\",\"Alfa Romeo\",\"Alfa Romeo\",\"Alfa Romeo\",\"Alfa Romeo\",\"Alfa Romeo\",\"Alfa Romeo\",\"Alfa Romeo\",\"Alfa Romeo\",\"Alfa Romeo\",\"Alfa Romeo\",\"Alfa Romeo\",\"Alfa Romeo\",\"Alfa Romeo\",\"Alfa Romeo\",\"Alfa Romeo\",\"Alfa Romeo\",\"Alfa Romeo\",\"Alfa Romeo\",\"Alfa Romeo\",\"Alfa Romeo\",\"Alfa Romeo\",\"Alfa Romeo\",\"Alfa Romeo\",\"Alfa Romeo\",\"Alfa Romeo\",\"Alfa Romeo\",\"Alfa Romeo\",\"Alfa Romeo\",\"Alfa Romeo\",\"Alfa Romeo\",\"Alfa Romeo\",\"Alfa Romeo\",\"Alfa Romeo\",\"Alfa Romeo\",\"Alfa Romeo\",\"Alfa Romeo\",\"Alfa Romeo\",\"Alfa Romeo\",\"Alfa Romeo\",\"Alfa Romeo\",\"Alfa Romeo\",\"Alfa Romeo\",\"Alfa Romeo\",\"Alfa Romeo\",\"Alfa Romeo\",\"Alfa Romeo\",\"Alfa Romeo\",\"Alfa Romeo\",\"Alfa Romeo\",\"Alfa Romeo\",\"Alfa Romeo\",\"Alfa Romeo\",\"Alfa Romeo\",\"Alfa Romeo\",\"Alfa Romeo\",\"Alfa Romeo\",\"Alfa Romeo\",\"Alfa Romeo\",\"Alfa Romeo\",\"Alfa Romeo\",\"Alfa Romeo\",\"Alfa Romeo\",\"Alfa Romeo\"],\"x0\":\" \",\"xaxis\":\"x\",\"y\":[95.912,94.679,94.408,94.736,94.807,94.995,94.267,94.044,94.392,94.221,94.235,94.13,94.418,94.677,94.263,94.027,93.861,93.907,93.726,93.56,93.679,93.642,93.17,92.524,92.912,92.999,92.812,93.006,93.073,93.188,93.31,92.655,92.243,92.645,92.789,92.502,92.329,91.957,91.769,92.599,92.459,92.09,92.114,94.865,94.611,94.804,94.791,94.879,94.476,94.386,94.306,94.354,94.541,94.618,94.604,94.627,94.367,93.867,93.749,93.73,93.671,93.607,93.468,93.787,93.464,93.292,93.47,93.588,93.5,93.351,93.367,93.44,92.618,93.056,92.229,91.902,92.047,92.563,93.177,92.284,92.079,91.974,92.167,92.163,92.133,91.852],\"y0\":\" \",\"yaxis\":\"y\",\"type\":\"box\",\"line\":{\"color\":\"#900000\"}},{\"alignmentgroup\":\"True\",\"hovertemplate\":\"Team=%{x}\\u003cbr\\u003eLapTime (s)=%{y}\\u003cextra\\u003e\\u003c\\u002fextra\\u003e\",\"legendgroup\":\"Haas F1 Team\",\"marker\":{\"color\":\"black\",\"size\":5},\"name\":\"Haas F1 Team\",\"notched\":false,\"offsetgroup\":\"Haas F1 Team\",\"orientation\":\"v\",\"showlegend\":true,\"x\":[\"Haas F1 Team\",\"Haas F1 Team\",\"Haas F1 Team\",\"Haas F1 Team\",\"Haas F1 Team\",\"Haas F1 Team\",\"Haas F1 Team\",\"Haas F1 Team\",\"Haas F1 Team\",\"Haas F1 Team\",\"Haas F1 Team\",\"Haas F1 Team\",\"Haas F1 Team\",\"Haas F1 Team\",\"Haas F1 Team\",\"Haas F1 Team\",\"Haas F1 Team\",\"Haas F1 Team\",\"Haas F1 Team\",\"Haas F1 Team\",\"Haas F1 Team\",\"Haas F1 Team\",\"Haas F1 Team\",\"Haas F1 Team\",\"Haas F1 Team\",\"Haas F1 Team\",\"Haas F1 Team\",\"Haas F1 Team\",\"Haas F1 Team\",\"Haas F1 Team\",\"Haas F1 Team\",\"Haas F1 Team\",\"Haas F1 Team\",\"Haas F1 Team\",\"Haas F1 Team\",\"Haas F1 Team\",\"Haas F1 Team\",\"Haas F1 Team\",\"Haas F1 Team\",\"Haas F1 Team\",\"Haas F1 Team\",\"Haas F1 Team\",\"Haas F1 Team\",\"Haas F1 Team\",\"Haas F1 Team\",\"Haas F1 Team\",\"Haas F1 Team\",\"Haas F1 Team\",\"Haas F1 Team\",\"Haas F1 Team\",\"Haas F1 Team\",\"Haas F1 Team\",\"Haas F1 Team\",\"Haas F1 Team\",\"Haas F1 Team\",\"Haas F1 Team\",\"Haas F1 Team\",\"Haas F1 Team\",\"Haas F1 Team\",\"Haas F1 Team\",\"Haas F1 Team\",\"Haas F1 Team\",\"Haas F1 Team\",\"Haas F1 Team\",\"Haas F1 Team\",\"Haas F1 Team\",\"Haas F1 Team\",\"Haas F1 Team\",\"Haas F1 Team\",\"Haas F1 Team\",\"Haas F1 Team\",\"Haas F1 Team\",\"Haas F1 Team\"],\"x0\":\" \",\"xaxis\":\"x\",\"y\":[96.337,95.169,94.731,94.598,94.933,94.95,94.427,94.577,94.715,94.31,94.544,94.339,95.024,94.606,94.559,94.216,93.795,94.281,93.935,94.083,93.997,93.98,93.891,94.037,94.119,93.935,93.76,93.356,93.466,93.464,95.277,94.53,94.354,95.588,95.631,94.412,93.669,93.525,93.966,94.022,94.3,94.186,93.925,93.64,93.616,93.591,93.763,93.555,93.35,93.143,93.294,93.461,93.351,93.644,93.122,93.28,93.107,93.332,93.133,92.527,92.932,92.104,92.097,92.325,92.441,92.534,92.584,92.101,92.06,92.08,92.158,92.166,91.776],\"y0\":\" \",\"yaxis\":\"y\",\"type\":\"box\",\"line\":{\"color\":\"#ffffff\"}}],                        {\"template\":{\"data\":{\"histogram2dcontour\":[{\"type\":\"histogram2dcontour\",\"colorbar\":{\"outlinewidth\":0,\"ticks\":\"\"},\"colorscale\":[[0.0,\"#0d0887\"],[0.1111111111111111,\"#46039f\"],[0.2222222222222222,\"#7201a8\"],[0.3333333333333333,\"#9c179e\"],[0.4444444444444444,\"#bd3786\"],[0.5555555555555556,\"#d8576b\"],[0.6666666666666666,\"#ed7953\"],[0.7777777777777778,\"#fb9f3a\"],[0.8888888888888888,\"#fdca26\"],[1.0,\"#f0f921\"]]}],\"choropleth\":[{\"type\":\"choropleth\",\"colorbar\":{\"outlinewidth\":0,\"ticks\":\"\"}}],\"histogram2d\":[{\"type\":\"histogram2d\",\"colorbar\":{\"outlinewidth\":0,\"ticks\":\"\"},\"colorscale\":[[0.0,\"#0d0887\"],[0.1111111111111111,\"#46039f\"],[0.2222222222222222,\"#7201a8\"],[0.3333333333333333,\"#9c179e\"],[0.4444444444444444,\"#bd3786\"],[0.5555555555555556,\"#d8576b\"],[0.6666666666666666,\"#ed7953\"],[0.7777777777777778,\"#fb9f3a\"],[0.8888888888888888,\"#fdca26\"],[1.0,\"#f0f921\"]]}],\"heatmap\":[{\"type\":\"heatmap\",\"colorbar\":{\"outlinewidth\":0,\"ticks\":\"\"},\"colorscale\":[[0.0,\"#0d0887\"],[0.1111111111111111,\"#46039f\"],[0.2222222222222222,\"#7201a8\"],[0.3333333333333333,\"#9c179e\"],[0.4444444444444444,\"#bd3786\"],[0.5555555555555556,\"#d8576b\"],[0.6666666666666666,\"#ed7953\"],[0.7777777777777778,\"#fb9f3a\"],[0.8888888888888888,\"#fdca26\"],[1.0,\"#f0f921\"]]}],\"heatmapgl\":[{\"type\":\"heatmapgl\",\"colorbar\":{\"outlinewidth\":0,\"ticks\":\"\"},\"colorscale\":[[0.0,\"#0d0887\"],[0.1111111111111111,\"#46039f\"],[0.2222222222222222,\"#7201a8\"],[0.3333333333333333,\"#9c179e\"],[0.4444444444444444,\"#bd3786\"],[0.5555555555555556,\"#d8576b\"],[0.6666666666666666,\"#ed7953\"],[0.7777777777777778,\"#fb9f3a\"],[0.8888888888888888,\"#fdca26\"],[1.0,\"#f0f921\"]]}],\"contourcarpet\":[{\"type\":\"contourcarpet\",\"colorbar\":{\"outlinewidth\":0,\"ticks\":\"\"}}],\"contour\":[{\"type\":\"contour\",\"colorbar\":{\"outlinewidth\":0,\"ticks\":\"\"},\"colorscale\":[[0.0,\"#0d0887\"],[0.1111111111111111,\"#46039f\"],[0.2222222222222222,\"#7201a8\"],[0.3333333333333333,\"#9c179e\"],[0.4444444444444444,\"#bd3786\"],[0.5555555555555556,\"#d8576b\"],[0.6666666666666666,\"#ed7953\"],[0.7777777777777778,\"#fb9f3a\"],[0.8888888888888888,\"#fdca26\"],[1.0,\"#f0f921\"]]}],\"surface\":[{\"type\":\"surface\",\"colorbar\":{\"outlinewidth\":0,\"ticks\":\"\"},\"colorscale\":[[0.0,\"#0d0887\"],[0.1111111111111111,\"#46039f\"],[0.2222222222222222,\"#7201a8\"],[0.3333333333333333,\"#9c179e\"],[0.4444444444444444,\"#bd3786\"],[0.5555555555555556,\"#d8576b\"],[0.6666666666666666,\"#ed7953\"],[0.7777777777777778,\"#fb9f3a\"],[0.8888888888888888,\"#fdca26\"],[1.0,\"#f0f921\"]]}],\"mesh3d\":[{\"type\":\"mesh3d\",\"colorbar\":{\"outlinewidth\":0,\"ticks\":\"\"}}],\"scatter\":[{\"fillpattern\":{\"fillmode\":\"overlay\",\"size\":10,\"solidity\":0.2},\"type\":\"scatter\"}],\"parcoords\":[{\"type\":\"parcoords\",\"line\":{\"colorbar\":{\"outlinewidth\":0,\"ticks\":\"\"}}}],\"scatterpolargl\":[{\"type\":\"scatterpolargl\",\"marker\":{\"colorbar\":{\"outlinewidth\":0,\"ticks\":\"\"}}}],\"bar\":[{\"error_x\":{\"color\":\"#2a3f5f\"},\"error_y\":{\"color\":\"#2a3f5f\"},\"marker\":{\"line\":{\"color\":\"#E5ECF6\",\"width\":0.5},\"pattern\":{\"fillmode\":\"overlay\",\"size\":10,\"solidity\":0.2}},\"type\":\"bar\"}],\"scattergeo\":[{\"type\":\"scattergeo\",\"marker\":{\"colorbar\":{\"outlinewidth\":0,\"ticks\":\"\"}}}],\"scatterpolar\":[{\"type\":\"scatterpolar\",\"marker\":{\"colorbar\":{\"outlinewidth\":0,\"ticks\":\"\"}}}],\"histogram\":[{\"marker\":{\"pattern\":{\"fillmode\":\"overlay\",\"size\":10,\"solidity\":0.2}},\"type\":\"histogram\"}],\"scattergl\":[{\"type\":\"scattergl\",\"marker\":{\"colorbar\":{\"outlinewidth\":0,\"ticks\":\"\"}}}],\"scatter3d\":[{\"type\":\"scatter3d\",\"line\":{\"colorbar\":{\"outlinewidth\":0,\"ticks\":\"\"}},\"marker\":{\"colorbar\":{\"outlinewidth\":0,\"ticks\":\"\"}}}],\"scattermapbox\":[{\"type\":\"scattermapbox\",\"marker\":{\"colorbar\":{\"outlinewidth\":0,\"ticks\":\"\"}}}],\"scatterternary\":[{\"type\":\"scatterternary\",\"marker\":{\"colorbar\":{\"outlinewidth\":0,\"ticks\":\"\"}}}],\"scattercarpet\":[{\"type\":\"scattercarpet\",\"marker\":{\"colorbar\":{\"outlinewidth\":0,\"ticks\":\"\"}}}],\"carpet\":[{\"aaxis\":{\"endlinecolor\":\"#2a3f5f\",\"gridcolor\":\"white\",\"linecolor\":\"white\",\"minorgridcolor\":\"white\",\"startlinecolor\":\"#2a3f5f\"},\"baxis\":{\"endlinecolor\":\"#2a3f5f\",\"gridcolor\":\"white\",\"linecolor\":\"white\",\"minorgridcolor\":\"white\",\"startlinecolor\":\"#2a3f5f\"},\"type\":\"carpet\"}],\"table\":[{\"cells\":{\"fill\":{\"color\":\"#EBF0F8\"},\"line\":{\"color\":\"white\"}},\"header\":{\"fill\":{\"color\":\"#C8D4E3\"},\"line\":{\"color\":\"white\"}},\"type\":\"table\"}],\"barpolar\":[{\"marker\":{\"line\":{\"color\":\"#E5ECF6\",\"width\":0.5},\"pattern\":{\"fillmode\":\"overlay\",\"size\":10,\"solidity\":0.2}},\"type\":\"barpolar\"}],\"pie\":[{\"automargin\":true,\"type\":\"pie\"}]},\"layout\":{\"autotypenumbers\":\"strict\",\"colorway\":[\"#636efa\",\"#EF553B\",\"#00cc96\",\"#ab63fa\",\"#FFA15A\",\"#19d3f3\",\"#FF6692\",\"#B6E880\",\"#FF97FF\",\"#FECB52\"],\"font\":{\"color\":\"#2a3f5f\"},\"hovermode\":\"closest\",\"hoverlabel\":{\"align\":\"left\"},\"paper_bgcolor\":\"white\",\"plot_bgcolor\":\"#E5ECF6\",\"polar\":{\"bgcolor\":\"#E5ECF6\",\"angularaxis\":{\"gridcolor\":\"white\",\"linecolor\":\"white\",\"ticks\":\"\"},\"radialaxis\":{\"gridcolor\":\"white\",\"linecolor\":\"white\",\"ticks\":\"\"}},\"ternary\":{\"bgcolor\":\"#E5ECF6\",\"aaxis\":{\"gridcolor\":\"white\",\"linecolor\":\"white\",\"ticks\":\"\"},\"baxis\":{\"gridcolor\":\"white\",\"linecolor\":\"white\",\"ticks\":\"\"},\"caxis\":{\"gridcolor\":\"white\",\"linecolor\":\"white\",\"ticks\":\"\"}},\"coloraxis\":{\"colorbar\":{\"outlinewidth\":0,\"ticks\":\"\"}},\"colorscale\":{\"sequential\":[[0.0,\"#0d0887\"],[0.1111111111111111,\"#46039f\"],[0.2222222222222222,\"#7201a8\"],[0.3333333333333333,\"#9c179e\"],[0.4444444444444444,\"#bd3786\"],[0.5555555555555556,\"#d8576b\"],[0.6666666666666666,\"#ed7953\"],[0.7777777777777778,\"#fb9f3a\"],[0.8888888888888888,\"#fdca26\"],[1.0,\"#f0f921\"]],\"sequentialminus\":[[0.0,\"#0d0887\"],[0.1111111111111111,\"#46039f\"],[0.2222222222222222,\"#7201a8\"],[0.3333333333333333,\"#9c179e\"],[0.4444444444444444,\"#bd3786\"],[0.5555555555555556,\"#d8576b\"],[0.6666666666666666,\"#ed7953\"],[0.7777777777777778,\"#fb9f3a\"],[0.8888888888888888,\"#fdca26\"],[1.0,\"#f0f921\"]],\"diverging\":[[0,\"#8e0152\"],[0.1,\"#c51b7d\"],[0.2,\"#de77ae\"],[0.3,\"#f1b6da\"],[0.4,\"#fde0ef\"],[0.5,\"#f7f7f7\"],[0.6,\"#e6f5d0\"],[0.7,\"#b8e186\"],[0.8,\"#7fbc41\"],[0.9,\"#4d9221\"],[1,\"#276419\"]]},\"xaxis\":{\"gridcolor\":\"white\",\"linecolor\":\"white\",\"ticks\":\"\",\"title\":{\"standoff\":15},\"zerolinecolor\":\"white\",\"automargin\":true,\"zerolinewidth\":2},\"yaxis\":{\"gridcolor\":\"white\",\"linecolor\":\"white\",\"ticks\":\"\",\"title\":{\"standoff\":15},\"zerolinecolor\":\"white\",\"automargin\":true,\"zerolinewidth\":2},\"scene\":{\"xaxis\":{\"backgroundcolor\":\"#E5ECF6\",\"gridcolor\":\"white\",\"linecolor\":\"white\",\"showbackground\":true,\"ticks\":\"\",\"zerolinecolor\":\"white\",\"gridwidth\":2},\"yaxis\":{\"backgroundcolor\":\"#E5ECF6\",\"gridcolor\":\"white\",\"linecolor\":\"white\",\"showbackground\":true,\"ticks\":\"\",\"zerolinecolor\":\"white\",\"gridwidth\":2},\"zaxis\":{\"backgroundcolor\":\"#E5ECF6\",\"gridcolor\":\"white\",\"linecolor\":\"white\",\"showbackground\":true,\"ticks\":\"\",\"zerolinecolor\":\"white\",\"gridwidth\":2}},\"shapedefaults\":{\"line\":{\"color\":\"#2a3f5f\"}},\"annotationdefaults\":{\"arrowcolor\":\"#2a3f5f\",\"arrowhead\":0,\"arrowwidth\":1},\"geo\":{\"bgcolor\":\"white\",\"landcolor\":\"#E5ECF6\",\"subunitcolor\":\"white\",\"showland\":true,\"showlakes\":true,\"lakecolor\":\"white\"},\"title\":{\"x\":0.05},\"mapbox\":{\"style\":\"light\"}}},\"xaxis\":{\"anchor\":\"y\",\"domain\":[0.0,1.0],\"title\":{},\"categoryorder\":\"array\",\"categoryarray\":[\"Red Bull Racing\",\"McLaren\",\"Mercedes\",\"Ferrari\",\"Aston Martin\",\"AlphaTauri\",\"Williams\",\"Alpine\",\"Alfa Romeo\",\"Haas F1 Team\"]},\"yaxis\":{\"anchor\":\"x\",\"domain\":[0.0,1.0],\"title\":{\"text\":\"Lap Time (s)\"}},\"legend\":{\"title\":{\"text\":\"Team\"},\"tracegroupgap\":0},\"margin\":{\"t\":60},\"boxmode\":\"overlay\",\"title\":{\"text\":\"2023 British Grand Prix\"}},                        {\"responsive\": true}                    ).then(function(){\n                            \nvar gd = document.getElementById('0d45106d-deda-4a13-b09d-8bd82aecce72');\nvar x = new MutationObserver(function (mutations, observer) {{\n        var display = window.getComputedStyle(gd).display;\n        if (!display || display === 'none') {{\n            console.log([gd, 'removed!']);\n            Plotly.purge(gd);\n            observer.disconnect();\n        }}\n}});\n\n// Listen for the removal of the full notebook cells\nvar notebookContainer = gd.closest('#notebook-container');\nif (notebookContainer) {{\n    x.observe(notebookContainer, {childList: true});\n}}\n\n// Listen for the clearing of the current output cell\nvar outputEl = gd.closest('.output');\nif (outputEl) {{\n    x.observe(outputEl, {childList: true});\n}}\n\n                        })                };                });            </script>        </div>"
     },
     "metadata": {},
     "output_type": "display_data"
    }
   ],
   "source": [
    "import fastf1\n",
    "import fastf1.plotting\n",
    "import pandas as pd\n",
    "import plotly.express as px\n",
    "\n",
    "# Setup\n",
    "fastf1.plotting.setup_mpl(mpl_timedelta_support=False, misc_mpl_mods=False)\n",
    "race = fastf1.get_session(2023, \"British Grand Prix\", 'R')\n",
    "race.load()\n",
    "laps = race.laps.pick_quicklaps()\n",
    "\n",
    "# Preparing Data\n",
    "transformed_laps = laps.copy()\n",
    "transformed_laps.loc[:, \"LapTime (s)\"] = laps[\"LapTime\"].dt.total_seconds()\n",
    "\n",
    "# Team Order based on median lap time\n",
    "team_order = (\n",
    "    transformed_laps[[\"Team\", \"LapTime (s)\"]]\n",
    "    .groupby(\"Team\")\n",
    "    .median()[\"LapTime (s)\"]\n",
    "    .sort_values()  # Sorting from fastest to slowest\n",
    "    .index\n",
    ")\n",
    "\n",
    "# Create a color palette\n",
    "team_palette = {team: fastf1.plotting.team_color(team) for team in team_order}\n",
    "\n",
    "# Plotting with Plotly Express\n",
    "fig = px.box(transformed_laps, x=\"Team\", y=\"LapTime (s)\", category_orders={\"Team\": team_order.tolist()},\n",
    "             color=\"Team\", color_discrete_map=team_palette)\n",
    "\n",
    "# Customization with More Colors\n",
    "fig.update_traces(marker=dict(color='black', size=5), line=dict(color='white'))\n",
    "for team, color in team_palette.items():\n",
    "    fig.update_traces(selector=dict(name=team), line=dict(color=color))\n",
    "\n",
    "# Update layout and titles\n",
    "fig.update_layout(title=\"2023 British Grand Prix\", xaxis_title=None, yaxis_title=\"Lap Time (s)\")\n",
    "\n",
    "# Displaying the Plot\n",
    "fig.show()"
   ],
   "metadata": {
    "collapsed": false,
    "ExecuteTime": {
     "end_time": "2023-11-21T16:09:06.899219700Z",
     "start_time": "2023-11-21T16:09:01.286607400Z"
    }
   },
   "id": "a37be968cce7db25"
  },
  {
   "cell_type": "code",
   "execution_count": 7,
   "outputs": [],
   "source": [
    "def plot_fastests_laps(session):\n",
    "    # Loading the session data\n",
    "    fastf1.plotting.setup_mpl(misc_mpl_mods=False)\n",
    "    session.load()\n",
    "    # Preparing the data\n",
    "    drivers = pd.unique(session.laps['Driver'])\n",
    "    list_fastest_laps = [session.laps.pick_driver(drv).pick_fastest() for drv in drivers]\n",
    "    fastest_laps = Laps(list_fastest_laps).sort_values(by='LapTime').reset_index(drop=True)\n",
    "    pole_lap = fastest_laps.pick_fastest()\n",
    "    fastest_laps['LapTimeDelta'] = fastest_laps['LapTime'] - pole_lap['LapTime']\n",
    "    # Converting LapTimeDelta to a format suitable for plotting\n",
    "    fastest_laps['LapTimeDeltaSeconds'] = fastest_laps['LapTimeDelta'].dt.total_seconds()\n",
    "\n",
    "    # Plotting using Plotly Express\n",
    "    fig = px.bar(fastest_laps, y='Driver', x='LapTimeDeltaSeconds', orientation='h',\n",
    "                 color='Team', text='LapTimeDeltaSeconds',\n",
    "                 title=f\"{session.event['EventName']} {session.event.year} Qualifying\\n\"\n",
    "                       f\"Fastest Lap: {strftimedelta(pole_lap['LapTime'], '%m:%s.%ms')} ({pole_lap['Driver']})\")\n",
    "\n",
    "    fig.update_layout(yaxis={'categoryorder': 'total descending'})\n",
    "    fig.update_traces(texttemplate='%{text:.2f}', textposition='outside')\n",
    "\n",
    "    # Ajout d'une annotation pour le pilote en pole position\n",
    "    fig.add_annotation(x=0.6, y=pole_lap['Driver'],\n",
    "                       text=f\"Pole position : {pole_lap['Driver'], pole_lap['Team']}\",\n",
    "                       showarrow=False, font=dict(color='black'))\n",
    "    return fig\n"
   ],
   "metadata": {
    "collapsed": false,
    "ExecuteTime": {
     "end_time": "2023-11-21T16:09:06.919231300Z",
     "start_time": "2023-11-21T16:09:06.907224700Z"
    }
   },
   "id": "d7020ead62bf03a"
  }
 ],
 "metadata": {
  "kernelspec": {
   "display_name": "Python 3",
   "language": "python",
   "name": "python3"
  },
  "language_info": {
   "codemirror_mode": {
    "name": "ipython",
    "version": 2
   },
   "file_extension": ".py",
   "mimetype": "text/x-python",
   "name": "python",
   "nbconvert_exporter": "python",
   "pygments_lexer": "ipython2",
   "version": "2.7.6"
  }
 },
 "nbformat": 4,
 "nbformat_minor": 5
}
