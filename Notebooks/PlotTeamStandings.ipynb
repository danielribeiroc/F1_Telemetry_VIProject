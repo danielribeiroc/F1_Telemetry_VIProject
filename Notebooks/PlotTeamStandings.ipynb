{
 "cells": [
  {
   "cell_type": "code",
   "execution_count": 63,
   "id": "initial_id",
   "metadata": {
    "collapsed": true,
    "ExecuteTime": {
     "end_time": "2023-11-04T09:02:12.094023800Z",
     "start_time": "2023-11-04T09:02:12.062774100Z"
    }
   },
   "outputs": [],
   "source": [
    "import pandas as pd\n",
    "import plotly.express as px\n",
    "from plotly.io import show\n",
    "\n",
    "from fastf1.ergast import Ergast\n",
    "\n",
    "Year = 2023"
   ]
  },
  {
   "cell_type": "code",
   "execution_count": 64,
   "outputs": [],
   "source": [
    "ergast = Ergast()\n",
    "races = ergast.get_race_schedule(Year)  # Races in year 2022\n",
    "#ergast.get_constructor_info(2022)\n",
    "results = []"
   ],
   "metadata": {
    "collapsed": false,
    "ExecuteTime": {
     "end_time": "2023-11-04T09:02:12.872155500Z",
     "start_time": "2023-11-04T09:02:12.842465200Z"
    }
   },
   "id": "f91038765e012118"
  },
  {
   "cell_type": "code",
   "execution_count": 50,
   "outputs": [
    {
     "data": {
      "text/plain": "0           Red Bull\n1           Red Bull\n2       Aston Martin\n3            Ferrari\n4           Mercedes\n5       Aston Martin\n6           Mercedes\n7         Alfa Romeo\n8     Alpine F1 Team\n9           Williams\n10        AlphaTauri\n11          Williams\n12      Haas F1 Team\n13        AlphaTauri\n14      Haas F1 Team\n15        Alfa Romeo\n16           McLaren\n17    Alpine F1 Team\n18           Ferrari\n19           McLaren\nName: constructorName, dtype: object"
     },
     "execution_count": 50,
     "metadata": {},
     "output_type": "execute_result"
    }
   ],
   "source": [
    "ergast.get_race_results(season=Year, round=1).content[0]['constructorName']"
   ],
   "metadata": {
    "collapsed": false,
    "ExecuteTime": {
     "end_time": "2023-11-04T08:57:56.125730200Z",
     "start_time": "2023-11-04T08:57:56.062724100Z"
    }
   },
   "id": "bf2aa5796d3c8ff3"
  },
  {
   "cell_type": "code",
   "execution_count": 65,
   "outputs": [
    {
     "name": "stdout",
     "output_type": "stream",
     "text": [
      "Race name  Bahrain Grand Prix\n",
      "Race name  Saudi Arabian Grand Prix\n",
      "Race name  Australian Grand Prix\n",
      "Race name  Azerbaijan Grand Prix\n",
      "Race name  Miami Grand Prix\n",
      "Race name  Monaco Grand Prix\n",
      "Race name  Spanish Grand Prix\n",
      "Race name  Canadian Grand Prix\n",
      "Race name  Austrian Grand Prix\n",
      "Race name  British Grand Prix\n",
      "Race name  Hungarian Grand Prix\n",
      "Race name  Belgian Grand Prix\n",
      "Race name  Dutch Grand Prix\n",
      "Race name  Italian Grand Prix\n",
      "Race name  Singapore Grand Prix\n",
      "Race name  Japanese Grand Prix\n",
      "Race name  Qatar Grand Prix\n",
      "Race name  United States Grand Prix\n",
      "Race name  Mexico City Grand Prix\n",
      "Race name  São Paulo Grand Prix\n"
     ]
    }
   ],
   "source": [
    "for rnd, race in races['raceName'].items():\n",
    "    print(\"Race name \",race)\n",
    "    # Get results. Note that we use the round no. + 1, because the round no.\n",
    "    # starts from one (1) instead of zero (0)\n",
    "    temp = ergast.get_race_results(season=Year, round=rnd + 1)\n",
    "    if len(temp.content) < 1:\n",
    "        break\n",
    "    else:\n",
    "        temp = temp.content[0]\n",
    "    \n",
    "\n",
    "    # If there is a sprint, get the results as well\n",
    "    sprint = ergast.get_sprint_results(season=Year, round=rnd + 1)\n",
    "    if sprint.content and sprint.description['round'][0] == rnd + 1:\n",
    "        temp = pd.merge(temp, sprint.content[0], on='constructorName', how='left')\n",
    "        # Add sprint points and race points to get the total\n",
    "        temp['points'] = temp['points_x'] + temp['points_y']\n",
    "        temp.drop(columns=['points_x', 'points_y'], inplace=True)\n",
    "\n",
    "    # Add round no. and grand prix name\n",
    "    temp['round'] = rnd + 1\n",
    "    temp['race'] = race.removesuffix(' Grand Prix')\n",
    "    temp = temp[['round', 'race', 'constructorName', 'points']]  # Keep useful cols.\n",
    "    results.append(temp)\n",
    "\n",
    "# Append all races into a single dataframe\n",
    "results = pd.concat(results)\n",
    "races = results['race'].drop_duplicates()\n"
   ],
   "metadata": {
    "collapsed": false,
    "ExecuteTime": {
     "end_time": "2023-11-04T09:02:15.468957800Z",
     "start_time": "2023-11-04T09:02:15.216644800Z"
    }
   },
   "id": "de120fa8feeadb90"
  },
  {
   "cell_type": "code",
   "execution_count": 66,
   "outputs": [],
   "source": [
    "test = results.groupby([\"round\", \"race\", \"constructorName\"]).sum().reset_index()"
   ],
   "metadata": {
    "collapsed": false,
    "ExecuteTime": {
     "end_time": "2023-11-04T09:02:18.204906500Z",
     "start_time": "2023-11-04T09:02:18.173431300Z"
    }
   },
   "id": "10ef2c3537ba5232"
  },
  {
   "cell_type": "code",
   "execution_count": 67,
   "outputs": [
    {
     "data": {
      "text/plain": "race             Bahrain  Saudi Arabian  Australian  Azerbaijan  Miami  \\\nconstructorName                                                          \nRed Bull            36.0          112.0       114.0        43.0  102.0   \nFerrari              0.0           64.0        72.0        12.0   48.0   \nMercedes            18.0           22.0        40.0        16.0   48.0   \nMcLaren             12.0           24.0         4.0         0.0   32.0   \nAston Martin        27.0           42.0        44.0        23.0   24.0   \nAlpine F1 Team       0.0            6.0         0.0         2.0   20.0   \nWilliams             0.0            0.0         0.0         1.0    0.0   \nAlphaTauri           1.0            0.0         2.0         0.0    2.0   \nAlfa Romeo           2.0            0.0         0.0         4.0    0.0   \nHaas F1 Team         6.0            6.0         0.0         0.0    0.0   \n\nrace             Monaco  Spanish  Canadian  Austrian  British  Hungarian  \\\nconstructorName                                                            \nRed Bull           34.0     34.0      37.0      41.0     43.0       26.0   \nFerrari             3.0     22.0      10.0      10.0     27.0       20.0   \nMercedes           25.0     15.0       8.0      20.0     18.0       16.0   \nMcLaren            30.0      0.0       8.0      28.0      4.0       33.0   \nAston Martin        6.0     20.0      19.0       3.0      2.0        4.0   \nAlpine F1 Team      0.0      4.0      16.0       0.0      0.0        3.0   \nWilliams            4.0      6.0       4.0       0.0      6.0        0.0   \nAlphaTauri          0.0      0.0       0.0       0.0      0.0        0.0   \nAlfa Romeo          0.0      1.0       0.0       0.0      1.0        0.0   \nHaas F1 Team        0.0      0.0       0.0       0.0      0.0        0.0   \n\nrace             Belgian  Dutch  Italian  Singapore  Japanese  Qatar  \\\nconstructorName                                                        \nRed Bull            25.0   44.0     25.0       68.0      44.0   14.0   \nFerrari             27.0   16.0     12.0       26.0      14.0   37.0   \nMercedes            27.0   20.0     23.0       42.0      22.0   16.0   \nMcLaren             14.0    0.0      3.0       94.0       0.0   24.0   \nAston Martin         0.0   15.0     18.0       18.0      15.0    0.0   \nAlpine F1 Team       1.0    6.0     21.0       12.0       6.0    8.0   \nWilliams             2.0    0.0      0.0        4.0       0.0    0.0   \nAlphaTauri           6.0    0.0      0.0        0.0       0.0    2.0   \nAlfa Romeo           0.0    0.0      0.0       12.0       0.0    0.0   \nHaas F1 Team         0.0    1.0      0.0        0.0       1.0    1.0   \n\nrace             United States  Mexico City  \nconstructorName                              \nRed Bull                  38.0         98.0  \nFerrari                   10.0         48.0  \nMercedes                  33.0         36.0  \nMcLaren                    0.0         46.0  \nAston Martin              14.0         12.0  \nAlpine F1 Team             5.0         20.0  \nWilliams                   0.0          6.0  \nAlphaTauri                 0.0         10.0  \nAlfa Romeo                 2.0          0.0  \nHaas F1 Team               0.0          0.0  ",
      "text/html": "<div>\n<style scoped>\n    .dataframe tbody tr th:only-of-type {\n        vertical-align: middle;\n    }\n\n    .dataframe tbody tr th {\n        vertical-align: top;\n    }\n\n    .dataframe thead th {\n        text-align: right;\n    }\n</style>\n<table border=\"1\" class=\"dataframe\">\n  <thead>\n    <tr style=\"text-align: right;\">\n      <th>race</th>\n      <th>Bahrain</th>\n      <th>Saudi Arabian</th>\n      <th>Australian</th>\n      <th>Azerbaijan</th>\n      <th>Miami</th>\n      <th>Monaco</th>\n      <th>Spanish</th>\n      <th>Canadian</th>\n      <th>Austrian</th>\n      <th>British</th>\n      <th>Hungarian</th>\n      <th>Belgian</th>\n      <th>Dutch</th>\n      <th>Italian</th>\n      <th>Singapore</th>\n      <th>Japanese</th>\n      <th>Qatar</th>\n      <th>United States</th>\n      <th>Mexico City</th>\n    </tr>\n    <tr>\n      <th>constructorName</th>\n      <th></th>\n      <th></th>\n      <th></th>\n      <th></th>\n      <th></th>\n      <th></th>\n      <th></th>\n      <th></th>\n      <th></th>\n      <th></th>\n      <th></th>\n      <th></th>\n      <th></th>\n      <th></th>\n      <th></th>\n      <th></th>\n      <th></th>\n      <th></th>\n      <th></th>\n    </tr>\n  </thead>\n  <tbody>\n    <tr>\n      <th>Red Bull</th>\n      <td>36.0</td>\n      <td>112.0</td>\n      <td>114.0</td>\n      <td>43.0</td>\n      <td>102.0</td>\n      <td>34.0</td>\n      <td>34.0</td>\n      <td>37.0</td>\n      <td>41.0</td>\n      <td>43.0</td>\n      <td>26.0</td>\n      <td>25.0</td>\n      <td>44.0</td>\n      <td>25.0</td>\n      <td>68.0</td>\n      <td>44.0</td>\n      <td>14.0</td>\n      <td>38.0</td>\n      <td>98.0</td>\n    </tr>\n    <tr>\n      <th>Ferrari</th>\n      <td>0.0</td>\n      <td>64.0</td>\n      <td>72.0</td>\n      <td>12.0</td>\n      <td>48.0</td>\n      <td>3.0</td>\n      <td>22.0</td>\n      <td>10.0</td>\n      <td>10.0</td>\n      <td>27.0</td>\n      <td>20.0</td>\n      <td>27.0</td>\n      <td>16.0</td>\n      <td>12.0</td>\n      <td>26.0</td>\n      <td>14.0</td>\n      <td>37.0</td>\n      <td>10.0</td>\n      <td>48.0</td>\n    </tr>\n    <tr>\n      <th>Mercedes</th>\n      <td>18.0</td>\n      <td>22.0</td>\n      <td>40.0</td>\n      <td>16.0</td>\n      <td>48.0</td>\n      <td>25.0</td>\n      <td>15.0</td>\n      <td>8.0</td>\n      <td>20.0</td>\n      <td>18.0</td>\n      <td>16.0</td>\n      <td>27.0</td>\n      <td>20.0</td>\n      <td>23.0</td>\n      <td>42.0</td>\n      <td>22.0</td>\n      <td>16.0</td>\n      <td>33.0</td>\n      <td>36.0</td>\n    </tr>\n    <tr>\n      <th>McLaren</th>\n      <td>12.0</td>\n      <td>24.0</td>\n      <td>4.0</td>\n      <td>0.0</td>\n      <td>32.0</td>\n      <td>30.0</td>\n      <td>0.0</td>\n      <td>8.0</td>\n      <td>28.0</td>\n      <td>4.0</td>\n      <td>33.0</td>\n      <td>14.0</td>\n      <td>0.0</td>\n      <td>3.0</td>\n      <td>94.0</td>\n      <td>0.0</td>\n      <td>24.0</td>\n      <td>0.0</td>\n      <td>46.0</td>\n    </tr>\n    <tr>\n      <th>Aston Martin</th>\n      <td>27.0</td>\n      <td>42.0</td>\n      <td>44.0</td>\n      <td>23.0</td>\n      <td>24.0</td>\n      <td>6.0</td>\n      <td>20.0</td>\n      <td>19.0</td>\n      <td>3.0</td>\n      <td>2.0</td>\n      <td>4.0</td>\n      <td>0.0</td>\n      <td>15.0</td>\n      <td>18.0</td>\n      <td>18.0</td>\n      <td>15.0</td>\n      <td>0.0</td>\n      <td>14.0</td>\n      <td>12.0</td>\n    </tr>\n    <tr>\n      <th>Alpine F1 Team</th>\n      <td>0.0</td>\n      <td>6.0</td>\n      <td>0.0</td>\n      <td>2.0</td>\n      <td>20.0</td>\n      <td>0.0</td>\n      <td>4.0</td>\n      <td>16.0</td>\n      <td>0.0</td>\n      <td>0.0</td>\n      <td>3.0</td>\n      <td>1.0</td>\n      <td>6.0</td>\n      <td>21.0</td>\n      <td>12.0</td>\n      <td>6.0</td>\n      <td>8.0</td>\n      <td>5.0</td>\n      <td>20.0</td>\n    </tr>\n    <tr>\n      <th>Williams</th>\n      <td>0.0</td>\n      <td>0.0</td>\n      <td>0.0</td>\n      <td>1.0</td>\n      <td>0.0</td>\n      <td>4.0</td>\n      <td>6.0</td>\n      <td>4.0</td>\n      <td>0.0</td>\n      <td>6.0</td>\n      <td>0.0</td>\n      <td>2.0</td>\n      <td>0.0</td>\n      <td>0.0</td>\n      <td>4.0</td>\n      <td>0.0</td>\n      <td>0.0</td>\n      <td>0.0</td>\n      <td>6.0</td>\n    </tr>\n    <tr>\n      <th>AlphaTauri</th>\n      <td>1.0</td>\n      <td>0.0</td>\n      <td>2.0</td>\n      <td>0.0</td>\n      <td>2.0</td>\n      <td>0.0</td>\n      <td>0.0</td>\n      <td>0.0</td>\n      <td>0.0</td>\n      <td>0.0</td>\n      <td>0.0</td>\n      <td>6.0</td>\n      <td>0.0</td>\n      <td>0.0</td>\n      <td>0.0</td>\n      <td>0.0</td>\n      <td>2.0</td>\n      <td>0.0</td>\n      <td>10.0</td>\n    </tr>\n    <tr>\n      <th>Alfa Romeo</th>\n      <td>2.0</td>\n      <td>0.0</td>\n      <td>0.0</td>\n      <td>4.0</td>\n      <td>0.0</td>\n      <td>0.0</td>\n      <td>1.0</td>\n      <td>0.0</td>\n      <td>0.0</td>\n      <td>1.0</td>\n      <td>0.0</td>\n      <td>0.0</td>\n      <td>0.0</td>\n      <td>0.0</td>\n      <td>12.0</td>\n      <td>0.0</td>\n      <td>0.0</td>\n      <td>2.0</td>\n      <td>0.0</td>\n    </tr>\n    <tr>\n      <th>Haas F1 Team</th>\n      <td>6.0</td>\n      <td>6.0</td>\n      <td>0.0</td>\n      <td>0.0</td>\n      <td>0.0</td>\n      <td>0.0</td>\n      <td>0.0</td>\n      <td>0.0</td>\n      <td>0.0</td>\n      <td>0.0</td>\n      <td>0.0</td>\n      <td>0.0</td>\n      <td>1.0</td>\n      <td>0.0</td>\n      <td>0.0</td>\n      <td>1.0</td>\n      <td>1.0</td>\n      <td>0.0</td>\n      <td>0.0</td>\n    </tr>\n  </tbody>\n</table>\n</div>"
     },
     "execution_count": 67,
     "metadata": {},
     "output_type": "execute_result"
    }
   ],
   "source": [
    "results = test.pivot(index='constructorName', columns='race', values='points')\n",
    "results\n",
    "results['total_points'] = results.sum(axis=1)\n",
    "results = results.sort_values(by='total_points', ascending=False)\n",
    "results.drop(columns='total_points', inplace=True)\n",
    "\n",
    "# Use race name, instead of round no., as column names\n",
    "results.columns = races\n",
    "results"
   ],
   "metadata": {
    "collapsed": false,
    "ExecuteTime": {
     "end_time": "2023-11-04T09:02:23.797591Z",
     "start_time": "2023-11-04T09:02:23.750259400Z"
    }
   },
   "id": "f9da0759b7599e3"
  },
  {
   "cell_type": "code",
   "execution_count": 68,
   "outputs": [
    {
     "data": {
      "text/plain": "True"
     },
     "execution_count": 68,
     "metadata": {},
     "output_type": "execute_result"
    }
   ],
   "source": [
    "import plotly.express as px\n",
    "import webbrowser  # Import the webbrowser module to open the HTML file in the browser\n",
    "\n",
    "# Assuming 'results' is your data, replace it with your actual dat\n",
    "fig = px.imshow(\n",
    "    results,\n",
    "    text_auto=True,\n",
    "    aspect='auto',  # Automatically adjust the aspect ratio\n",
    "    color_continuous_scale=[[0,    'rgb(198, 219, 239)'],  # Blue scale\n",
    "                            [0.25, 'rgb(107, 174, 214)'],\n",
    "                            [0.5,  'rgb(33,  113, 181)'],\n",
    "                            [0.75, 'rgb(8,   81,  156)'],\n",
    "                            [1,    'rgb(8,   48,  107)']],\n",
    "    labels={'x': 'Race',\n",
    "            'y': 'Driver',\n",
    "            'color': 'Points'}       # Change hover texts\n",
    ")\n",
    "fig.update_xaxes(title_text='')      # Remove axis titles\n",
    "fig.update_yaxes(title_text='')\n",
    "fig.update_yaxes(tickmode='linear')  # Show all ticks, i.e. driver names\n",
    "fig.update_yaxes(showgrid=True, gridwidth=1, gridcolor='LightGrey',\n",
    "                 showline=False,\n",
    "                 tickson='boundaries')              # Show horizontal grid only\n",
    "fig.update_xaxes(showgrid=False, showline=False)    # And remove vertical grid\n",
    "fig.update_layout(plot_bgcolor='rgba(0,0,0,0)')     # White background\n",
    "fig.update_layout(coloraxis_showscale=False)        # Remove legend\n",
    "fig.update_layout(xaxis=dict(side='top'))           # x-axis on top\n",
    "fig.update_layout(margin=dict(l=0, r=0, b=0, t=0))  # Remove border margins\n",
    "fig.write_html('plot_teams.html')\n",
    "\n",
    "# Open the HTML file in the default web browser\n",
    "webbrowser.open('plot_teams.html')"
   ],
   "metadata": {
    "collapsed": false,
    "ExecuteTime": {
     "end_time": "2023-11-04T09:02:26.878629900Z",
     "start_time": "2023-11-04T09:02:26.482234Z"
    }
   },
   "id": "abc078818b6b7699"
  }
 ],
 "metadata": {
  "kernelspec": {
   "display_name": "Python 3",
   "language": "python",
   "name": "python3"
  },
  "language_info": {
   "codemirror_mode": {
    "name": "ipython",
    "version": 2
   },
   "file_extension": ".py",
   "mimetype": "text/x-python",
   "name": "python",
   "nbconvert_exporter": "python",
   "pygments_lexer": "ipython2",
   "version": "2.7.6"
  }
 },
 "nbformat": 4,
 "nbformat_minor": 5
}
