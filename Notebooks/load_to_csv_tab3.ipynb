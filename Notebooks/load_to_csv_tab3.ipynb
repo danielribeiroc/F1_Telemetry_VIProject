{
 "cells": [
  {
   "cell_type": "code",
   "execution_count": 8,
   "id": "initial_id",
   "metadata": {
    "collapsed": true,
    "ExecuteTime": {
     "end_time": "2023-12-19T09:01:40.193405400Z",
     "start_time": "2023-12-19T09:01:40.155401100Z"
    }
   },
   "outputs": [],
   "source": [
    "import pandas as pd\n",
    "from fastf1.ergast import Ergast\n",
    "import plotly.express as px\n",
    "from functions_tab3 import plot_standings_by_driver\n",
    "\n",
    "\n",
    "def plot_standings_by_driver(SEASON):\n",
    "    ergast = Ergast()\n",
    "    races = ergast.get_race_schedule(SEASON)  # Races in year 2022\n",
    "    results = []\n",
    "    for rnd, race in races['raceName'].items():\n",
    "        print(f\"Drivers : Race : {race}\")\n",
    "        # Get results. Note that we use the round no. + 1, because the round no.\n",
    "        # starts from one (1) instead of zero (0)\n",
    "        temp = ergast.get_race_results(season=SEASON, round=rnd + 1)\n",
    "        if len(temp.content) < 1:\n",
    "            break\n",
    "        else:\n",
    "            temp = temp.content[0]\n",
    "\n",
    "        # If there is a sprint, get the results as well\n",
    "        sprint = ergast.get_sprint_results(season=SEASON, round=rnd + 1)\n",
    "        if sprint.content and sprint.description['round'][0] == rnd + 1:\n",
    "            temp = pd.merge(temp, sprint.content[0], on='driverCode', how='left')\n",
    "            # Add sprint points and race points to get the total\n",
    "            temp['points'] = temp['points_x'] + temp['points_y']\n",
    "            temp.drop(columns=['points_x', 'points_y'], inplace=True)\n",
    "\n",
    "        # Add round no. and grand prix name\n",
    "        temp['round'] = rnd + 1\n",
    "        temp['race'] = race.removesuffix(' Grand Prix')\n",
    "        temp = temp[['round', 'race', 'driverCode', 'points']]  # Keep useful cols.\n",
    "        results.append(temp)\n",
    "\n",
    "    # Append all races into a single dataframe\n",
    "    results_df = pd.concat(results)\n",
    "    \n",
    "    # Save to CSV\n",
    "    csv_filename = f\"../data_tab_3/f1_standings_{SEASON}.csv\"\n",
    "    results_df.to_csv(csv_filename, index=False)\n",
    "    print(f\"Results saved to {csv_filename}\")\n",
    "\n",
    "    # Continue with the plotting\n",
    "    races = results_df['race'].drop_duplicates()\n",
    "    results_df = results_df.pivot(index='driverCode', columns='round', values='points')\n",
    "    # Rank the drivers by their total points\n",
    "    results_df['total_points'] = results_df.sum(axis=1)\n",
    "    results_df = results_df.sort_values(by='total_points', ascending=False)\n",
    "    results_df.drop(columns='total_points', inplace=True)\n",
    "\n",
    "    # Use race name, instead of round no., as column names\n",
    "    results_df.columns = races\n",
    "    fig = px.imshow(\n",
    "        results_df,\n",
    "        text_auto=True,\n",
    "        aspect='auto',  # Automatically adjust the aspect ratio\n",
    "        color_continuous_scale=[[0, 'rgb(198, 219, 239)'],  # Blue scale\n",
    "                                [0.25, 'rgb(107, 174, 214)'],\n",
    "                                [0.5, 'rgb(33,  113, 181)'],\n",
    "                                [0.75, 'rgb(8,   81,  156)'],\n",
    "                                [1, 'rgb(8,   48,  107)']],\n",
    "        labels={'x': 'Race', 'y': 'Driver', 'color': 'Points'}  # Change hover texts\n",
    "    )\n",
    "    fig.update_xaxes(title_text='')  # Remove axis titles\n",
    "    fig.update_yaxes(title_text='')\n",
    "    fig.update_yaxes(tickmode='linear')  # Show all ticks, i.e. driver names\n",
    "    fig.update_yaxes(showgrid=True, gridwidth=1, gridcolor='LightGrey',\n",
    "                     showline=False, tickson='boundaries')  # Show horizontal grid only\n",
    "    fig.update_xaxes(showgrid=False, showline=False)  # And remove vertical grid\n",
    "    fig.update_layout(plot_bgcolor='rgba(0,0,0,0)')  # White background\n",
    "    fig.update_layout(coloraxis_showscale=False)  # Remove legend\n",
    "    fig.update_layout(xaxis=dict(side='top'))  # x-axis on top\n",
    "    fig.update_layout(margin=dict(l=0, r=0, b=0, t=0))  # Remove border margins\n",
    "    return fig\n"
   ]
  },
  {
   "cell_type": "code",
   "execution_count": null,
   "outputs": [],
   "source": [
    "fig = plot_standings_by_driver(\"2023\")"
   ],
   "metadata": {
    "collapsed": false
   },
   "id": "e3bb92fe6337662f"
  },
  {
   "cell_type": "code",
   "execution_count": null,
   "outputs": [],
   "source": [
    "def extract_standings_by_teams_to_csv(Year):\n",
    "    ergast = Ergast()\n",
    "    races = ergast.get_race_schedule(Year)  # Races in the specified year\n",
    "    results = []\n",
    "    for rnd, race in races['raceName'].items():\n",
    "        print(\"Teams : Race name \", race)\n",
    "        temp = ergast.get_race_results(season=Year, round=rnd + 1)\n",
    "        if len(temp.content) < 1:\n",
    "            break\n",
    "        else:\n",
    "            temp = temp.content[0]\n",
    "\n",
    "        sprint = ergast.get_sprint_results(season=Year, round=rnd + 1)\n",
    "        if sprint.content and sprint.description['round'][0] == rnd + 1:\n",
    "            temp = pd.merge(temp, sprint.content[0], on='constructorName', how='left')\n",
    "            temp['points'] = temp['points_x'] + temp['points_y']\n",
    "            temp.drop(columns=['points_x', 'points_y'], inplace=True)\n",
    "\n",
    "        temp['round'] = rnd + 1\n",
    "        temp['race'] = race.removesuffix(' Grand Prix')\n",
    "        temp = temp[['round', 'race', 'constructorName', 'points']]\n",
    "        results.append(temp)\n",
    "    \n",
    "    results = pd.concat(results)\n",
    "    csv_filename = f\"../data_tab_3/f1_team_standings_{Year}.csv\"\n",
    "    results.to_csv(csv_filename, index=False)\n",
    "    print(f\"Team standings data for season {Year} saved to {csv_filename}\")\n"
   ],
   "metadata": {
    "collapsed": false
   },
   "id": "2912b086877298bb"
  },
  {
   "cell_type": "code",
   "execution_count": null,
   "outputs": [],
   "source": [
    "extract_standings_by_teams_to_csv(\"2019\")"
   ],
   "metadata": {
    "collapsed": false
   },
   "id": "7700b1b552538263"
  },
  {
   "cell_type": "code",
   "execution_count": null,
   "outputs": [],
   "source": [
    "extract_standings_by_teams_to_csv(\"2020\")"
   ],
   "metadata": {
    "collapsed": false
   },
   "id": "5935702b497e071f"
  },
  {
   "cell_type": "code",
   "execution_count": null,
   "outputs": [],
   "source": [
    "extract_standings_by_teams_to_csv(\"2021\")"
   ],
   "metadata": {
    "collapsed": false
   },
   "id": "654eddff800919fc"
  },
  {
   "cell_type": "code",
   "execution_count": null,
   "outputs": [],
   "source": [
    "extract_standings_by_teams_to_csv(\"2022\")"
   ],
   "metadata": {
    "collapsed": false
   },
   "id": "16250e1d48afb245"
  },
  {
   "cell_type": "code",
   "execution_count": null,
   "outputs": [],
   "source": [
    "extract_standings_by_teams_to_csv(\"2023\")"
   ],
   "metadata": {
    "collapsed": false
   },
   "id": "968439f28c55d251"
  },
  {
   "cell_type": "code",
   "execution_count": null,
   "outputs": [],
   "source": [
    "def plot_standings_by_teams_from_csv(Year):\n",
    "    csv_filepath = f\"../data_tab_3/f1_team_standings_{Year}.csv\"\n",
    "    \n",
    "    try:\n",
    "        results = pd.read_csv(csv_filepath)\n",
    "    except FileNotFoundError:\n",
    "        print(f\"CSV file for season {Year} not found in '../data_tab_3'.\")\n",
    "        return None\n",
    "\n",
    "    races = results['race'].drop_duplicates()\n",
    "    test = results.groupby([\"round\", \"race\", \"constructorName\"]).sum().reset_index()\n",
    "    results = test.pivot(index='constructorName', columns='race', values='points')\n",
    "    results['total_points'] = results.sum(axis=1)\n",
    "    results = results.sort_values(by='total_points', ascending=False)\n",
    "    results.drop(columns='total_points', inplace=True)\n",
    "\n",
    "    results.columns = races\n",
    "    fig = px.imshow(\n",
    "        results,\n",
    "        text_auto=True,\n",
    "        aspect='auto',\n",
    "        color_continuous_scale=[[0, 'rgb(198, 219, 239)'], [0.25, 'rgb(107, 174, 214)'],\n",
    "                                [0.5, 'rgb(33, 113, 181)'], [0.75, 'rgb(8, 81, 156)'],\n",
    "                                [1, 'rgb(8, 48, 107)']],\n",
    "        labels={'x': 'Race', 'y': 'Team', 'color': 'Points'}\n",
    "    )\n",
    "    fig.update_xaxes(title_text='').update_yaxes(title_text='').update_yaxes(tickmode='linear').update_yaxes(showgrid=True, gridwidth=1, gridcolor='LightGrey', showline=False, tickson='boundaries').update_xaxes(showgrid=False, showline=False).update_layout(plot_bgcolor='rgba(0,0,0,0)').update_layout(coloraxis_showscale=False).update_layout(xaxis=dict(side='top')).update_layout(margin=dict(l=0, r=0, b=0, t=0))\n",
    "    return fig\n"
   ],
   "metadata": {
    "collapsed": false
   },
   "id": "e5b11c5c8c3ce973"
  },
  {
   "cell_type": "code",
   "execution_count": null,
   "outputs": [],
   "source": [
    "plot_standings_by_teams_from_csv(\"2022\")"
   ],
   "metadata": {
    "collapsed": false
   },
   "id": "7ee4343151171ac4"
  }
 ],
 "metadata": {
  "kernelspec": {
   "display_name": "Python 3",
   "language": "python",
   "name": "python3"
  },
  "language_info": {
   "codemirror_mode": {
    "name": "ipython",
    "version": 2
   },
   "file_extension": ".py",
   "mimetype": "text/x-python",
   "name": "python",
   "nbconvert_exporter": "python",
   "pygments_lexer": "ipython2",
   "version": "2.7.6"
  }
 },
 "nbformat": 4,
 "nbformat_minor": 5
}
