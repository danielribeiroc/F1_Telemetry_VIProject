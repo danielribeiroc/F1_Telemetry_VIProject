{
 "cells": [
  {
   "cell_type": "code",
   "execution_count": 1,
   "id": "initial_id",
   "metadata": {
    "collapsed": true,
    "ExecuteTime": {
     "end_time": "2023-12-19T09:17:20.143951100Z",
     "start_time": "2023-12-19T09:17:18.641873400Z"
    }
   },
   "outputs": [],
   "source": [
    "import pandas as pd\n",
    "from fastf1.ergast import Ergast\n",
    "import plotly.express as px\n",
    "from functions_tab3 import plot_standings_by_driver\n",
    "\n",
    "\n",
    "def plot_standings_by_driver(SEASON):\n",
    "    ergast = Ergast()\n",
    "    races = ergast.get_race_schedule(SEASON)  # Races in year 2022\n",
    "    results = []\n",
    "    for rnd, race in races['raceName'].items():\n",
    "        print(f\"Drivers : Race : {race}\")\n",
    "        # Get results. Note that we use the round no. + 1, because the round no.\n",
    "        # starts from one (1) instead of zero (0)\n",
    "        temp = ergast.get_race_results(season=SEASON, round=rnd + 1)\n",
    "        if len(temp.content) < 1:\n",
    "            break\n",
    "        else:\n",
    "            temp = temp.content[0]\n",
    "\n",
    "        # If there is a sprint, get the results as well\n",
    "        sprint = ergast.get_sprint_results(season=SEASON, round=rnd + 1)\n",
    "        if sprint.content and sprint.description['round'][0] == rnd + 1:\n",
    "            temp = pd.merge(temp, sprint.content[0], on='driverCode', how='left')\n",
    "            # Add sprint points and race points to get the total\n",
    "            temp['points'] = temp['points_x'] + temp['points_y']\n",
    "            temp.drop(columns=['points_x', 'points_y'], inplace=True)\n",
    "\n",
    "        # Add round no. and grand prix name\n",
    "        temp['round'] = rnd + 1\n",
    "        temp['race'] = race.removesuffix(' Grand Prix')\n",
    "        temp = temp[['round', 'race', 'driverCode', 'points']]  # Keep useful cols.\n",
    "        results.append(temp)\n",
    "\n",
    "    # Append all races into a single dataframe\n",
    "    results_df = pd.concat(results)\n",
    "    \n",
    "    # Save to CSV\n",
    "    csv_filename = f\"../data_tab_3/f1_standings_{SEASON}.csv\"\n",
    "    results_df.to_csv(csv_filename, index=False)\n",
    "    print(f\"Results saved to {csv_filename}\")\n",
    "\n",
    "    # Continue with the plotting\n",
    "    races = results_df['race'].drop_duplicates()\n",
    "    results_df = results_df.pivot(index='driverCode', columns='round', values='points')\n",
    "    # Rank the drivers by their total points\n",
    "    results_df['total_points'] = results_df.sum(axis=1)\n",
    "    results_df = results_df.sort_values(by='total_points', ascending=False)\n",
    "    results_df.drop(columns='total_points', inplace=True)\n",
    "\n",
    "    # Use race name, instead of round no., as column names\n",
    "    results_df.columns = races\n",
    "    fig = px.imshow(\n",
    "        results_df,\n",
    "        text_auto=True,\n",
    "        aspect='auto',  # Automatically adjust the aspect ratio\n",
    "        color_continuous_scale=[[0, 'rgb(198, 219, 239)'],  # Blue scale\n",
    "                                [0.25, 'rgb(107, 174, 214)'],\n",
    "                                [0.5, 'rgb(33,  113, 181)'],\n",
    "                                [0.75, 'rgb(8,   81,  156)'],\n",
    "                                [1, 'rgb(8,   48,  107)']],\n",
    "        labels={'x': 'Race', 'y': 'Driver', 'color': 'Points'}  # Change hover texts\n",
    "    )\n",
    "    fig.update_xaxes(title_text='')  # Remove axis titles\n",
    "    fig.update_yaxes(title_text='')\n",
    "    fig.update_yaxes(tickmode='linear')  # Show all ticks, i.e. driver names\n",
    "    fig.update_yaxes(showgrid=True, gridwidth=1, gridcolor='LightGrey',\n",
    "                     showline=False, tickson='boundaries')  # Show horizontal grid only\n",
    "    fig.update_xaxes(showgrid=False, showline=False)  # And remove vertical grid\n",
    "    fig.update_layout(plot_bgcolor='rgba(0,0,0,0)')  # White background\n",
    "    fig.update_layout(coloraxis_showscale=False)  # Remove legend\n",
    "    fig.update_layout(xaxis=dict(side='top'))  # x-axis on top\n",
    "    fig.update_layout(margin=dict(l=0, r=0, b=0, t=0))  # Remove border margins\n",
    "    return fig\n"
   ]
  },
  {
   "cell_type": "code",
   "execution_count": 2,
   "outputs": [
    {
     "name": "stderr",
     "output_type": "stream",
     "text": [
      "req         WARNING \t\n",
      "\n",
      "DEFAULT CACHE ENABLED!\n",
      "\tCache directory: C:\\Users\\Ruben\\AppData\\Local\\Temp\\fastf1.\n",
      "\tSize: 24.0 KB\n"
     ]
    },
    {
     "name": "stdout",
     "output_type": "stream",
     "text": [
      "Drivers : Race : Bahrain Grand Prix\n",
      "Drivers : Race : Saudi Arabian Grand Prix\n",
      "Drivers : Race : Australian Grand Prix\n",
      "Drivers : Race : Azerbaijan Grand Prix\n",
      "Drivers : Race : Miami Grand Prix\n",
      "Drivers : Race : Monaco Grand Prix\n",
      "Drivers : Race : Spanish Grand Prix\n",
      "Drivers : Race : Canadian Grand Prix\n",
      "Drivers : Race : Austrian Grand Prix\n",
      "Drivers : Race : British Grand Prix\n",
      "Drivers : Race : Hungarian Grand Prix\n",
      "Drivers : Race : Belgian Grand Prix\n",
      "Drivers : Race : Dutch Grand Prix\n",
      "Drivers : Race : Italian Grand Prix\n",
      "Drivers : Race : Singapore Grand Prix\n",
      "Drivers : Race : Japanese Grand Prix\n",
      "Drivers : Race : Qatar Grand Prix\n",
      "Drivers : Race : United States Grand Prix\n",
      "Drivers : Race : Mexico City Grand Prix\n",
      "Drivers : Race : São Paulo Grand Prix\n",
      "Drivers : Race : Las Vegas Grand Prix\n",
      "Drivers : Race : Abu Dhabi Grand Prix\n",
      "Results saved to ../data_tab_3/f1_standings_2023.csv\n"
     ]
    }
   ],
   "source": [
    "fig = plot_standings_by_driver(\"2023\")"
   ],
   "metadata": {
    "collapsed": false,
    "ExecuteTime": {
     "end_time": "2023-12-19T09:17:29.025908300Z",
     "start_time": "2023-12-19T09:17:20.138953Z"
    }
   },
   "id": "e3bb92fe6337662f"
  },
  {
   "cell_type": "code",
   "execution_count": 3,
   "outputs": [],
   "source": [
    "def extract_standings_by_teams_to_csv(Year):\n",
    "    ergast = Ergast()\n",
    "    races = ergast.get_race_schedule(Year)  # Races in the specified year\n",
    "    results = []\n",
    "    for rnd, race in races['raceName'].items():\n",
    "        print(\"Teams : Race name \", race)\n",
    "        temp = ergast.get_race_results(season=Year, round=rnd + 1)\n",
    "        if len(temp.content) < 1:\n",
    "            break\n",
    "        else:\n",
    "            temp = temp.content[0]\n",
    "\n",
    "        sprint = ergast.get_sprint_results(season=Year, round=rnd + 1)\n",
    "        if sprint.content and sprint.description['round'][0] == rnd + 1:\n",
    "            temp = pd.merge(temp, sprint.content[0], on='constructorName', how='left')\n",
    "            temp['points'] = temp['points_x'] + temp['points_y']\n",
    "            temp.drop(columns=['points_x', 'points_y'], inplace=True)\n",
    "\n",
    "        temp['round'] = rnd + 1\n",
    "        temp['race'] = race.removesuffix(' Grand Prix')\n",
    "        temp = temp[['round', 'race', 'constructorName', 'points']]\n",
    "        results.append(temp)\n",
    "    \n",
    "    results = pd.concat(results)\n",
    "    csv_filename = f\"../data_tab_3/f1_team_standings_{Year}.csv\"\n",
    "    results.to_csv(csv_filename, index=False)\n",
    "    print(f\"Team standings data for season {Year} saved to {csv_filename}\")\n"
   ],
   "metadata": {
    "collapsed": false,
    "ExecuteTime": {
     "end_time": "2023-12-19T09:17:29.053905100Z",
     "start_time": "2023-12-19T09:17:29.025908300Z"
    }
   },
   "id": "2912b086877298bb"
  },
  {
   "cell_type": "code",
   "execution_count": 7,
   "outputs": [
    {
     "name": "stdout",
     "output_type": "stream",
     "text": [
      "Teams : Race name  Bahrain Grand Prix\n",
      "Teams : Race name  Saudi Arabian Grand Prix\n",
      "Teams : Race name  Australian Grand Prix\n",
      "Teams : Race name  Emilia Romagna Grand Prix\n",
      "Teams : Race name  Miami Grand Prix\n",
      "Teams : Race name  Spanish Grand Prix\n",
      "Teams : Race name  Monaco Grand Prix\n",
      "Teams : Race name  Azerbaijan Grand Prix\n",
      "Teams : Race name  Canadian Grand Prix\n",
      "Teams : Race name  British Grand Prix\n",
      "Teams : Race name  Austrian Grand Prix\n",
      "Teams : Race name  French Grand Prix\n",
      "Teams : Race name  Hungarian Grand Prix\n",
      "Teams : Race name  Belgian Grand Prix\n",
      "Teams : Race name  Dutch Grand Prix\n",
      "Teams : Race name  Italian Grand Prix\n"
     ]
    },
    {
     "ename": "RateLimitExceededError",
     "evalue": "ergast.com: 200 calls/h",
     "output_type": "error",
     "traceback": [
      "\u001B[1;31m---------------------------------------------------------------------------\u001B[0m",
      "\u001B[1;31mRateLimitExceededError\u001B[0m                    Traceback (most recent call last)",
      "Cell \u001B[1;32mIn[7], line 1\u001B[0m\n\u001B[1;32m----> 1\u001B[0m \u001B[43mextract_standings_by_teams_to_csv\u001B[49m\u001B[43m(\u001B[49m\u001B[38;5;124;43m\"\u001B[39;49m\u001B[38;5;124;43m2022\u001B[39;49m\u001B[38;5;124;43m\"\u001B[39;49m\u001B[43m)\u001B[49m\n",
      "Cell \u001B[1;32mIn[3], line 7\u001B[0m, in \u001B[0;36mextract_standings_by_teams_to_csv\u001B[1;34m(Year)\u001B[0m\n\u001B[0;32m      5\u001B[0m \u001B[38;5;28;01mfor\u001B[39;00m rnd, race \u001B[38;5;129;01min\u001B[39;00m races[\u001B[38;5;124m'\u001B[39m\u001B[38;5;124mraceName\u001B[39m\u001B[38;5;124m'\u001B[39m]\u001B[38;5;241m.\u001B[39mitems():\n\u001B[0;32m      6\u001B[0m     \u001B[38;5;28mprint\u001B[39m(\u001B[38;5;124m\"\u001B[39m\u001B[38;5;124mTeams : Race name \u001B[39m\u001B[38;5;124m\"\u001B[39m, race)\n\u001B[1;32m----> 7\u001B[0m     temp \u001B[38;5;241m=\u001B[39m \u001B[43mergast\u001B[49m\u001B[38;5;241;43m.\u001B[39;49m\u001B[43mget_race_results\u001B[49m\u001B[43m(\u001B[49m\u001B[43mseason\u001B[49m\u001B[38;5;241;43m=\u001B[39;49m\u001B[43mYear\u001B[49m\u001B[43m,\u001B[49m\u001B[43m \u001B[49m\u001B[38;5;28;43mround\u001B[39;49m\u001B[38;5;241;43m=\u001B[39;49m\u001B[43mrnd\u001B[49m\u001B[43m \u001B[49m\u001B[38;5;241;43m+\u001B[39;49m\u001B[43m \u001B[49m\u001B[38;5;241;43m1\u001B[39;49m\u001B[43m)\u001B[49m\n\u001B[0;32m      8\u001B[0m     \u001B[38;5;28;01mif\u001B[39;00m \u001B[38;5;28mlen\u001B[39m(temp\u001B[38;5;241m.\u001B[39mcontent) \u001B[38;5;241m<\u001B[39m \u001B[38;5;241m1\u001B[39m:\n\u001B[0;32m      9\u001B[0m         \u001B[38;5;28;01mbreak\u001B[39;00m\n",
      "File \u001B[1;32m~\\AppData\\Local\\Programs\\Python\\Python310\\lib\\site-packages\\fastf1\\ergast\\interface.py:1049\u001B[0m, in \u001B[0;36mErgast.get_race_results\u001B[1;34m(self, season, round, circuit, constructor, driver, grid_position, fastest_rank, status, result_type, auto_cast, limit, offset)\u001B[0m\n\u001B[0;32m   1010\u001B[0m \u001B[38;5;250m\u001B[39m\u001B[38;5;124;03m\"\"\"Get race results for one or multiple races.\u001B[39;00m\n\u001B[0;32m   1011\u001B[0m \n\u001B[0;32m   1012\u001B[0m \u001B[38;5;124;03mSee: https://ergast.com/mrd/methods/results/\u001B[39;00m\n\u001B[1;32m   (...)\u001B[0m\n\u001B[0;32m   1038\u001B[0m \u001B[38;5;124;03m    ``result_type`` parameter\u001B[39;00m\n\u001B[0;32m   1039\u001B[0m \u001B[38;5;124;03m\"\"\"\u001B[39;00m\n\u001B[0;32m   1040\u001B[0m selectors \u001B[38;5;241m=\u001B[39m {\u001B[38;5;124m'\u001B[39m\u001B[38;5;124mseason\u001B[39m\u001B[38;5;124m'\u001B[39m: season,\n\u001B[0;32m   1041\u001B[0m              \u001B[38;5;124m'\u001B[39m\u001B[38;5;124mround\u001B[39m\u001B[38;5;124m'\u001B[39m: \u001B[38;5;28mround\u001B[39m,\n\u001B[0;32m   1042\u001B[0m              \u001B[38;5;124m'\u001B[39m\u001B[38;5;124mcircuit\u001B[39m\u001B[38;5;124m'\u001B[39m: circuit,\n\u001B[1;32m   (...)\u001B[0m\n\u001B[0;32m   1046\u001B[0m              \u001B[38;5;124m'\u001B[39m\u001B[38;5;124mfastest_rank\u001B[39m\u001B[38;5;124m'\u001B[39m: fastest_rank,\n\u001B[0;32m   1047\u001B[0m              \u001B[38;5;124m'\u001B[39m\u001B[38;5;124mstatus\u001B[39m\u001B[38;5;124m'\u001B[39m: status}\n\u001B[1;32m-> 1049\u001B[0m \u001B[38;5;28;01mreturn\u001B[39;00m \u001B[38;5;28;43mself\u001B[39;49m\u001B[38;5;241;43m.\u001B[39;49m\u001B[43m_build_default_result\u001B[49m\u001B[43m(\u001B[49m\u001B[43mendpoint\u001B[49m\u001B[38;5;241;43m=\u001B[39;49m\u001B[38;5;124;43m'\u001B[39;49m\u001B[38;5;124;43mresults\u001B[39;49m\u001B[38;5;124;43m'\u001B[39;49m\u001B[43m,\u001B[49m\n\u001B[0;32m   1050\u001B[0m \u001B[43m                                  \u001B[49m\u001B[43mtable\u001B[49m\u001B[38;5;241;43m=\u001B[39;49m\u001B[38;5;124;43m'\u001B[39;49m\u001B[38;5;124;43mRaceTable\u001B[39;49m\u001B[38;5;124;43m'\u001B[39;49m\u001B[43m,\u001B[49m\n\u001B[0;32m   1051\u001B[0m \u001B[43m                                  \u001B[49m\u001B[43mcategory\u001B[49m\u001B[38;5;241;43m=\u001B[39;49m\u001B[43mAPI\u001B[49m\u001B[38;5;241;43m.\u001B[39;49m\u001B[43mRaces_RaceResults\u001B[49m\u001B[43m,\u001B[49m\n\u001B[0;32m   1052\u001B[0m \u001B[43m                                  \u001B[49m\u001B[43msubcategory\u001B[49m\u001B[38;5;241;43m=\u001B[39;49m\u001B[43mAPI\u001B[49m\u001B[38;5;241;43m.\u001B[39;49m\u001B[43mRaceResults\u001B[49m\u001B[43m,\u001B[49m\n\u001B[0;32m   1053\u001B[0m \u001B[43m                                  \u001B[49m\u001B[43mresult_type\u001B[49m\u001B[38;5;241;43m=\u001B[39;49m\u001B[43mresult_type\u001B[49m\u001B[43m,\u001B[49m\n\u001B[0;32m   1054\u001B[0m \u001B[43m                                  \u001B[49m\u001B[43mauto_cast\u001B[49m\u001B[38;5;241;43m=\u001B[39;49m\u001B[43mauto_cast\u001B[49m\u001B[43m,\u001B[49m\n\u001B[0;32m   1055\u001B[0m \u001B[43m                                  \u001B[49m\u001B[43mlimit\u001B[49m\u001B[38;5;241;43m=\u001B[39;49m\u001B[43mlimit\u001B[49m\u001B[43m,\u001B[49m\n\u001B[0;32m   1056\u001B[0m \u001B[43m                                  \u001B[49m\u001B[43moffset\u001B[49m\u001B[38;5;241;43m=\u001B[39;49m\u001B[43moffset\u001B[49m\u001B[43m,\u001B[49m\n\u001B[0;32m   1057\u001B[0m \u001B[43m                                  \u001B[49m\u001B[43mselectors\u001B[49m\u001B[38;5;241;43m=\u001B[39;49m\u001B[43mselectors\u001B[49m\u001B[43m)\u001B[49m\n",
      "File \u001B[1;32m~\\AppData\\Local\\Programs\\Python\\Python310\\lib\\site-packages\\fastf1\\ergast\\interface.py:585\u001B[0m, in \u001B[0;36mErgast._build_default_result\u001B[1;34m(self, selectors, result_type, auto_cast, limit, **kwargs)\u001B[0m\n\u001B[0;32m    582\u001B[0m \u001B[38;5;28;01mif\u001B[39;00m limit \u001B[38;5;129;01mis\u001B[39;00m \u001B[38;5;28;01mNone\u001B[39;00m:\n\u001B[0;32m    583\u001B[0m     limit \u001B[38;5;241m=\u001B[39m \u001B[38;5;28mself\u001B[39m\u001B[38;5;241m.\u001B[39m_limit\n\u001B[1;32m--> 585\u001B[0m \u001B[38;5;28;01mreturn\u001B[39;00m \u001B[38;5;28mself\u001B[39m\u001B[38;5;241m.\u001B[39m_build_result(\n\u001B[0;32m    586\u001B[0m     result_type\u001B[38;5;241m=\u001B[39mresult_type,\n\u001B[0;32m    587\u001B[0m     auto_cast\u001B[38;5;241m=\u001B[39mauto_cast,\n\u001B[0;32m    588\u001B[0m     limit\u001B[38;5;241m=\u001B[39mlimit,\n\u001B[0;32m    589\u001B[0m     selectors\u001B[38;5;241m=\u001B[39mselectors,\n\u001B[0;32m    590\u001B[0m     \u001B[38;5;241m*\u001B[39m\u001B[38;5;241m*\u001B[39mkwargs\n\u001B[0;32m    591\u001B[0m )\n",
      "File \u001B[1;32m~\\AppData\\Local\\Programs\\Python\\Python310\\lib\\site-packages\\fastf1\\ergast\\interface.py:524\u001B[0m, in \u001B[0;36mErgast._build_result\u001B[1;34m(cls, endpoint, table, category, subcategory, result_type, auto_cast, limit, offset, selectors)\u001B[0m\n\u001B[0;32m    521\u001B[0m params \u001B[38;5;241m=\u001B[39m {\u001B[38;5;124m'\u001B[39m\u001B[38;5;124mlimit\u001B[39m\u001B[38;5;124m'\u001B[39m: limit, \u001B[38;5;124m'\u001B[39m\u001B[38;5;124moffset\u001B[39m\u001B[38;5;124m'\u001B[39m: offset}\n\u001B[0;32m    523\u001B[0m \u001B[38;5;66;03m# get response and split it into individual parts\u001B[39;00m\n\u001B[1;32m--> 524\u001B[0m resp \u001B[38;5;241m=\u001B[39m \u001B[38;5;28;43mcls\u001B[39;49m\u001B[38;5;241;43m.\u001B[39;49m\u001B[43m_get\u001B[49m\u001B[43m(\u001B[49m\u001B[43murl\u001B[49m\u001B[43m,\u001B[49m\u001B[43m \u001B[49m\u001B[43mparams\u001B[49m\u001B[43m)\u001B[49m\n\u001B[0;32m    525\u001B[0m resp \u001B[38;5;241m=\u001B[39m resp[\u001B[38;5;124m'\u001B[39m\u001B[38;5;124mMRData\u001B[39m\u001B[38;5;124m'\u001B[39m]\n\u001B[0;32m    526\u001B[0m body \u001B[38;5;241m=\u001B[39m resp\u001B[38;5;241m.\u001B[39mpop(table)\n",
      "File \u001B[1;32m~\\AppData\\Local\\Programs\\Python\\Python310\\lib\\site-packages\\fastf1\\ergast\\interface.py:486\u001B[0m, in \u001B[0;36mErgast._get\u001B[1;34m(cls, url, params)\u001B[0m\n\u001B[0;32m    483\u001B[0m \u001B[38;5;129m@classmethod\u001B[39m\n\u001B[0;32m    484\u001B[0m \u001B[38;5;28;01mdef\u001B[39;00m \u001B[38;5;21m_get\u001B[39m(\u001B[38;5;28mcls\u001B[39m, url: \u001B[38;5;28mstr\u001B[39m, params: \u001B[38;5;28mdict\u001B[39m) \u001B[38;5;241m-\u001B[39m\u001B[38;5;241m>\u001B[39m Union[\u001B[38;5;28mdict\u001B[39m, \u001B[38;5;28mlist\u001B[39m]:\n\u001B[0;32m    485\u001B[0m     \u001B[38;5;66;03m# request data from ergast and load the returned json data.\u001B[39;00m\n\u001B[1;32m--> 486\u001B[0m     r \u001B[38;5;241m=\u001B[39m \u001B[43mCache\u001B[49m\u001B[38;5;241;43m.\u001B[39;49m\u001B[43mrequests_get\u001B[49m\u001B[43m(\u001B[49m\u001B[43murl\u001B[49m\u001B[43m,\u001B[49m\u001B[43m \u001B[49m\u001B[43mheaders\u001B[49m\u001B[38;5;241;43m=\u001B[39;49m\u001B[43mHEADERS\u001B[49m\u001B[43m,\u001B[49m\u001B[43m \u001B[49m\u001B[43mparams\u001B[49m\u001B[38;5;241;43m=\u001B[39;49m\u001B[43mparams\u001B[49m\u001B[43m)\u001B[49m\n\u001B[0;32m    487\u001B[0m     \u001B[38;5;28;01mif\u001B[39;00m r\u001B[38;5;241m.\u001B[39mstatus_code \u001B[38;5;241m==\u001B[39m \u001B[38;5;241m200\u001B[39m:\n\u001B[0;32m    488\u001B[0m         \u001B[38;5;28;01mtry\u001B[39;00m:\n",
      "File \u001B[1;32m~\\AppData\\Local\\Programs\\Python\\Python310\\lib\\site-packages\\fastf1\\req.py:282\u001B[0m, in \u001B[0;36mCache.requests_get\u001B[1;34m(cls, *args, **kwargs)\u001B[0m\n\u001B[0;32m    279\u001B[0m         \u001B[38;5;28;01mreturn\u001B[39;00m resp\n\u001B[0;32m    281\u001B[0m \u001B[38;5;28mcls\u001B[39m\u001B[38;5;241m.\u001B[39m_request_counter \u001B[38;5;241m+\u001B[39m\u001B[38;5;241m=\u001B[39m \u001B[38;5;241m1\u001B[39m\n\u001B[1;32m--> 282\u001B[0m \u001B[38;5;28;01mreturn\u001B[39;00m \u001B[38;5;28mcls\u001B[39m\u001B[38;5;241m.\u001B[39m_requests_session_cached\u001B[38;5;241m.\u001B[39mget(\u001B[38;5;241m*\u001B[39margs, \u001B[38;5;241m*\u001B[39m\u001B[38;5;241m*\u001B[39mkwargs)\n",
      "File \u001B[1;32m~\\AppData\\Local\\Programs\\Python\\Python310\\lib\\site-packages\\requests_cache\\session.py:102\u001B[0m, in \u001B[0;36mCacheMixin.get\u001B[1;34m(self, url, params, **kwargs)\u001B[0m\n\u001B[0;32m    100\u001B[0m \u001B[38;5;28;01mdef\u001B[39;00m \u001B[38;5;21mget\u001B[39m(\u001B[38;5;28mself\u001B[39m, url: \u001B[38;5;28mstr\u001B[39m, params\u001B[38;5;241m=\u001B[39m\u001B[38;5;28;01mNone\u001B[39;00m, \u001B[38;5;241m*\u001B[39m\u001B[38;5;241m*\u001B[39mkwargs) \u001B[38;5;241m-\u001B[39m\u001B[38;5;241m>\u001B[39m AnyResponse:  \u001B[38;5;66;03m# type: ignore\u001B[39;00m\n\u001B[0;32m    101\u001B[0m     kwargs\u001B[38;5;241m.\u001B[39msetdefault(\u001B[38;5;124m'\u001B[39m\u001B[38;5;124mallow_redirects\u001B[39m\u001B[38;5;124m'\u001B[39m, \u001B[38;5;28;01mTrue\u001B[39;00m)\n\u001B[1;32m--> 102\u001B[0m     \u001B[38;5;28;01mreturn\u001B[39;00m \u001B[38;5;28mself\u001B[39m\u001B[38;5;241m.\u001B[39mrequest(\u001B[38;5;124m'\u001B[39m\u001B[38;5;124mGET\u001B[39m\u001B[38;5;124m'\u001B[39m, url, params\u001B[38;5;241m=\u001B[39mparams, \u001B[38;5;241m*\u001B[39m\u001B[38;5;241m*\u001B[39mkwargs)\n",
      "File \u001B[1;32m~\\AppData\\Local\\Programs\\Python\\Python310\\lib\\site-packages\\requests_cache\\session.py:158\u001B[0m, in \u001B[0;36mCacheMixin.request\u001B[1;34m(self, method, url, headers, expire_after, only_if_cached, refresh, force_refresh, *args, **kwargs)\u001B[0m\n\u001B[0;32m    156\u001B[0m headers \u001B[38;5;241m=\u001B[39m set_request_headers(headers, expire_after, only_if_cached, refresh, force_refresh)\n\u001B[0;32m    157\u001B[0m \u001B[38;5;28;01mwith\u001B[39;00m patch_form_boundary() \u001B[38;5;28;01mif\u001B[39;00m kwargs\u001B[38;5;241m.\u001B[39mget(\u001B[38;5;124m'\u001B[39m\u001B[38;5;124mfiles\u001B[39m\u001B[38;5;124m'\u001B[39m) \u001B[38;5;28;01melse\u001B[39;00m nullcontext():\n\u001B[1;32m--> 158\u001B[0m     \u001B[38;5;28;01mreturn\u001B[39;00m \u001B[38;5;28msuper\u001B[39m()\u001B[38;5;241m.\u001B[39mrequest(method, url, \u001B[38;5;241m*\u001B[39margs, headers\u001B[38;5;241m=\u001B[39mheaders, \u001B[38;5;241m*\u001B[39m\u001B[38;5;241m*\u001B[39mkwargs)\n",
      "File \u001B[1;32m~\\AppData\\Local\\Programs\\Python\\Python310\\lib\\site-packages\\requests\\sessions.py:589\u001B[0m, in \u001B[0;36mSession.request\u001B[1;34m(self, method, url, params, data, headers, cookies, files, auth, timeout, allow_redirects, proxies, hooks, stream, verify, cert, json)\u001B[0m\n\u001B[0;32m    584\u001B[0m send_kwargs \u001B[38;5;241m=\u001B[39m {\n\u001B[0;32m    585\u001B[0m     \u001B[38;5;124m\"\u001B[39m\u001B[38;5;124mtimeout\u001B[39m\u001B[38;5;124m\"\u001B[39m: timeout,\n\u001B[0;32m    586\u001B[0m     \u001B[38;5;124m\"\u001B[39m\u001B[38;5;124mallow_redirects\u001B[39m\u001B[38;5;124m\"\u001B[39m: allow_redirects,\n\u001B[0;32m    587\u001B[0m }\n\u001B[0;32m    588\u001B[0m send_kwargs\u001B[38;5;241m.\u001B[39mupdate(settings)\n\u001B[1;32m--> 589\u001B[0m resp \u001B[38;5;241m=\u001B[39m \u001B[38;5;28mself\u001B[39m\u001B[38;5;241m.\u001B[39msend(prep, \u001B[38;5;241m*\u001B[39m\u001B[38;5;241m*\u001B[39msend_kwargs)\n\u001B[0;32m    591\u001B[0m \u001B[38;5;28;01mreturn\u001B[39;00m resp\n",
      "File \u001B[1;32m~\\AppData\\Local\\Programs\\Python\\Python310\\lib\\site-packages\\requests_cache\\session.py:205\u001B[0m, in \u001B[0;36mCacheMixin.send\u001B[1;34m(self, request, expire_after, only_if_cached, refresh, force_refresh, **kwargs)\u001B[0m\n\u001B[0;32m    203\u001B[0m     response \u001B[38;5;241m=\u001B[39m \u001B[38;5;28mself\u001B[39m\u001B[38;5;241m.\u001B[39m_resend(request, actions, cached_response, \u001B[38;5;241m*\u001B[39m\u001B[38;5;241m*\u001B[39mkwargs)  \u001B[38;5;66;03m# type: ignore\u001B[39;00m\n\u001B[0;32m    204\u001B[0m \u001B[38;5;28;01melif\u001B[39;00m actions\u001B[38;5;241m.\u001B[39msend_request:\n\u001B[1;32m--> 205\u001B[0m     response \u001B[38;5;241m=\u001B[39m \u001B[38;5;28mself\u001B[39m\u001B[38;5;241m.\u001B[39m_send_and_cache(request, actions, cached_response, \u001B[38;5;241m*\u001B[39m\u001B[38;5;241m*\u001B[39mkwargs)\n\u001B[0;32m    206\u001B[0m \u001B[38;5;28;01melse\u001B[39;00m:\n\u001B[0;32m    207\u001B[0m     response \u001B[38;5;241m=\u001B[39m cached_response  \u001B[38;5;66;03m# type: ignore  # Guaranteed to be non-None by this point\u001B[39;00m\n",
      "File \u001B[1;32m~\\AppData\\Local\\Programs\\Python\\Python310\\lib\\site-packages\\requests_cache\\session.py:229\u001B[0m, in \u001B[0;36mCacheMixin._send_and_cache\u001B[1;34m(self, request, actions, cached_response, **kwargs)\u001B[0m\n\u001B[0;32m    225\u001B[0m \u001B[38;5;250m\u001B[39m\u001B[38;5;124;03m\"\"\"Send a request and cache the response, unless disabled by settings or headers.\u001B[39;00m\n\u001B[0;32m    226\u001B[0m \u001B[38;5;124;03mIf applicable, also handle conditional requests.\u001B[39;00m\n\u001B[0;32m    227\u001B[0m \u001B[38;5;124;03m\"\"\"\u001B[39;00m\n\u001B[0;32m    228\u001B[0m request \u001B[38;5;241m=\u001B[39m actions\u001B[38;5;241m.\u001B[39mupdate_request(request)\n\u001B[1;32m--> 229\u001B[0m response \u001B[38;5;241m=\u001B[39m \u001B[38;5;28msuper\u001B[39m()\u001B[38;5;241m.\u001B[39msend(request, \u001B[38;5;241m*\u001B[39m\u001B[38;5;241m*\u001B[39mkwargs)\n\u001B[0;32m    230\u001B[0m actions\u001B[38;5;241m.\u001B[39mupdate_from_response(response)\n\u001B[0;32m    232\u001B[0m \u001B[38;5;28;01mif\u001B[39;00m \u001B[38;5;129;01mnot\u001B[39;00m actions\u001B[38;5;241m.\u001B[39mskip_write:\n",
      "File \u001B[1;32m~\\AppData\\Local\\Programs\\Python\\Python310\\lib\\site-packages\\fastf1\\req.py:122\u001B[0m, in \u001B[0;36m_SessionWithRateLimiting.send\u001B[1;34m(self, request, **kwargs)\u001B[0m\n\u001B[0;32m    119\u001B[0m     \u001B[38;5;28;01mif\u001B[39;00m pattern\u001B[38;5;241m.\u001B[39mmatch(request\u001B[38;5;241m.\u001B[39murl):\n\u001B[0;32m    120\u001B[0m         \u001B[38;5;28;01mfor\u001B[39;00m lim \u001B[38;5;129;01min\u001B[39;00m limiters:\n\u001B[0;32m    121\u001B[0m             \u001B[38;5;66;03m# apply all defined limiters\u001B[39;00m\n\u001B[1;32m--> 122\u001B[0m             \u001B[43mlim\u001B[49m\u001B[38;5;241;43m.\u001B[39;49m\u001B[43mlimit\u001B[49m\u001B[43m(\u001B[49m\u001B[43m)\u001B[49m\n\u001B[0;32m    124\u001B[0m \u001B[38;5;28;01mreturn\u001B[39;00m \u001B[38;5;28msuper\u001B[39m()\u001B[38;5;241m.\u001B[39msend(request, \u001B[38;5;241m*\u001B[39m\u001B[38;5;241m*\u001B[39mkwargs)\n",
      "File \u001B[1;32m~\\AppData\\Local\\Programs\\Python\\Python310\\lib\\site-packages\\fastf1\\req.py:99\u001B[0m, in \u001B[0;36m_CallsPerIntervalLimitRaise.limit\u001B[1;34m(self)\u001B[0m\n\u001B[0;32m     97\u001B[0m \u001B[38;5;28;01mif\u001B[39;00m \u001B[38;5;28mlen\u001B[39m(\u001B[38;5;28mself\u001B[39m\u001B[38;5;241m.\u001B[39m_timestamps) \u001B[38;5;241m==\u001B[39m \u001B[38;5;28mself\u001B[39m\u001B[38;5;241m.\u001B[39m_timestamps\u001B[38;5;241m.\u001B[39mmaxlen:\n\u001B[0;32m     98\u001B[0m     \u001B[38;5;28;01mif\u001B[39;00m \u001B[38;5;28mself\u001B[39m\u001B[38;5;241m.\u001B[39m_timestamps[\u001B[38;5;241m0\u001B[39m] \u001B[38;5;241m>\u001B[39m (time\u001B[38;5;241m.\u001B[39mtime() \u001B[38;5;241m-\u001B[39m \u001B[38;5;28mself\u001B[39m\u001B[38;5;241m.\u001B[39m_interval):\n\u001B[1;32m---> 99\u001B[0m         \u001B[38;5;28;01mraise\u001B[39;00m RateLimitExceededError(\u001B[38;5;28mself\u001B[39m\u001B[38;5;241m.\u001B[39m_info)\n",
      "\u001B[1;31mRateLimitExceededError\u001B[0m: ergast.com: 200 calls/h"
     ]
    }
   ],
   "source": [
    "extract_standings_by_teams_to_csv(\"2022\")"
   ],
   "metadata": {
    "collapsed": false,
    "ExecuteTime": {
     "end_time": "2023-12-19T09:19:21.235058700Z",
     "start_time": "2023-12-19T09:19:02.744320700Z"
    }
   },
   "id": "16250e1d48afb245"
  },
  {
   "cell_type": "code",
   "execution_count": null,
   "outputs": [],
   "source": [
    "extract_standings_by_teams_to_csv(\"2023\")"
   ],
   "metadata": {
    "collapsed": false,
    "ExecuteTime": {
     "start_time": "2023-12-19T09:19:21.232054800Z"
    }
   },
   "id": "968439f28c55d251"
  },
  {
   "cell_type": "code",
   "execution_count": null,
   "outputs": [],
   "source": [
    "def plot_standings_by_teams_from_csv(Year):\n",
    "    csv_filepath = f\"../data_tab_3/f1_team_standings_{Year}.csv\"\n",
    "    \n",
    "    try:\n",
    "        results = pd.read_csv(csv_filepath)\n",
    "    except FileNotFoundError:\n",
    "        print(f\"CSV file for season {Year} not found in '../data_tab_3'.\")\n",
    "        return None\n",
    "\n",
    "    races = results['race'].drop_duplicates()\n",
    "    test = results.groupby([\"round\", \"race\", \"constructorName\"]).sum().reset_index()\n",
    "    results = test.pivot(index='constructorName', columns='race', values='points')\n",
    "    results['total_points'] = results.sum(axis=1)\n",
    "    results = results.sort_values(by='total_points', ascending=False)\n",
    "    results.drop(columns='total_points', inplace=True)\n",
    "\n",
    "    results.columns = races\n",
    "    fig = px.imshow(\n",
    "        results,\n",
    "        text_auto=True,\n",
    "        aspect='auto',\n",
    "        color_continuous_scale=[[0, 'rgb(198, 219, 239)'], [0.25, 'rgb(107, 174, 214)'],\n",
    "                                [0.5, 'rgb(33, 113, 181)'], [0.75, 'rgb(8, 81, 156)'],\n",
    "                                [1, 'rgb(8, 48, 107)']],\n",
    "        labels={'x': 'Race', 'y': 'Team', 'color': 'Points'}\n",
    "    )\n",
    "    fig.update_xaxes(title_text='').update_yaxes(title_text='').update_yaxes(tickmode='linear').update_yaxes(showgrid=True, gridwidth=1, gridcolor='LightGrey', showline=False, tickson='boundaries').update_xaxes(showgrid=False, showline=False).update_layout(plot_bgcolor='rgba(0,0,0,0)').update_layout(coloraxis_showscale=False).update_layout(xaxis=dict(side='top')).update_layout(margin=dict(l=0, r=0, b=0, t=0))\n",
    "    return fig\n"
   ],
   "metadata": {
    "collapsed": false,
    "ExecuteTime": {
     "end_time": "2023-12-19T09:19:21.302054600Z",
     "start_time": "2023-12-19T09:19:21.236053100Z"
    }
   },
   "id": "e5b11c5c8c3ce973"
  },
  {
   "cell_type": "code",
   "execution_count": null,
   "outputs": [],
   "source": [
    "plot_standings_by_teams_from_csv(\"2022\")"
   ],
   "metadata": {
    "collapsed": false,
    "ExecuteTime": {
     "start_time": "2023-12-19T09:19:21.240059200Z"
    }
   },
   "id": "7ee4343151171ac4"
  }
 ],
 "metadata": {
  "kernelspec": {
   "display_name": "Python 3",
   "language": "python",
   "name": "python3"
  },
  "language_info": {
   "codemirror_mode": {
    "name": "ipython",
    "version": 2
   },
   "file_extension": ".py",
   "mimetype": "text/x-python",
   "name": "python",
   "nbconvert_exporter": "python",
   "pygments_lexer": "ipython2",
   "version": "2.7.6"
  }
 },
 "nbformat": 4,
 "nbformat_minor": 5
}
