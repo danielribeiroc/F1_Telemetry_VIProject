{
 "cells": [
  {
   "cell_type": "markdown",
   "source": [
    "# Getting Started with fastf1 - library"
   ],
   "metadata": {
    "collapsed": false
   }
  },
  {
   "cell_type": "code",
   "execution_count": 1,
   "outputs": [],
   "source": [
    "import fastf1\n",
    "from matplotlib import pyplot as plt\n",
    "import fastf1\n",
    "import fastf1.plotting\n",
    "\n",
    "fastf1.Cache.enable_cache(\"../cache\")"
   ],
   "metadata": {
    "collapsed": false,
    "pycharm": {
     "name": "#%%\n"
    },
    "ExecuteTime": {
     "end_time": "2023-11-21T13:39:16.238136200Z",
     "start_time": "2023-11-21T13:39:15.190474100Z"
    }
   }
  },
  {
   "cell_type": "markdown",
   "source": [
    "# Cut the lap times by session"
   ],
   "metadata": {
    "collapsed": false
   }
  },
  {
   "cell_type": "code",
   "execution_count": 2,
   "outputs": [],
   "source": [
    "import fastf1 as ff1\n",
    "import numpy as np\n",
    "import matplotlib as mpl\n",
    "\n",
    "from matplotlib import pyplot as plt\n",
    "from matplotlib.collections import LineCollection"
   ],
   "metadata": {
    "collapsed": false,
    "ExecuteTime": {
     "end_time": "2023-11-21T13:39:18.140714500Z",
     "start_time": "2023-11-21T13:39:18.128563500Z"
    }
   }
  },
  {
   "cell_type": "markdown",
   "source": [
    "# Race - Comparaison"
   ],
   "metadata": {
    "collapsed": false
   }
  },
  {
   "cell_type": "code",
   "execution_count": 32,
   "outputs": [
    {
     "data": {
      "text/plain": "    RoundNumber    Country        Location OfficialEventName  \\\n0             1    Bahrain          Sakhir                     \n1             2  Australia       Melbourne                     \n2             3   Malaysia    Kuala Lumpur                     \n3             4      China        Shanghai                     \n4             5      Spain        Montmeló                     \n5             6     Monaco     Monte-Carlo                     \n6             7     Turkey        Istanbul                     \n7             8     Canada        Montreal                     \n8             9      Spain        Valencia                     \n9            10         UK     Silverstone                     \n10           11    Germany      Hockenheim                     \n11           12    Hungary        Budapest                     \n12           13    Belgium             Spa                     \n13           14      Italy           Monza                     \n14           15  Singapore      Marina Bay                     \n15           16      Japan          Suzuka                     \n16           17      Korea  Yeongam County                     \n17           18     Brazil       São Paulo                     \n18           19        UAE       Abu Dhabi                     \n\n             EventDate              EventName   EventFormat    Session1  \\\n0  2010-03-14 12:00:00     Bahrain Grand Prix  conventional  Practice 1   \n1  2010-03-28 06:00:00  Australian Grand Prix  conventional  Practice 1   \n2  2010-04-04 08:00:00   Malaysian Grand Prix  conventional  Practice 1   \n3  2010-04-18 06:00:00     Chinese Grand Prix  conventional  Practice 1   \n4  2010-05-09 12:00:00     Spanish Grand Prix  conventional  Practice 1   \n5  2010-05-16 12:00:00      Monaco Grand Prix  conventional  Practice 1   \n6  2010-05-30 11:00:00     Turkish Grand Prix  conventional  Practice 1   \n7  2010-06-13 16:00:00    Canadian Grand Prix  conventional  Practice 1   \n8  2010-06-27 12:00:00    European Grand Prix  conventional  Practice 1   \n9  2010-07-11 12:00:00     British Grand Prix  conventional  Practice 1   \n10 2010-07-25 12:00:00      German Grand Prix  conventional  Practice 1   \n11 2010-08-01 12:00:00   Hungarian Grand Prix  conventional  Practice 1   \n12 2010-08-29 12:00:00     Belgian Grand Prix  conventional  Practice 1   \n13 2010-09-12 12:00:00     Italian Grand Prix  conventional  Practice 1   \n14 2010-09-26 12:00:00   Singapore Grand Prix  conventional  Practice 1   \n15 2010-10-10 06:00:00    Japanese Grand Prix  conventional  Practice 1   \n16 2010-10-24 05:00:00      Korean Grand Prix  conventional  Practice 1   \n17 2010-11-07 16:00:00   Brazilian Grand Prix  conventional  Practice 1   \n18 2010-11-14 13:00:00   Abu Dhabi Grand Prix  conventional  Practice 1   \n\n   Session1Date Session1DateUtc  ...    Session3 Session3Date Session3DateUtc  \\\n0          None      2010-03-12  ...  Practice 3         None      2010-03-13   \n1          None      2010-03-26  ...  Practice 3         None      2010-03-27   \n2          None      2010-04-02  ...  Practice 3         None      2010-04-03   \n3          None      2010-04-16  ...  Practice 3         None      2010-04-17   \n4          None      2010-05-07  ...  Practice 3         None      2010-05-08   \n5          None      2010-05-14  ...  Practice 3         None      2010-05-15   \n6          None      2010-05-28  ...  Practice 3         None      2010-05-29   \n7          None      2010-06-11  ...  Practice 3         None      2010-06-12   \n8          None      2010-06-25  ...  Practice 3         None      2010-06-26   \n9          None      2010-07-09  ...  Practice 3         None      2010-07-10   \n10         None      2010-07-23  ...  Practice 3         None      2010-07-24   \n11         None      2010-07-30  ...  Practice 3         None      2010-07-31   \n12         None      2010-08-27  ...  Practice 3         None      2010-08-28   \n13         None      2010-09-10  ...  Practice 3         None      2010-09-11   \n14         None      2010-09-24  ...  Practice 3         None      2010-09-25   \n15         None      2010-10-08  ...  Practice 3         None      2010-10-09   \n16         None      2010-10-22  ...  Practice 3         None      2010-10-23   \n17         None      2010-11-05  ...  Practice 3         None      2010-11-06   \n18         None      2010-11-12  ...  Practice 3         None      2010-11-13   \n\n      Session4 Session4Date Session4DateUtc Session5 Session5Date  \\\n0   Qualifying         None      2010-03-13     Race         None   \n1   Qualifying         None      2010-03-27     Race         None   \n2   Qualifying         None      2010-04-03     Race         None   \n3   Qualifying         None      2010-04-17     Race         None   \n4   Qualifying         None      2010-05-08     Race         None   \n5   Qualifying         None      2010-05-15     Race         None   \n6   Qualifying         None      2010-05-29     Race         None   \n7   Qualifying         None      2010-06-12     Race         None   \n8   Qualifying         None      2010-06-26     Race         None   \n9   Qualifying         None      2010-07-10     Race         None   \n10  Qualifying         None      2010-07-24     Race         None   \n11  Qualifying         None      2010-07-31     Race         None   \n12  Qualifying         None      2010-08-28     Race         None   \n13  Qualifying         None      2010-09-11     Race         None   \n14  Qualifying         None      2010-09-25     Race         None   \n15  Qualifying         None      2010-10-09     Race         None   \n16  Qualifying         None      2010-10-23     Race         None   \n17  Qualifying         None      2010-11-06     Race         None   \n18  Qualifying         None      2010-11-13     Race         None   \n\n       Session5DateUtc F1ApiSupport  \n0  2010-03-14 12:00:00        False  \n1  2010-03-28 06:00:00        False  \n2  2010-04-04 08:00:00        False  \n3  2010-04-18 06:00:00        False  \n4  2010-05-09 12:00:00        False  \n5  2010-05-16 12:00:00        False  \n6  2010-05-30 11:00:00        False  \n7  2010-06-13 16:00:00        False  \n8  2010-06-27 12:00:00        False  \n9  2010-07-11 12:00:00        False  \n10 2010-07-25 12:00:00        False  \n11 2010-08-01 12:00:00        False  \n12 2010-08-29 12:00:00        False  \n13 2010-09-12 12:00:00        False  \n14 2010-09-26 12:00:00        False  \n15 2010-10-10 06:00:00        False  \n16 2010-10-24 05:00:00        False  \n17 2010-11-07 16:00:00        False  \n18 2010-11-14 13:00:00        False  \n\n[19 rows x 23 columns]",
      "text/html": "<div>\n<style scoped>\n    .dataframe tbody tr th:only-of-type {\n        vertical-align: middle;\n    }\n\n    .dataframe tbody tr th {\n        vertical-align: top;\n    }\n\n    .dataframe thead th {\n        text-align: right;\n    }\n</style>\n<table border=\"1\" class=\"dataframe\">\n  <thead>\n    <tr style=\"text-align: right;\">\n      <th></th>\n      <th>RoundNumber</th>\n      <th>Country</th>\n      <th>Location</th>\n      <th>OfficialEventName</th>\n      <th>EventDate</th>\n      <th>EventName</th>\n      <th>EventFormat</th>\n      <th>Session1</th>\n      <th>Session1Date</th>\n      <th>Session1DateUtc</th>\n      <th>...</th>\n      <th>Session3</th>\n      <th>Session3Date</th>\n      <th>Session3DateUtc</th>\n      <th>Session4</th>\n      <th>Session4Date</th>\n      <th>Session4DateUtc</th>\n      <th>Session5</th>\n      <th>Session5Date</th>\n      <th>Session5DateUtc</th>\n      <th>F1ApiSupport</th>\n    </tr>\n  </thead>\n  <tbody>\n    <tr>\n      <th>0</th>\n      <td>1</td>\n      <td>Bahrain</td>\n      <td>Sakhir</td>\n      <td></td>\n      <td>2010-03-14 12:00:00</td>\n      <td>Bahrain Grand Prix</td>\n      <td>conventional</td>\n      <td>Practice 1</td>\n      <td>None</td>\n      <td>2010-03-12</td>\n      <td>...</td>\n      <td>Practice 3</td>\n      <td>None</td>\n      <td>2010-03-13</td>\n      <td>Qualifying</td>\n      <td>None</td>\n      <td>2010-03-13</td>\n      <td>Race</td>\n      <td>None</td>\n      <td>2010-03-14 12:00:00</td>\n      <td>False</td>\n    </tr>\n    <tr>\n      <th>1</th>\n      <td>2</td>\n      <td>Australia</td>\n      <td>Melbourne</td>\n      <td></td>\n      <td>2010-03-28 06:00:00</td>\n      <td>Australian Grand Prix</td>\n      <td>conventional</td>\n      <td>Practice 1</td>\n      <td>None</td>\n      <td>2010-03-26</td>\n      <td>...</td>\n      <td>Practice 3</td>\n      <td>None</td>\n      <td>2010-03-27</td>\n      <td>Qualifying</td>\n      <td>None</td>\n      <td>2010-03-27</td>\n      <td>Race</td>\n      <td>None</td>\n      <td>2010-03-28 06:00:00</td>\n      <td>False</td>\n    </tr>\n    <tr>\n      <th>2</th>\n      <td>3</td>\n      <td>Malaysia</td>\n      <td>Kuala Lumpur</td>\n      <td></td>\n      <td>2010-04-04 08:00:00</td>\n      <td>Malaysian Grand Prix</td>\n      <td>conventional</td>\n      <td>Practice 1</td>\n      <td>None</td>\n      <td>2010-04-02</td>\n      <td>...</td>\n      <td>Practice 3</td>\n      <td>None</td>\n      <td>2010-04-03</td>\n      <td>Qualifying</td>\n      <td>None</td>\n      <td>2010-04-03</td>\n      <td>Race</td>\n      <td>None</td>\n      <td>2010-04-04 08:00:00</td>\n      <td>False</td>\n    </tr>\n    <tr>\n      <th>3</th>\n      <td>4</td>\n      <td>China</td>\n      <td>Shanghai</td>\n      <td></td>\n      <td>2010-04-18 06:00:00</td>\n      <td>Chinese Grand Prix</td>\n      <td>conventional</td>\n      <td>Practice 1</td>\n      <td>None</td>\n      <td>2010-04-16</td>\n      <td>...</td>\n      <td>Practice 3</td>\n      <td>None</td>\n      <td>2010-04-17</td>\n      <td>Qualifying</td>\n      <td>None</td>\n      <td>2010-04-17</td>\n      <td>Race</td>\n      <td>None</td>\n      <td>2010-04-18 06:00:00</td>\n      <td>False</td>\n    </tr>\n    <tr>\n      <th>4</th>\n      <td>5</td>\n      <td>Spain</td>\n      <td>Montmeló</td>\n      <td></td>\n      <td>2010-05-09 12:00:00</td>\n      <td>Spanish Grand Prix</td>\n      <td>conventional</td>\n      <td>Practice 1</td>\n      <td>None</td>\n      <td>2010-05-07</td>\n      <td>...</td>\n      <td>Practice 3</td>\n      <td>None</td>\n      <td>2010-05-08</td>\n      <td>Qualifying</td>\n      <td>None</td>\n      <td>2010-05-08</td>\n      <td>Race</td>\n      <td>None</td>\n      <td>2010-05-09 12:00:00</td>\n      <td>False</td>\n    </tr>\n    <tr>\n      <th>5</th>\n      <td>6</td>\n      <td>Monaco</td>\n      <td>Monte-Carlo</td>\n      <td></td>\n      <td>2010-05-16 12:00:00</td>\n      <td>Monaco Grand Prix</td>\n      <td>conventional</td>\n      <td>Practice 1</td>\n      <td>None</td>\n      <td>2010-05-14</td>\n      <td>...</td>\n      <td>Practice 3</td>\n      <td>None</td>\n      <td>2010-05-15</td>\n      <td>Qualifying</td>\n      <td>None</td>\n      <td>2010-05-15</td>\n      <td>Race</td>\n      <td>None</td>\n      <td>2010-05-16 12:00:00</td>\n      <td>False</td>\n    </tr>\n    <tr>\n      <th>6</th>\n      <td>7</td>\n      <td>Turkey</td>\n      <td>Istanbul</td>\n      <td></td>\n      <td>2010-05-30 11:00:00</td>\n      <td>Turkish Grand Prix</td>\n      <td>conventional</td>\n      <td>Practice 1</td>\n      <td>None</td>\n      <td>2010-05-28</td>\n      <td>...</td>\n      <td>Practice 3</td>\n      <td>None</td>\n      <td>2010-05-29</td>\n      <td>Qualifying</td>\n      <td>None</td>\n      <td>2010-05-29</td>\n      <td>Race</td>\n      <td>None</td>\n      <td>2010-05-30 11:00:00</td>\n      <td>False</td>\n    </tr>\n    <tr>\n      <th>7</th>\n      <td>8</td>\n      <td>Canada</td>\n      <td>Montreal</td>\n      <td></td>\n      <td>2010-06-13 16:00:00</td>\n      <td>Canadian Grand Prix</td>\n      <td>conventional</td>\n      <td>Practice 1</td>\n      <td>None</td>\n      <td>2010-06-11</td>\n      <td>...</td>\n      <td>Practice 3</td>\n      <td>None</td>\n      <td>2010-06-12</td>\n      <td>Qualifying</td>\n      <td>None</td>\n      <td>2010-06-12</td>\n      <td>Race</td>\n      <td>None</td>\n      <td>2010-06-13 16:00:00</td>\n      <td>False</td>\n    </tr>\n    <tr>\n      <th>8</th>\n      <td>9</td>\n      <td>Spain</td>\n      <td>Valencia</td>\n      <td></td>\n      <td>2010-06-27 12:00:00</td>\n      <td>European Grand Prix</td>\n      <td>conventional</td>\n      <td>Practice 1</td>\n      <td>None</td>\n      <td>2010-06-25</td>\n      <td>...</td>\n      <td>Practice 3</td>\n      <td>None</td>\n      <td>2010-06-26</td>\n      <td>Qualifying</td>\n      <td>None</td>\n      <td>2010-06-26</td>\n      <td>Race</td>\n      <td>None</td>\n      <td>2010-06-27 12:00:00</td>\n      <td>False</td>\n    </tr>\n    <tr>\n      <th>9</th>\n      <td>10</td>\n      <td>UK</td>\n      <td>Silverstone</td>\n      <td></td>\n      <td>2010-07-11 12:00:00</td>\n      <td>British Grand Prix</td>\n      <td>conventional</td>\n      <td>Practice 1</td>\n      <td>None</td>\n      <td>2010-07-09</td>\n      <td>...</td>\n      <td>Practice 3</td>\n      <td>None</td>\n      <td>2010-07-10</td>\n      <td>Qualifying</td>\n      <td>None</td>\n      <td>2010-07-10</td>\n      <td>Race</td>\n      <td>None</td>\n      <td>2010-07-11 12:00:00</td>\n      <td>False</td>\n    </tr>\n    <tr>\n      <th>10</th>\n      <td>11</td>\n      <td>Germany</td>\n      <td>Hockenheim</td>\n      <td></td>\n      <td>2010-07-25 12:00:00</td>\n      <td>German Grand Prix</td>\n      <td>conventional</td>\n      <td>Practice 1</td>\n      <td>None</td>\n      <td>2010-07-23</td>\n      <td>...</td>\n      <td>Practice 3</td>\n      <td>None</td>\n      <td>2010-07-24</td>\n      <td>Qualifying</td>\n      <td>None</td>\n      <td>2010-07-24</td>\n      <td>Race</td>\n      <td>None</td>\n      <td>2010-07-25 12:00:00</td>\n      <td>False</td>\n    </tr>\n    <tr>\n      <th>11</th>\n      <td>12</td>\n      <td>Hungary</td>\n      <td>Budapest</td>\n      <td></td>\n      <td>2010-08-01 12:00:00</td>\n      <td>Hungarian Grand Prix</td>\n      <td>conventional</td>\n      <td>Practice 1</td>\n      <td>None</td>\n      <td>2010-07-30</td>\n      <td>...</td>\n      <td>Practice 3</td>\n      <td>None</td>\n      <td>2010-07-31</td>\n      <td>Qualifying</td>\n      <td>None</td>\n      <td>2010-07-31</td>\n      <td>Race</td>\n      <td>None</td>\n      <td>2010-08-01 12:00:00</td>\n      <td>False</td>\n    </tr>\n    <tr>\n      <th>12</th>\n      <td>13</td>\n      <td>Belgium</td>\n      <td>Spa</td>\n      <td></td>\n      <td>2010-08-29 12:00:00</td>\n      <td>Belgian Grand Prix</td>\n      <td>conventional</td>\n      <td>Practice 1</td>\n      <td>None</td>\n      <td>2010-08-27</td>\n      <td>...</td>\n      <td>Practice 3</td>\n      <td>None</td>\n      <td>2010-08-28</td>\n      <td>Qualifying</td>\n      <td>None</td>\n      <td>2010-08-28</td>\n      <td>Race</td>\n      <td>None</td>\n      <td>2010-08-29 12:00:00</td>\n      <td>False</td>\n    </tr>\n    <tr>\n      <th>13</th>\n      <td>14</td>\n      <td>Italy</td>\n      <td>Monza</td>\n      <td></td>\n      <td>2010-09-12 12:00:00</td>\n      <td>Italian Grand Prix</td>\n      <td>conventional</td>\n      <td>Practice 1</td>\n      <td>None</td>\n      <td>2010-09-10</td>\n      <td>...</td>\n      <td>Practice 3</td>\n      <td>None</td>\n      <td>2010-09-11</td>\n      <td>Qualifying</td>\n      <td>None</td>\n      <td>2010-09-11</td>\n      <td>Race</td>\n      <td>None</td>\n      <td>2010-09-12 12:00:00</td>\n      <td>False</td>\n    </tr>\n    <tr>\n      <th>14</th>\n      <td>15</td>\n      <td>Singapore</td>\n      <td>Marina Bay</td>\n      <td></td>\n      <td>2010-09-26 12:00:00</td>\n      <td>Singapore Grand Prix</td>\n      <td>conventional</td>\n      <td>Practice 1</td>\n      <td>None</td>\n      <td>2010-09-24</td>\n      <td>...</td>\n      <td>Practice 3</td>\n      <td>None</td>\n      <td>2010-09-25</td>\n      <td>Qualifying</td>\n      <td>None</td>\n      <td>2010-09-25</td>\n      <td>Race</td>\n      <td>None</td>\n      <td>2010-09-26 12:00:00</td>\n      <td>False</td>\n    </tr>\n    <tr>\n      <th>15</th>\n      <td>16</td>\n      <td>Japan</td>\n      <td>Suzuka</td>\n      <td></td>\n      <td>2010-10-10 06:00:00</td>\n      <td>Japanese Grand Prix</td>\n      <td>conventional</td>\n      <td>Practice 1</td>\n      <td>None</td>\n      <td>2010-10-08</td>\n      <td>...</td>\n      <td>Practice 3</td>\n      <td>None</td>\n      <td>2010-10-09</td>\n      <td>Qualifying</td>\n      <td>None</td>\n      <td>2010-10-09</td>\n      <td>Race</td>\n      <td>None</td>\n      <td>2010-10-10 06:00:00</td>\n      <td>False</td>\n    </tr>\n    <tr>\n      <th>16</th>\n      <td>17</td>\n      <td>Korea</td>\n      <td>Yeongam County</td>\n      <td></td>\n      <td>2010-10-24 05:00:00</td>\n      <td>Korean Grand Prix</td>\n      <td>conventional</td>\n      <td>Practice 1</td>\n      <td>None</td>\n      <td>2010-10-22</td>\n      <td>...</td>\n      <td>Practice 3</td>\n      <td>None</td>\n      <td>2010-10-23</td>\n      <td>Qualifying</td>\n      <td>None</td>\n      <td>2010-10-23</td>\n      <td>Race</td>\n      <td>None</td>\n      <td>2010-10-24 05:00:00</td>\n      <td>False</td>\n    </tr>\n    <tr>\n      <th>17</th>\n      <td>18</td>\n      <td>Brazil</td>\n      <td>São Paulo</td>\n      <td></td>\n      <td>2010-11-07 16:00:00</td>\n      <td>Brazilian Grand Prix</td>\n      <td>conventional</td>\n      <td>Practice 1</td>\n      <td>None</td>\n      <td>2010-11-05</td>\n      <td>...</td>\n      <td>Practice 3</td>\n      <td>None</td>\n      <td>2010-11-06</td>\n      <td>Qualifying</td>\n      <td>None</td>\n      <td>2010-11-06</td>\n      <td>Race</td>\n      <td>None</td>\n      <td>2010-11-07 16:00:00</td>\n      <td>False</td>\n    </tr>\n    <tr>\n      <th>18</th>\n      <td>19</td>\n      <td>UAE</td>\n      <td>Abu Dhabi</td>\n      <td></td>\n      <td>2010-11-14 13:00:00</td>\n      <td>Abu Dhabi Grand Prix</td>\n      <td>conventional</td>\n      <td>Practice 1</td>\n      <td>None</td>\n      <td>2010-11-12</td>\n      <td>...</td>\n      <td>Practice 3</td>\n      <td>None</td>\n      <td>2010-11-13</td>\n      <td>Qualifying</td>\n      <td>None</td>\n      <td>2010-11-13</td>\n      <td>Race</td>\n      <td>None</td>\n      <td>2010-11-14 13:00:00</td>\n      <td>False</td>\n    </tr>\n  </tbody>\n</table>\n<p>19 rows × 23 columns</p>\n</div>"
     },
     "execution_count": 32,
     "metadata": {},
     "output_type": "execute_result"
    }
   ],
   "source": [
    "event = ff1.get_event_schedule(2010)\n",
    "event"
   ],
   "metadata": {
    "collapsed": false,
    "ExecuteTime": {
     "end_time": "2023-11-21T14:01:22.705511400Z",
     "start_time": "2023-11-21T14:01:22.622837100Z"
    }
   }
  },
  {
   "cell_type": "code",
   "execution_count": 36,
   "outputs": [
    {
     "name": "stderr",
     "output_type": "stream",
     "text": [
      "core           INFO \tLoading data for Bahrain Grand Prix - Race [v3.1.3]\n",
      "req            INFO \tNo cached data found for session_info. Loading data...\n",
      "_api           INFO \tFetching session info data...\n"
     ]
    },
    {
     "name": "stdout",
     "output_type": "stream",
     "text": [
      "Event 2021 - 1\n"
     ]
    },
    {
     "name": "stderr",
     "output_type": "stream",
     "text": [
      "req            INFO \tData has been written to cache!\n",
      "req            INFO \tNo cached data found for driver_info. Loading data...\n",
      "_api           INFO \tFetching driver list...\n",
      "req            INFO \tData has been written to cache!\n",
      "Request for URL https://ergast.com/api/f1/2021/1/results.json failed; using cached response\n",
      "Traceback (most recent call last):\n",
      "  File \"C:\\Users\\ribei\\anaconda3\\envs\\F1_Telemetry_VIProject\\lib\\site-packages\\requests_cache\\session.py\", line 255, in _resend\n",
      "    response = self._send_and_cache(request, actions, cached_response, **kwargs)\n",
      "  File \"C:\\Users\\ribei\\anaconda3\\envs\\F1_Telemetry_VIProject\\lib\\site-packages\\requests_cache\\session.py\", line 229, in _send_and_cache\n",
      "    response = super().send(request, **kwargs)\n",
      "  File \"C:\\Users\\ribei\\anaconda3\\envs\\F1_Telemetry_VIProject\\lib\\site-packages\\fastf1\\req.py\", line 122, in send\n",
      "    lim.limit()\n",
      "  File \"C:\\Users\\ribei\\anaconda3\\envs\\F1_Telemetry_VIProject\\lib\\site-packages\\fastf1\\req.py\", line 99, in limit\n",
      "    raise RateLimitExceededError(self._info)\n",
      "fastf1.req.RateLimitExceededError: ergast.com: 200 calls/h\n",
      "req            INFO \tNo cached data found for session_status_data. Loading data...\n",
      "_api           INFO \tFetching session status data...\n",
      "req            INFO \tData has been written to cache!\n",
      "req            INFO \tNo cached data found for lap_count. Loading data...\n",
      "_api           INFO \tFetching lap count data...\n",
      "req            INFO \tData has been written to cache!\n",
      "req            INFO \tNo cached data found for track_status_data. Loading data...\n",
      "_api           INFO \tFetching track status data...\n",
      "req            INFO \tData has been written to cache!\n",
      "req            INFO \tNo cached data found for _extended_timing_data. Loading data...\n",
      "_api           INFO \tFetching timing data...\n",
      "_api           INFO \tParsing timing data...\n",
      "req            INFO \tData has been written to cache!\n",
      "req            INFO \tNo cached data found for timing_app_data. Loading data...\n",
      "_api           INFO \tFetching timing app data...\n",
      "req            INFO \tData has been written to cache!\n",
      "core           INFO \tProcessing timing data...\n",
      "logger      WARNING \tFailed to add first lap time from Ergast!\n",
      "req            INFO \tNo cached data found for car_data. Loading data...\n",
      "_api           INFO \tFetching car data...\n",
      "_api           INFO \tParsing car data...\n",
      "req            INFO \tData has been written to cache!\n",
      "req            INFO \tNo cached data found for position_data. Loading data...\n",
      "_api           INFO \tFetching position data...\n",
      "_api           INFO \tParsing position data...\n",
      "req            INFO \tData has been written to cache!\n",
      "req            INFO \tNo cached data found for weather_data. Loading data...\n",
      "_api           INFO \tFetching weather data...\n",
      "req            INFO \tData has been written to cache!\n",
      "req            INFO \tNo cached data found for race_control_messages. Loading data...\n",
      "_api           INFO \tFetching race control messages...\n",
      "req            INFO \tData has been written to cache!\n",
      "core           INFO \tFinished loading data for 20 drivers: ['44', '33', '77', '4', '11', '16', '3', '55', '22', '18', '7', '99', '31', '63', '5', '47', '10', '6', '14', '9']\n",
      "core           INFO \tLoading data for Emilia Romagna Grand Prix - Race [v3.1.3]\n",
      "req            INFO \tNo cached data found for session_info. Loading data...\n",
      "_api           INFO \tFetching session info data...\n"
     ]
    },
    {
     "name": "stdout",
     "output_type": "stream",
     "text": [
      "Event 2021 - 2\n"
     ]
    },
    {
     "name": "stderr",
     "output_type": "stream",
     "text": [
      "req            INFO \tData has been written to cache!\n",
      "req            INFO \tNo cached data found for driver_info. Loading data...\n",
      "_api           INFO \tFetching driver list...\n",
      "req            INFO \tData has been written to cache!\n",
      "Request for URL https://ergast.com/api/f1/2021/2/results.json failed; using cached response\n",
      "Traceback (most recent call last):\n",
      "  File \"C:\\Users\\ribei\\anaconda3\\envs\\F1_Telemetry_VIProject\\lib\\site-packages\\requests_cache\\session.py\", line 255, in _resend\n",
      "    response = self._send_and_cache(request, actions, cached_response, **kwargs)\n",
      "  File \"C:\\Users\\ribei\\anaconda3\\envs\\F1_Telemetry_VIProject\\lib\\site-packages\\requests_cache\\session.py\", line 229, in _send_and_cache\n",
      "    response = super().send(request, **kwargs)\n",
      "  File \"C:\\Users\\ribei\\anaconda3\\envs\\F1_Telemetry_VIProject\\lib\\site-packages\\fastf1\\req.py\", line 122, in send\n",
      "    lim.limit()\n",
      "  File \"C:\\Users\\ribei\\anaconda3\\envs\\F1_Telemetry_VIProject\\lib\\site-packages\\fastf1\\req.py\", line 99, in limit\n",
      "    raise RateLimitExceededError(self._info)\n",
      "fastf1.req.RateLimitExceededError: ergast.com: 200 calls/h\n",
      "req            INFO \tNo cached data found for session_status_data. Loading data...\n",
      "_api           INFO \tFetching session status data...\n",
      "req            INFO \tData has been written to cache!\n",
      "req            INFO \tNo cached data found for lap_count. Loading data...\n",
      "_api           INFO \tFetching lap count data...\n",
      "req            INFO \tData has been written to cache!\n",
      "req            INFO \tNo cached data found for track_status_data. Loading data...\n",
      "_api           INFO \tFetching track status data...\n",
      "req            INFO \tData has been written to cache!\n",
      "req            INFO \tNo cached data found for _extended_timing_data. Loading data...\n",
      "_api           INFO \tFetching timing data...\n",
      "_api           INFO \tParsing timing data...\n",
      "req            INFO \tData has been written to cache!\n",
      "req            INFO \tNo cached data found for timing_app_data. Loading data...\n",
      "_api           INFO \tFetching timing app data...\n",
      "req            INFO \tData has been written to cache!\n",
      "core           INFO \tProcessing timing data...\n",
      "logger      WARNING \tFailed to add first lap time from Ergast!\n",
      "req            INFO \tNo cached data found for car_data. Loading data...\n",
      "_api           INFO \tFetching car data...\n",
      "_api           INFO \tParsing car data...\n",
      "req            INFO \tData has been written to cache!\n",
      "req            INFO \tNo cached data found for position_data. Loading data...\n",
      "_api           INFO \tFetching position data...\n",
      "_api           INFO \tParsing position data...\n",
      "req            INFO \tData has been written to cache!\n",
      "req            INFO \tNo cached data found for weather_data. Loading data...\n",
      "_api           INFO \tFetching weather data...\n",
      "req            INFO \tData has been written to cache!\n",
      "req            INFO \tNo cached data found for race_control_messages. Loading data...\n",
      "_api           INFO \tFetching race control messages...\n",
      "req            INFO \tData has been written to cache!\n",
      "core           INFO \tFinished loading data for 20 drivers: ['33', '44', '4', '16', '55', '3', '10', '18', '31', '14', '11', '22', '7', '99', '5', '47', '9', '77', '63', '6']\n",
      "core           INFO \tLoading data for Portuguese Grand Prix - Race [v3.1.3]\n",
      "req            INFO \tNo cached data found for session_info. Loading data...\n",
      "_api           INFO \tFetching session info data...\n"
     ]
    },
    {
     "name": "stdout",
     "output_type": "stream",
     "text": [
      "Event 2021 - 3\n"
     ]
    },
    {
     "name": "stderr",
     "output_type": "stream",
     "text": [
      "req            INFO \tData has been written to cache!\n",
      "req            INFO \tNo cached data found for driver_info. Loading data...\n",
      "_api           INFO \tFetching driver list...\n",
      "req            INFO \tData has been written to cache!\n",
      "Request for URL https://ergast.com/api/f1/2021/3/results.json failed; using cached response\n",
      "Traceback (most recent call last):\n",
      "  File \"C:\\Users\\ribei\\anaconda3\\envs\\F1_Telemetry_VIProject\\lib\\site-packages\\requests_cache\\session.py\", line 255, in _resend\n",
      "    response = self._send_and_cache(request, actions, cached_response, **kwargs)\n",
      "  File \"C:\\Users\\ribei\\anaconda3\\envs\\F1_Telemetry_VIProject\\lib\\site-packages\\requests_cache\\session.py\", line 229, in _send_and_cache\n",
      "    response = super().send(request, **kwargs)\n",
      "  File \"C:\\Users\\ribei\\anaconda3\\envs\\F1_Telemetry_VIProject\\lib\\site-packages\\fastf1\\req.py\", line 122, in send\n",
      "    lim.limit()\n",
      "  File \"C:\\Users\\ribei\\anaconda3\\envs\\F1_Telemetry_VIProject\\lib\\site-packages\\fastf1\\req.py\", line 99, in limit\n",
      "    raise RateLimitExceededError(self._info)\n",
      "fastf1.req.RateLimitExceededError: ergast.com: 200 calls/h\n",
      "req            INFO \tNo cached data found for session_status_data. Loading data...\n",
      "_api           INFO \tFetching session status data...\n",
      "req            INFO \tData has been written to cache!\n",
      "req            INFO \tNo cached data found for lap_count. Loading data...\n",
      "_api           INFO \tFetching lap count data...\n",
      "req            INFO \tData has been written to cache!\n",
      "req            INFO \tNo cached data found for track_status_data. Loading data...\n",
      "_api           INFO \tFetching track status data...\n",
      "req            INFO \tData has been written to cache!\n",
      "req            INFO \tNo cached data found for _extended_timing_data. Loading data...\n",
      "_api           INFO \tFetching timing data...\n",
      "_api           INFO \tParsing timing data...\n",
      "_api        WARNING \tDriver 44: Ignoring late data for a previously processed lap.The data may contain errors (previous: 61; current 62)\n",
      "_api        WARNING \tSkipping lap alignment (no suitable lap)!\n",
      "req            INFO \tData has been written to cache!\n",
      "req            INFO \tNo cached data found for timing_app_data. Loading data...\n",
      "_api           INFO \tFetching timing app data...\n",
      "req            INFO \tData has been written to cache!\n",
      "core           INFO \tProcessing timing data...\n",
      "logger      WARNING \tFailed to add first lap time from Ergast!\n",
      "req            INFO \tNo cached data found for car_data. Loading data...\n",
      "_api           INFO \tFetching car data...\n",
      "_api           INFO \tParsing car data...\n",
      "req            INFO \tData has been written to cache!\n",
      "req            INFO \tNo cached data found for position_data. Loading data...\n",
      "_api           INFO \tFetching position data...\n",
      "_api           INFO \tParsing position data...\n",
      "_api        WARNING \tDriver 241: Position data is incomplete!\n",
      "_api        WARNING \tDriver 242: Position data is incomplete!\n",
      "_api        WARNING \tDriver 243: Position data is incomplete!\n",
      "req            INFO \tData has been written to cache!\n",
      "req            INFO \tNo cached data found for weather_data. Loading data...\n",
      "_api           INFO \tFetching weather data...\n",
      "req            INFO \tData has been written to cache!\n",
      "req            INFO \tNo cached data found for race_control_messages. Loading data...\n",
      "_api           INFO \tFetching race control messages...\n",
      "req            INFO \tData has been written to cache!\n",
      "core           INFO \tFinished loading data for 20 drivers: ['44', '33', '77', '11', '4', '16', '31', '14', '3', '10', '55', '99', '5', '18', '22', '63', '47', '6', '9', '7']\n",
      "core           INFO \tLoading data for Spanish Grand Prix - Race [v3.1.3]\n",
      "req            INFO \tNo cached data found for session_info. Loading data...\n",
      "_api           INFO \tFetching session info data...\n"
     ]
    },
    {
     "name": "stdout",
     "output_type": "stream",
     "text": [
      "Event 2021 - 4\n"
     ]
    },
    {
     "name": "stderr",
     "output_type": "stream",
     "text": [
      "req            INFO \tData has been written to cache!\n",
      "req            INFO \tNo cached data found for driver_info. Loading data...\n",
      "_api           INFO \tFetching driver list...\n",
      "req            INFO \tData has been written to cache!\n",
      "Request for URL https://ergast.com/api/f1/2021/4/results.json failed; using cached response\n",
      "Traceback (most recent call last):\n",
      "  File \"C:\\Users\\ribei\\anaconda3\\envs\\F1_Telemetry_VIProject\\lib\\site-packages\\requests_cache\\session.py\", line 255, in _resend\n",
      "    response = self._send_and_cache(request, actions, cached_response, **kwargs)\n",
      "  File \"C:\\Users\\ribei\\anaconda3\\envs\\F1_Telemetry_VIProject\\lib\\site-packages\\requests_cache\\session.py\", line 229, in _send_and_cache\n",
      "    response = super().send(request, **kwargs)\n",
      "  File \"C:\\Users\\ribei\\anaconda3\\envs\\F1_Telemetry_VIProject\\lib\\site-packages\\fastf1\\req.py\", line 122, in send\n",
      "    lim.limit()\n",
      "  File \"C:\\Users\\ribei\\anaconda3\\envs\\F1_Telemetry_VIProject\\lib\\site-packages\\fastf1\\req.py\", line 99, in limit\n",
      "    raise RateLimitExceededError(self._info)\n",
      "fastf1.req.RateLimitExceededError: ergast.com: 200 calls/h\n",
      "req            INFO \tNo cached data found for session_status_data. Loading data...\n",
      "_api           INFO \tFetching session status data...\n",
      "req            INFO \tData has been written to cache!\n",
      "req            INFO \tNo cached data found for lap_count. Loading data...\n",
      "_api           INFO \tFetching lap count data...\n",
      "req            INFO \tData has been written to cache!\n",
      "req            INFO \tNo cached data found for track_status_data. Loading data...\n",
      "_api           INFO \tFetching track status data...\n",
      "req            INFO \tData has been written to cache!\n",
      "req            INFO \tNo cached data found for _extended_timing_data. Loading data...\n",
      "_api           INFO \tFetching timing data...\n",
      "_api           INFO \tParsing timing data...\n",
      "_api        WARNING \tDriver 55: Ignoring late data for a previously processed lap.The data may contain errors (previous: 28; current 29)\n",
      "_api        WARNING \tDriver 22: Ignoring late data for a previously processed lap.The data may contain errors (previous: 2; current 3)\n",
      "req            INFO \tData has been written to cache!\n",
      "req            INFO \tNo cached data found for timing_app_data. Loading data...\n",
      "_api           INFO \tFetching timing app data...\n",
      "req            INFO \tData has been written to cache!\n",
      "core           INFO \tProcessing timing data...\n",
      "logger      WARNING \tFailed to add first lap time from Ergast!\n",
      "req            INFO \tNo cached data found for car_data. Loading data...\n",
      "_api           INFO \tFetching car data...\n",
      "_api           INFO \tParsing car data...\n",
      "req            INFO \tData has been written to cache!\n",
      "req            INFO \tNo cached data found for position_data. Loading data...\n",
      "_api           INFO \tFetching position data...\n",
      "_api           INFO \tParsing position data...\n",
      "_api        WARNING \tDriver 241: Position data is incomplete!\n",
      "_api        WARNING \tDriver 242: Position data is incomplete!\n",
      "_api        WARNING \tDriver 243: Position data is incomplete!\n",
      "req            INFO \tData has been written to cache!\n",
      "req            INFO \tNo cached data found for weather_data. Loading data...\n",
      "_api           INFO \tFetching weather data...\n",
      "req            INFO \tData has been written to cache!\n",
      "req            INFO \tNo cached data found for race_control_messages. Loading data...\n",
      "_api           INFO \tFetching race control messages...\n",
      "req            INFO \tData has been written to cache!\n",
      "core           INFO \tFinished loading data for 20 drivers: ['44', '33', '77', '16', '11', '3', '55', '4', '31', '10', '18', '7', '5', '63', '99', '6', '14', '47', '9', '22']\n",
      "core           INFO \tLoading data for Monaco Grand Prix - Race [v3.1.3]\n",
      "req            INFO \tNo cached data found for session_info. Loading data...\n",
      "_api           INFO \tFetching session info data...\n"
     ]
    },
    {
     "name": "stdout",
     "output_type": "stream",
     "text": [
      "Event 2021 - 5\n"
     ]
    },
    {
     "name": "stderr",
     "output_type": "stream",
     "text": [
      "req            INFO \tData has been written to cache!\n",
      "req            INFO \tNo cached data found for driver_info. Loading data...\n",
      "_api           INFO \tFetching driver list...\n",
      "req            INFO \tData has been written to cache!\n",
      "Request for URL https://ergast.com/api/f1/2021/5/results.json failed; using cached response\n",
      "Traceback (most recent call last):\n",
      "  File \"C:\\Users\\ribei\\anaconda3\\envs\\F1_Telemetry_VIProject\\lib\\site-packages\\requests_cache\\session.py\", line 255, in _resend\n",
      "    response = self._send_and_cache(request, actions, cached_response, **kwargs)\n",
      "  File \"C:\\Users\\ribei\\anaconda3\\envs\\F1_Telemetry_VIProject\\lib\\site-packages\\requests_cache\\session.py\", line 229, in _send_and_cache\n",
      "    response = super().send(request, **kwargs)\n",
      "  File \"C:\\Users\\ribei\\anaconda3\\envs\\F1_Telemetry_VIProject\\lib\\site-packages\\fastf1\\req.py\", line 122, in send\n",
      "    lim.limit()\n",
      "  File \"C:\\Users\\ribei\\anaconda3\\envs\\F1_Telemetry_VIProject\\lib\\site-packages\\fastf1\\req.py\", line 99, in limit\n",
      "    raise RateLimitExceededError(self._info)\n",
      "fastf1.req.RateLimitExceededError: ergast.com: 200 calls/h\n",
      "req            INFO \tNo cached data found for session_status_data. Loading data...\n",
      "_api           INFO \tFetching session status data...\n",
      "req            INFO \tData has been written to cache!\n",
      "req            INFO \tNo cached data found for lap_count. Loading data...\n",
      "_api           INFO \tFetching lap count data...\n",
      "req            INFO \tData has been written to cache!\n",
      "req            INFO \tNo cached data found for track_status_data. Loading data...\n",
      "_api           INFO \tFetching track status data...\n",
      "req            INFO \tData has been written to cache!\n",
      "req            INFO \tNo cached data found for _extended_timing_data. Loading data...\n",
      "_api           INFO \tFetching timing data...\n",
      "_api           INFO \tParsing timing data...\n",
      "req            INFO \tData has been written to cache!\n",
      "req            INFO \tNo cached data found for timing_app_data. Loading data...\n",
      "_api           INFO \tFetching timing app data...\n",
      "req            INFO \tData has been written to cache!\n",
      "core           INFO \tProcessing timing data...\n",
      "logger      WARNING \tFailed to add first lap time from Ergast!\n",
      "req            INFO \tNo cached data found for car_data. Loading data...\n",
      "_api           INFO \tFetching car data...\n",
      "_api           INFO \tParsing car data...\n",
      "req            INFO \tData has been written to cache!\n",
      "req            INFO \tNo cached data found for position_data. Loading data...\n",
      "_api           INFO \tFetching position data...\n",
      "_api           INFO \tParsing position data...\n",
      "req            INFO \tData has been written to cache!\n",
      "req            INFO \tNo cached data found for weather_data. Loading data...\n",
      "_api           INFO \tFetching weather data...\n",
      "req            INFO \tData has been written to cache!\n",
      "req            INFO \tNo cached data found for race_control_messages. Loading data...\n",
      "_api           INFO \tFetching race control messages...\n",
      "req            INFO \tData has been written to cache!\n",
      "core           INFO \tFinished loading data for 20 drivers: ['33', '55', '4', '11', '5', '10', '44', '18', '31', '99', '7', '3', '14', '63', '6', '22', '9', '47', '77', '16']\n",
      "core           INFO \tLoading data for Azerbaijan Grand Prix - Race [v3.1.3]\n",
      "req            INFO \tNo cached data found for session_info. Loading data...\n",
      "_api           INFO \tFetching session info data...\n"
     ]
    },
    {
     "name": "stdout",
     "output_type": "stream",
     "text": [
      "Event 2021 - 6\n"
     ]
    },
    {
     "name": "stderr",
     "output_type": "stream",
     "text": [
      "req            INFO \tData has been written to cache!\n",
      "req            INFO \tNo cached data found for driver_info. Loading data...\n",
      "_api           INFO \tFetching driver list...\n",
      "req            INFO \tData has been written to cache!\n",
      "Request for URL https://ergast.com/api/f1/2021/6/results.json failed; using cached response\n",
      "Traceback (most recent call last):\n",
      "  File \"C:\\Users\\ribei\\anaconda3\\envs\\F1_Telemetry_VIProject\\lib\\site-packages\\requests_cache\\session.py\", line 255, in _resend\n",
      "    response = self._send_and_cache(request, actions, cached_response, **kwargs)\n",
      "  File \"C:\\Users\\ribei\\anaconda3\\envs\\F1_Telemetry_VIProject\\lib\\site-packages\\requests_cache\\session.py\", line 229, in _send_and_cache\n",
      "    response = super().send(request, **kwargs)\n",
      "  File \"C:\\Users\\ribei\\anaconda3\\envs\\F1_Telemetry_VIProject\\lib\\site-packages\\fastf1\\req.py\", line 122, in send\n",
      "    lim.limit()\n",
      "  File \"C:\\Users\\ribei\\anaconda3\\envs\\F1_Telemetry_VIProject\\lib\\site-packages\\fastf1\\req.py\", line 99, in limit\n",
      "    raise RateLimitExceededError(self._info)\n",
      "fastf1.req.RateLimitExceededError: ergast.com: 200 calls/h\n",
      "req            INFO \tNo cached data found for session_status_data. Loading data...\n",
      "_api           INFO \tFetching session status data...\n",
      "req            INFO \tData has been written to cache!\n",
      "req            INFO \tNo cached data found for lap_count. Loading data...\n",
      "_api           INFO \tFetching lap count data...\n",
      "req            INFO \tData has been written to cache!\n",
      "req            INFO \tNo cached data found for track_status_data. Loading data...\n",
      "_api           INFO \tFetching track status data...\n",
      "req            INFO \tData has been written to cache!\n",
      "req            INFO \tNo cached data found for _extended_timing_data. Loading data...\n",
      "_api           INFO \tFetching timing data...\n",
      "_api           INFO \tParsing timing data...\n",
      "_api        WARNING \tDriver 47: Ignoring late data for a previously processed lap.The data may contain errors (previous: 42; current 43)\n",
      "_api        WARNING \tSkipping lap alignment (no suitable lap)!\n",
      "req            INFO \tData has been written to cache!\n",
      "req            INFO \tNo cached data found for timing_app_data. Loading data...\n",
      "_api           INFO \tFetching timing app data...\n",
      "req            INFO \tData has been written to cache!\n",
      "core           INFO \tProcessing timing data...\n",
      "logger      WARNING \tFailed to add first lap time from Ergast!\n",
      "req            INFO \tNo cached data found for car_data. Loading data...\n",
      "_api           INFO \tFetching car data...\n",
      "_api           INFO \tParsing car data...\n",
      "req            INFO \tData has been written to cache!\n",
      "req            INFO \tNo cached data found for position_data. Loading data...\n",
      "_api           INFO \tFetching position data...\n",
      "_api           INFO \tParsing position data...\n",
      "\n",
      "KeyboardInterrupt\n",
      "\n"
     ]
    }
   ],
   "source": [
    "\n",
    "event = ff1.get_event_schedule(2021)\n",
    "for j in range(len(event)):\n",
    "    print(f\"Event {2021} - {j+1}\")\n",
    "    year = 2010\n",
    "    wknd = 1\n",
    "    ses = 'R'\n",
    "    driver1 = 'MSC'\n",
    "    driver2 = 'MON'\n",
    "    colormap = mpl.cm.plasma\n",
    "    \n",
    "    session = ff1.get_session(2021, j+1, ses)\n",
    "    try:\n",
    "        session.load()\n",
    "    except Exception as e:\n",
    "        print(f\"Error during loading: {e}\")\n",
    "        # Handle the exception or re-raise\n"
   ],
   "metadata": {
    "collapsed": false,
    "ExecuteTime": {
     "end_time": "2023-11-21T14:28:55.204457600Z",
     "start_time": "2023-11-21T14:26:27.200532400Z"
    }
   }
  },
  {
   "cell_type": "code",
   "execution_count": 6,
   "outputs": [
    {
     "name": "stderr",
     "output_type": "stream",
     "text": [
      "core           INFO \tLoading data for Australian Grand Prix - Race [v3.1.3]\n",
      "req            INFO \tNo cached data found for session_info. Loading data...\n",
      "_api           INFO \tFetching session info data...\n",
      "logger      WARNING \tFailed to load session info data!\n",
      "core        WARNING \tCannot load laps, telemetry, weather, and message data because the relevant API is not supported for this session.\n",
      "core           INFO \tFinished loading data for 20 drivers: ['1', '2', '8', '4', '3', '9', '7', '5', '10', '11', '15', '16', '17', '19', '12', '18', '20', '14', '21', '6']\n"
     ]
    },
    {
     "ename": "DataNotLoadedError",
     "evalue": "The data you are trying to access has not been loaded yet. See `Session.load`",
     "output_type": "error",
     "traceback": [
      "\u001B[1;31m---------------------------------------------------------------------------\u001B[0m",
      "\u001B[1;31mDataNotLoadedError\u001B[0m                        Traceback (most recent call last)",
      "Cell \u001B[1;32mIn[6], line 15\u001B[0m\n\u001B[0;32m     10\u001B[0m weekend \u001B[38;5;241m=\u001B[39m session\u001B[38;5;241m.\u001B[39mevent\n\u001B[0;32m     14\u001B[0m \u001B[38;5;66;03m# Get telemetry data for both drivers\u001B[39;00m\n\u001B[1;32m---> 15\u001B[0m lap_driver1 \u001B[38;5;241m=\u001B[39m \u001B[43msession\u001B[49m\u001B[38;5;241;43m.\u001B[39;49m\u001B[43mlaps\u001B[49m\u001B[38;5;241m.\u001B[39mpick_driver(driver1)\u001B[38;5;241m.\u001B[39mpick_fastest()\n\u001B[0;32m     16\u001B[0m lap_driver2 \u001B[38;5;241m=\u001B[39m session\u001B[38;5;241m.\u001B[39mlaps\u001B[38;5;241m.\u001B[39mpick_driver(driver2)\u001B[38;5;241m.\u001B[39mpick_fastest()\n\u001B[0;32m     18\u001B[0m \u001B[38;5;66;03m# Calculate lap times for both drivers\u001B[39;00m\n",
      "File \u001B[1;32m~\\anaconda3\\envs\\F1_Telemetry_VIProject\\lib\\site-packages\\fastf1\\core.py:1105\u001B[0m, in \u001B[0;36mSession.laps\u001B[1;34m(self)\u001B[0m\n\u001B[0;32m   1099\u001B[0m \u001B[38;5;129m@property\u001B[39m\n\u001B[0;32m   1100\u001B[0m \u001B[38;5;28;01mdef\u001B[39;00m \u001B[38;5;21mlaps\u001B[39m(\u001B[38;5;28mself\u001B[39m) \u001B[38;5;241m-\u001B[39m\u001B[38;5;241m>\u001B[39m \u001B[38;5;124m\"\u001B[39m\u001B[38;5;124mLaps\u001B[39m\u001B[38;5;124m\"\u001B[39m:\n\u001B[0;32m   1101\u001B[0m \u001B[38;5;250m    \u001B[39m\u001B[38;5;124;03m\"\"\":class:`Laps`: All laps from all drivers driven in this session.\u001B[39;00m\n\u001B[0;32m   1102\u001B[0m \n\u001B[0;32m   1103\u001B[0m \u001B[38;5;124;03m    Data is available after calling `Session.load` with ``laps=True``\u001B[39;00m\n\u001B[0;32m   1104\u001B[0m \u001B[38;5;124;03m    \"\"\"\u001B[39;00m\n\u001B[1;32m-> 1105\u001B[0m     \u001B[38;5;28;01mreturn\u001B[39;00m \u001B[38;5;28;43mself\u001B[39;49m\u001B[38;5;241;43m.\u001B[39;49m\u001B[43m_get_property_warn_not_loaded\u001B[49m\u001B[43m(\u001B[49m\u001B[38;5;124;43m'\u001B[39;49m\u001B[38;5;124;43m_laps\u001B[39;49m\u001B[38;5;124;43m'\u001B[39;49m\u001B[43m)\u001B[49m\n",
      "File \u001B[1;32m~\\anaconda3\\envs\\F1_Telemetry_VIProject\\lib\\site-packages\\fastf1\\core.py:1066\u001B[0m, in \u001B[0;36mSession._get_property_warn_not_loaded\u001B[1;34m(self, name)\u001B[0m\n\u001B[0;32m   1064\u001B[0m \u001B[38;5;28;01mdef\u001B[39;00m \u001B[38;5;21m_get_property_warn_not_loaded\u001B[39m(\u001B[38;5;28mself\u001B[39m, name):\n\u001B[0;32m   1065\u001B[0m     \u001B[38;5;28;01mif\u001B[39;00m \u001B[38;5;129;01mnot\u001B[39;00m \u001B[38;5;28mhasattr\u001B[39m(\u001B[38;5;28mself\u001B[39m, name):\n\u001B[1;32m-> 1066\u001B[0m         \u001B[38;5;28;01mraise\u001B[39;00m DataNotLoadedError(\u001B[38;5;124m\"\u001B[39m\u001B[38;5;124mThe data you are trying to access has not \u001B[39m\u001B[38;5;124m\"\u001B[39m\n\u001B[0;32m   1067\u001B[0m                                  \u001B[38;5;124m\"\u001B[39m\u001B[38;5;124mbeen loaded yet. See `Session.load`\u001B[39m\u001B[38;5;124m\"\u001B[39m)\n\u001B[0;32m   1068\u001B[0m     \u001B[38;5;28;01mreturn\u001B[39;00m \u001B[38;5;28mgetattr\u001B[39m(\u001B[38;5;28mself\u001B[39m, name, \u001B[38;5;28;01mNone\u001B[39;00m)\n",
      "\u001B[1;31mDataNotLoadedError\u001B[0m: The data you are trying to access has not been loaded yet. See `Session.load`"
     ]
    }
   ],
   "source": [
    "\n",
    "# Get telemetry data for both drivers\n",
    "lap_driver1 = session.laps.pick_driver(driver1).pick_fastest()\n",
    "lap_driver2 = session.laps.pick_driver(driver2).pick_fastest()\n",
    "\n",
    "# Calculate lap times for both drivers\n",
    "lap_time_driver1 = lap_driver1.telemetry['Time'].values\n",
    "lap_time_driver2 = lap_driver2.telemetry['Time'].values\n",
    "\n"
   ],
   "metadata": {
    "collapsed": false,
    "ExecuteTime": {
     "start_time": "2023-11-21T13:40:18.808404300Z"
    }
   }
  },
  {
   "cell_type": "code",
   "execution_count": 28,
   "outputs": [
    {
     "name": "stderr",
     "output_type": "stream",
     "text": [
      "core           INFO \tLoading data for Australian Grand Prix - Race [v3.1.3]\n",
      "req            INFO \tNo cached data found for session_info. Loading data...\n",
      "_api           INFO \tFetching session info data...\n",
      "logger      WARNING \tFailed to load session info data!\n",
      "core        WARNING \tCannot load laps, telemetry, weather, and message data because the relevant API is not supported for this session.\n",
      "core           INFO \tFinished loading data for 20 drivers: ['1', '2', '8', '4', '3', '9', '7', '5', '10', '11', '15', '16', '17', '19', '12', '18', '20', '14', '21', '6']\n"
     ]
    },
    {
     "ename": "DataNotLoadedError",
     "evalue": "The data you are trying to access has not been loaded yet. See `Session.load`",
     "output_type": "error",
     "traceback": [
      "\u001B[1;31m---------------------------------------------------------------------------\u001B[0m",
      "\u001B[1;31mDataNotLoadedError\u001B[0m                        Traceback (most recent call last)",
      "Cell \u001B[1;32mIn[28], line 14\u001B[0m\n\u001B[0;32m     10\u001B[0m session\u001B[38;5;241m.\u001B[39mload()\n\u001B[0;32m     13\u001B[0m \u001B[38;5;66;03m# Get telemetry data for both drivers\u001B[39;00m\n\u001B[1;32m---> 14\u001B[0m lap_driver1 \u001B[38;5;241m=\u001B[39m \u001B[43msession\u001B[49m\u001B[38;5;241;43m.\u001B[39;49m\u001B[43mlaps\u001B[49m\u001B[38;5;241m.\u001B[39mpick_driver(driver1)\u001B[38;5;241m.\u001B[39mpick_fastest()\n\u001B[0;32m     15\u001B[0m lap_driver2 \u001B[38;5;241m=\u001B[39m session\u001B[38;5;241m.\u001B[39mlaps\u001B[38;5;241m.\u001B[39mpick_driver(driver2)\u001B[38;5;241m.\u001B[39mpick_fastest()\n\u001B[0;32m     17\u001B[0m \u001B[38;5;66;03m# Calculate lap times for both drivers\u001B[39;00m\n",
      "File \u001B[1;32m~\\anaconda3\\envs\\F1_Telemetry_VIProject\\lib\\site-packages\\fastf1\\core.py:1105\u001B[0m, in \u001B[0;36mSession.laps\u001B[1;34m(self)\u001B[0m\n\u001B[0;32m   1099\u001B[0m \u001B[38;5;129m@property\u001B[39m\n\u001B[0;32m   1100\u001B[0m \u001B[38;5;28;01mdef\u001B[39;00m \u001B[38;5;21mlaps\u001B[39m(\u001B[38;5;28mself\u001B[39m) \u001B[38;5;241m-\u001B[39m\u001B[38;5;241m>\u001B[39m \u001B[38;5;124m\"\u001B[39m\u001B[38;5;124mLaps\u001B[39m\u001B[38;5;124m\"\u001B[39m:\n\u001B[0;32m   1101\u001B[0m \u001B[38;5;250m    \u001B[39m\u001B[38;5;124;03m\"\"\":class:`Laps`: All laps from all drivers driven in this session.\u001B[39;00m\n\u001B[0;32m   1102\u001B[0m \n\u001B[0;32m   1103\u001B[0m \u001B[38;5;124;03m    Data is available after calling `Session.load` with ``laps=True``\u001B[39;00m\n\u001B[0;32m   1104\u001B[0m \u001B[38;5;124;03m    \"\"\"\u001B[39;00m\n\u001B[1;32m-> 1105\u001B[0m     \u001B[38;5;28;01mreturn\u001B[39;00m \u001B[38;5;28;43mself\u001B[39;49m\u001B[38;5;241;43m.\u001B[39;49m\u001B[43m_get_property_warn_not_loaded\u001B[49m\u001B[43m(\u001B[49m\u001B[38;5;124;43m'\u001B[39;49m\u001B[38;5;124;43m_laps\u001B[39;49m\u001B[38;5;124;43m'\u001B[39;49m\u001B[43m)\u001B[49m\n",
      "File \u001B[1;32m~\\anaconda3\\envs\\F1_Telemetry_VIProject\\lib\\site-packages\\fastf1\\core.py:1066\u001B[0m, in \u001B[0;36mSession._get_property_warn_not_loaded\u001B[1;34m(self, name)\u001B[0m\n\u001B[0;32m   1064\u001B[0m \u001B[38;5;28;01mdef\u001B[39;00m \u001B[38;5;21m_get_property_warn_not_loaded\u001B[39m(\u001B[38;5;28mself\u001B[39m, name):\n\u001B[0;32m   1065\u001B[0m     \u001B[38;5;28;01mif\u001B[39;00m \u001B[38;5;129;01mnot\u001B[39;00m \u001B[38;5;28mhasattr\u001B[39m(\u001B[38;5;28mself\u001B[39m, name):\n\u001B[1;32m-> 1066\u001B[0m         \u001B[38;5;28;01mraise\u001B[39;00m DataNotLoadedError(\u001B[38;5;124m\"\u001B[39m\u001B[38;5;124mThe data you are trying to access has not \u001B[39m\u001B[38;5;124m\"\u001B[39m\n\u001B[0;32m   1067\u001B[0m                                  \u001B[38;5;124m\"\u001B[39m\u001B[38;5;124mbeen loaded yet. See `Session.load`\u001B[39m\u001B[38;5;124m\"\u001B[39m)\n\u001B[0;32m   1068\u001B[0m     \u001B[38;5;28;01mreturn\u001B[39;00m \u001B[38;5;28mgetattr\u001B[39m(\u001B[38;5;28mself\u001B[39m, name, \u001B[38;5;28;01mNone\u001B[39;00m)\n",
      "\u001B[1;31mDataNotLoadedError\u001B[0m: The data you are trying to access has not been loaded yet. See `Session.load`"
     ]
    }
   ],
   "source": [
    "\n",
    "who_fastest = []\n",
    "\n",
    "# Jump 10 laps at a time and compare lap times\n",
    "for i in range(0, len(lap_time_driver1) - 10, 10):\n",
    "    lap_time_1_chunk = lap_time_driver1[i + 10] - lap_time_driver1[i]\n",
    "    lap_time_2_chunk = lap_time_driver2[i + 10] - lap_time_driver2[i]\n",
    "    \n",
    "    if lap_time_1_chunk < lap_time_2_chunk:\n",
    "        for j in range(10):\n",
    "            who_fastest.append(True)\n",
    "    else:\n",
    "        for j in range(10):\n",
    "            who_fastest.append(False)\n",
    "\n",
    "# Check if there are any remaining laps that are not a multiple of 10\n",
    "remaining_laps = len(lap_time_driver1) % 10\n",
    "if remaining_laps > 0:\n",
    "    # Compare the remaining laps individually\n",
    "    for i in range(len(lap_time_driver1) - remaining_laps, len(lap_time_driver1)):\n",
    "        if lap_time_driver1[i] < lap_time_driver2[i]:\n",
    "            who_fastest.append(True)\n",
    "        else:\n",
    "            who_fastest.append(False)\n",
    "\n",
    "# Get telemetry data\n",
    "x = lap.telemetry['X']              # values for x-axis\n",
    "y = lap.telemetry['Y']              # values for y-axis\n",
    "\n",
    "points = np.array([x, y]).T.reshape(-1, 1, 2)\n",
    "segments = np.concatenate([points[:-1], points[1:]], axis=1)\n",
    "# We create a plot with title and adjust some setting to make it look good.\n",
    "fig, ax = plt.subplots(sharex=True, sharey=True, figsize=(12, 6.75))\n",
    "fig.suptitle(f'{weekend.name} - {year} - {driver1} vs {driver2} - Speed', size=24, y=0.97)\n",
    "\n",
    "# Adjust margins and turn of axis\n",
    "plt.subplots_adjust(left=0.1, right=0.9, top=0.9, bottom=0.12)\n",
    "ax.axis('off')\n",
    "\n",
    "mask = np.array(who_fastest)  # Repeat each element 10 times for each sector\n",
    "\n",
    "# After this, we plot the data itself.\n",
    "# Create background track line\n",
    "ax.plot(lap.telemetry['X'], lap.telemetry['Y'], color='black', linestyle='-', linewidth=16, zorder=0)\n",
    "norm = plt.Normalize(0, 1)\n",
    "# Set the color based on the mask\n",
    "lc = LineCollection(segments, cmap=mpl.colors.ListedColormap(['red', 'green']), norm=norm, linewidth=5)\n",
    "lc.set_array(mask)\n",
    "\n",
    "# Set the values used for colormapping\n",
    "lc.set_array(mask)\n",
    "\n",
    "# Merge all line segments together\n",
    "line = ax.add_collection(lc)\n",
    "\n",
    "\n",
    "# Finally, we create a color bar as a legend.\n",
    "# Create a color bar as a legend.\n",
    "cbaxes = fig.add_axes([0.25, 0.05, 0.5, 0.05])\n",
    "normlegend = mpl.colors.Normalize(vmin=0, vmax=1)  # Assuming 'who_fastest' contains True and False values\n",
    "legend_labels = [f\"Driver {driver1} Fastest\", f\"Driver {driver2} Fastest\"]\n",
    "legend = mpl.colorbar.ColorbarBase(cbaxes, norm=normlegend, cmap=mpl.colors.ListedColormap(['red', 'green']),\n",
    "                                   orientation=\"horizontal\", ticks=[0, 1])\n",
    "legend.set_ticklabels(legend_labels)\n",
    "\n",
    "plt.show()"
   ],
   "metadata": {
    "collapsed": false,
    "ExecuteTime": {
     "start_time": "2023-11-21T13:38:10.760588600Z"
    }
   }
  },
  {
   "cell_type": "code",
   "execution_count": null,
   "outputs": [],
   "source": [],
   "metadata": {
    "collapsed": false
   }
  }
 ],
 "metadata": {
  "kernelspec": {
   "display_name": "Python 3",
   "language": "python",
   "name": "python3"
  },
  "language_info": {
   "codemirror_mode": {
    "name": "ipython",
    "version": 2
   },
   "file_extension": ".py",
   "mimetype": "text/x-python",
   "name": "python",
   "nbconvert_exporter": "python",
   "pygments_lexer": "ipython2",
   "version": "2.7.6"
  }
 },
 "nbformat": 4,
 "nbformat_minor": 0
}
