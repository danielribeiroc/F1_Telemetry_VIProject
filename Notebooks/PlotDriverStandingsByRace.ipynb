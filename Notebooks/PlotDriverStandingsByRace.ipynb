{
 "cells": [
  {
   "cell_type": "code",
   "execution_count": 2,
   "id": "initial_id",
   "metadata": {
    "collapsed": true,
    "ExecuteTime": {
     "end_time": "2023-11-04T09:42:36.732080100Z",
     "start_time": "2023-11-04T09:42:36.702935800Z"
    }
   },
   "outputs": [],
   "source": [
    "import pandas as pd\n",
    "import plotly.express as px\n",
    "from plotly.io import show\n",
    "import plotly.graph_objects as go\n",
    "from fastf1.ergast import Ergast\n",
    "\n",
    "SEASON = 2022"
   ]
  },
  {
   "cell_type": "code",
   "execution_count": 34,
   "outputs": [],
   "source": [
    "ergast = Ergast()\n",
    "races = ergast.get_race_schedule(SEASON)  # Races in year 2022\n",
    "#ergast.get_constructor_info(2022)\n",
    "results = []"
   ],
   "metadata": {
    "collapsed": false,
    "ExecuteTime": {
     "end_time": "2023-11-04T07:48:01.791618900Z",
     "start_time": "2023-11-04T07:48:01.744731100Z"
    }
   },
   "id": "df0ec078d4d07d07"
  },
  {
   "cell_type": "code",
   "execution_count": 35,
   "outputs": [],
   "source": [
    "\n",
    "# For each race in the season\n",
    "for rnd, race in races['raceName'].items():\n",
    "\n",
    "    # Get results. Note that we use the round no. + 1, because the round no.\n",
    "    # starts from one (1) instead of zero (0)\n",
    "    temp = ergast.get_race_results(season=SEASON, round=rnd + 1)\n",
    "    if len(temp.content) < 1:\n",
    "        break\n",
    "    else:\n",
    "        temp = temp.content[0]\n",
    "\n",
    "    # If there is a sprint, get the results as well\n",
    "    sprint = ergast.get_sprint_results(season=SEASON, round=rnd + 1)\n",
    "    if sprint.content and sprint.description['round'][0] == rnd + 1:\n",
    "        temp = pd.merge(temp, sprint.content[0], on='driverCode', how='left')\n",
    "        # Add sprint points and race points to get the total\n",
    "        temp['points'] = temp['points_x'] + temp['points_y']\n",
    "        temp.drop(columns=['points_x', 'points_y'], inplace=True)\n",
    "\n",
    "    # Add round no. and grand prix name\n",
    "    temp['round'] = rnd + 1\n",
    "    temp['race'] = race.removesuffix(' Grand Prix')\n",
    "    temp = temp[['round', 'race', 'driverCode', 'points']]  # Keep useful cols.\n",
    "    results.append(temp)\n",
    "\n",
    "# Append all races into a single dataframe\n",
    "results = pd.concat(results)\n",
    "races = results['race'].drop_duplicates()"
   ],
   "metadata": {
    "collapsed": false,
    "ExecuteTime": {
     "end_time": "2023-11-04T07:48:05.107829200Z",
     "start_time": "2023-11-04T07:48:04.492429200Z"
    }
   },
   "id": "6eb5d0a08c0d2e7a"
  },
  {
   "cell_type": "code",
   "execution_count": 36,
   "outputs": [],
   "source": [
    "results = results.pivot(index='driverCode', columns='round', values='points')\n",
    "# Here we have a 22-by-22 matrix (22 races and 22 drivers, incl. DEV and HUL)\n"
   ],
   "metadata": {
    "collapsed": false,
    "ExecuteTime": {
     "end_time": "2023-11-04T07:48:15.318441500Z",
     "start_time": "2023-11-04T07:48:15.287194Z"
    }
   },
   "id": "1214acddf3873e77"
  },
  {
   "cell_type": "code",
   "execution_count": 37,
   "outputs": [
    {
     "data": {
      "text/plain": "race        Bahrain  Saudi Arabian  Australian  Emilia Romagna  Miami  \\\ndriverCode                                                              \nVER             0.0           25.0         0.0            34.0   26.0   \nLEC            26.0           19.0        26.0            15.0   18.0   \nPER             0.0           12.0        18.0            24.0   12.0   \nRUS            12.0           10.0        15.0            12.0   10.0   \nSAI            18.0           15.0         0.0             5.0   15.0   \nHAM            15.0            1.0        12.0             0.0    8.0   \nNOR             0.0            6.0        10.0            19.0    0.0   \nOCO             6.0            8.0         6.0             0.0    4.0   \nALO             2.0            0.0         0.0             0.0    0.0   \nBOT             8.0            0.0         4.0            12.0    6.0   \nVET             NaN            NaN         0.0             4.0    0.0   \nRIC             0.0            0.0         8.0             3.0    0.0   \nMAG            10.0            2.0         0.0             3.0    0.0   \nGAS             0.0            4.0         2.0             0.0    0.0   \nSTR             0.0            0.0         0.0             1.0    1.0   \nTSU             4.0            0.0         0.0             6.0    0.0   \nMSC             0.0            0.0         0.0             0.0    0.0   \nZHO             1.0            0.0         0.0             0.0    0.0   \nALB             0.0            0.0         1.0             0.0    2.0   \nLAT             0.0            0.0         0.0             0.0    0.0   \nDEV             NaN            NaN         NaN             NaN    NaN   \nHUL             0.0            0.0         NaN             NaN    NaN   \n\nrace        Spanish  Monaco  Azerbaijan  Canadian  British  ...  Hungarian  \\\ndriverCode                                                  ...              \nVER            25.0    15.0        25.0      25.0      6.0  ...       25.0   \nLEC             0.0    12.0         0.0      10.0     12.0  ...        8.0   \nPER            19.0    25.0        19.0       0.0     18.0  ...       10.0   \nRUS            15.0    10.0        15.0      12.0      0.0  ...       15.0   \nSAI            12.0    18.0         0.0      19.0     25.0  ...       12.0   \nHAM            10.0     4.0        12.0      15.0     16.0  ...       19.0   \nNOR             4.0     9.0         2.0       0.0      8.0  ...        6.0   \nOCO             6.0     0.0         1.0       8.0      0.0  ...        2.0   \nALO             2.0     6.0         6.0       2.0     10.0  ...        4.0   \nBOT             8.0     2.0         0.0       6.0      0.0  ...        0.0   \nVET             0.0     1.0         8.0       0.0      2.0  ...        1.0   \nRIC             0.0     0.0         4.0       0.0      0.0  ...        0.0   \nMAG             0.0     0.0         0.0       0.0      1.0  ...        0.0   \nGAS             0.0     0.0        10.0       0.0      0.0  ...        0.0   \nSTR             0.0     0.0         0.0       1.0      0.0  ...        0.0   \nTSU             1.0     0.0         0.0       0.0      0.0  ...        0.0   \nMSC             0.0     0.0         0.0       0.0      4.0  ...        0.0   \nZHO             0.0     0.0         0.0       4.0      0.0  ...        0.0   \nALB             0.0     0.0         0.0       0.0      0.0  ...        0.0   \nLAT             0.0     0.0         0.0       0.0      0.0  ...        0.0   \nDEV             NaN     NaN         NaN       NaN      NaN  ...        NaN   \nHUL             NaN     NaN         NaN       NaN      NaN  ...        NaN   \n\nrace        Belgian  Dutch  Italian  Singapore  Japanese  United States  \\\ndriverCode                                                                \nVER            26.0   26.0     25.0        6.0      25.0           25.0   \nLEC             8.0   15.0     18.0       18.0      15.0           15.0   \nPER            18.0   10.0      9.0       25.0      18.0           12.0   \nRUS            12.0   18.0     15.0        0.0       4.0           11.0   \nSAI            15.0    4.0     12.0       15.0       0.0            0.0   \nHAM             0.0   12.0     10.0        2.0      10.0           18.0   \nNOR             0.0    6.0      6.0       12.0       1.0            8.0   \nOCO             6.0    2.0      0.0        0.0      12.0            0.0   \nALO            10.0    8.0      0.0        0.0       6.0            6.0   \nBOT             0.0    0.0      0.0        0.0       0.0            0.0   \nVET             4.0    0.0      0.0        4.0       8.0            4.0   \nRIC             0.0    0.0      0.0       10.0       0.0            0.0   \nMAG             0.0    0.0      0.0        0.0       0.0            2.0   \nGAS             2.0    0.0      4.0        1.0       0.0            0.0   \nSTR             0.0    1.0      0.0        8.0       0.0            0.0   \nTSU             0.0    0.0      0.0        0.0       0.0            1.0   \nMSC             0.0    0.0      0.0        0.0       0.0            0.0   \nZHO             0.0    0.0      1.0        0.0       0.0            0.0   \nALB             1.0    0.0      NaN        0.0       0.0            0.0   \nLAT             0.0    0.0      0.0        0.0       2.0            0.0   \nDEV             NaN    NaN      2.0        NaN       NaN            NaN   \nHUL             NaN    NaN      NaN        NaN       NaN            NaN   \n\nrace        Mexico City  São Paulo  Abu Dhabi  \ndriverCode                                     \nVER                25.0       13.0       25.0  \nLEC                 8.0       15.0       18.0  \nPER                15.0       10.0       15.0  \nRUS                13.0       34.0       10.0  \nSAI                10.0       22.0       12.0  \nHAM                18.0       24.0        0.0  \nNOR                 2.0        2.0        9.0  \nOCO                 4.0        4.0        6.0  \nALO                 0.0       10.0        0.0  \nBOT                 1.0        2.0        0.0  \nVET                 0.0        0.0        1.0  \nRIC                 6.0        0.0        2.0  \nMAG                 0.0        1.0        0.0  \nGAS                 0.0        0.0        0.0  \nSTR                 0.0        1.0        4.0  \nTSU                 0.0        0.0        0.0  \nMSC                 0.0        0.0        0.0  \nZHO                 0.0        0.0        0.0  \nALB                 0.0        0.0        0.0  \nLAT                 0.0        0.0        0.0  \nDEV                 NaN        NaN        NaN  \nHUL                 NaN        NaN        NaN  \n\n[22 rows x 22 columns]",
      "text/html": "<div>\n<style scoped>\n    .dataframe tbody tr th:only-of-type {\n        vertical-align: middle;\n    }\n\n    .dataframe tbody tr th {\n        vertical-align: top;\n    }\n\n    .dataframe thead th {\n        text-align: right;\n    }\n</style>\n<table border=\"1\" class=\"dataframe\">\n  <thead>\n    <tr style=\"text-align: right;\">\n      <th>race</th>\n      <th>Bahrain</th>\n      <th>Saudi Arabian</th>\n      <th>Australian</th>\n      <th>Emilia Romagna</th>\n      <th>Miami</th>\n      <th>Spanish</th>\n      <th>Monaco</th>\n      <th>Azerbaijan</th>\n      <th>Canadian</th>\n      <th>British</th>\n      <th>...</th>\n      <th>Hungarian</th>\n      <th>Belgian</th>\n      <th>Dutch</th>\n      <th>Italian</th>\n      <th>Singapore</th>\n      <th>Japanese</th>\n      <th>United States</th>\n      <th>Mexico City</th>\n      <th>São Paulo</th>\n      <th>Abu Dhabi</th>\n    </tr>\n    <tr>\n      <th>driverCode</th>\n      <th></th>\n      <th></th>\n      <th></th>\n      <th></th>\n      <th></th>\n      <th></th>\n      <th></th>\n      <th></th>\n      <th></th>\n      <th></th>\n      <th></th>\n      <th></th>\n      <th></th>\n      <th></th>\n      <th></th>\n      <th></th>\n      <th></th>\n      <th></th>\n      <th></th>\n      <th></th>\n      <th></th>\n    </tr>\n  </thead>\n  <tbody>\n    <tr>\n      <th>VER</th>\n      <td>0.0</td>\n      <td>25.0</td>\n      <td>0.0</td>\n      <td>34.0</td>\n      <td>26.0</td>\n      <td>25.0</td>\n      <td>15.0</td>\n      <td>25.0</td>\n      <td>25.0</td>\n      <td>6.0</td>\n      <td>...</td>\n      <td>25.0</td>\n      <td>26.0</td>\n      <td>26.0</td>\n      <td>25.0</td>\n      <td>6.0</td>\n      <td>25.0</td>\n      <td>25.0</td>\n      <td>25.0</td>\n      <td>13.0</td>\n      <td>25.0</td>\n    </tr>\n    <tr>\n      <th>LEC</th>\n      <td>26.0</td>\n      <td>19.0</td>\n      <td>26.0</td>\n      <td>15.0</td>\n      <td>18.0</td>\n      <td>0.0</td>\n      <td>12.0</td>\n      <td>0.0</td>\n      <td>10.0</td>\n      <td>12.0</td>\n      <td>...</td>\n      <td>8.0</td>\n      <td>8.0</td>\n      <td>15.0</td>\n      <td>18.0</td>\n      <td>18.0</td>\n      <td>15.0</td>\n      <td>15.0</td>\n      <td>8.0</td>\n      <td>15.0</td>\n      <td>18.0</td>\n    </tr>\n    <tr>\n      <th>PER</th>\n      <td>0.0</td>\n      <td>12.0</td>\n      <td>18.0</td>\n      <td>24.0</td>\n      <td>12.0</td>\n      <td>19.0</td>\n      <td>25.0</td>\n      <td>19.0</td>\n      <td>0.0</td>\n      <td>18.0</td>\n      <td>...</td>\n      <td>10.0</td>\n      <td>18.0</td>\n      <td>10.0</td>\n      <td>9.0</td>\n      <td>25.0</td>\n      <td>18.0</td>\n      <td>12.0</td>\n      <td>15.0</td>\n      <td>10.0</td>\n      <td>15.0</td>\n    </tr>\n    <tr>\n      <th>RUS</th>\n      <td>12.0</td>\n      <td>10.0</td>\n      <td>15.0</td>\n      <td>12.0</td>\n      <td>10.0</td>\n      <td>15.0</td>\n      <td>10.0</td>\n      <td>15.0</td>\n      <td>12.0</td>\n      <td>0.0</td>\n      <td>...</td>\n      <td>15.0</td>\n      <td>12.0</td>\n      <td>18.0</td>\n      <td>15.0</td>\n      <td>0.0</td>\n      <td>4.0</td>\n      <td>11.0</td>\n      <td>13.0</td>\n      <td>34.0</td>\n      <td>10.0</td>\n    </tr>\n    <tr>\n      <th>SAI</th>\n      <td>18.0</td>\n      <td>15.0</td>\n      <td>0.0</td>\n      <td>5.0</td>\n      <td>15.0</td>\n      <td>12.0</td>\n      <td>18.0</td>\n      <td>0.0</td>\n      <td>19.0</td>\n      <td>25.0</td>\n      <td>...</td>\n      <td>12.0</td>\n      <td>15.0</td>\n      <td>4.0</td>\n      <td>12.0</td>\n      <td>15.0</td>\n      <td>0.0</td>\n      <td>0.0</td>\n      <td>10.0</td>\n      <td>22.0</td>\n      <td>12.0</td>\n    </tr>\n    <tr>\n      <th>HAM</th>\n      <td>15.0</td>\n      <td>1.0</td>\n      <td>12.0</td>\n      <td>0.0</td>\n      <td>8.0</td>\n      <td>10.0</td>\n      <td>4.0</td>\n      <td>12.0</td>\n      <td>15.0</td>\n      <td>16.0</td>\n      <td>...</td>\n      <td>19.0</td>\n      <td>0.0</td>\n      <td>12.0</td>\n      <td>10.0</td>\n      <td>2.0</td>\n      <td>10.0</td>\n      <td>18.0</td>\n      <td>18.0</td>\n      <td>24.0</td>\n      <td>0.0</td>\n    </tr>\n    <tr>\n      <th>NOR</th>\n      <td>0.0</td>\n      <td>6.0</td>\n      <td>10.0</td>\n      <td>19.0</td>\n      <td>0.0</td>\n      <td>4.0</td>\n      <td>9.0</td>\n      <td>2.0</td>\n      <td>0.0</td>\n      <td>8.0</td>\n      <td>...</td>\n      <td>6.0</td>\n      <td>0.0</td>\n      <td>6.0</td>\n      <td>6.0</td>\n      <td>12.0</td>\n      <td>1.0</td>\n      <td>8.0</td>\n      <td>2.0</td>\n      <td>2.0</td>\n      <td>9.0</td>\n    </tr>\n    <tr>\n      <th>OCO</th>\n      <td>6.0</td>\n      <td>8.0</td>\n      <td>6.0</td>\n      <td>0.0</td>\n      <td>4.0</td>\n      <td>6.0</td>\n      <td>0.0</td>\n      <td>1.0</td>\n      <td>8.0</td>\n      <td>0.0</td>\n      <td>...</td>\n      <td>2.0</td>\n      <td>6.0</td>\n      <td>2.0</td>\n      <td>0.0</td>\n      <td>0.0</td>\n      <td>12.0</td>\n      <td>0.0</td>\n      <td>4.0</td>\n      <td>4.0</td>\n      <td>6.0</td>\n    </tr>\n    <tr>\n      <th>ALO</th>\n      <td>2.0</td>\n      <td>0.0</td>\n      <td>0.0</td>\n      <td>0.0</td>\n      <td>0.0</td>\n      <td>2.0</td>\n      <td>6.0</td>\n      <td>6.0</td>\n      <td>2.0</td>\n      <td>10.0</td>\n      <td>...</td>\n      <td>4.0</td>\n      <td>10.0</td>\n      <td>8.0</td>\n      <td>0.0</td>\n      <td>0.0</td>\n      <td>6.0</td>\n      <td>6.0</td>\n      <td>0.0</td>\n      <td>10.0</td>\n      <td>0.0</td>\n    </tr>\n    <tr>\n      <th>BOT</th>\n      <td>8.0</td>\n      <td>0.0</td>\n      <td>4.0</td>\n      <td>12.0</td>\n      <td>6.0</td>\n      <td>8.0</td>\n      <td>2.0</td>\n      <td>0.0</td>\n      <td>6.0</td>\n      <td>0.0</td>\n      <td>...</td>\n      <td>0.0</td>\n      <td>0.0</td>\n      <td>0.0</td>\n      <td>0.0</td>\n      <td>0.0</td>\n      <td>0.0</td>\n      <td>0.0</td>\n      <td>1.0</td>\n      <td>2.0</td>\n      <td>0.0</td>\n    </tr>\n    <tr>\n      <th>VET</th>\n      <td>NaN</td>\n      <td>NaN</td>\n      <td>0.0</td>\n      <td>4.0</td>\n      <td>0.0</td>\n      <td>0.0</td>\n      <td>1.0</td>\n      <td>8.0</td>\n      <td>0.0</td>\n      <td>2.0</td>\n      <td>...</td>\n      <td>1.0</td>\n      <td>4.0</td>\n      <td>0.0</td>\n      <td>0.0</td>\n      <td>4.0</td>\n      <td>8.0</td>\n      <td>4.0</td>\n      <td>0.0</td>\n      <td>0.0</td>\n      <td>1.0</td>\n    </tr>\n    <tr>\n      <th>RIC</th>\n      <td>0.0</td>\n      <td>0.0</td>\n      <td>8.0</td>\n      <td>3.0</td>\n      <td>0.0</td>\n      <td>0.0</td>\n      <td>0.0</td>\n      <td>4.0</td>\n      <td>0.0</td>\n      <td>0.0</td>\n      <td>...</td>\n      <td>0.0</td>\n      <td>0.0</td>\n      <td>0.0</td>\n      <td>0.0</td>\n      <td>10.0</td>\n      <td>0.0</td>\n      <td>0.0</td>\n      <td>6.0</td>\n      <td>0.0</td>\n      <td>2.0</td>\n    </tr>\n    <tr>\n      <th>MAG</th>\n      <td>10.0</td>\n      <td>2.0</td>\n      <td>0.0</td>\n      <td>3.0</td>\n      <td>0.0</td>\n      <td>0.0</td>\n      <td>0.0</td>\n      <td>0.0</td>\n      <td>0.0</td>\n      <td>1.0</td>\n      <td>...</td>\n      <td>0.0</td>\n      <td>0.0</td>\n      <td>0.0</td>\n      <td>0.0</td>\n      <td>0.0</td>\n      <td>0.0</td>\n      <td>2.0</td>\n      <td>0.0</td>\n      <td>1.0</td>\n      <td>0.0</td>\n    </tr>\n    <tr>\n      <th>GAS</th>\n      <td>0.0</td>\n      <td>4.0</td>\n      <td>2.0</td>\n      <td>0.0</td>\n      <td>0.0</td>\n      <td>0.0</td>\n      <td>0.0</td>\n      <td>10.0</td>\n      <td>0.0</td>\n      <td>0.0</td>\n      <td>...</td>\n      <td>0.0</td>\n      <td>2.0</td>\n      <td>0.0</td>\n      <td>4.0</td>\n      <td>1.0</td>\n      <td>0.0</td>\n      <td>0.0</td>\n      <td>0.0</td>\n      <td>0.0</td>\n      <td>0.0</td>\n    </tr>\n    <tr>\n      <th>STR</th>\n      <td>0.0</td>\n      <td>0.0</td>\n      <td>0.0</td>\n      <td>1.0</td>\n      <td>1.0</td>\n      <td>0.0</td>\n      <td>0.0</td>\n      <td>0.0</td>\n      <td>1.0</td>\n      <td>0.0</td>\n      <td>...</td>\n      <td>0.0</td>\n      <td>0.0</td>\n      <td>1.0</td>\n      <td>0.0</td>\n      <td>8.0</td>\n      <td>0.0</td>\n      <td>0.0</td>\n      <td>0.0</td>\n      <td>1.0</td>\n      <td>4.0</td>\n    </tr>\n    <tr>\n      <th>TSU</th>\n      <td>4.0</td>\n      <td>0.0</td>\n      <td>0.0</td>\n      <td>6.0</td>\n      <td>0.0</td>\n      <td>1.0</td>\n      <td>0.0</td>\n      <td>0.0</td>\n      <td>0.0</td>\n      <td>0.0</td>\n      <td>...</td>\n      <td>0.0</td>\n      <td>0.0</td>\n      <td>0.0</td>\n      <td>0.0</td>\n      <td>0.0</td>\n      <td>0.0</td>\n      <td>1.0</td>\n      <td>0.0</td>\n      <td>0.0</td>\n      <td>0.0</td>\n    </tr>\n    <tr>\n      <th>MSC</th>\n      <td>0.0</td>\n      <td>0.0</td>\n      <td>0.0</td>\n      <td>0.0</td>\n      <td>0.0</td>\n      <td>0.0</td>\n      <td>0.0</td>\n      <td>0.0</td>\n      <td>0.0</td>\n      <td>4.0</td>\n      <td>...</td>\n      <td>0.0</td>\n      <td>0.0</td>\n      <td>0.0</td>\n      <td>0.0</td>\n      <td>0.0</td>\n      <td>0.0</td>\n      <td>0.0</td>\n      <td>0.0</td>\n      <td>0.0</td>\n      <td>0.0</td>\n    </tr>\n    <tr>\n      <th>ZHO</th>\n      <td>1.0</td>\n      <td>0.0</td>\n      <td>0.0</td>\n      <td>0.0</td>\n      <td>0.0</td>\n      <td>0.0</td>\n      <td>0.0</td>\n      <td>0.0</td>\n      <td>4.0</td>\n      <td>0.0</td>\n      <td>...</td>\n      <td>0.0</td>\n      <td>0.0</td>\n      <td>0.0</td>\n      <td>1.0</td>\n      <td>0.0</td>\n      <td>0.0</td>\n      <td>0.0</td>\n      <td>0.0</td>\n      <td>0.0</td>\n      <td>0.0</td>\n    </tr>\n    <tr>\n      <th>ALB</th>\n      <td>0.0</td>\n      <td>0.0</td>\n      <td>1.0</td>\n      <td>0.0</td>\n      <td>2.0</td>\n      <td>0.0</td>\n      <td>0.0</td>\n      <td>0.0</td>\n      <td>0.0</td>\n      <td>0.0</td>\n      <td>...</td>\n      <td>0.0</td>\n      <td>1.0</td>\n      <td>0.0</td>\n      <td>NaN</td>\n      <td>0.0</td>\n      <td>0.0</td>\n      <td>0.0</td>\n      <td>0.0</td>\n      <td>0.0</td>\n      <td>0.0</td>\n    </tr>\n    <tr>\n      <th>LAT</th>\n      <td>0.0</td>\n      <td>0.0</td>\n      <td>0.0</td>\n      <td>0.0</td>\n      <td>0.0</td>\n      <td>0.0</td>\n      <td>0.0</td>\n      <td>0.0</td>\n      <td>0.0</td>\n      <td>0.0</td>\n      <td>...</td>\n      <td>0.0</td>\n      <td>0.0</td>\n      <td>0.0</td>\n      <td>0.0</td>\n      <td>0.0</td>\n      <td>2.0</td>\n      <td>0.0</td>\n      <td>0.0</td>\n      <td>0.0</td>\n      <td>0.0</td>\n    </tr>\n    <tr>\n      <th>DEV</th>\n      <td>NaN</td>\n      <td>NaN</td>\n      <td>NaN</td>\n      <td>NaN</td>\n      <td>NaN</td>\n      <td>NaN</td>\n      <td>NaN</td>\n      <td>NaN</td>\n      <td>NaN</td>\n      <td>NaN</td>\n      <td>...</td>\n      <td>NaN</td>\n      <td>NaN</td>\n      <td>NaN</td>\n      <td>2.0</td>\n      <td>NaN</td>\n      <td>NaN</td>\n      <td>NaN</td>\n      <td>NaN</td>\n      <td>NaN</td>\n      <td>NaN</td>\n    </tr>\n    <tr>\n      <th>HUL</th>\n      <td>0.0</td>\n      <td>0.0</td>\n      <td>NaN</td>\n      <td>NaN</td>\n      <td>NaN</td>\n      <td>NaN</td>\n      <td>NaN</td>\n      <td>NaN</td>\n      <td>NaN</td>\n      <td>NaN</td>\n      <td>...</td>\n      <td>NaN</td>\n      <td>NaN</td>\n      <td>NaN</td>\n      <td>NaN</td>\n      <td>NaN</td>\n      <td>NaN</td>\n      <td>NaN</td>\n      <td>NaN</td>\n      <td>NaN</td>\n      <td>NaN</td>\n    </tr>\n  </tbody>\n</table>\n<p>22 rows × 22 columns</p>\n</div>"
     },
     "execution_count": 37,
     "metadata": {},
     "output_type": "execute_result"
    }
   ],
   "source": [
    "\n",
    "\n",
    "# Rank the drivers by their total points\n",
    "results['total_points'] = results.sum(axis=1)\n",
    "results = results.sort_values(by='total_points', ascending=False)\n",
    "results.drop(columns='total_points', inplace=True)\n",
    "\n",
    "# Use race name, instead of round no., as column names\n",
    "results.columns = races"
   ],
   "metadata": {
    "collapsed": false,
    "ExecuteTime": {
     "end_time": "2023-11-04T07:48:17.256755800Z",
     "start_time": "2023-11-04T07:48:17.134411500Z"
    }
   },
   "id": "d1ea9952ade927d0"
  },
  {
   "cell_type": "code",
   "execution_count": 39,
   "outputs": [
    {
     "data": {
      "text/plain": "True"
     },
     "execution_count": 39,
     "metadata": {},
     "output_type": "execute_result"
    }
   ],
   "source": [
    "import plotly.express as px\n",
    "import webbrowser  # Import the webbrowser module to open the HTML file in the browser\n",
    "\n",
    "# Assuming 'results' is your data, replace it with your actual dat\n",
    "fig = px.imshow(\n",
    "    results,\n",
    "    text_auto=True,\n",
    "    aspect='auto',  # Automatically adjust the aspect ratio\n",
    "    color_continuous_scale=[[0,    'rgb(198, 219, 239)'],  # Blue scale\n",
    "                            [0.25, 'rgb(107, 174, 214)'],\n",
    "                            [0.5,  'rgb(33,  113, 181)'],\n",
    "                            [0.75, 'rgb(8,   81,  156)'],\n",
    "                            [1,    'rgb(8,   48,  107)']],\n",
    "    labels={'x': 'Race',\n",
    "            'y': 'Driver',\n",
    "            'color': 'Points'}       # Change hover texts\n",
    ")\n",
    "fig.update_xaxes(title_text='')      # Remove axis titles\n",
    "fig.update_yaxes(title_text='')\n",
    "fig.update_yaxes(tickmode='linear')  # Show all ticks, i.e. driver names\n",
    "fig.update_yaxes(showgrid=True, gridwidth=1, gridcolor='LightGrey',\n",
    "                 showline=False,\n",
    "                 tickson='boundaries')              # Show horizontal grid only\n",
    "fig.update_xaxes(showgrid=False, showline=False)    # And remove vertical grid\n",
    "fig.update_layout(plot_bgcolor='rgba(0,0,0,0)')     # White background\n",
    "fig.update_layout(coloraxis_showscale=False)        # Remove legend\n",
    "fig.update_layout(xaxis=dict(side='top'))           # x-axis on top\n",
    "fig.update_layout(margin=dict(l=0, r=0, b=0, t=0))  # Remove border margins\n",
    "fig.write_html('plot.html')\n",
    "\n",
    "# Open the HTML file in the default web browser\n",
    "webbrowser.open('plot.html')\n"
   ],
   "metadata": {
    "collapsed": false,
    "ExecuteTime": {
     "end_time": "2023-11-04T07:49:12.836613800Z",
     "start_time": "2023-11-04T07:49:11.881175900Z"
    }
   },
   "id": "8ad7b4d8f522bbc7"
  },
  {
   "cell_type": "markdown",
   "source": [
    "# ALL the plot is working good"
   ],
   "metadata": {
    "collapsed": false
   },
   "id": "e071978c7217f36c"
  },
  {
   "cell_type": "code",
   "execution_count": 3,
   "outputs": [],
   "source": [
    "def plot_standings_by_driver(SEASON):\n",
    "    ergast = Ergast()\n",
    "    races = ergast.get_race_schedule(SEASON)  # Races in year 2022\n",
    "    results = []\n",
    "    for rnd, race in races['raceName'].items():\n",
    "\n",
    "        # Get results. Note that we use the round no. + 1, because the round no.\n",
    "        # starts from one (1) instead of zero (0)\n",
    "        temp = ergast.get_race_results(season=SEASON, round=rnd + 1)\n",
    "        if len(temp.content) < 1:\n",
    "            break\n",
    "        else:\n",
    "            temp = temp.content[0]\n",
    "\n",
    "        # If there is a sprint, get the results as well\n",
    "        sprint = ergast.get_sprint_results(season=SEASON, round=rnd + 1)\n",
    "        if sprint.content and sprint.description['round'][0] == rnd + 1:\n",
    "            temp = pd.merge(temp, sprint.content[0], on='driverCode', how='left')\n",
    "            # Add sprint points and race points to get the total\n",
    "            temp['points'] = temp['points_x'] + temp['points_y']\n",
    "            temp.drop(columns=['points_x', 'points_y'], inplace=True)\n",
    "\n",
    "        # Add round no. and grand prix name\n",
    "        temp['round'] = rnd + 1\n",
    "        temp['race'] = race.removesuffix(' Grand Prix')\n",
    "        temp = temp[['round', 'race', 'driverCode', 'points']]  # Keep useful cols.\n",
    "        results.append(temp)\n",
    "\n",
    "    # Append all races into a single dataframe\n",
    "    results = pd.concat(results)\n",
    "    races = results['race'].drop_duplicates()\n",
    "    results = results.pivot(index='driverCode', columns='round', values='points')\n",
    "    # Rank the drivers by their total points\n",
    "    results['total_points'] = results.sum(axis=1)\n",
    "    results = results.sort_values(by='total_points', ascending=False)\n",
    "    results.drop(columns='total_points', inplace=True)\n",
    "\n",
    "    # Use race name, instead of round no., as column names\n",
    "    results.columns = races\n",
    "    fig = go.Figure(data=go.Heatmap(\n",
    "        z=results.values,\n",
    "        x=results.columns,\n",
    "        y=results.index,\n",
    "        colorscale=[[0, 'rgb(198, 219, 239)'],\n",
    "                    [0.25, 'rgb(107, 174, 214)'],\n",
    "                    [0.5, 'rgb(33,  113, 181)'],\n",
    "                    [0.75, 'rgb(8,   81,  156)'],\n",
    "                    [1, 'rgb(8,   48,  107)']],\n",
    "        hovertemplate='Race: %{x}<br>Driver: %{y}<br>Points: %{z}<extra></extra>'\n",
    "    ))\n",
    "\n",
    "    # Customize the layout\n",
    "    fig.update_xaxes(title_text='')\n",
    "    fig.update_yaxes(title_text='', tickmode='array', tickvals=results.index, ticktext=results.index)\n",
    "    fig.update_yaxes(showgrid=True, gridwidth=1, gridcolor='LightGrey', showline=False, tickson='boundaries')\n",
    "    fig.update_xaxes(showgrid=False, showline=False)\n",
    "    fig.update_layout(plot_bgcolor='rgba(0,0,0,0)', coloraxis_showscale=False, xaxis_side='top',\n",
    "                      margin=dict(l=0, r=0, b=0, t=0))\n",
    "    return fig"
   ],
   "metadata": {
    "collapsed": false,
    "ExecuteTime": {
     "end_time": "2023-11-04T09:42:40.374326400Z",
     "start_time": "2023-11-04T09:42:40.358700400Z"
    }
   },
   "id": "11f0418df40542bd"
  },
  {
   "cell_type": "code",
   "execution_count": 7,
   "outputs": [
    {
     "data": {
      "text/plain": "<IPython.lib.display.IFrame at 0x1edafad18d0>",
      "text/html": "\n        <iframe\n            width=\"100%\"\n            height=\"650\"\n            src=\"http://127.0.0.1:8050/\"\n            frameborder=\"0\"\n            allowfullscreen\n            \n        ></iframe>\n        "
     },
     "metadata": {},
     "output_type": "display_data"
    }
   ],
   "source": [
    "import dash\n",
    "import dash_core_components as dcc\n",
    "import dash_html_components as html\n",
    "from dash.dependencies import Input, Output\n",
    "import plotly.express as px\n",
    "import pandas as pd\n",
    "\n",
    "app = dash.Dash(__name__)\n",
    "\n",
    "app.layout = html.Div([\n",
    "    dcc.Dropdown(\n",
    "        id='season-dropdown',\n",
    "        options=[\n",
    "            {'label': '2022', 'value': 2023},\n",
    "            {'label': '2022', 'value': 2022},\n",
    "            {'label': '2022', 'value': 2021},\n",
    "            {'label': '2022', 'value': 2020},\n",
    "            {'label': '2022', 'value': 2019},\n",
    "            # Add more options if needed\n",
    "        ],\n",
    "        value=2022  # Default selected value\n",
    "    ),\n",
    "    dcc.Graph(id='standings-graph')\n",
    "])\n",
    "\n",
    "\n",
    "@app.callback(\n",
    "    Output('standings-graph', 'figure'),\n",
    "    [Input('season-dropdown', 'value')]\n",
    ")\n",
    "def update_graph(selected_season):\n",
    "    fig = plot_standings_by_driver(selected_season)\n",
    "    return fig\n",
    "\n",
    "\n",
    "if __name__ == '__main__':\n",
    "    app.run_server(debug=True)"
   ],
   "metadata": {
    "collapsed": false,
    "ExecuteTime": {
     "end_time": "2023-11-04T09:45:05.079720500Z",
     "start_time": "2023-11-04T09:45:04.906115700Z"
    }
   },
   "id": "a74c6750ef4db9a1"
  }
 ],
 "metadata": {
  "kernelspec": {
   "display_name": "Python 3",
   "language": "python",
   "name": "python3"
  },
  "language_info": {
   "codemirror_mode": {
    "name": "ipython",
    "version": 2
   },
   "file_extension": ".py",
   "mimetype": "text/x-python",
   "name": "python",
   "nbconvert_exporter": "python",
   "pygments_lexer": "ipython2",
   "version": "2.7.6"
  }
 },
 "nbformat": 4,
 "nbformat_minor": 5
}
