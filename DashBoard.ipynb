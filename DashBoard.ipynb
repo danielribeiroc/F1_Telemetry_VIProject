{
 "cells": [
  {
   "cell_type": "code",
   "execution_count": 48,
   "id": "initial_id",
   "metadata": {
    "collapsed": true,
    "ExecuteTime": {
     "end_time": "2023-10-13T13:20:50.277352500Z",
     "start_time": "2023-10-13T13:20:50.208460700Z"
    }
   },
   "outputs": [],
   "source": [
    "import fastf1 as ff1\n",
    "\n",
    "import matplotlib.pyplot as plt\n",
    "from matplotlib.collections import LineCollection\n",
    "import numpy as np\n",
    "import matplotlib as mpl"
   ]
  },
  {
   "cell_type": "code",
   "execution_count": 49,
   "outputs": [
    {
     "name": "stderr",
     "output_type": "stream",
     "text": [
      "core           INFO \tLoading data for Bahrain Grand Prix - Race [v3.1.3]\n",
      "req            INFO \tUsing cached data for session_info\n",
      "req            INFO \tUsing cached data for driver_info\n",
      "req            INFO \tUsing cached data for session_status_data\n",
      "req            INFO \tUsing cached data for lap_count\n",
      "req            INFO \tUsing cached data for track_status_data\n",
      "req            INFO \tUsing cached data for _extended_timing_data\n",
      "req            INFO \tUsing cached data for timing_app_data\n",
      "core           INFO \tProcessing timing data...\n",
      "req            INFO \tUsing cached data for car_data\n",
      "req            INFO \tUsing cached data for position_data\n",
      "req            INFO \tUsing cached data for weather_data\n",
      "req            INFO \tUsing cached data for race_control_messages\n",
      "core           INFO \tFinished loading data for 20 drivers: ['16', '55', '44', '63', '20', '77', '31', '22', '14', '24', '47', '18', '23', '3', '4', '6', '27', '11', '1', '10']\n",
      "C:\\Users\\ribei\\AppData\\Local\\Temp\\ipykernel_13992\\2968857388.py:86: UserWarning:\n",
      "\n",
      "FigureCanvasAgg is non-interactive, and thus cannot be shown\n",
      "\n"
     ]
    }
   ],
   "source": [
    "year = 2022\n",
    "wknd = 1\n",
    "ses = 'R'\n",
    "driver1 = 'LEC'\n",
    "driver2 = 'NOR'\n",
    "colormap = mpl.cm.plasma\n",
    "\n",
    "session = ff1.get_session(year, wknd, ses)\n",
    "weekend = session.event\n",
    "session.load()\n",
    "\n",
    "\n",
    "# Get telemetry data for both drivers\n",
    "lap_driver1 = session.laps.pick_driver(driver1).pick_fastest()\n",
    "lap_driver2 = session.laps.pick_driver(driver2).pick_fastest()\n",
    "\n",
    "# Calculate lap times for both drivers\n",
    "lap = lap_driver1\n",
    "lap_time_driver1 = lap_driver1.telemetry['Time'].values\n",
    "lap_time_driver2 = lap_driver2.telemetry['Time'].values\n",
    "\n",
    "who_fastest = []\n",
    "\n",
    "# Jump 10 laps at a time and compare lap times\n",
    "for i in range(0, len(lap_time_driver1) - 10, 10):\n",
    "    lap_time_1_chunk = lap_time_driver1[i + 10] - lap_time_driver1[i]\n",
    "    lap_time_2_chunk = lap_time_driver2[i + 10] - lap_time_driver2[i]\n",
    "    \n",
    "    if lap_time_1_chunk < lap_time_2_chunk:\n",
    "        for j in range(10):\n",
    "            who_fastest.append(True)\n",
    "    else:\n",
    "        for j in range(10):\n",
    "            who_fastest.append(False)\n",
    "\n",
    "# Check if there are any remaining laps that are not a multiple of 10\n",
    "remaining_laps = len(lap_time_driver1) % 10\n",
    "if remaining_laps > 0:\n",
    "    # Compare the remaining laps individually\n",
    "    for i in range(len(lap_time_driver1) - remaining_laps, len(lap_time_driver1)):\n",
    "        if lap_time_driver1[i] < lap_time_driver2[i]:\n",
    "            who_fastest.append(True)\n",
    "        else:\n",
    "            who_fastest.append(False)\n",
    "\n",
    "# Get telemetry data\n",
    "x = lap.telemetry['X']              # values for x-axis\n",
    "y = lap.telemetry['Y']              # values for y-axis\n",
    "\n",
    "points = np.array([x, y]).T.reshape(-1, 1, 2)\n",
    "segments = np.concatenate([points[:-1], points[1:]], axis=1)\n",
    "# We create a plot with title and adjust some setting to make it look good.\n",
    "fig, ax = plt.subplots(sharex=True, sharey=True, figsize=(12, 6.75))\n",
    "fig.suptitle(f'{weekend.name} - {year} - {driver1} vs {driver2} - Speed', size=24, y=0.97)\n",
    "\n",
    "# Adjust margins and turn of axis\n",
    "plt.subplots_adjust(left=0.1, right=0.9, top=0.9, bottom=0.12)\n",
    "ax.axis('off')\n",
    "\n",
    "mask = np.array(who_fastest)  # Repeat each element 10 times for each sector\n",
    "\n",
    "# After this, we plot the data itself.\n",
    "# Create background track line\n",
    "ax.plot(lap.telemetry['X'], lap.telemetry['Y'], color='black', linestyle='-', linewidth=16, zorder=0)\n",
    "norm = plt.Normalize(0, 1)\n",
    "# Set the color based on the mask\n",
    "lc = LineCollection(segments, cmap=mpl.colors.ListedColormap(['red', 'green']), norm=norm, linewidth=5)\n",
    "lc.set_array(mask)\n",
    "\n",
    "# Set the values used for colormapping\n",
    "lc.set_array(mask)\n",
    "\n",
    "# Merge all line segments together\n",
    "line = ax.add_collection(lc)\n",
    "\n",
    "\n",
    "# Finally, we create a color bar as a legend.\n",
    "# Create a color bar as a legend.\n",
    "cbaxes = fig.add_axes([0.25, 0.05, 0.5, 0.05])\n",
    "normlegend = mpl.colors.Normalize(vmin=0, vmax=1)  # Assuming 'who_fastest' contains True and False values\n",
    "legend_labels = [f\"Driver {driver1} Fastest\", f\"Driver {driver2} Fastest\"]\n",
    "legend = mpl.colorbar.ColorbarBase(cbaxes, norm=normlegend, cmap=mpl.colors.ListedColormap(['red', 'green']),\n",
    "                                   orientation=\"horizontal\", ticks=[0, 1])\n",
    "legend.set_ticklabels(legend_labels)\n",
    "\n",
    "plt.show()"
   ],
   "metadata": {
    "collapsed": false,
    "ExecuteTime": {
     "end_time": "2023-10-13T13:20:56.621218100Z",
     "start_time": "2023-10-13T13:20:50.242516500Z"
    }
   },
   "id": "2e5df3174596d551"
  },
  {
   "cell_type": "code",
   "execution_count": 50,
   "outputs": [
    {
     "name": "stdout",
     "output_type": "stream",
     "text": [
      "[1950, 1951, 1952, 1953, 1954, 1955, 1956, 1957, 1958, 1959, 1960, 1961, 1962, 1963, 1964, 1965, 1966, 1967, 1968, 1969, 1970, 1971, 1972, 1973, 1974, 1975, 1976, 1977, 1978, 1979, 1980, 1981, 1982, 1983, 1984, 1985, 1986, 1987, 1988, 1989, 1990, 1991, 1992, 1993, 1994, 1995, 1996, 1997, 1998, 1999, 2000, 2001, 2002, 2003, 2004, 2005, 2006, 2007, 2008, 2009, 2010, 2011, 2012, 2013, 2014, 2015, 2016, 2017, 2018, 2019, 2020, 2021, 2022, 2023]\n",
      "[{'label': '1950', 'value': 1950}, {'label': '1951', 'value': 1951}, {'label': '1952', 'value': 1952}, {'label': '1953', 'value': 1953}, {'label': '1954', 'value': 1954}, {'label': '1955', 'value': 1955}, {'label': '1956', 'value': 1956}, {'label': '1957', 'value': 1957}, {'label': '1958', 'value': 1958}, {'label': '1959', 'value': 1959}, {'label': '1960', 'value': 1960}, {'label': '1961', 'value': 1961}, {'label': '1962', 'value': 1962}, {'label': '1963', 'value': 1963}, {'label': '1964', 'value': 1964}, {'label': '1965', 'value': 1965}, {'label': '1966', 'value': 1966}, {'label': '1967', 'value': 1967}, {'label': '1968', 'value': 1968}, {'label': '1969', 'value': 1969}, {'label': '1970', 'value': 1970}, {'label': '1971', 'value': 1971}, {'label': '1972', 'value': 1972}, {'label': '1973', 'value': 1973}, {'label': '1974', 'value': 1974}, {'label': '1975', 'value': 1975}, {'label': '1976', 'value': 1976}, {'label': '1977', 'value': 1977}, {'label': '1978', 'value': 1978}, {'label': '1979', 'value': 1979}, {'label': '1980', 'value': 1980}, {'label': '1981', 'value': 1981}, {'label': '1982', 'value': 1982}, {'label': '1983', 'value': 1983}, {'label': '1984', 'value': 1984}, {'label': '1985', 'value': 1985}, {'label': '1986', 'value': 1986}, {'label': '1987', 'value': 1987}, {'label': '1988', 'value': 1988}, {'label': '1989', 'value': 1989}, {'label': '1990', 'value': 1990}, {'label': '1991', 'value': 1991}, {'label': '1992', 'value': 1992}, {'label': '1993', 'value': 1993}, {'label': '1994', 'value': 1994}, {'label': '1995', 'value': 1995}, {'label': '1996', 'value': 1996}, {'label': '1997', 'value': 1997}, {'label': '1998', 'value': 1998}, {'label': '1999', 'value': 1999}, {'label': '2000', 'value': 2000}, {'label': '2001', 'value': 2001}, {'label': '2002', 'value': 2002}, {'label': '2003', 'value': 2003}, {'label': '2004', 'value': 2004}, {'label': '2005', 'value': 2005}, {'label': '2006', 'value': 2006}, {'label': '2007', 'value': 2007}, {'label': '2008', 'value': 2008}, {'label': '2009', 'value': 2009}, {'label': '2010', 'value': 2010}, {'label': '2011', 'value': 2011}, {'label': '2012', 'value': 2012}, {'label': '2013', 'value': 2013}, {'label': '2014', 'value': 2014}, {'label': '2015', 'value': 2015}, {'label': '2016', 'value': 2016}, {'label': '2017', 'value': 2017}, {'label': '2018', 'value': 2018}, {'label': '2019', 'value': 2019}, {'label': '2020', 'value': 2020}, {'label': '2021', 'value': 2021}, {'label': '2022', 'value': 2022}, {'label': '2023', 'value': 2023}]\n"
     ]
    }
   ],
   "source": [
    "# Initialize an empty list to store the years\n",
    "years = []\n",
    "\n",
    "# Loop through the range of years from 1950 to 2023 (exclusive)\n",
    "for year in range(1950, 2024):\n",
    "    # Append each year to the list\n",
    "    years.append(year)\n",
    "\n",
    "# Print the resulting list of years\n",
    "print(years)\n",
    "\n",
    "# Create a list of dictionaries with 'label' and 'value'\n",
    "options = [{'label': str(year), 'value': year} for year in years]\n",
    "\n",
    "# Print the resulting list of dictionaries\n",
    "print(options)"
   ],
   "metadata": {
    "collapsed": false,
    "ExecuteTime": {
     "end_time": "2023-10-13T13:20:56.661715100Z",
     "start_time": "2023-10-13T13:20:56.628089300Z"
    }
   },
   "id": "25e00cdeaf2735bd"
  },
  {
   "cell_type": "markdown",
   "source": [],
   "metadata": {
    "collapsed": false
   },
   "id": "eabeefe28a9b6b0e"
  },
  {
   "cell_type": "code",
   "execution_count": 51,
   "outputs": [
    {
     "data": {
      "text/plain": "23"
     },
     "execution_count": 51,
     "metadata": {},
     "output_type": "execute_result"
    }
   ],
   "source": [
    "session = ff1.get_event_schedule(2023)['Country']\n",
    "\n",
    "tab_countries = [i for i in session]\n",
    "len(tab_countries)"
   ],
   "metadata": {
    "collapsed": false,
    "ExecuteTime": {
     "end_time": "2023-10-13T13:20:56.673440900Z",
     "start_time": "2023-10-13T13:20:56.638343500Z"
    }
   },
   "id": "76aaeb017b32a6e1"
  },
  {
   "cell_type": "code",
   "execution_count": 64,
   "outputs": [
    {
     "name": "stderr",
     "output_type": "stream",
     "text": [
      "core           INFO \tLoading data for Bahrain Grand Prix - Race [v3.1.3]\n",
      "req            INFO \tUsing cached data for session_info\n",
      "req            INFO \tUsing cached data for driver_info\n",
      "req            INFO \tNo cached data found for session_status_data. Loading data...\n",
      "_api           INFO \tFetching session status data...\n",
      "req            INFO \tData has been written to cache!\n",
      "req            INFO \tNo cached data found for lap_count. Loading data...\n",
      "_api           INFO \tFetching lap count data...\n",
      "req            INFO \tData has been written to cache!\n",
      "req            INFO \tNo cached data found for track_status_data. Loading data...\n",
      "_api           INFO \tFetching track status data...\n",
      "req            INFO \tData has been written to cache!\n",
      "req            INFO \tNo cached data found for _extended_timing_data. Loading data...\n",
      "_api           INFO \tFetching timing data...\n",
      "_api           INFO \tParsing timing data...\n",
      "req            INFO \tData has been written to cache!\n",
      "req            INFO \tNo cached data found for timing_app_data. Loading data...\n",
      "_api           INFO \tFetching timing app data...\n",
      "req            INFO \tData has been written to cache!\n",
      "core           INFO \tProcessing timing data...\n",
      "req            INFO \tUsing cached data for car_data\n",
      "req            INFO \tUsing cached data for position_data\n",
      "req            INFO \tNo cached data found for weather_data. Loading data...\n",
      "_api           INFO \tFetching weather data...\n",
      "req            INFO \tData has been written to cache!\n",
      "req            INFO \tUsing cached data for race_control_messages\n",
      "core           INFO \tFinished loading data for 20 drivers: ['1', '11', '14', '55', '44', '18', '63', '77', '10', '23', '22', '2', '20', '21', '27', '24', '4', '31', '16', '81']\n"
     ]
    }
   ],
   "source": [
    "from matplotlib import pyplot as plt\n",
    "import fastf1\n",
    "import fastf1.plotting\n",
    "\n",
    "fastf1.plotting.setup_mpl()\n",
    "\n",
    "session = fastf1.get_session(2023, 'Bahrain', 'R')\n",
    "\n",
    "session.load()\n",
    "fast_leclerc = session.laps.pick_driver('LEC').pick_fastest()"
   ],
   "metadata": {
    "collapsed": false,
    "ExecuteTime": {
     "end_time": "2023-10-13T13:28:11.224460100Z",
     "start_time": "2023-10-13T13:28:00.289999Z"
    }
   },
   "id": "878b91539d2cb80a"
  },
  {
   "cell_type": "code",
   "execution_count": 65,
   "outputs": [
    {
     "data": {
      "text/plain": "Time                      0 days 02:04:08.603000\nDriver                                       LEC\nDriverNumber                                  16\nLapTime                   0 days 00:01:37.170000\nLapNumber                                   37.0\nStint                                        3.0\nPitOutTime                                   NaT\nPitInTime                                    NaT\nSector1Time               0 days 00:00:31.070000\nSector2Time               0 days 00:00:42.385000\nSector3Time               0 days 00:00:23.715000\nSector1SessionTime                           NaT\nSector2SessionTime        0 days 02:03:44.878000\nSector3SessionTime        0 days 02:04:08.593000\nSpeedI1                                      NaN\nSpeedI2                                    251.0\nSpeedFL                                    282.0\nSpeedST                                    305.0\nIsPersonalBest                              True\nCompound                                    HARD\nTyreLife                                     4.0\nFreshTyre                                   True\nTeam                                     Ferrari\nLapStartTime              0 days 02:02:31.433000\nLapStartDate          2023-03-05 16:03:33.282000\nTrackStatus                                    1\nPosition                                     3.0\nDeleted                                    False\nDeletedReason                                   \nFastF1Generated                            False\nIsAccurate                                  True\nName: 264, dtype: object"
     },
     "execution_count": 65,
     "metadata": {},
     "output_type": "execute_result"
    }
   ],
   "source": [
    "fast_leclerc"
   ],
   "metadata": {
    "collapsed": false,
    "ExecuteTime": {
     "end_time": "2023-10-13T13:28:11.255843800Z",
     "start_time": "2023-10-13T13:28:11.229514800Z"
    }
   },
   "id": "ec42cccdedd994e0"
  },
  {
   "cell_type": "code",
   "execution_count": 61,
   "outputs": [
    {
     "name": "stderr",
     "output_type": "stream",
     "text": [
      "core           INFO \tLoading data for Bahrain Grand Prix - Race [v3.1.3]\n",
      "req            INFO \tUsing cached data for session_info\n",
      "req            INFO \tUsing cached data for driver_info\n",
      "req            INFO \tUsing cached data for car_data\n",
      "req            INFO \tUsing cached data for position_data\n",
      "req            INFO \tUsing cached data for race_control_messages\n",
      "core           INFO \tFinished loading data for 20 drivers: ['1', '11', '14', '55', '44', '18', '63', '77', '10', '23', '22', '2', '20', '21', '27', '24', '4', '31', '16', '81']\n"
     ]
    },
    {
     "ename": "DataNotLoadedError",
     "evalue": "The data you are trying to access has not been loaded yet. See `Session.load`",
     "output_type": "error",
     "traceback": [
      "\u001B[1;31m---------------------------------------------------------------------------\u001B[0m",
      "\u001B[1;31mDataNotLoadedError\u001B[0m                        Traceback (most recent call last)",
      "Cell \u001B[1;32mIn[61], line 9\u001B[0m\n\u001B[0;32m      7\u001B[0m session \u001B[38;5;241m=\u001B[39m ff1\u001B[38;5;241m.\u001B[39mget_session(\u001B[38;5;241m2023\u001B[39m, year_schedule[\u001B[38;5;241m0\u001B[39m], \u001B[38;5;124m\"\u001B[39m\u001B[38;5;124mR\u001B[39m\u001B[38;5;124m\"\u001B[39m)\n\u001B[0;32m      8\u001B[0m session\u001B[38;5;241m.\u001B[39mload(telemetry\u001B[38;5;241m=\u001B[39m\u001B[38;5;28;01mTrue\u001B[39;00m, laps\u001B[38;5;241m=\u001B[39m\u001B[38;5;28;01mFalse\u001B[39;00m, weather\u001B[38;5;241m=\u001B[39m\u001B[38;5;28;01mFalse\u001B[39;00m)\n\u001B[1;32m----> 9\u001B[0m \u001B[43msession\u001B[49m\u001B[38;5;241;43m.\u001B[39;49m\u001B[43mlaps\u001B[49m\n",
      "File \u001B[1;32m~\\anaconda3\\envs\\F1_Telemetry_VIProject\\lib\\site-packages\\fastf1\\core.py:1105\u001B[0m, in \u001B[0;36mSession.laps\u001B[1;34m(self)\u001B[0m\n\u001B[0;32m   1099\u001B[0m \u001B[38;5;129m@property\u001B[39m\n\u001B[0;32m   1100\u001B[0m \u001B[38;5;28;01mdef\u001B[39;00m \u001B[38;5;21mlaps\u001B[39m(\u001B[38;5;28mself\u001B[39m) \u001B[38;5;241m-\u001B[39m\u001B[38;5;241m>\u001B[39m \u001B[38;5;124m\"\u001B[39m\u001B[38;5;124mLaps\u001B[39m\u001B[38;5;124m\"\u001B[39m:\n\u001B[0;32m   1101\u001B[0m \u001B[38;5;250m    \u001B[39m\u001B[38;5;124;03m\"\"\":class:`Laps`: All laps from all drivers driven in this session.\u001B[39;00m\n\u001B[0;32m   1102\u001B[0m \n\u001B[0;32m   1103\u001B[0m \u001B[38;5;124;03m    Data is available after calling `Session.load` with ``laps=True``\u001B[39;00m\n\u001B[0;32m   1104\u001B[0m \u001B[38;5;124;03m    \"\"\"\u001B[39;00m\n\u001B[1;32m-> 1105\u001B[0m     \u001B[38;5;28;01mreturn\u001B[39;00m \u001B[38;5;28;43mself\u001B[39;49m\u001B[38;5;241;43m.\u001B[39;49m\u001B[43m_get_property_warn_not_loaded\u001B[49m\u001B[43m(\u001B[49m\u001B[38;5;124;43m'\u001B[39;49m\u001B[38;5;124;43m_laps\u001B[39;49m\u001B[38;5;124;43m'\u001B[39;49m\u001B[43m)\u001B[49m\n",
      "File \u001B[1;32m~\\anaconda3\\envs\\F1_Telemetry_VIProject\\lib\\site-packages\\fastf1\\core.py:1066\u001B[0m, in \u001B[0;36mSession._get_property_warn_not_loaded\u001B[1;34m(self, name)\u001B[0m\n\u001B[0;32m   1064\u001B[0m \u001B[38;5;28;01mdef\u001B[39;00m \u001B[38;5;21m_get_property_warn_not_loaded\u001B[39m(\u001B[38;5;28mself\u001B[39m, name):\n\u001B[0;32m   1065\u001B[0m     \u001B[38;5;28;01mif\u001B[39;00m \u001B[38;5;129;01mnot\u001B[39;00m \u001B[38;5;28mhasattr\u001B[39m(\u001B[38;5;28mself\u001B[39m, name):\n\u001B[1;32m-> 1066\u001B[0m         \u001B[38;5;28;01mraise\u001B[39;00m DataNotLoadedError(\u001B[38;5;124m\"\u001B[39m\u001B[38;5;124mThe data you are trying to access has not \u001B[39m\u001B[38;5;124m\"\u001B[39m\n\u001B[0;32m   1067\u001B[0m                                  \u001B[38;5;124m\"\u001B[39m\u001B[38;5;124mbeen loaded yet. See `Session.load`\u001B[39m\u001B[38;5;124m\"\u001B[39m)\n\u001B[0;32m   1068\u001B[0m     \u001B[38;5;28;01mreturn\u001B[39;00m \u001B[38;5;28mgetattr\u001B[39m(\u001B[38;5;28mself\u001B[39m, name, \u001B[38;5;28;01mNone\u001B[39;00m)\n",
      "\u001B[1;31mDataNotLoadedError\u001B[0m: The data you are trying to access has not been loaded yet. See `Session.load`"
     ]
    }
   ],
   "source": [
    "import fastf1.plotting\n",
    "year_schedule = ff1.get_event_schedule(2023)['Country']\n",
    "fastf1.plotting.setup_mpl()\n",
    "\n",
    "test = ff1.get_event(2023, year_schedule[0])\n",
    "session = ff1.get_session(2023, year_schedule[0], \"R\")\n",
    "session.load(telemetry=True, laps=False, weather=False)\n",
    "session.laps"
   ],
   "metadata": {
    "collapsed": false,
    "ExecuteTime": {
     "end_time": "2023-10-13T13:25:24.542595400Z",
     "start_time": "2023-10-13T13:25:20.709746900Z"
    }
   },
   "id": "f1dc8bbf989fec94"
  },
  {
   "cell_type": "code",
   "execution_count": 58,
   "outputs": [
    {
     "ename": "DataNotLoadedError",
     "evalue": "The data you are trying to access has not been loaded yet. See `Session.load`",
     "output_type": "error",
     "traceback": [
      "\u001B[1;31m---------------------------------------------------------------------------\u001B[0m",
      "\u001B[1;31mDataNotLoadedError\u001B[0m                        Traceback (most recent call last)",
      "Cell \u001B[1;32mIn[58], line 1\u001B[0m\n\u001B[1;32m----> 1\u001B[0m \u001B[43msession\u001B[49m\u001B[38;5;241;43m.\u001B[39;49m\u001B[43mlaps\u001B[49m\u001B[38;5;241m.\u001B[39mpick_driver(\u001B[38;5;124m'\u001B[39m\u001B[38;5;124mLEC\u001B[39m\u001B[38;5;124m'\u001B[39m)\n",
      "File \u001B[1;32m~\\anaconda3\\envs\\F1_Telemetry_VIProject\\lib\\site-packages\\fastf1\\core.py:1105\u001B[0m, in \u001B[0;36mSession.laps\u001B[1;34m(self)\u001B[0m\n\u001B[0;32m   1099\u001B[0m \u001B[38;5;129m@property\u001B[39m\n\u001B[0;32m   1100\u001B[0m \u001B[38;5;28;01mdef\u001B[39;00m \u001B[38;5;21mlaps\u001B[39m(\u001B[38;5;28mself\u001B[39m) \u001B[38;5;241m-\u001B[39m\u001B[38;5;241m>\u001B[39m \u001B[38;5;124m\"\u001B[39m\u001B[38;5;124mLaps\u001B[39m\u001B[38;5;124m\"\u001B[39m:\n\u001B[0;32m   1101\u001B[0m \u001B[38;5;250m    \u001B[39m\u001B[38;5;124;03m\"\"\":class:`Laps`: All laps from all drivers driven in this session.\u001B[39;00m\n\u001B[0;32m   1102\u001B[0m \n\u001B[0;32m   1103\u001B[0m \u001B[38;5;124;03m    Data is available after calling `Session.load` with ``laps=True``\u001B[39;00m\n\u001B[0;32m   1104\u001B[0m \u001B[38;5;124;03m    \"\"\"\u001B[39;00m\n\u001B[1;32m-> 1105\u001B[0m     \u001B[38;5;28;01mreturn\u001B[39;00m \u001B[38;5;28;43mself\u001B[39;49m\u001B[38;5;241;43m.\u001B[39;49m\u001B[43m_get_property_warn_not_loaded\u001B[49m\u001B[43m(\u001B[49m\u001B[38;5;124;43m'\u001B[39;49m\u001B[38;5;124;43m_laps\u001B[39;49m\u001B[38;5;124;43m'\u001B[39;49m\u001B[43m)\u001B[49m\n",
      "File \u001B[1;32m~\\anaconda3\\envs\\F1_Telemetry_VIProject\\lib\\site-packages\\fastf1\\core.py:1066\u001B[0m, in \u001B[0;36mSession._get_property_warn_not_loaded\u001B[1;34m(self, name)\u001B[0m\n\u001B[0;32m   1064\u001B[0m \u001B[38;5;28;01mdef\u001B[39;00m \u001B[38;5;21m_get_property_warn_not_loaded\u001B[39m(\u001B[38;5;28mself\u001B[39m, name):\n\u001B[0;32m   1065\u001B[0m     \u001B[38;5;28;01mif\u001B[39;00m \u001B[38;5;129;01mnot\u001B[39;00m \u001B[38;5;28mhasattr\u001B[39m(\u001B[38;5;28mself\u001B[39m, name):\n\u001B[1;32m-> 1066\u001B[0m         \u001B[38;5;28;01mraise\u001B[39;00m DataNotLoadedError(\u001B[38;5;124m\"\u001B[39m\u001B[38;5;124mThe data you are trying to access has not \u001B[39m\u001B[38;5;124m\"\u001B[39m\n\u001B[0;32m   1067\u001B[0m                                  \u001B[38;5;124m\"\u001B[39m\u001B[38;5;124mbeen loaded yet. See `Session.load`\u001B[39m\u001B[38;5;124m\"\u001B[39m)\n\u001B[0;32m   1068\u001B[0m     \u001B[38;5;28;01mreturn\u001B[39;00m \u001B[38;5;28mgetattr\u001B[39m(\u001B[38;5;28mself\u001B[39m, name, \u001B[38;5;28;01mNone\u001B[39;00m)\n",
      "\u001B[1;31mDataNotLoadedError\u001B[0m: The data you are trying to access has not been loaded yet. See `Session.load`"
     ]
    }
   ],
   "source": [
    "session.laps.pick_driver('LEC')"
   ],
   "metadata": {
    "collapsed": false,
    "ExecuteTime": {
     "end_time": "2023-10-13T13:24:19.329681300Z",
     "start_time": "2023-10-13T13:24:19.286114800Z"
    }
   },
   "id": "50a2067e2e8c67f8"
  },
  {
   "cell_type": "code",
   "execution_count": null,
   "outputs": [],
   "source": [
    "drivers = [i for i in session.drivers]\n",
    "drivers"
   ],
   "metadata": {
    "collapsed": false,
    "ExecuteTime": {
     "start_time": "2023-10-13T13:20:56.838537200Z"
    }
   },
   "id": "3c28762ba2eb07d0"
  },
  {
   "cell_type": "code",
   "execution_count": null,
   "outputs": [],
   "source": [
    "import dash\n",
    "from dash import dcc, html\n",
    "from dash.dependencies import Input, Output, State\n",
    "import fastf1 as ff1\n",
    "import matplotlib.pyplot as plt\n",
    "from matplotlib.collections import LineCollection\n",
    "import numpy as np\n",
    "import matplotlib as mpl\n",
    "import mpld3\n",
    "import plotly.graph_objects as go\n",
    "import dash_ag_grid as dag\n",
    "import dash\n",
    "import dash_bootstrap_components as dbc\n",
    "import matplotlib                                # pip install matplotlib\n",
    "matplotlib.use('agg')\n",
    "import base64\n",
    "from io import BytesIO\n",
    "import pandas as pd\n",
    "import plotly.express as px\n",
    "import dash.exceptions\n",
    "\n",
    "# Initialize an empty list to store the years\n",
    "years = []\n",
    "\n",
    "# Loop through the range of years from 1950 to 2023 (exclusive)\n",
    "for year in range(1950, 2024):\n",
    "    # Append each year to the list\n",
    "    years.append(year)\n",
    "\n",
    "\n",
    "# Create a list of dictionaries with 'label' and 'value'\n",
    "_options = [{'label': str(year), 'value': year} for year in years]\n",
    "\n",
    "\n",
    "app = dash.Dash(external_stylesheets=[dbc.themes.BOOTSTRAP])\n",
    "# -----------------------------------------\n",
    "content = 0\n",
    "year = 2022\n",
    "wknd = 1\n",
    "ses = 'R'\n",
    "driver1 = 'LEC'\n",
    "driver2 = 'NOR'\n",
    "colormap = mpl.cm.plasma\n",
    "\n",
    "#session = ff1.get_session(year, wknd, ses)\n",
    "#weekend = session.event\n",
    "#session.load()\n",
    "# -----------------------------------------\n",
    "_options_2 = [\"test\", [\"test2\"]]\n",
    "app.layout = dbc.Container([\n",
    "    html.H1(\"Interactive Matplotlib with Dash\", className='mb-2', style={'textAlign': 'center'}),\n",
    "    dbc.Row([\n",
    "        dbc.Col([ \n",
    "            dcc.Dropdown(\n",
    "                id='category-1',\n",
    "                options=_options,\n",
    "                value=_options[0], \n",
    "                className='mb-3'\n",
    "            )\n",
    "        ]),\n",
    "        dbc.Col([\n",
    "            dcc.Dropdown(\n",
    "                id='category-2',\n",
    "                options=_options_2,\n",
    "                value=_options_2[0], \n",
    "                className='mb-3'\n",
    "            )\n",
    "        ])\n",
    "    ]),\n",
    "    dbc.Row([\n",
    "        dbc.Col([\n",
    "            html.Img(id='bar-graph-matplotlib')\n",
    "        ], width=12)\n",
    "    ]),\n",
    "])\n",
    "\n",
    "# Create interactivity between dropdown component and graph\n",
    "@app.callback(\n",
    "    Output(component_id='bar-graph-matplotlib', component_property=\"src\"),\n",
    "    Input('category-2', 'value'),\n",
    ")\n",
    "def plot_data(selected_yaxis):\n",
    "    fig_bar_matplotlib = build_comparaison_tab()\n",
    "    return fig_bar_matplotlib\n",
    "\n",
    "def build_comparaison_tab():\n",
    "    # Get telemetry data for both drivers\n",
    "    lap_driver1 = session.laps.pick_driver(driver1).pick_fastest()\n",
    "    lap_driver2 = session.laps.pick_driver(driver2).pick_fastest()\n",
    "\n",
    "    # Calculate lap times for both drivers\n",
    "    lap = lap_driver1\n",
    "    lap_time_driver1 = lap_driver1.telemetry['Time'].values\n",
    "    lap_time_driver2 = lap_driver2.telemetry['Time'].values\n",
    "\n",
    "    who_fastest = []\n",
    "\n",
    "    # Jump 10 laps at a time and compare lap times\n",
    "    for i in range(0, len(lap_time_driver1) - 10, 10):\n",
    "        lap_time_1_chunk = lap_time_driver1[i + 10] - lap_time_driver1[i]\n",
    "        lap_time_2_chunk = lap_time_driver2[i + 10] - lap_time_driver2[i]\n",
    "\n",
    "        if lap_time_1_chunk < lap_time_2_chunk:\n",
    "            for j in range(10):\n",
    "                who_fastest.append(True)\n",
    "        else:\n",
    "            for j in range(10):\n",
    "                who_fastest.append(False)\n",
    "\n",
    "    # Check if there are any remaining laps that are not a multiple of 10\n",
    "    remaining_laps = len(lap_time_driver1) % 10\n",
    "    if remaining_laps > 0:\n",
    "        # Compare the remaining laps individually\n",
    "        for i in range(len(lap_time_driver1) - remaining_laps, len(lap_time_driver1)):\n",
    "            if lap_time_driver1[i] < lap_time_driver2[i]:\n",
    "                who_fastest.append(True)\n",
    "            else:\n",
    "                who_fastest.append(False)\n",
    "\n",
    "    # Get telemetry data\n",
    "    x = lap.telemetry['X']  # values for x-axis\n",
    "    y = lap.telemetry['Y']  # values for y-axis\n",
    "\n",
    "    points = np.array([x, y]).T.reshape(-1, 1, 2)\n",
    "    segments = np.concatenate([points[:-1], points[1:]], axis=1)\n",
    "    # We create a plot with title and adjust some setting to make it look good.\n",
    "    fig, ax = plt.subplots(sharex=True, sharey=True, figsize=(12, 6.75))\n",
    "    fig.suptitle(f'{weekend.name} - {year} - {driver1} vs {driver2} - Speed', size=24, y=0.97)\n",
    "\n",
    "    # Adjust margins and turn of axis\n",
    "    plt.subplots_adjust(left=0.1, right=0.9, top=0.9, bottom=0.12)\n",
    "    ax.axis('off')\n",
    "\n",
    "    mask = np.array(who_fastest)  # Repeat each element 10 times for each sector\n",
    "\n",
    "    # After this, we plot the data itself.\n",
    "    # Create background track line\n",
    "    ax.plot(lap.telemetry['X'], lap.telemetry['Y'], color='black', linestyle='-', linewidth=16, zorder=0)\n",
    "    norm = plt.Normalize(0, 1)\n",
    "    # Set the color based on the mask\n",
    "    lc = LineCollection(segments, cmap=mpl.colors.ListedColormap(['red', 'green']), norm=norm, linewidth=5)\n",
    "    lc.set_array(mask)\n",
    "\n",
    "    # Set the values used for colormapping\n",
    "    lc.set_array(mask)\n",
    "\n",
    "    # Merge all line segments together\n",
    "    line = ax.add_collection(lc)\n",
    "\n",
    "    # Finally, we create a color bar as a legend.\n",
    "    # Create a color bar as a legend.\n",
    "    cbaxes = fig.add_axes([0.25, 0.05, 0.5, 0.05])\n",
    "    normlegend = mpl.colors.Normalize(vmin=0, vmax=1)  # Assuming 'who_fastest' contains True and False values\n",
    "    legend_labels = [f\"Driver {driver1} Fastest\", f\"Driver {driver2} Fastest\"]\n",
    "    legend = mpl.colorbar.ColorbarBase(cbaxes, norm=normlegend, cmap=mpl.colors.ListedColormap(['red', 'green']),\n",
    "                                       orientation=\"horizontal\", ticks=[0, 1])\n",
    "    legend.set_ticklabels(legend_labels)\n",
    "\n",
    "    # Save it to a temporary buffer.\n",
    "    buf = BytesIO()\n",
    "    fig.savefig(buf, format=\"png\")\n",
    "    # Embed the result in the html output.\n",
    "    fig_data = base64.b64encode(buf.getbuffer()).decode(\"ascii\")\n",
    "    fig_bar_matplotlib = f'data:image/png;base64,{fig_data}'\n",
    "\n",
    "    return fig_bar_matplotlib\n",
    "\n",
    "if __name__ == \"__main__\":\n",
    "    app.run_server(port=8080)"
   ],
   "metadata": {
    "collapsed": false,
    "ExecuteTime": {
     "start_time": "2023-10-13T13:20:56.841623800Z"
    }
   },
   "id": "cf8a0c101b1addbb"
  },
  {
   "cell_type": "code",
   "execution_count": null,
   "outputs": [],
   "source": [
    "import time\n",
    "import dash\n",
    "from dash import dcc, html\n",
    "from dash.dependencies import Input, Output\n",
    "from dash.exceptions import PreventUpdate\n",
    "\n",
    "app = dash.Dash(external_stylesheets=[dbc.themes.BOOTSTRAP])\n",
    "\n",
    "app.layout =  dbc.Container([\n",
    "    \n",
    "    html.H1(\"Comparaison\", className='mb-2', style={'textAlign': 'center'}),\n",
    "    \n",
    "    dbc.Row([\n",
    "        dbc.Col([\n",
    "            dcc.Dropdown(\n",
    "            id='dropdown-1',\n",
    "            options=[\n",
    "                {'label': str(year), 'value': year} for year in range(2000, 2031)\n",
    "            ],\n",
    "            value=None,\n",
    "            className='mb-3'\n",
    "            )\n",
    "        ]),\n",
    "        dbc.Col([\n",
    "            dcc.Loading(\n",
    "                id='loading-dropdown-2',\n",
    "                type='default',\n",
    "                children=[dcc.Dropdown(id='dropdown-2', className='mb-3')]\n",
    "            )\n",
    "        ])\n",
    "    ]),\n",
    "    dbc.Row([\n",
    "        dbc.Col([\n",
    "            dcc.Loading(\n",
    "                id='loading-dropdown-3',\n",
    "                type='default',\n",
    "                children=[dcc.Dropdown(id='dropdown-3', className='mb-3')]\n",
    "            ),\n",
    "        ]),\n",
    "        dbc.Col([\n",
    "            dcc.Loading(\n",
    "                id='loading-dropdown-4',\n",
    "                type='default',\n",
    "                children=[dcc.Dropdown(id='dropdown-4', className='mb-3')]\n",
    "            )\n",
    "        ])\n",
    "    ])\n",
    "])\n",
    "\n",
    "def time_consuming_function(selected_year, selected_month):\n",
    "    # Simulate a time-consuming operation\n",
    "    time.sleep(3)\n",
    "    return [{'label': f'Day {day}', 'value': day} for day in range(1, 32)]\n",
    "\n",
    "@app.callback(\n",
    "    Output('loading-dropdown-2', 'children'),\n",
    "    Output('dropdown-2', 'options'),\n",
    "    Output('dropdown-2', 'value'),\n",
    "    Input('dropdown-1', 'value')\n",
    ")\n",
    "def update_dropdown_2(selected_year):\n",
    "    if selected_year is None:\n",
    "        raise PreventUpdate\n",
    "    options = [{'label': f'Month {month}', 'value': month} for month in range(1, 13)]\n",
    "    return [dcc.Dropdown(id='dropdown-2', options=options, className='mb-3')], options, options[0]['value']\n",
    "\n",
    "@app.callback(\n",
    "    Output('loading-dropdown-3', 'children'),\n",
    "    Output('dropdown-3', 'options'),\n",
    "    Output('dropdown-3', 'value'),\n",
    "    Input('dropdown-1', 'value'),\n",
    "    Input('dropdown-2', 'value')\n",
    ")\n",
    "def update_dropdown_3(selected_year, selected_month):\n",
    "    if selected_month is None:\n",
    "        raise PreventUpdate\n",
    "    options = time_consuming_function(selected_year, selected_month)\n",
    "    return [dcc.Dropdown(id='dropdown-3', options=options, className='mb-3')], options, options[0]['value']\n",
    "\n",
    "@app.callback(\n",
    "    Output('loading-dropdown-4', 'children'),\n",
    "    Output('dropdown-4', 'options'),\n",
    "    Output('dropdown-4', 'value'),\n",
    "    Input('dropdown-1', 'value'),\n",
    "    Input('dropdown-2', 'value'),\n",
    "    Input('dropdown-3', 'value')\n",
    ")\n",
    "def update_dropdown_4(selected_year, selected_month, selected_day):\n",
    "    if selected_day is None:\n",
    "        raise PreventUpdate\n",
    "    options = [{'label': f'Option {option}', 'value': option} for option in range(1, 6)]\n",
    "    return [dcc.Dropdown(id='dropdown-4', options=options, className='mb-3')], options, options[0]['value']\n",
    "\n",
    "if __name__ == '__main__':\n",
    "    app.run_server(debug=True)\n"
   ],
   "metadata": {
    "collapsed": false,
    "ExecuteTime": {
     "start_time": "2023-10-13T13:20:56.843622200Z"
    }
   },
   "id": "1897894eecfd0fcd"
  }
 ],
 "metadata": {
  "kernelspec": {
   "display_name": "Python 3",
   "language": "python",
   "name": "python3"
  },
  "language_info": {
   "codemirror_mode": {
    "name": "ipython",
    "version": 2
   },
   "file_extension": ".py",
   "mimetype": "text/x-python",
   "name": "python",
   "nbconvert_exporter": "python",
   "pygments_lexer": "ipython2",
   "version": "2.7.6"
  }
 },
 "nbformat": 4,
 "nbformat_minor": 5
}
